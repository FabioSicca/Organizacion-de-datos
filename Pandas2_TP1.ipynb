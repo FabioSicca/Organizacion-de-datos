{
  "nbformat": 4,
  "nbformat_minor": 0,
  "metadata": {
    "colab": {
      "provenance": [],
      "authorship_tag": "ABX9TyNX+Itu97GFsfupkWn5OUDd",
      "include_colab_link": true
    },
    "kernelspec": {
      "name": "python3",
      "display_name": "Python 3"
    },
    "language_info": {
      "name": "python"
    }
  },
  "cells": [
    {
      "cell_type": "markdown",
      "metadata": {
        "id": "view-in-github",
        "colab_type": "text"
      },
      "source": [
        "<a href=\"https://colab.research.google.com/github/FabioSicca/Organizacion-de-datos/blob/main/Pandas2_TP1.ipynb\" target=\"_parent\"><img src=\"https://colab.research.google.com/assets/colab-badge.svg\" alt=\"Open In Colab\"/></a>"
      ]
    },
    {
      "cell_type": "markdown",
      "source": [
        "20) ¿Cuál es el segundo contenido con más referencias geográficas asignadas? (⭐⭐)\n"
      ],
      "metadata": {
        "id": "C8qyiHoxYFga"
      }
    },
    {
      "cell_type": "code",
      "execution_count": null,
      "metadata": {
        "id": "696HqyopYCHX",
        "colab": {
          "base_uri": "https://localhost:8080/"
        },
        "outputId": "e2a106a7-ba5c-4b7e-b2a9-6eb065850b62"
      },
      "outputs": [
        {
          "output_type": "stream",
          "name": "stdout",
          "text": [
            "Mounted at /content/drive\n"
          ]
        }
      ],
      "source": [
        "import pandas as pd\n",
        "from google.colab import drive\n",
        "drive.mount('/content/drive')"
      ]
    },
    {
      "cell_type": "code",
      "source": [
        "geo_tags = pd.read_csv('/content/drive/MyDrive/Wikipedia dataset/geo_tags.csv')\n",
        "contents = pd.read_csv('/content/drive/MyDrive/Wikipedia dataset/contents.csv')\n",
        "\n",
        "geo_tags = geo_tags[[\"gt_id\", \"gt_page_id\"]] #filtro el df para trabajar mejor\n",
        "contents_filtered = contents[[\"title\", \"id\"]]\n",
        "#geo_tags"
      ],
      "metadata": {
        "id": "0KR7HZGCY149"
      },
      "execution_count": null,
      "outputs": []
    },
    {
      "cell_type": "markdown",
      "source": [
        "Agrupo por page_id, cuento la cantidad de geotags que tiene cada una y obtengo las 2 más grandes.\n",
        "Luego, btengo el indice (es decir, el page id en este caso) de la segunda"
      ],
      "metadata": {
        "id": "4xbChSaTlmbe"
      }
    },
    {
      "cell_type": "code",
      "source": [
        "quantity_of_tags_by_page = geo_tags.groupby(\"gt_page_id\").size().nlargest(2)\n",
        "page_id = quantity_of_tags_by_page.index[1]\n",
        "page_id"
      ],
      "metadata": {
        "id": "yWfB6GdDPDCb",
        "colab": {
          "base_uri": "https://localhost:8080/"
        },
        "outputId": "cc4818bb-f9a9-4d24-cc13-8d3e0b1a2621"
      },
      "execution_count": null,
      "outputs": [
        {
          "output_type": "execute_result",
          "data": {
            "text/plain": [
              "7421943"
            ]
          },
          "metadata": {},
          "execution_count": 3
        }
      ]
    },
    {
      "cell_type": "markdown",
      "source": [
        "Ahora cruzo la informacion de geo_tags.csv con la de contents.csv para averiguar a qué página pertenece el id (el titulo y sobre qué trata)"
      ],
      "metadata": {
        "id": "x4iqWtXol3en"
      }
    },
    {
      "cell_type": "code",
      "source": [
        "page = contents_filtered.loc[contents_filtered['id'] == page_id] #localizo la fila que corresponde con el id de la pag\n",
        "page_title = page.iloc[0][\"title\"] #obtengo el titulo\n",
        "print(page_title)"
      ],
      "metadata": {
        "id": "Imawt447TsVl",
        "colab": {
          "base_uri": "https://localhost:8080/"
        },
        "outputId": "15bd1b5f-29a3-4123-9a10-edfbe60272e1"
      },
      "execution_count": null,
      "outputs": [
        {
          "output_type": "stream",
          "name": "stdout",
          "text": [
            "Wikiproyecto:Madrid/Edificios\n"
          ]
        }
      ]
    },
    {
      "cell_type": "markdown",
      "source": [
        "Por lo que se puede ver, la respuesta tiene sentido (es decir, es coherente) ya que al visitar esa página se ve que se trata de un listado de edificios en Madrid en el cual aparecen varias localizaciones."
      ],
      "metadata": {
        "id": "Di4TO16-slLh"
      }
    },
    {
      "cell_type": "markdown",
      "source": [
        "Otra forma de resolver para **asegurarme** que el page_id de la segunda pagina con más geotags se encuentra en el df contents para obtener su titulo (caso borde?)\n",
        "puedo hacer un merge entre ambos en base a sus page_id y de allí calcularlo, sería más seguro pero más ineficiente."
      ],
      "metadata": {
        "id": "7ZSn-lpfmMyp"
      }
    },
    {
      "cell_type": "code",
      "source": [
        "geo_tags_renamed = geo_tags.rename(columns={\"gt_page_id\" : \"page_id\"}) #cambio los nombres de las columnas asi puedo mergear\n",
        "contents_renamed = contents_filtered.rename(columns={\"id\" : \"page_id\"})\n",
        "merged_df = geo_tags_renamed.merge(contents_renamed)\n",
        "merged_df"
      ],
      "metadata": {
        "id": "Wag8YhszVc6w",
        "colab": {
          "base_uri": "https://localhost:8080/",
          "height": 423
        },
        "outputId": "9e22db16-0e8e-4f20-87d2-a905e1ddb41d"
      },
      "execution_count": null,
      "outputs": [
        {
          "output_type": "execute_result",
          "data": {
            "text/plain": [
              "            gt_id  page_id                                              title\n",
              "0          158041  4328020  Anexo:Catálogo arqueológico del municipio de Z...\n",
              "1         8440889  4328020  Anexo:Catálogo arqueológico del municipio de Z...\n",
              "2         8440897  4328020  Anexo:Catálogo arqueológico del municipio de Z...\n",
              "3         8440898  4328020  Anexo:Catálogo arqueológico del municipio de Z...\n",
              "4         8440900  4328020  Anexo:Catálogo arqueológico del municipio de Z...\n",
              "...           ...      ...                                                ...\n",
              "537300  136672179  5239183                                               Cali\n",
              "537301  136672180   104468                                              Eridu\n",
              "537302  136672181   968281                                          Sombacour\n",
              "537303  136672182    79985                                  Juventus de Turín\n",
              "537304  136672183   872296                                  San Juan Chamelco\n",
              "\n",
              "[537305 rows x 3 columns]"
            ],
            "text/html": [
              "\n",
              "  <div id=\"df-87833958-a120-4694-bf35-635c08815788\">\n",
              "    <div class=\"colab-df-container\">\n",
              "      <div>\n",
              "<style scoped>\n",
              "    .dataframe tbody tr th:only-of-type {\n",
              "        vertical-align: middle;\n",
              "    }\n",
              "\n",
              "    .dataframe tbody tr th {\n",
              "        vertical-align: top;\n",
              "    }\n",
              "\n",
              "    .dataframe thead th {\n",
              "        text-align: right;\n",
              "    }\n",
              "</style>\n",
              "<table border=\"1\" class=\"dataframe\">\n",
              "  <thead>\n",
              "    <tr style=\"text-align: right;\">\n",
              "      <th></th>\n",
              "      <th>gt_id</th>\n",
              "      <th>page_id</th>\n",
              "      <th>title</th>\n",
              "    </tr>\n",
              "  </thead>\n",
              "  <tbody>\n",
              "    <tr>\n",
              "      <th>0</th>\n",
              "      <td>158041</td>\n",
              "      <td>4328020</td>\n",
              "      <td>Anexo:Catálogo arqueológico del municipio de Z...</td>\n",
              "    </tr>\n",
              "    <tr>\n",
              "      <th>1</th>\n",
              "      <td>8440889</td>\n",
              "      <td>4328020</td>\n",
              "      <td>Anexo:Catálogo arqueológico del municipio de Z...</td>\n",
              "    </tr>\n",
              "    <tr>\n",
              "      <th>2</th>\n",
              "      <td>8440897</td>\n",
              "      <td>4328020</td>\n",
              "      <td>Anexo:Catálogo arqueológico del municipio de Z...</td>\n",
              "    </tr>\n",
              "    <tr>\n",
              "      <th>3</th>\n",
              "      <td>8440898</td>\n",
              "      <td>4328020</td>\n",
              "      <td>Anexo:Catálogo arqueológico del municipio de Z...</td>\n",
              "    </tr>\n",
              "    <tr>\n",
              "      <th>4</th>\n",
              "      <td>8440900</td>\n",
              "      <td>4328020</td>\n",
              "      <td>Anexo:Catálogo arqueológico del municipio de Z...</td>\n",
              "    </tr>\n",
              "    <tr>\n",
              "      <th>...</th>\n",
              "      <td>...</td>\n",
              "      <td>...</td>\n",
              "      <td>...</td>\n",
              "    </tr>\n",
              "    <tr>\n",
              "      <th>537300</th>\n",
              "      <td>136672179</td>\n",
              "      <td>5239183</td>\n",
              "      <td>Cali</td>\n",
              "    </tr>\n",
              "    <tr>\n",
              "      <th>537301</th>\n",
              "      <td>136672180</td>\n",
              "      <td>104468</td>\n",
              "      <td>Eridu</td>\n",
              "    </tr>\n",
              "    <tr>\n",
              "      <th>537302</th>\n",
              "      <td>136672181</td>\n",
              "      <td>968281</td>\n",
              "      <td>Sombacour</td>\n",
              "    </tr>\n",
              "    <tr>\n",
              "      <th>537303</th>\n",
              "      <td>136672182</td>\n",
              "      <td>79985</td>\n",
              "      <td>Juventus de Turín</td>\n",
              "    </tr>\n",
              "    <tr>\n",
              "      <th>537304</th>\n",
              "      <td>136672183</td>\n",
              "      <td>872296</td>\n",
              "      <td>San Juan Chamelco</td>\n",
              "    </tr>\n",
              "  </tbody>\n",
              "</table>\n",
              "<p>537305 rows × 3 columns</p>\n",
              "</div>\n",
              "      <button class=\"colab-df-convert\" onclick=\"convertToInteractive('df-87833958-a120-4694-bf35-635c08815788')\"\n",
              "              title=\"Convert this dataframe to an interactive table.\"\n",
              "              style=\"display:none;\">\n",
              "        \n",
              "  <svg xmlns=\"http://www.w3.org/2000/svg\" height=\"24px\"viewBox=\"0 0 24 24\"\n",
              "       width=\"24px\">\n",
              "    <path d=\"M0 0h24v24H0V0z\" fill=\"none\"/>\n",
              "    <path d=\"M18.56 5.44l.94 2.06.94-2.06 2.06-.94-2.06-.94-.94-2.06-.94 2.06-2.06.94zm-11 1L8.5 8.5l.94-2.06 2.06-.94-2.06-.94L8.5 2.5l-.94 2.06-2.06.94zm10 10l.94 2.06.94-2.06 2.06-.94-2.06-.94-.94-2.06-.94 2.06-2.06.94z\"/><path d=\"M17.41 7.96l-1.37-1.37c-.4-.4-.92-.59-1.43-.59-.52 0-1.04.2-1.43.59L10.3 9.45l-7.72 7.72c-.78.78-.78 2.05 0 2.83L4 21.41c.39.39.9.59 1.41.59.51 0 1.02-.2 1.41-.59l7.78-7.78 2.81-2.81c.8-.78.8-2.07 0-2.86zM5.41 20L4 18.59l7.72-7.72 1.47 1.35L5.41 20z\"/>\n",
              "  </svg>\n",
              "      </button>\n",
              "      \n",
              "  <style>\n",
              "    .colab-df-container {\n",
              "      display:flex;\n",
              "      flex-wrap:wrap;\n",
              "      gap: 12px;\n",
              "    }\n",
              "\n",
              "    .colab-df-convert {\n",
              "      background-color: #E8F0FE;\n",
              "      border: none;\n",
              "      border-radius: 50%;\n",
              "      cursor: pointer;\n",
              "      display: none;\n",
              "      fill: #1967D2;\n",
              "      height: 32px;\n",
              "      padding: 0 0 0 0;\n",
              "      width: 32px;\n",
              "    }\n",
              "\n",
              "    .colab-df-convert:hover {\n",
              "      background-color: #E2EBFA;\n",
              "      box-shadow: 0px 1px 2px rgba(60, 64, 67, 0.3), 0px 1px 3px 1px rgba(60, 64, 67, 0.15);\n",
              "      fill: #174EA6;\n",
              "    }\n",
              "\n",
              "    [theme=dark] .colab-df-convert {\n",
              "      background-color: #3B4455;\n",
              "      fill: #D2E3FC;\n",
              "    }\n",
              "\n",
              "    [theme=dark] .colab-df-convert:hover {\n",
              "      background-color: #434B5C;\n",
              "      box-shadow: 0px 1px 3px 1px rgba(0, 0, 0, 0.15);\n",
              "      filter: drop-shadow(0px 1px 2px rgba(0, 0, 0, 0.3));\n",
              "      fill: #FFFFFF;\n",
              "    }\n",
              "  </style>\n",
              "\n",
              "      <script>\n",
              "        const buttonEl =\n",
              "          document.querySelector('#df-87833958-a120-4694-bf35-635c08815788 button.colab-df-convert');\n",
              "        buttonEl.style.display =\n",
              "          google.colab.kernel.accessAllowed ? 'block' : 'none';\n",
              "\n",
              "        async function convertToInteractive(key) {\n",
              "          const element = document.querySelector('#df-87833958-a120-4694-bf35-635c08815788');\n",
              "          const dataTable =\n",
              "            await google.colab.kernel.invokeFunction('convertToInteractive',\n",
              "                                                     [key], {});\n",
              "          if (!dataTable) return;\n",
              "\n",
              "          const docLinkHtml = 'Like what you see? Visit the ' +\n",
              "            '<a target=\"_blank\" href=https://colab.research.google.com/notebooks/data_table.ipynb>data table notebook</a>'\n",
              "            + ' to learn more about interactive tables.';\n",
              "          element.innerHTML = '';\n",
              "          dataTable['output_type'] = 'display_data';\n",
              "          await google.colab.output.renderOutput(dataTable, element);\n",
              "          const docLink = document.createElement('div');\n",
              "          docLink.innerHTML = docLinkHtml;\n",
              "          element.appendChild(docLink);\n",
              "        }\n",
              "      </script>\n",
              "    </div>\n",
              "  </div>\n",
              "  "
            ]
          },
          "metadata": {},
          "execution_count": 5
        }
      ]
    },
    {
      "cell_type": "markdown",
      "source": [
        "Ahora agrupo y realizo el mismo proceso que antes"
      ],
      "metadata": {
        "id": "X9ekecnhmgze"
      }
    },
    {
      "cell_type": "code",
      "source": [
        "tags_by_page = merged_df.groupby(\"page_id\").size().nlargest(2)\n",
        "pg_id = tags_by_page.index[1]\n",
        "pg = merged_df.loc[merged_df['page_id'] == pg_id] #localizo la fila que corresponde con el id de la pag\n",
        "pg_title = pg.iloc[0][\"title\"] #obtengo el titulo\n",
        "print(pg_title)"
      ],
      "metadata": {
        "id": "ZPNXt4opYEIG",
        "colab": {
          "base_uri": "https://localhost:8080/"
        },
        "outputId": "d86a23ab-2f49-4223-edfc-1e0fa6953e56"
      },
      "execution_count": null,
      "outputs": [
        {
          "output_type": "stream",
          "name": "stdout",
          "text": [
            "Wikiproyecto:Madrid/Artículos/Wikidata\n"
          ]
        }
      ]
    },
    {
      "cell_type": "markdown",
      "source": [
        "Se ve que la página no es la misma porque el id de la página con más geotags no se encontraba en contents.csv"
      ],
      "metadata": {
        "id": "pjfZjvvma2Ti"
      }
    }
  ]
}