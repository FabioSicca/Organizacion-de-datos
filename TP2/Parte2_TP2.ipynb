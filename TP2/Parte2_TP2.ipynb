{
  "nbformat": 4,
  "nbformat_minor": 0,
  "metadata": {
    "colab": {
      "provenance": [],
      "collapsed_sections": [
        "KJUGn2XBK76a",
        "0P_Yk55CUMxc",
        "XTHBfLQkGynh"
      ],
      "authorship_tag": "ABX9TyPbiYgiMppCNcnFUHgKiZWM",
      "include_colab_link": true
    },
    "kernelspec": {
      "name": "python3",
      "display_name": "Python 3"
    },
    "language_info": {
      "name": "python"
    }
  },
  "cells": [
    {
      "cell_type": "markdown",
      "metadata": {
        "id": "view-in-github",
        "colab_type": "text"
      },
      "source": [
        "<a href=\"https://colab.research.google.com/github/FabioSicca/Organizacion-de-datos/blob/main/Parte2_TP2.ipynb\" target=\"_parent\"><img src=\"https://colab.research.google.com/assets/colab-badge.svg\" alt=\"Open In Colab\"/></a>"
      ]
    },
    {
      "cell_type": "markdown",
      "source": [
        "**Parte II - Machine Learning Baseline (5 puntos)**\n",
        "\n",
        "Utilice todas las columnas del dataset (exceptuando columnas que no tenga sentido usar para predecir) con algún encoding donde sea necesario para entrenar una regresión logística, utilizando búsqueda de hiperparametros y garantizando la reproducibilidad de los resultados cuando el notebook corriera varias veces. Conteste las preguntas:\n",
        "\n",
        "* ¿Cuál es el mejor score de validación obtenido? (¿Cómo conviene obtener el dataset para validar?)\n",
        "* Al predecir con este modelo para test, ¿Cúal es el score obtenido? (guardar el csv con predicciones para entregarlo después)\n",
        "* ¿Qué features son los más importantes para predecir con el mejor modelo? Graficar."
      ],
      "metadata": {
        "id": "goQWC-579Ltj"
      }
    },
    {
      "cell_type": "code",
      "execution_count": null,
      "metadata": {
        "id": "_jGnoy26I8Pv",
        "colab": {
          "base_uri": "https://localhost:8080/"
        },
        "outputId": "e4897719-b69a-4c0b-e854-c5372e8cc2ef"
      },
      "outputs": [
        {
          "output_type": "stream",
          "name": "stdout",
          "text": [
            "Looking in indexes: https://pypi.org/simple, https://us-python.pkg.dev/colab-wheels/public/simple/\n",
            "Collecting category_encoders\n",
            "  Downloading category_encoders-2.6.1-py2.py3-none-any.whl (81 kB)\n",
            "\u001b[2K     \u001b[90m━━━━━━━━━━━━━━━━━━━━━━━━━━━━━━━━━━━━━━━━\u001b[0m \u001b[32m81.9/81.9 kB\u001b[0m \u001b[31m5.2 MB/s\u001b[0m eta \u001b[36m0:00:00\u001b[0m\n",
            "\u001b[?25hRequirement already satisfied: numpy>=1.14.0 in /usr/local/lib/python3.10/dist-packages (from category_encoders) (1.22.4)\n",
            "Requirement already satisfied: scikit-learn>=0.20.0 in /usr/local/lib/python3.10/dist-packages (from category_encoders) (1.2.2)\n",
            "Requirement already satisfied: scipy>=1.0.0 in /usr/local/lib/python3.10/dist-packages (from category_encoders) (1.10.1)\n",
            "Requirement already satisfied: statsmodels>=0.9.0 in /usr/local/lib/python3.10/dist-packages (from category_encoders) (0.13.5)\n",
            "Requirement already satisfied: pandas>=1.0.5 in /usr/local/lib/python3.10/dist-packages (from category_encoders) (1.5.3)\n",
            "Requirement already satisfied: patsy>=0.5.1 in /usr/local/lib/python3.10/dist-packages (from category_encoders) (0.5.3)\n",
            "Requirement already satisfied: python-dateutil>=2.8.1 in /usr/local/lib/python3.10/dist-packages (from pandas>=1.0.5->category_encoders) (2.8.2)\n",
            "Requirement already satisfied: pytz>=2020.1 in /usr/local/lib/python3.10/dist-packages (from pandas>=1.0.5->category_encoders) (2022.7.1)\n",
            "Requirement already satisfied: six in /usr/local/lib/python3.10/dist-packages (from patsy>=0.5.1->category_encoders) (1.16.0)\n",
            "Requirement already satisfied: joblib>=1.1.1 in /usr/local/lib/python3.10/dist-packages (from scikit-learn>=0.20.0->category_encoders) (1.2.0)\n",
            "Requirement already satisfied: threadpoolctl>=2.0.0 in /usr/local/lib/python3.10/dist-packages (from scikit-learn>=0.20.0->category_encoders) (3.1.0)\n",
            "Requirement already satisfied: packaging>=21.3 in /usr/local/lib/python3.10/dist-packages (from statsmodels>=0.9.0->category_encoders) (23.1)\n",
            "Installing collected packages: category_encoders\n",
            "Successfully installed category_encoders-2.6.1\n"
          ]
        }
      ],
      "source": [
        "import pandas as pd\n",
        "!pip install category_encoders\n",
        "from sklearn.model_selection import train_test_split\n",
        "from sklearn.preprocessing import OneHotEncoder\n",
        "from category_encoders.binary import BinaryEncoder"
      ]
    },
    {
      "cell_type": "code",
      "source": [
        "import pandas as pd\n",
        "from google.colab import drive\n",
        "drive.mount('/content/drive')"
      ],
      "metadata": {
        "colab": {
          "base_uri": "https://localhost:8080/"
        },
        "id": "T-WbBzC3JAkC",
        "outputId": "b8facdd3-2bd6-40c1-b819-573d8add3a91"
      },
      "execution_count": null,
      "outputs": [
        {
          "output_type": "stream",
          "name": "stdout",
          "text": [
            "Mounted at /content/drive\n"
          ]
        }
      ]
    },
    {
      "cell_type": "code",
      "source": [
        "df = pd.read_csv('/content/drive/MyDrive/secondary_data.csv', sep=\";\")"
      ],
      "metadata": {
        "id": "uZqg4Xn_JC30"
      },
      "execution_count": null,
      "outputs": []
    },
    {
      "cell_type": "code",
      "source": [
        "X = df.drop('class', axis=1)\n",
        "y = df['class']"
      ],
      "metadata": {
        "id": "bUseZXVaVeAm"
      },
      "execution_count": null,
      "outputs": []
    },
    {
      "cell_type": "code",
      "source": [
        "X"
      ],
      "metadata": {
        "colab": {
          "base_uri": "https://localhost:8080/",
          "height": 539
        },
        "id": "NRQQV97WV0YK",
        "outputId": "ce83fc95-caa0-4d18-88b9-3b09ffd1f24c"
      },
      "execution_count": null,
      "outputs": [
        {
          "output_type": "execute_result",
          "data": {
            "text/plain": [
              "       cap-diameter cap-shape cap-surface cap-color does-bruise-or-bleed  \\\n",
              "0             15.26         x           g         o                    f   \n",
              "1             16.60         x           g         o                    f   \n",
              "2             14.07         x           g         o                    f   \n",
              "3             14.17         f           h         e                    f   \n",
              "4             14.64         x           h         o                    f   \n",
              "...             ...       ...         ...       ...                  ...   \n",
              "61064          1.18         s           s         y                    f   \n",
              "61065          1.27         f           s         y                    f   \n",
              "61066          1.27         s           s         y                    f   \n",
              "61067          1.24         f           s         y                    f   \n",
              "61068          1.17         s           s         y                    f   \n",
              "\n",
              "      gill-attachment gill-spacing gill-color  stem-height  stem-width  \\\n",
              "0                   e          NaN          w        16.95       17.09   \n",
              "1                   e          NaN          w        17.99       18.19   \n",
              "2                   e          NaN          w        17.80       17.74   \n",
              "3                   e          NaN          w        15.77       15.98   \n",
              "4                   e          NaN          w        16.53       17.20   \n",
              "...               ...          ...        ...          ...         ...   \n",
              "61064               f            f          f         3.93        6.22   \n",
              "61065               f            f          f         3.18        5.43   \n",
              "61066               f            f          f         3.86        6.37   \n",
              "61067               f            f          f         3.56        5.44   \n",
              "61068               f            f          f         3.25        5.45   \n",
              "\n",
              "      stem-root stem-surface stem-color veil-type veil-color has-ring  \\\n",
              "0             s            y          w         u          w        t   \n",
              "1             s            y          w         u          w        t   \n",
              "2             s            y          w         u          w        t   \n",
              "3             s            y          w         u          w        t   \n",
              "4             s            y          w         u          w        t   \n",
              "...         ...          ...        ...       ...        ...      ...   \n",
              "61064       NaN          NaN          y       NaN        NaN        f   \n",
              "61065       NaN          NaN          y       NaN        NaN        f   \n",
              "61066       NaN          NaN          y       NaN        NaN        f   \n",
              "61067       NaN          NaN          y       NaN        NaN        f   \n",
              "61068       NaN          NaN          y       NaN        NaN        f   \n",
              "\n",
              "      ring-type spore-print-color habitat season  \n",
              "0             g               NaN       d      w  \n",
              "1             g               NaN       d      u  \n",
              "2             g               NaN       d      w  \n",
              "3             p               NaN       d      w  \n",
              "4             p               NaN       d      w  \n",
              "...         ...               ...     ...    ...  \n",
              "61064         f               NaN       d      a  \n",
              "61065         f               NaN       d      a  \n",
              "61066         f               NaN       d      u  \n",
              "61067         f               NaN       d      u  \n",
              "61068         f               NaN       d      u  \n",
              "\n",
              "[61069 rows x 20 columns]"
            ],
            "text/html": [
              "\n",
              "  <div id=\"df-8150afaf-99c5-42c6-b9c7-68552dbf473f\">\n",
              "    <div class=\"colab-df-container\">\n",
              "      <div>\n",
              "<style scoped>\n",
              "    .dataframe tbody tr th:only-of-type {\n",
              "        vertical-align: middle;\n",
              "    }\n",
              "\n",
              "    .dataframe tbody tr th {\n",
              "        vertical-align: top;\n",
              "    }\n",
              "\n",
              "    .dataframe thead th {\n",
              "        text-align: right;\n",
              "    }\n",
              "</style>\n",
              "<table border=\"1\" class=\"dataframe\">\n",
              "  <thead>\n",
              "    <tr style=\"text-align: right;\">\n",
              "      <th></th>\n",
              "      <th>cap-diameter</th>\n",
              "      <th>cap-shape</th>\n",
              "      <th>cap-surface</th>\n",
              "      <th>cap-color</th>\n",
              "      <th>does-bruise-or-bleed</th>\n",
              "      <th>gill-attachment</th>\n",
              "      <th>gill-spacing</th>\n",
              "      <th>gill-color</th>\n",
              "      <th>stem-height</th>\n",
              "      <th>stem-width</th>\n",
              "      <th>stem-root</th>\n",
              "      <th>stem-surface</th>\n",
              "      <th>stem-color</th>\n",
              "      <th>veil-type</th>\n",
              "      <th>veil-color</th>\n",
              "      <th>has-ring</th>\n",
              "      <th>ring-type</th>\n",
              "      <th>spore-print-color</th>\n",
              "      <th>habitat</th>\n",
              "      <th>season</th>\n",
              "    </tr>\n",
              "  </thead>\n",
              "  <tbody>\n",
              "    <tr>\n",
              "      <th>0</th>\n",
              "      <td>15.26</td>\n",
              "      <td>x</td>\n",
              "      <td>g</td>\n",
              "      <td>o</td>\n",
              "      <td>f</td>\n",
              "      <td>e</td>\n",
              "      <td>NaN</td>\n",
              "      <td>w</td>\n",
              "      <td>16.95</td>\n",
              "      <td>17.09</td>\n",
              "      <td>s</td>\n",
              "      <td>y</td>\n",
              "      <td>w</td>\n",
              "      <td>u</td>\n",
              "      <td>w</td>\n",
              "      <td>t</td>\n",
              "      <td>g</td>\n",
              "      <td>NaN</td>\n",
              "      <td>d</td>\n",
              "      <td>w</td>\n",
              "    </tr>\n",
              "    <tr>\n",
              "      <th>1</th>\n",
              "      <td>16.60</td>\n",
              "      <td>x</td>\n",
              "      <td>g</td>\n",
              "      <td>o</td>\n",
              "      <td>f</td>\n",
              "      <td>e</td>\n",
              "      <td>NaN</td>\n",
              "      <td>w</td>\n",
              "      <td>17.99</td>\n",
              "      <td>18.19</td>\n",
              "      <td>s</td>\n",
              "      <td>y</td>\n",
              "      <td>w</td>\n",
              "      <td>u</td>\n",
              "      <td>w</td>\n",
              "      <td>t</td>\n",
              "      <td>g</td>\n",
              "      <td>NaN</td>\n",
              "      <td>d</td>\n",
              "      <td>u</td>\n",
              "    </tr>\n",
              "    <tr>\n",
              "      <th>2</th>\n",
              "      <td>14.07</td>\n",
              "      <td>x</td>\n",
              "      <td>g</td>\n",
              "      <td>o</td>\n",
              "      <td>f</td>\n",
              "      <td>e</td>\n",
              "      <td>NaN</td>\n",
              "      <td>w</td>\n",
              "      <td>17.80</td>\n",
              "      <td>17.74</td>\n",
              "      <td>s</td>\n",
              "      <td>y</td>\n",
              "      <td>w</td>\n",
              "      <td>u</td>\n",
              "      <td>w</td>\n",
              "      <td>t</td>\n",
              "      <td>g</td>\n",
              "      <td>NaN</td>\n",
              "      <td>d</td>\n",
              "      <td>w</td>\n",
              "    </tr>\n",
              "    <tr>\n",
              "      <th>3</th>\n",
              "      <td>14.17</td>\n",
              "      <td>f</td>\n",
              "      <td>h</td>\n",
              "      <td>e</td>\n",
              "      <td>f</td>\n",
              "      <td>e</td>\n",
              "      <td>NaN</td>\n",
              "      <td>w</td>\n",
              "      <td>15.77</td>\n",
              "      <td>15.98</td>\n",
              "      <td>s</td>\n",
              "      <td>y</td>\n",
              "      <td>w</td>\n",
              "      <td>u</td>\n",
              "      <td>w</td>\n",
              "      <td>t</td>\n",
              "      <td>p</td>\n",
              "      <td>NaN</td>\n",
              "      <td>d</td>\n",
              "      <td>w</td>\n",
              "    </tr>\n",
              "    <tr>\n",
              "      <th>4</th>\n",
              "      <td>14.64</td>\n",
              "      <td>x</td>\n",
              "      <td>h</td>\n",
              "      <td>o</td>\n",
              "      <td>f</td>\n",
              "      <td>e</td>\n",
              "      <td>NaN</td>\n",
              "      <td>w</td>\n",
              "      <td>16.53</td>\n",
              "      <td>17.20</td>\n",
              "      <td>s</td>\n",
              "      <td>y</td>\n",
              "      <td>w</td>\n",
              "      <td>u</td>\n",
              "      <td>w</td>\n",
              "      <td>t</td>\n",
              "      <td>p</td>\n",
              "      <td>NaN</td>\n",
              "      <td>d</td>\n",
              "      <td>w</td>\n",
              "    </tr>\n",
              "    <tr>\n",
              "      <th>...</th>\n",
              "      <td>...</td>\n",
              "      <td>...</td>\n",
              "      <td>...</td>\n",
              "      <td>...</td>\n",
              "      <td>...</td>\n",
              "      <td>...</td>\n",
              "      <td>...</td>\n",
              "      <td>...</td>\n",
              "      <td>...</td>\n",
              "      <td>...</td>\n",
              "      <td>...</td>\n",
              "      <td>...</td>\n",
              "      <td>...</td>\n",
              "      <td>...</td>\n",
              "      <td>...</td>\n",
              "      <td>...</td>\n",
              "      <td>...</td>\n",
              "      <td>...</td>\n",
              "      <td>...</td>\n",
              "      <td>...</td>\n",
              "    </tr>\n",
              "    <tr>\n",
              "      <th>61064</th>\n",
              "      <td>1.18</td>\n",
              "      <td>s</td>\n",
              "      <td>s</td>\n",
              "      <td>y</td>\n",
              "      <td>f</td>\n",
              "      <td>f</td>\n",
              "      <td>f</td>\n",
              "      <td>f</td>\n",
              "      <td>3.93</td>\n",
              "      <td>6.22</td>\n",
              "      <td>NaN</td>\n",
              "      <td>NaN</td>\n",
              "      <td>y</td>\n",
              "      <td>NaN</td>\n",
              "      <td>NaN</td>\n",
              "      <td>f</td>\n",
              "      <td>f</td>\n",
              "      <td>NaN</td>\n",
              "      <td>d</td>\n",
              "      <td>a</td>\n",
              "    </tr>\n",
              "    <tr>\n",
              "      <th>61065</th>\n",
              "      <td>1.27</td>\n",
              "      <td>f</td>\n",
              "      <td>s</td>\n",
              "      <td>y</td>\n",
              "      <td>f</td>\n",
              "      <td>f</td>\n",
              "      <td>f</td>\n",
              "      <td>f</td>\n",
              "      <td>3.18</td>\n",
              "      <td>5.43</td>\n",
              "      <td>NaN</td>\n",
              "      <td>NaN</td>\n",
              "      <td>y</td>\n",
              "      <td>NaN</td>\n",
              "      <td>NaN</td>\n",
              "      <td>f</td>\n",
              "      <td>f</td>\n",
              "      <td>NaN</td>\n",
              "      <td>d</td>\n",
              "      <td>a</td>\n",
              "    </tr>\n",
              "    <tr>\n",
              "      <th>61066</th>\n",
              "      <td>1.27</td>\n",
              "      <td>s</td>\n",
              "      <td>s</td>\n",
              "      <td>y</td>\n",
              "      <td>f</td>\n",
              "      <td>f</td>\n",
              "      <td>f</td>\n",
              "      <td>f</td>\n",
              "      <td>3.86</td>\n",
              "      <td>6.37</td>\n",
              "      <td>NaN</td>\n",
              "      <td>NaN</td>\n",
              "      <td>y</td>\n",
              "      <td>NaN</td>\n",
              "      <td>NaN</td>\n",
              "      <td>f</td>\n",
              "      <td>f</td>\n",
              "      <td>NaN</td>\n",
              "      <td>d</td>\n",
              "      <td>u</td>\n",
              "    </tr>\n",
              "    <tr>\n",
              "      <th>61067</th>\n",
              "      <td>1.24</td>\n",
              "      <td>f</td>\n",
              "      <td>s</td>\n",
              "      <td>y</td>\n",
              "      <td>f</td>\n",
              "      <td>f</td>\n",
              "      <td>f</td>\n",
              "      <td>f</td>\n",
              "      <td>3.56</td>\n",
              "      <td>5.44</td>\n",
              "      <td>NaN</td>\n",
              "      <td>NaN</td>\n",
              "      <td>y</td>\n",
              "      <td>NaN</td>\n",
              "      <td>NaN</td>\n",
              "      <td>f</td>\n",
              "      <td>f</td>\n",
              "      <td>NaN</td>\n",
              "      <td>d</td>\n",
              "      <td>u</td>\n",
              "    </tr>\n",
              "    <tr>\n",
              "      <th>61068</th>\n",
              "      <td>1.17</td>\n",
              "      <td>s</td>\n",
              "      <td>s</td>\n",
              "      <td>y</td>\n",
              "      <td>f</td>\n",
              "      <td>f</td>\n",
              "      <td>f</td>\n",
              "      <td>f</td>\n",
              "      <td>3.25</td>\n",
              "      <td>5.45</td>\n",
              "      <td>NaN</td>\n",
              "      <td>NaN</td>\n",
              "      <td>y</td>\n",
              "      <td>NaN</td>\n",
              "      <td>NaN</td>\n",
              "      <td>f</td>\n",
              "      <td>f</td>\n",
              "      <td>NaN</td>\n",
              "      <td>d</td>\n",
              "      <td>u</td>\n",
              "    </tr>\n",
              "  </tbody>\n",
              "</table>\n",
              "<p>61069 rows × 20 columns</p>\n",
              "</div>\n",
              "      <button class=\"colab-df-convert\" onclick=\"convertToInteractive('df-8150afaf-99c5-42c6-b9c7-68552dbf473f')\"\n",
              "              title=\"Convert this dataframe to an interactive table.\"\n",
              "              style=\"display:none;\">\n",
              "        \n",
              "  <svg xmlns=\"http://www.w3.org/2000/svg\" height=\"24px\"viewBox=\"0 0 24 24\"\n",
              "       width=\"24px\">\n",
              "    <path d=\"M0 0h24v24H0V0z\" fill=\"none\"/>\n",
              "    <path d=\"M18.56 5.44l.94 2.06.94-2.06 2.06-.94-2.06-.94-.94-2.06-.94 2.06-2.06.94zm-11 1L8.5 8.5l.94-2.06 2.06-.94-2.06-.94L8.5 2.5l-.94 2.06-2.06.94zm10 10l.94 2.06.94-2.06 2.06-.94-2.06-.94-.94-2.06-.94 2.06-2.06.94z\"/><path d=\"M17.41 7.96l-1.37-1.37c-.4-.4-.92-.59-1.43-.59-.52 0-1.04.2-1.43.59L10.3 9.45l-7.72 7.72c-.78.78-.78 2.05 0 2.83L4 21.41c.39.39.9.59 1.41.59.51 0 1.02-.2 1.41-.59l7.78-7.78 2.81-2.81c.8-.78.8-2.07 0-2.86zM5.41 20L4 18.59l7.72-7.72 1.47 1.35L5.41 20z\"/>\n",
              "  </svg>\n",
              "      </button>\n",
              "      \n",
              "  <style>\n",
              "    .colab-df-container {\n",
              "      display:flex;\n",
              "      flex-wrap:wrap;\n",
              "      gap: 12px;\n",
              "    }\n",
              "\n",
              "    .colab-df-convert {\n",
              "      background-color: #E8F0FE;\n",
              "      border: none;\n",
              "      border-radius: 50%;\n",
              "      cursor: pointer;\n",
              "      display: none;\n",
              "      fill: #1967D2;\n",
              "      height: 32px;\n",
              "      padding: 0 0 0 0;\n",
              "      width: 32px;\n",
              "    }\n",
              "\n",
              "    .colab-df-convert:hover {\n",
              "      background-color: #E2EBFA;\n",
              "      box-shadow: 0px 1px 2px rgba(60, 64, 67, 0.3), 0px 1px 3px 1px rgba(60, 64, 67, 0.15);\n",
              "      fill: #174EA6;\n",
              "    }\n",
              "\n",
              "    [theme=dark] .colab-df-convert {\n",
              "      background-color: #3B4455;\n",
              "      fill: #D2E3FC;\n",
              "    }\n",
              "\n",
              "    [theme=dark] .colab-df-convert:hover {\n",
              "      background-color: #434B5C;\n",
              "      box-shadow: 0px 1px 3px 1px rgba(0, 0, 0, 0.15);\n",
              "      filter: drop-shadow(0px 1px 2px rgba(0, 0, 0, 0.3));\n",
              "      fill: #FFFFFF;\n",
              "    }\n",
              "  </style>\n",
              "\n",
              "      <script>\n",
              "        const buttonEl =\n",
              "          document.querySelector('#df-8150afaf-99c5-42c6-b9c7-68552dbf473f button.colab-df-convert');\n",
              "        buttonEl.style.display =\n",
              "          google.colab.kernel.accessAllowed ? 'block' : 'none';\n",
              "\n",
              "        async function convertToInteractive(key) {\n",
              "          const element = document.querySelector('#df-8150afaf-99c5-42c6-b9c7-68552dbf473f');\n",
              "          const dataTable =\n",
              "            await google.colab.kernel.invokeFunction('convertToInteractive',\n",
              "                                                     [key], {});\n",
              "          if (!dataTable) return;\n",
              "\n",
              "          const docLinkHtml = 'Like what you see? Visit the ' +\n",
              "            '<a target=\"_blank\" href=https://colab.research.google.com/notebooks/data_table.ipynb>data table notebook</a>'\n",
              "            + ' to learn more about interactive tables.';\n",
              "          element.innerHTML = '';\n",
              "          dataTable['output_type'] = 'display_data';\n",
              "          await google.colab.output.renderOutput(dataTable, element);\n",
              "          const docLink = document.createElement('div');\n",
              "          docLink.innerHTML = docLinkHtml;\n",
              "          element.appendChild(docLink);\n",
              "        }\n",
              "      </script>\n",
              "    </div>\n",
              "  </div>\n",
              "  "
            ]
          },
          "metadata": {},
          "execution_count": 5
        }
      ]
    },
    {
      "cell_type": "code",
      "source": [
        "y"
      ],
      "metadata": {
        "colab": {
          "base_uri": "https://localhost:8080/"
        },
        "id": "oUG4c_MWV2IE",
        "outputId": "7777ac07-a2a9-40b1-b4ba-2d8f22f0ee29"
      },
      "execution_count": null,
      "outputs": [
        {
          "output_type": "execute_result",
          "data": {
            "text/plain": [
              "0        p\n",
              "1        p\n",
              "2        p\n",
              "3        p\n",
              "4        p\n",
              "        ..\n",
              "61064    p\n",
              "61065    p\n",
              "61066    p\n",
              "61067    p\n",
              "61068    p\n",
              "Name: class, Length: 61069, dtype: object"
            ]
          },
          "metadata": {},
          "execution_count": 6
        }
      ]
    },
    {
      "cell_type": "code",
      "source": [
        "X_train_aux, X_test, y_train_aux, y_test = train_test_split(X, y, test_size=0.1, random_state=5)"
      ],
      "metadata": {
        "id": "af5QJ6jLJHhg"
      },
      "execution_count": null,
      "outputs": []
    },
    {
      "cell_type": "code",
      "source": [
        "X_train_aux #Tiene la parte de train y validation todavía"
      ],
      "metadata": {
        "id": "-IZLmsZGVNu9",
        "colab": {
          "base_uri": "https://localhost:8080/",
          "height": 539
        },
        "outputId": "2e723b08-0ca9-4142-b45a-ed6eb099093e"
      },
      "execution_count": null,
      "outputs": [
        {
          "output_type": "execute_result",
          "data": {
            "text/plain": [
              "       cap-diameter cap-shape cap-surface cap-color does-bruise-or-bleed  \\\n",
              "32590          2.56         x           d         w                    f   \n",
              "45956          1.52         f           w         g                    f   \n",
              "14330          6.62         x           t         g                    f   \n",
              "21664          5.19         s         NaN         y                    f   \n",
              "49269          8.60         x           d         e                    t   \n",
              "...             ...       ...         ...       ...                  ...   \n",
              "35814          5.29         x           t         n                    f   \n",
              "59069          5.58         s           k         y                    f   \n",
              "20463          7.24         s           d         b                    f   \n",
              "18638          7.16         f           y         e                    f   \n",
              "35683          4.48         x           t         o                    f   \n",
              "\n",
              "      gill-attachment gill-spacing gill-color  stem-height  stem-width  \\\n",
              "32590               a            d          p         3.32        2.32   \n",
              "45956             NaN            d          g         5.57        2.61   \n",
              "14330               a            d          n         6.62        5.12   \n",
              "21664               a            c          w         4.37       11.21   \n",
              "49269               p          NaN          y         6.72       13.06   \n",
              "...               ...          ...        ...          ...         ...   \n",
              "35814               a            c          n         4.72        5.97   \n",
              "59069               p          NaN          n         4.43        6.30   \n",
              "20463               d            d          o         5.90       12.81   \n",
              "18638               s            c          y         6.01       18.75   \n",
              "35683               a            c          n         4.78        7.60   \n",
              "\n",
              "      stem-root stem-surface stem-color veil-type veil-color has-ring  \\\n",
              "32590       NaN            h          w       NaN        NaN        f   \n",
              "45956       NaN          NaN          w       NaN        NaN        f   \n",
              "14330       NaN            t          w       NaN        NaN        t   \n",
              "21664       NaN          NaN          w       NaN        NaN        f   \n",
              "49269       NaN          NaN          y       NaN        NaN        f   \n",
              "...         ...          ...        ...       ...        ...      ...   \n",
              "35814       NaN            y          o       NaN        NaN        t   \n",
              "59069       NaN            k          n       NaN        NaN        t   \n",
              "20463       NaN          NaN          w       NaN        NaN        f   \n",
              "18638       NaN            y          u       NaN        NaN        f   \n",
              "35683       NaN            y          o       NaN        NaN        t   \n",
              "\n",
              "      ring-type spore-print-color habitat season  \n",
              "32590         f               NaN       g      u  \n",
              "45956         f               NaN       d      a  \n",
              "14330         l               NaN       d      u  \n",
              "21664         f               NaN       d      a  \n",
              "49269         f               NaN       d      u  \n",
              "...         ...               ...     ...    ...  \n",
              "35814         z               NaN       d      w  \n",
              "59069         f               NaN       d      u  \n",
              "20463         f               NaN       g      w  \n",
              "18638         f               NaN       d      a  \n",
              "35683         z               NaN       d      a  \n",
              "\n",
              "[54962 rows x 20 columns]"
            ],
            "text/html": [
              "\n",
              "  <div id=\"df-d2f5d930-d4c8-4a49-8449-4108711b9f6f\">\n",
              "    <div class=\"colab-df-container\">\n",
              "      <div>\n",
              "<style scoped>\n",
              "    .dataframe tbody tr th:only-of-type {\n",
              "        vertical-align: middle;\n",
              "    }\n",
              "\n",
              "    .dataframe tbody tr th {\n",
              "        vertical-align: top;\n",
              "    }\n",
              "\n",
              "    .dataframe thead th {\n",
              "        text-align: right;\n",
              "    }\n",
              "</style>\n",
              "<table border=\"1\" class=\"dataframe\">\n",
              "  <thead>\n",
              "    <tr style=\"text-align: right;\">\n",
              "      <th></th>\n",
              "      <th>cap-diameter</th>\n",
              "      <th>cap-shape</th>\n",
              "      <th>cap-surface</th>\n",
              "      <th>cap-color</th>\n",
              "      <th>does-bruise-or-bleed</th>\n",
              "      <th>gill-attachment</th>\n",
              "      <th>gill-spacing</th>\n",
              "      <th>gill-color</th>\n",
              "      <th>stem-height</th>\n",
              "      <th>stem-width</th>\n",
              "      <th>stem-root</th>\n",
              "      <th>stem-surface</th>\n",
              "      <th>stem-color</th>\n",
              "      <th>veil-type</th>\n",
              "      <th>veil-color</th>\n",
              "      <th>has-ring</th>\n",
              "      <th>ring-type</th>\n",
              "      <th>spore-print-color</th>\n",
              "      <th>habitat</th>\n",
              "      <th>season</th>\n",
              "    </tr>\n",
              "  </thead>\n",
              "  <tbody>\n",
              "    <tr>\n",
              "      <th>32590</th>\n",
              "      <td>2.56</td>\n",
              "      <td>x</td>\n",
              "      <td>d</td>\n",
              "      <td>w</td>\n",
              "      <td>f</td>\n",
              "      <td>a</td>\n",
              "      <td>d</td>\n",
              "      <td>p</td>\n",
              "      <td>3.32</td>\n",
              "      <td>2.32</td>\n",
              "      <td>NaN</td>\n",
              "      <td>h</td>\n",
              "      <td>w</td>\n",
              "      <td>NaN</td>\n",
              "      <td>NaN</td>\n",
              "      <td>f</td>\n",
              "      <td>f</td>\n",
              "      <td>NaN</td>\n",
              "      <td>g</td>\n",
              "      <td>u</td>\n",
              "    </tr>\n",
              "    <tr>\n",
              "      <th>45956</th>\n",
              "      <td>1.52</td>\n",
              "      <td>f</td>\n",
              "      <td>w</td>\n",
              "      <td>g</td>\n",
              "      <td>f</td>\n",
              "      <td>NaN</td>\n",
              "      <td>d</td>\n",
              "      <td>g</td>\n",
              "      <td>5.57</td>\n",
              "      <td>2.61</td>\n",
              "      <td>NaN</td>\n",
              "      <td>NaN</td>\n",
              "      <td>w</td>\n",
              "      <td>NaN</td>\n",
              "      <td>NaN</td>\n",
              "      <td>f</td>\n",
              "      <td>f</td>\n",
              "      <td>NaN</td>\n",
              "      <td>d</td>\n",
              "      <td>a</td>\n",
              "    </tr>\n",
              "    <tr>\n",
              "      <th>14330</th>\n",
              "      <td>6.62</td>\n",
              "      <td>x</td>\n",
              "      <td>t</td>\n",
              "      <td>g</td>\n",
              "      <td>f</td>\n",
              "      <td>a</td>\n",
              "      <td>d</td>\n",
              "      <td>n</td>\n",
              "      <td>6.62</td>\n",
              "      <td>5.12</td>\n",
              "      <td>NaN</td>\n",
              "      <td>t</td>\n",
              "      <td>w</td>\n",
              "      <td>NaN</td>\n",
              "      <td>NaN</td>\n",
              "      <td>t</td>\n",
              "      <td>l</td>\n",
              "      <td>NaN</td>\n",
              "      <td>d</td>\n",
              "      <td>u</td>\n",
              "    </tr>\n",
              "    <tr>\n",
              "      <th>21664</th>\n",
              "      <td>5.19</td>\n",
              "      <td>s</td>\n",
              "      <td>NaN</td>\n",
              "      <td>y</td>\n",
              "      <td>f</td>\n",
              "      <td>a</td>\n",
              "      <td>c</td>\n",
              "      <td>w</td>\n",
              "      <td>4.37</td>\n",
              "      <td>11.21</td>\n",
              "      <td>NaN</td>\n",
              "      <td>NaN</td>\n",
              "      <td>w</td>\n",
              "      <td>NaN</td>\n",
              "      <td>NaN</td>\n",
              "      <td>f</td>\n",
              "      <td>f</td>\n",
              "      <td>NaN</td>\n",
              "      <td>d</td>\n",
              "      <td>a</td>\n",
              "    </tr>\n",
              "    <tr>\n",
              "      <th>49269</th>\n",
              "      <td>8.60</td>\n",
              "      <td>x</td>\n",
              "      <td>d</td>\n",
              "      <td>e</td>\n",
              "      <td>t</td>\n",
              "      <td>p</td>\n",
              "      <td>NaN</td>\n",
              "      <td>y</td>\n",
              "      <td>6.72</td>\n",
              "      <td>13.06</td>\n",
              "      <td>NaN</td>\n",
              "      <td>NaN</td>\n",
              "      <td>y</td>\n",
              "      <td>NaN</td>\n",
              "      <td>NaN</td>\n",
              "      <td>f</td>\n",
              "      <td>f</td>\n",
              "      <td>NaN</td>\n",
              "      <td>d</td>\n",
              "      <td>u</td>\n",
              "    </tr>\n",
              "    <tr>\n",
              "      <th>...</th>\n",
              "      <td>...</td>\n",
              "      <td>...</td>\n",
              "      <td>...</td>\n",
              "      <td>...</td>\n",
              "      <td>...</td>\n",
              "      <td>...</td>\n",
              "      <td>...</td>\n",
              "      <td>...</td>\n",
              "      <td>...</td>\n",
              "      <td>...</td>\n",
              "      <td>...</td>\n",
              "      <td>...</td>\n",
              "      <td>...</td>\n",
              "      <td>...</td>\n",
              "      <td>...</td>\n",
              "      <td>...</td>\n",
              "      <td>...</td>\n",
              "      <td>...</td>\n",
              "      <td>...</td>\n",
              "      <td>...</td>\n",
              "    </tr>\n",
              "    <tr>\n",
              "      <th>35814</th>\n",
              "      <td>5.29</td>\n",
              "      <td>x</td>\n",
              "      <td>t</td>\n",
              "      <td>n</td>\n",
              "      <td>f</td>\n",
              "      <td>a</td>\n",
              "      <td>c</td>\n",
              "      <td>n</td>\n",
              "      <td>4.72</td>\n",
              "      <td>5.97</td>\n",
              "      <td>NaN</td>\n",
              "      <td>y</td>\n",
              "      <td>o</td>\n",
              "      <td>NaN</td>\n",
              "      <td>NaN</td>\n",
              "      <td>t</td>\n",
              "      <td>z</td>\n",
              "      <td>NaN</td>\n",
              "      <td>d</td>\n",
              "      <td>w</td>\n",
              "    </tr>\n",
              "    <tr>\n",
              "      <th>59069</th>\n",
              "      <td>5.58</td>\n",
              "      <td>s</td>\n",
              "      <td>k</td>\n",
              "      <td>y</td>\n",
              "      <td>f</td>\n",
              "      <td>p</td>\n",
              "      <td>NaN</td>\n",
              "      <td>n</td>\n",
              "      <td>4.43</td>\n",
              "      <td>6.30</td>\n",
              "      <td>NaN</td>\n",
              "      <td>k</td>\n",
              "      <td>n</td>\n",
              "      <td>NaN</td>\n",
              "      <td>NaN</td>\n",
              "      <td>t</td>\n",
              "      <td>f</td>\n",
              "      <td>NaN</td>\n",
              "      <td>d</td>\n",
              "      <td>u</td>\n",
              "    </tr>\n",
              "    <tr>\n",
              "      <th>20463</th>\n",
              "      <td>7.24</td>\n",
              "      <td>s</td>\n",
              "      <td>d</td>\n",
              "      <td>b</td>\n",
              "      <td>f</td>\n",
              "      <td>d</td>\n",
              "      <td>d</td>\n",
              "      <td>o</td>\n",
              "      <td>5.90</td>\n",
              "      <td>12.81</td>\n",
              "      <td>NaN</td>\n",
              "      <td>NaN</td>\n",
              "      <td>w</td>\n",
              "      <td>NaN</td>\n",
              "      <td>NaN</td>\n",
              "      <td>f</td>\n",
              "      <td>f</td>\n",
              "      <td>NaN</td>\n",
              "      <td>g</td>\n",
              "      <td>w</td>\n",
              "    </tr>\n",
              "    <tr>\n",
              "      <th>18638</th>\n",
              "      <td>7.16</td>\n",
              "      <td>f</td>\n",
              "      <td>y</td>\n",
              "      <td>e</td>\n",
              "      <td>f</td>\n",
              "      <td>s</td>\n",
              "      <td>c</td>\n",
              "      <td>y</td>\n",
              "      <td>6.01</td>\n",
              "      <td>18.75</td>\n",
              "      <td>NaN</td>\n",
              "      <td>y</td>\n",
              "      <td>u</td>\n",
              "      <td>NaN</td>\n",
              "      <td>NaN</td>\n",
              "      <td>f</td>\n",
              "      <td>f</td>\n",
              "      <td>NaN</td>\n",
              "      <td>d</td>\n",
              "      <td>a</td>\n",
              "    </tr>\n",
              "    <tr>\n",
              "      <th>35683</th>\n",
              "      <td>4.48</td>\n",
              "      <td>x</td>\n",
              "      <td>t</td>\n",
              "      <td>o</td>\n",
              "      <td>f</td>\n",
              "      <td>a</td>\n",
              "      <td>c</td>\n",
              "      <td>n</td>\n",
              "      <td>4.78</td>\n",
              "      <td>7.60</td>\n",
              "      <td>NaN</td>\n",
              "      <td>y</td>\n",
              "      <td>o</td>\n",
              "      <td>NaN</td>\n",
              "      <td>NaN</td>\n",
              "      <td>t</td>\n",
              "      <td>z</td>\n",
              "      <td>NaN</td>\n",
              "      <td>d</td>\n",
              "      <td>a</td>\n",
              "    </tr>\n",
              "  </tbody>\n",
              "</table>\n",
              "<p>54962 rows × 20 columns</p>\n",
              "</div>\n",
              "      <button class=\"colab-df-convert\" onclick=\"convertToInteractive('df-d2f5d930-d4c8-4a49-8449-4108711b9f6f')\"\n",
              "              title=\"Convert this dataframe to an interactive table.\"\n",
              "              style=\"display:none;\">\n",
              "        \n",
              "  <svg xmlns=\"http://www.w3.org/2000/svg\" height=\"24px\"viewBox=\"0 0 24 24\"\n",
              "       width=\"24px\">\n",
              "    <path d=\"M0 0h24v24H0V0z\" fill=\"none\"/>\n",
              "    <path d=\"M18.56 5.44l.94 2.06.94-2.06 2.06-.94-2.06-.94-.94-2.06-.94 2.06-2.06.94zm-11 1L8.5 8.5l.94-2.06 2.06-.94-2.06-.94L8.5 2.5l-.94 2.06-2.06.94zm10 10l.94 2.06.94-2.06 2.06-.94-2.06-.94-.94-2.06-.94 2.06-2.06.94z\"/><path d=\"M17.41 7.96l-1.37-1.37c-.4-.4-.92-.59-1.43-.59-.52 0-1.04.2-1.43.59L10.3 9.45l-7.72 7.72c-.78.78-.78 2.05 0 2.83L4 21.41c.39.39.9.59 1.41.59.51 0 1.02-.2 1.41-.59l7.78-7.78 2.81-2.81c.8-.78.8-2.07 0-2.86zM5.41 20L4 18.59l7.72-7.72 1.47 1.35L5.41 20z\"/>\n",
              "  </svg>\n",
              "      </button>\n",
              "      \n",
              "  <style>\n",
              "    .colab-df-container {\n",
              "      display:flex;\n",
              "      flex-wrap:wrap;\n",
              "      gap: 12px;\n",
              "    }\n",
              "\n",
              "    .colab-df-convert {\n",
              "      background-color: #E8F0FE;\n",
              "      border: none;\n",
              "      border-radius: 50%;\n",
              "      cursor: pointer;\n",
              "      display: none;\n",
              "      fill: #1967D2;\n",
              "      height: 32px;\n",
              "      padding: 0 0 0 0;\n",
              "      width: 32px;\n",
              "    }\n",
              "\n",
              "    .colab-df-convert:hover {\n",
              "      background-color: #E2EBFA;\n",
              "      box-shadow: 0px 1px 2px rgba(60, 64, 67, 0.3), 0px 1px 3px 1px rgba(60, 64, 67, 0.15);\n",
              "      fill: #174EA6;\n",
              "    }\n",
              "\n",
              "    [theme=dark] .colab-df-convert {\n",
              "      background-color: #3B4455;\n",
              "      fill: #D2E3FC;\n",
              "    }\n",
              "\n",
              "    [theme=dark] .colab-df-convert:hover {\n",
              "      background-color: #434B5C;\n",
              "      box-shadow: 0px 1px 3px 1px rgba(0, 0, 0, 0.15);\n",
              "      filter: drop-shadow(0px 1px 2px rgba(0, 0, 0, 0.3));\n",
              "      fill: #FFFFFF;\n",
              "    }\n",
              "  </style>\n",
              "\n",
              "      <script>\n",
              "        const buttonEl =\n",
              "          document.querySelector('#df-d2f5d930-d4c8-4a49-8449-4108711b9f6f button.colab-df-convert');\n",
              "        buttonEl.style.display =\n",
              "          google.colab.kernel.accessAllowed ? 'block' : 'none';\n",
              "\n",
              "        async function convertToInteractive(key) {\n",
              "          const element = document.querySelector('#df-d2f5d930-d4c8-4a49-8449-4108711b9f6f');\n",
              "          const dataTable =\n",
              "            await google.colab.kernel.invokeFunction('convertToInteractive',\n",
              "                                                     [key], {});\n",
              "          if (!dataTable) return;\n",
              "\n",
              "          const docLinkHtml = 'Like what you see? Visit the ' +\n",
              "            '<a target=\"_blank\" href=https://colab.research.google.com/notebooks/data_table.ipynb>data table notebook</a>'\n",
              "            + ' to learn more about interactive tables.';\n",
              "          element.innerHTML = '';\n",
              "          dataTable['output_type'] = 'display_data';\n",
              "          await google.colab.output.renderOutput(dataTable, element);\n",
              "          const docLink = document.createElement('div');\n",
              "          docLink.innerHTML = docLinkHtml;\n",
              "          element.appendChild(docLink);\n",
              "        }\n",
              "      </script>\n",
              "    </div>\n",
              "  </div>\n",
              "  "
            ]
          },
          "metadata": {},
          "execution_count": 8
        }
      ]
    },
    {
      "cell_type": "code",
      "source": [
        "X_train, X_validation, y_train, y_validation = train_test_split(X_train_aux, y_train_aux, test_size=0.1, random_state=5)"
      ],
      "metadata": {
        "id": "KRoMc20ySvsZ"
      },
      "execution_count": null,
      "outputs": []
    },
    {
      "cell_type": "code",
      "source": [
        "print(X_train.info(), X_validation.info(), X_test.info())"
      ],
      "metadata": {
        "colab": {
          "base_uri": "https://localhost:8080/"
        },
        "id": "0JsEKP78VVs7",
        "outputId": "99cd59f2-0fd5-4e61-ae4c-9bb54cae1380"
      },
      "execution_count": null,
      "outputs": [
        {
          "output_type": "stream",
          "name": "stdout",
          "text": [
            "<class 'pandas.core.frame.DataFrame'>\n",
            "Int64Index: 49465 entries, 34760 to 57712\n",
            "Data columns (total 20 columns):\n",
            " #   Column                Non-Null Count  Dtype  \n",
            "---  ------                --------------  -----  \n",
            " 0   cap-diameter          49465 non-null  float64\n",
            " 1   cap-shape             49465 non-null  object \n",
            " 2   cap-surface           37940 non-null  object \n",
            " 3   cap-color             49465 non-null  object \n",
            " 4   does-bruise-or-bleed  49465 non-null  object \n",
            " 5   gill-attachment       41413 non-null  object \n",
            " 6   gill-spacing          29137 non-null  object \n",
            " 7   gill-color            49465 non-null  object \n",
            " 8   stem-height           49465 non-null  float64\n",
            " 9   stem-width            49465 non-null  float64\n",
            " 10  stem-root             7755 non-null   object \n",
            " 11  stem-surface          18525 non-null  object \n",
            " 12  stem-color            49465 non-null  object \n",
            " 13  veil-type             2598 non-null   object \n",
            " 14  veil-color            6043 non-null   object \n",
            " 15  has-ring              49465 non-null  object \n",
            " 16  ring-type             47450 non-null  object \n",
            " 17  spore-print-color     5149 non-null   object \n",
            " 18  habitat               49465 non-null  object \n",
            " 19  season                49465 non-null  object \n",
            "dtypes: float64(3), object(17)\n",
            "memory usage: 7.9+ MB\n",
            "<class 'pandas.core.frame.DataFrame'>\n",
            "Int64Index: 5497 entries, 35132 to 58126\n",
            "Data columns (total 20 columns):\n",
            " #   Column                Non-Null Count  Dtype  \n",
            "---  ------                --------------  -----  \n",
            " 0   cap-diameter          5497 non-null   float64\n",
            " 1   cap-shape             5497 non-null   object \n",
            " 2   cap-surface           4303 non-null   object \n",
            " 3   cap-color             5497 non-null   object \n",
            " 4   does-bruise-or-bleed  5497 non-null   object \n",
            " 5   gill-attachment       4620 non-null   object \n",
            " 6   gill-spacing          3258 non-null   object \n",
            " 7   gill-color            5497 non-null   object \n",
            " 8   stem-height           5497 non-null   float64\n",
            " 9   stem-width            5497 non-null   float64\n",
            " 10  stem-root             837 non-null    object \n",
            " 11  stem-surface          2069 non-null   object \n",
            " 12  stem-color            5497 non-null   object \n",
            " 13  veil-type             261 non-null    object \n",
            " 14  veil-color            628 non-null    object \n",
            " 15  has-ring              5497 non-null   object \n",
            " 16  ring-type             5253 non-null   object \n",
            " 17  spore-print-color     562 non-null    object \n",
            " 18  habitat               5497 non-null   object \n",
            " 19  season                5497 non-null   object \n",
            "dtypes: float64(3), object(17)\n",
            "memory usage: 901.9+ KB\n",
            "<class 'pandas.core.frame.DataFrame'>\n",
            "Int64Index: 6107 entries, 39238 to 18221\n",
            "Data columns (total 20 columns):\n",
            " #   Column                Non-Null Count  Dtype  \n",
            "---  ------                --------------  -----  \n",
            " 0   cap-diameter          6107 non-null   float64\n",
            " 1   cap-shape             6107 non-null   object \n",
            " 2   cap-surface           4706 non-null   object \n",
            " 3   cap-color             6107 non-null   object \n",
            " 4   does-bruise-or-bleed  6107 non-null   object \n",
            " 5   gill-attachment       5152 non-null   object \n",
            " 6   gill-spacing          3611 non-null   object \n",
            " 7   gill-color            6107 non-null   object \n",
            " 8   stem-height           6107 non-null   float64\n",
            " 9   stem-width            6107 non-null   float64\n",
            " 10  stem-root             939 non-null    object \n",
            " 11  stem-surface          2351 non-null   object \n",
            " 12  stem-color            6107 non-null   object \n",
            " 13  veil-type             318 non-null    object \n",
            " 14  veil-color            742 non-null    object \n",
            " 15  has-ring              6107 non-null   object \n",
            " 16  ring-type             5895 non-null   object \n",
            " 17  spore-print-color     643 non-null    object \n",
            " 18  habitat               6107 non-null   object \n",
            " 19  season                6107 non-null   object \n",
            "dtypes: float64(3), object(17)\n",
            "memory usage: 1001.9+ KB\n",
            "None None None\n"
          ]
        }
      ]
    },
    {
      "cell_type": "markdown",
      "source": [
        "#Feature Engineering y Encoding"
      ],
      "metadata": {
        "id": "fFkvzKHQBPmU"
      }
    },
    {
      "cell_type": "markdown",
      "source": [
        "##Relleno los NaNs"
      ],
      "metadata": {
        "id": "vck1ukMxCUoE"
      }
    },
    {
      "cell_type": "markdown",
      "source": [
        "###Relleno NaNs en X_train"
      ],
      "metadata": {
        "id": "KJUGn2XBK76a"
      }
    },
    {
      "cell_type": "code",
      "source": [
        "X_train.info()"
      ],
      "metadata": {
        "colab": {
          "base_uri": "https://localhost:8080/"
        },
        "id": "lG4J5dc-BfNc",
        "outputId": "c4d9c482-d18a-4939-f3cc-fca7715ef12d"
      },
      "execution_count": null,
      "outputs": [
        {
          "output_type": "stream",
          "name": "stdout",
          "text": [
            "<class 'pandas.core.frame.DataFrame'>\n",
            "Int64Index: 49465 entries, 34760 to 57712\n",
            "Data columns (total 20 columns):\n",
            " #   Column                Non-Null Count  Dtype  \n",
            "---  ------                --------------  -----  \n",
            " 0   cap-diameter          49465 non-null  float64\n",
            " 1   cap-shape             49465 non-null  object \n",
            " 2   cap-surface           37940 non-null  object \n",
            " 3   cap-color             49465 non-null  object \n",
            " 4   does-bruise-or-bleed  49465 non-null  object \n",
            " 5   gill-attachment       41413 non-null  object \n",
            " 6   gill-spacing          29137 non-null  object \n",
            " 7   gill-color            49465 non-null  object \n",
            " 8   stem-height           49465 non-null  float64\n",
            " 9   stem-width            49465 non-null  float64\n",
            " 10  stem-root             7755 non-null   object \n",
            " 11  stem-surface          18525 non-null  object \n",
            " 12  stem-color            49465 non-null  object \n",
            " 13  veil-type             2598 non-null   object \n",
            " 14  veil-color            6043 non-null   object \n",
            " 15  has-ring              49465 non-null  object \n",
            " 16  ring-type             47450 non-null  object \n",
            " 17  spore-print-color     5149 non-null   object \n",
            " 18  habitat               49465 non-null  object \n",
            " 19  season                49465 non-null  object \n",
            "dtypes: float64(3), object(17)\n",
            "memory usage: 7.9+ MB\n"
          ]
        }
      ]
    },
    {
      "cell_type": "markdown",
      "source": [
        "Con esta información puedo ver qué columnas tienen NaNs y cuántos tienen."
      ],
      "metadata": {
        "id": "1Vx81Q0dKgAw"
      }
    },
    {
      "cell_type": "code",
      "source": [
        "#En cap-surface tengo 11525 NaNs y en la documentación del dataset no hace referencia a que signifique nada particular\n",
        "print(X_train.groupby(\"cap-surface\").size())\n",
        "#Los relleno con una nueva categoria \"Unknown\"\n",
        "X_train[\"cap-surface\"] = X_train[\"cap-surface\"].fillna(\"unknown\")"
      ],
      "metadata": {
        "colab": {
          "base_uri": "https://localhost:8080/"
        },
        "id": "6qXtO78ZLALi",
        "outputId": "f12bd1e6-9e31-497a-fa3d-bdd397956fc7"
      },
      "execution_count": null,
      "outputs": [
        {
          "output_type": "stream",
          "name": "stdout",
          "text": [
            "cap-surface\n",
            "d    3524\n",
            "e    2112\n",
            "g    3806\n",
            "h    4014\n",
            "i    1806\n",
            "k    1852\n",
            "l    1153\n",
            "s    6167\n",
            "t    6629\n",
            "w    1753\n",
            "y    5124\n",
            "dtype: int64\n"
          ]
        }
      ]
    },
    {
      "cell_type": "code",
      "source": [
        "#gill-attachment (8052 NaNs)\n",
        "print(X_train.groupby(\"gill-attachment\").size())\n",
        "#Los relleno con \"Unknown\"\n",
        "X_train[\"gill-attachment\"] = X_train[\"gill-attachment\"].fillna(\"unknown\")"
      ],
      "metadata": {
        "colab": {
          "base_uri": "https://localhost:8080/"
        },
        "id": "HaKwq45CN9PB",
        "outputId": "63617139-199b-43be-e1d0-c4092adf77fe"
      },
      "execution_count": null,
      "outputs": [
        {
          "output_type": "stream",
          "name": "stdout",
          "text": [
            "gill-attachment\n",
            "a    10279\n",
            "d     8281\n",
            "e     4591\n",
            "f     2862\n",
            "p     4805\n",
            "s     4590\n",
            "x     6005\n",
            "dtype: int64\n"
          ]
        }
      ]
    },
    {
      "cell_type": "code",
      "source": [
        "#gill-spacing (20328 NaNs)\n",
        "print(X_train.groupby(\"gill-spacing\").size())\n",
        "X_train[\"gill-spacing\"] = X_train[\"gill-spacing\"].fillna(\"unknown\")"
      ],
      "metadata": {
        "colab": {
          "base_uri": "https://localhost:8080/"
        },
        "id": "77OrJtPzO1UY",
        "outputId": "c045706a-f05d-4023-b7cf-e8a83d77d045"
      },
      "execution_count": null,
      "outputs": [
        {
          "output_type": "stream",
          "name": "stdout",
          "text": [
            "gill-spacing\n",
            "c    20024\n",
            "d     6251\n",
            "f     2862\n",
            "dtype: int64\n"
          ]
        }
      ]
    },
    {
      "cell_type": "code",
      "source": [
        "#stem-root (41710 NaNs)\n",
        "print(X_train.groupby(\"stem-root\").size())\n",
        "X_train[\"stem-root\"] = X_train[\"stem-root\"].fillna(\"unknown\")"
      ],
      "metadata": {
        "colab": {
          "base_uri": "https://localhost:8080/"
        },
        "id": "5ztkBqzNSQL5",
        "outputId": "cab42ece-b44a-4a8f-e804-ddfb19becb92"
      },
      "execution_count": null,
      "outputs": [
        {
          "output_type": "stream",
          "name": "stdout",
          "text": [
            "stem-root\n",
            "b    2602\n",
            "c     568\n",
            "f     848\n",
            "r    1144\n",
            "s    2593\n",
            "dtype: int64\n"
          ]
        }
      ]
    },
    {
      "cell_type": "code",
      "source": [
        "#stem-surface (30940 NaNs)\n",
        "print(X_train.groupby(\"stem-surface\").size())\n",
        "X_train[\"stem-surface\"] = X_train[\"stem-surface\"].fillna(\"unknown\")"
      ],
      "metadata": {
        "colab": {
          "base_uri": "https://localhost:8080/"
        },
        "id": "4s7ThtxhSd68",
        "outputId": "3b872275-d36a-43ec-c303-d596834a36e4"
      },
      "execution_count": null,
      "outputs": [
        {
          "output_type": "stream",
          "name": "stdout",
          "text": [
            "stem-surface\n",
            "f     848\n",
            "g    1438\n",
            "h     424\n",
            "i    3535\n",
            "k    1266\n",
            "s    4862\n",
            "t    2143\n",
            "y    4009\n",
            "dtype: int64\n"
          ]
        }
      ]
    },
    {
      "cell_type": "code",
      "source": [
        "#veil-type (46867 NaNs) Dado que solo hay de tipo u=universal, se asume que los NaNs=partial por lo que se reemplazan con p\n",
        "print(X_train.groupby(\"veil-type\").size())\n",
        "X_train[\"veil-type\"] = X_train[\"veil-type\"].fillna(\"p\")"
      ],
      "metadata": {
        "colab": {
          "base_uri": "https://localhost:8080/"
        },
        "id": "6dJt69Q7S_Vw",
        "outputId": "9b277162-9c81-41c0-9d90-2d364202405f"
      },
      "execution_count": null,
      "outputs": [
        {
          "output_type": "stream",
          "name": "stdout",
          "text": [
            "veil-type\n",
            "u    2598\n",
            "dtype: int64\n"
          ]
        }
      ]
    },
    {
      "cell_type": "code",
      "source": [
        "#veil-color (43422 NaNs) Como según el dataset f=none, NaN podría ser Unknown\n",
        "print(X_train.groupby(\"veil-color\").size())\n",
        "X_train[\"veil-color\"] = X_train[\"veil-color\"].fillna(\"unknown\")"
      ],
      "metadata": {
        "colab": {
          "base_uri": "https://localhost:8080/"
        },
        "id": "ofgdeMpHTtMA",
        "outputId": "102393e9-eac3-4db9-8f74-b5134b22fc34"
      },
      "execution_count": null,
      "outputs": [
        {
          "output_type": "stream",
          "name": "stdout",
          "text": [
            "veil-color\n",
            "e     151\n",
            "k     292\n",
            "n     416\n",
            "u     286\n",
            "w    4465\n",
            "y     433\n",
            "dtype: int64\n"
          ]
        }
      ]
    },
    {
      "cell_type": "code",
      "source": [
        "#ring-type (1974 NaNs) Como f representa casi el total, puedo reemplazar los \"pocos\" faltantes por f,\n",
        "#además el dataset indica que los NaNs hacen referencia a que no se sabe el tipo de dato, por lo que no está mal rellenarlo.\n",
        "print(X_train.groupby(\"ring-type\").size())\n",
        "X_train[\"ring-type\"] = X_train[\"ring-type\"].fillna(\"f\")"
      ],
      "metadata": {
        "colab": {
          "base_uri": "https://localhost:8080/"
        },
        "id": "-jHXwFrGUdII",
        "outputId": "601e163b-9f6e-45a8-ccfd-4f650598b522"
      },
      "execution_count": null,
      "outputs": [
        {
          "output_type": "stream",
          "name": "stdout",
          "text": [
            "ring-type\n",
            "e     1959\n",
            "f    39108\n",
            "g     1025\n",
            "l     1165\n",
            "m      292\n",
            "p     1035\n",
            "r     1155\n",
            "z     1711\n",
            "dtype: int64\n"
          ]
        }
      ]
    },
    {
      "cell_type": "code",
      "source": [
        "#spore-print-color (44316 NaNs)\n",
        "print(X_train.groupby(\"spore-print-color\").size())\n",
        "#Podria intentar rellenarlo aleatoriamente con fillna(method='ffill'), pero hay demasiados NaNs, por lo que uso \"unknown\"\n",
        "X_train[\"spore-print-color\"] = X_train[\"spore-print-color\"].fillna(\"unknown\")"
      ],
      "metadata": {
        "colab": {
          "base_uri": "https://localhost:8080/"
        },
        "id": "-OlFgUqrVtko",
        "outputId": "1524bdd9-e989-4466-c97a-94dc7d458c03"
      },
      "execution_count": null,
      "outputs": [
        {
          "output_type": "stream",
          "name": "stdout",
          "text": [
            "spore-print-color\n",
            "g     294\n",
            "k    1715\n",
            "n     852\n",
            "p    1013\n",
            "r     140\n",
            "u     152\n",
            "w     983\n",
            "dtype: int64\n"
          ]
        }
      ]
    },
    {
      "cell_type": "code",
      "source": [
        "X_train.info()"
      ],
      "metadata": {
        "colab": {
          "base_uri": "https://localhost:8080/"
        },
        "id": "An-n0yk6NmC0",
        "outputId": "76be44f5-4f36-48a8-9e2e-81bf1893352a"
      },
      "execution_count": null,
      "outputs": [
        {
          "output_type": "stream",
          "name": "stdout",
          "text": [
            "<class 'pandas.core.frame.DataFrame'>\n",
            "Int64Index: 49465 entries, 34760 to 57712\n",
            "Data columns (total 20 columns):\n",
            " #   Column                Non-Null Count  Dtype  \n",
            "---  ------                --------------  -----  \n",
            " 0   cap-diameter          49465 non-null  float64\n",
            " 1   cap-shape             49465 non-null  object \n",
            " 2   cap-surface           49465 non-null  object \n",
            " 3   cap-color             49465 non-null  object \n",
            " 4   does-bruise-or-bleed  49465 non-null  object \n",
            " 5   gill-attachment       49465 non-null  object \n",
            " 6   gill-spacing          49465 non-null  object \n",
            " 7   gill-color            49465 non-null  object \n",
            " 8   stem-height           49465 non-null  float64\n",
            " 9   stem-width            49465 non-null  float64\n",
            " 10  stem-root             49465 non-null  object \n",
            " 11  stem-surface          49465 non-null  object \n",
            " 12  stem-color            49465 non-null  object \n",
            " 13  veil-type             49465 non-null  object \n",
            " 14  veil-color            49465 non-null  object \n",
            " 15  has-ring              49465 non-null  object \n",
            " 16  ring-type             49465 non-null  object \n",
            " 17  spore-print-color     49465 non-null  object \n",
            " 18  habitat               49465 non-null  object \n",
            " 19  season                49465 non-null  object \n",
            "dtypes: float64(3), object(17)\n",
            "memory usage: 7.9+ MB\n"
          ]
        }
      ]
    },
    {
      "cell_type": "markdown",
      "source": [
        "Entonces ahora se puede ver que el dataset X_train ya no tiene valores NaNs"
      ],
      "metadata": {
        "id": "GIfS8-xxGKB-"
      }
    },
    {
      "cell_type": "markdown",
      "source": [
        "### Relleno los NaNs en X_validation"
      ],
      "metadata": {
        "id": "0P_Yk55CUMxc"
      }
    },
    {
      "cell_type": "code",
      "source": [
        "X_validation[\"cap-surface\"] = X_validation[\"cap-surface\"].fillna(\"unknown\")\n",
        "X_validation[\"gill-attachment\"] = X_validation[\"gill-attachment\"].fillna(\"unknown\")\n",
        "X_validation[\"gill-spacing\"] = X_validation[\"gill-spacing\"].fillna(\"unknown\")\n",
        "X_validation[\"stem-root\"] = X_validation[\"stem-root\"].fillna(\"unknown\")\n",
        "X_validation[\"stem-surface\"] = X_validation[\"stem-surface\"].fillna(\"unknown\")\n",
        "X_validation[\"veil-type\"] = X_validation[\"veil-type\"].fillna(\"p\")\n",
        "X_validation[\"veil-color\"] = X_validation[\"veil-color\"].fillna(\"unknown\")\n",
        "X_validation[\"ring-type\"] = X_validation[\"ring-type\"].fillna(\"f\")\n",
        "X_validation[\"spore-print-color\"] = X_validation[\"spore-print-color\"].fillna(\"unknown\")"
      ],
      "metadata": {
        "id": "Kilw06Y6Uioe"
      },
      "execution_count": null,
      "outputs": []
    },
    {
      "cell_type": "code",
      "source": [
        "X_validation.info()"
      ],
      "metadata": {
        "colab": {
          "base_uri": "https://localhost:8080/"
        },
        "id": "aN_8FUUtVvPM",
        "outputId": "ac60b648-a67b-4186-fb1d-8358efa633c1"
      },
      "execution_count": null,
      "outputs": [
        {
          "output_type": "stream",
          "name": "stdout",
          "text": [
            "<class 'pandas.core.frame.DataFrame'>\n",
            "Int64Index: 5497 entries, 35132 to 58126\n",
            "Data columns (total 20 columns):\n",
            " #   Column                Non-Null Count  Dtype  \n",
            "---  ------                --------------  -----  \n",
            " 0   cap-diameter          5497 non-null   float64\n",
            " 1   cap-shape             5497 non-null   object \n",
            " 2   cap-surface           5497 non-null   object \n",
            " 3   cap-color             5497 non-null   object \n",
            " 4   does-bruise-or-bleed  5497 non-null   object \n",
            " 5   gill-attachment       5497 non-null   object \n",
            " 6   gill-spacing          5497 non-null   object \n",
            " 7   gill-color            5497 non-null   object \n",
            " 8   stem-height           5497 non-null   float64\n",
            " 9   stem-width            5497 non-null   float64\n",
            " 10  stem-root             5497 non-null   object \n",
            " 11  stem-surface          5497 non-null   object \n",
            " 12  stem-color            5497 non-null   object \n",
            " 13  veil-type             5497 non-null   object \n",
            " 14  veil-color            5497 non-null   object \n",
            " 15  has-ring              5497 non-null   object \n",
            " 16  ring-type             5497 non-null   object \n",
            " 17  spore-print-color     5497 non-null   object \n",
            " 18  habitat               5497 non-null   object \n",
            " 19  season                5497 non-null   object \n",
            "dtypes: float64(3), object(17)\n",
            "memory usage: 901.9+ KB\n"
          ]
        }
      ]
    },
    {
      "cell_type": "markdown",
      "source": [
        "###Relleno los NaNs en X_test"
      ],
      "metadata": {
        "id": "XTHBfLQkGynh"
      }
    },
    {
      "cell_type": "markdown",
      "source": [
        "Ahora relleno los NaNs de X_test (Se hace por separado para que no se pueda filtrar información del train_set al test_set)"
      ],
      "metadata": {
        "id": "gUyxHMBcEpEn"
      }
    },
    {
      "cell_type": "code",
      "source": [
        "print(X_test.groupby(\"cap-surface\").size())\n",
        "#Los relleno con una nueva categoria \"Unknown\"\n",
        "X_test[\"cap-surface\"] = X_test[\"cap-surface\"].fillna(\"unknown\")"
      ],
      "metadata": {
        "colab": {
          "base_uri": "https://localhost:8080/"
        },
        "id": "Pcf0coq-Enle",
        "outputId": "e6f3e34d-f0d8-4f33-b15a-3f7b2e689009"
      },
      "execution_count": null,
      "outputs": [
        {
          "output_type": "stream",
          "name": "stdout",
          "text": [
            "cap-surface\n",
            "d    467\n",
            "e    250\n",
            "g    479\n",
            "h    504\n",
            "i    212\n",
            "k    224\n",
            "l    139\n",
            "s    784\n",
            "t    820\n",
            "w    200\n",
            "y    627\n",
            "dtype: int64\n"
          ]
        }
      ]
    },
    {
      "cell_type": "code",
      "source": [
        "print(X_test.groupby(\"gill-attachment\").size())\n",
        "#Los relleno con \"Unknown\"\n",
        "X_test[\"gill-attachment\"] = X_test[\"gill-attachment\"].fillna(\"unknown\")"
      ],
      "metadata": {
        "colab": {
          "base_uri": "https://localhost:8080/"
        },
        "id": "PQ_5FXsAE-BO",
        "outputId": "0e442d46-9a8d-4ebd-b4b2-093781193f84"
      },
      "execution_count": null,
      "outputs": [
        {
          "output_type": "stream",
          "name": "stdout",
          "text": [
            "gill-attachment\n",
            "a    1292\n",
            "d    1030\n",
            "e     572\n",
            "f     365\n",
            "p     620\n",
            "s     553\n",
            "x     720\n",
            "dtype: int64\n"
          ]
        }
      ]
    },
    {
      "cell_type": "code",
      "source": [
        "print(X_test.groupby(\"gill-spacing\").size())\n",
        "X_test[\"gill-spacing\"] = X_test[\"gill-spacing\"].fillna(\"unknown\")"
      ],
      "metadata": {
        "colab": {
          "base_uri": "https://localhost:8080/"
        },
        "id": "aXr2tPgHFMc0",
        "outputId": "db5909cb-6e07-4e2c-9b3a-5872b029b9e0"
      },
      "execution_count": null,
      "outputs": [
        {
          "output_type": "stream",
          "name": "stdout",
          "text": [
            "gill-spacing\n",
            "c    2462\n",
            "d     784\n",
            "f     365\n",
            "dtype: int64\n"
          ]
        }
      ]
    },
    {
      "cell_type": "code",
      "source": [
        "print(X_test.groupby(\"stem-root\").size())\n",
        "X_test[\"stem-root\"] = X_test[\"stem-root\"].fillna(\"unknown\")"
      ],
      "metadata": {
        "colab": {
          "base_uri": "https://localhost:8080/"
        },
        "id": "iS9iuZuhFUFi",
        "outputId": "7afd6cf4-ceee-4e34-eb2d-25923d20e2d1"
      },
      "execution_count": null,
      "outputs": [
        {
          "output_type": "stream",
          "name": "stdout",
          "text": [
            "stem-root\n",
            "b    289\n",
            "c     78\n",
            "f    125\n",
            "r    132\n",
            "s    315\n",
            "dtype: int64\n"
          ]
        }
      ]
    },
    {
      "cell_type": "code",
      "source": [
        "print(X_test.groupby(\"stem-surface\").size())\n",
        "X_test[\"stem-surface\"] = X_test[\"stem-surface\"].fillna(\"unknown\")"
      ],
      "metadata": {
        "colab": {
          "base_uri": "https://localhost:8080/"
        },
        "id": "uHOuC5xtFd9z",
        "outputId": "37ec4402-829d-4dfc-e3de-f93a94707fb5"
      },
      "execution_count": null,
      "outputs": [
        {
          "output_type": "stream",
          "name": "stdout",
          "text": [
            "stem-surface\n",
            "f    125\n",
            "g    173\n",
            "h     69\n",
            "i    445\n",
            "k    158\n",
            "s    630\n",
            "t    260\n",
            "y    491\n",
            "dtype: int64\n"
          ]
        }
      ]
    },
    {
      "cell_type": "code",
      "source": [
        "print(X_test.groupby(\"veil-type\").size())\n",
        "X_test[\"veil-type\"] = X_test[\"veil-type\"].fillna(\"p\")"
      ],
      "metadata": {
        "colab": {
          "base_uri": "https://localhost:8080/"
        },
        "id": "CcfD9mrbFkUh",
        "outputId": "624cb0d2-9750-42d9-fa7e-ef4675c28ae3"
      },
      "execution_count": null,
      "outputs": [
        {
          "output_type": "stream",
          "name": "stdout",
          "text": [
            "veil-type\n",
            "u    318\n",
            "dtype: int64\n"
          ]
        }
      ]
    },
    {
      "cell_type": "code",
      "source": [
        "print(X_test.groupby(\"veil-color\").size())\n",
        "X_test[\"veil-color\"] = X_test[\"veil-color\"].fillna(\"unknown\")"
      ],
      "metadata": {
        "colab": {
          "base_uri": "https://localhost:8080/"
        },
        "id": "aQaPpUvxFtB3",
        "outputId": "4e5c39c0-dbdb-4b9f-d465-57c9a4e0d42b"
      },
      "execution_count": null,
      "outputs": [
        {
          "output_type": "stream",
          "name": "stdout",
          "text": [
            "veil-color\n",
            "e     14\n",
            "k     32\n",
            "n     68\n",
            "u     38\n",
            "w    550\n",
            "y     40\n",
            "dtype: int64\n"
          ]
        }
      ]
    },
    {
      "cell_type": "code",
      "source": [
        "print(X_test.groupby(\"ring-type\").size())\n",
        "X_test[\"ring-type\"] = X_test[\"ring-type\"].fillna(\"f\")"
      ],
      "metadata": {
        "colab": {
          "base_uri": "https://localhost:8080/"
        },
        "id": "8iHoGu1uF2H2",
        "outputId": "ef2fa9e8-a5a9-4dd3-cbb3-5edc2a590822"
      },
      "execution_count": null,
      "outputs": [
        {
          "output_type": "stream",
          "name": "stdout",
          "text": [
            "ring-type\n",
            "e     257\n",
            "f    4860\n",
            "g     120\n",
            "l     145\n",
            "m      30\n",
            "p     119\n",
            "r     132\n",
            "z     232\n",
            "dtype: int64\n"
          ]
        }
      ]
    },
    {
      "cell_type": "code",
      "source": [
        "print(X_test.groupby(\"spore-print-color\").size())\n",
        "X_test[\"spore-print-color\"] = X_test[\"spore-print-color\"].fillna(\"unknown\")"
      ],
      "metadata": {
        "colab": {
          "base_uri": "https://localhost:8080/"
        },
        "id": "McW_A4_zF75H",
        "outputId": "500a7a02-97db-499d-a47c-a44569fd3308"
      },
      "execution_count": null,
      "outputs": [
        {
          "output_type": "stream",
          "name": "stdout",
          "text": [
            "spore-print-color\n",
            "g     34\n",
            "k    225\n",
            "n    105\n",
            "p    132\n",
            "r     17\n",
            "u     16\n",
            "w    114\n",
            "dtype: int64\n"
          ]
        }
      ]
    },
    {
      "cell_type": "code",
      "source": [
        "X_test.info()"
      ],
      "metadata": {
        "colab": {
          "base_uri": "https://localhost:8080/"
        },
        "id": "PDANDb2QGVlD",
        "outputId": "b638775f-b099-4d7a-8444-fcd4a9cc38d6"
      },
      "execution_count": null,
      "outputs": [
        {
          "output_type": "stream",
          "name": "stdout",
          "text": [
            "<class 'pandas.core.frame.DataFrame'>\n",
            "Int64Index: 6107 entries, 39238 to 18221\n",
            "Data columns (total 20 columns):\n",
            " #   Column                Non-Null Count  Dtype  \n",
            "---  ------                --------------  -----  \n",
            " 0   cap-diameter          6107 non-null   float64\n",
            " 1   cap-shape             6107 non-null   object \n",
            " 2   cap-surface           6107 non-null   object \n",
            " 3   cap-color             6107 non-null   object \n",
            " 4   does-bruise-or-bleed  6107 non-null   object \n",
            " 5   gill-attachment       6107 non-null   object \n",
            " 6   gill-spacing          6107 non-null   object \n",
            " 7   gill-color            6107 non-null   object \n",
            " 8   stem-height           6107 non-null   float64\n",
            " 9   stem-width            6107 non-null   float64\n",
            " 10  stem-root             6107 non-null   object \n",
            " 11  stem-surface          6107 non-null   object \n",
            " 12  stem-color            6107 non-null   object \n",
            " 13  veil-type             6107 non-null   object \n",
            " 14  veil-color            6107 non-null   object \n",
            " 15  has-ring              6107 non-null   object \n",
            " 16  ring-type             6107 non-null   object \n",
            " 17  spore-print-color     6107 non-null   object \n",
            " 18  habitat               6107 non-null   object \n",
            " 19  season                6107 non-null   object \n",
            "dtypes: float64(3), object(17)\n",
            "memory usage: 1001.9+ KB\n"
          ]
        }
      ]
    },
    {
      "cell_type": "markdown",
      "source": [
        "##Encodeo los features"
      ],
      "metadata": {
        "id": "rRoovFXBDfxi"
      }
    },
    {
      "cell_type": "markdown",
      "source": [
        "Uso BinaryEncoding para aquellas columnas que tienen muchas categorías diferentes (como los colores) y OneHotEncoding para aquellas que no"
      ],
      "metadata": {
        "id": "iAp0VxI9pbXM"
      }
    },
    {
      "cell_type": "code",
      "source": [
        "def hot_encode(column_name, train_set, validation_set, test_set):\n",
        "  ohe = OneHotEncoder() #drop='first'\n",
        "\n",
        "  encoded_matrix = ohe.fit_transform(X_train[[column_name]]).todense().astype(int)\n",
        "  encoded_matrix_validation = ohe.transform(X_validation[[column_name]]).todense().astype(int)\n",
        "  encoded_matrix_test = ohe.transform(X_test[[column_name]]).todense().astype(int)\n",
        "\n",
        "  train_set = train_set.reset_index().drop(['index', column_name],axis=1).join(pd.DataFrame(encoded_matrix, columns=list(ohe.get_feature_names_out())))\n",
        "  validation_set = validation_set.reset_index().drop(['index', column_name],axis=1).join(pd.DataFrame(encoded_matrix_validation, columns=list(ohe.get_feature_names_out())))\n",
        "  test_set = test_set.reset_index().drop(['index', column_name],axis=1).join(pd.DataFrame(encoded_matrix_test, columns=list(ohe.get_feature_names_out())))\n",
        "\n",
        "  return train_set, validation_set, test_set\n",
        "\n",
        "\n",
        "def binary_encode(column_name, train_set, validation_set, test_set):\n",
        "  binary_encoder = BinaryEncoder()\n",
        "\n",
        "  encoded_column = binary_encoder.fit_transform(train_set[[column_name]]).astype(int)\n",
        "  encoded_column_validation = binary_encoder.transform(validation_set[[column_name]]).astype(int)\n",
        "  encoded_column_test = binary_encoder.transform(test_set[[column_name]]).astype(int)\n",
        "\n",
        "  train_set = train_set.drop(columns=[column_name])\n",
        "  train_set = train_set.join(encoded_column)\n",
        "\n",
        "  validation_set = validation_set.drop(columns=[column_name])\n",
        "  validation_set = validation_set.join(encoded_column_validation)\n",
        "\n",
        "  test_set = test_set.drop(columns=[column_name])\n",
        "  test_set = test_set.join(encoded_column_test)\n",
        "\n",
        "  return train_set, validation_set, test_set"
      ],
      "metadata": {
        "id": "0DY8Wx-84ms4"
      },
      "execution_count": null,
      "outputs": []
    },
    {
      "cell_type": "code",
      "source": [
        "X_train, X_validation, X_test = binary_encode(\"cap-color\", X_train, X_validation, X_test)\n",
        "X_train, X_validation, X_test = binary_encode(\"gill-color\", X_train, X_validation, X_test)\n",
        "X_train, X_validation, X_test = binary_encode(\"spore-print-color\", X_train, X_validation, X_test)\n",
        "X_train, X_validation, X_test = binary_encode(\"stem-color\", X_train, X_validation, X_test)\n",
        "\n",
        "X_train, X_validation, X_test = hot_encode(\"cap-shape\", X_train, X_validation, X_test)\n",
        "X_train, X_validation, X_test = hot_encode(\"cap-surface\", X_train, X_validation, X_test)\n",
        "X_train, X_validation, X_test = hot_encode(\"does-bruise-or-bleed\", X_train, X_validation, X_test)\n",
        "X_train, X_validation, X_test = hot_encode(\"gill-attachment\", X_train, X_validation, X_test)\n",
        "X_train, X_validation, X_test = hot_encode(\"gill-spacing\", X_train, X_validation, X_test)\n",
        "X_train, X_validation, X_test = hot_encode(\"stem-root\", X_train, X_validation, X_test)\n",
        "X_train, X_validation, X_test = hot_encode(\"stem-surface\", X_train, X_validation, X_test)\n",
        "X_train, X_validation, X_test = hot_encode(\"veil-type\", X_train, X_validation, X_test)\n",
        "X_train, X_validation, X_test = hot_encode(\"veil-color\", X_train, X_validation, X_test)\n",
        "X_train, X_validation, X_test = hot_encode(\"has-ring\", X_train, X_validation, X_test)\n",
        "X_train, X_validation, X_test = hot_encode(\"ring-type\", X_train, X_validation, X_test)\n",
        "X_train, X_validation, X_test = hot_encode(\"habitat\", X_train, X_validation, X_test)\n",
        "X_train, X_validation, X_test = hot_encode(\"season\", X_train, X_validation, X_test)\n"
      ],
      "metadata": {
        "id": "QfQgGnAO5-8_"
      },
      "execution_count": null,
      "outputs": []
    },
    {
      "cell_type": "code",
      "source": [
        "X_train.info()"
      ],
      "metadata": {
        "colab": {
          "base_uri": "https://localhost:8080/"
        },
        "id": "90QUFa5fK0PL",
        "outputId": "f2dd1f8c-cba2-4d88-fa7d-910737784ba2"
      },
      "execution_count": null,
      "outputs": [
        {
          "output_type": "stream",
          "name": "stdout",
          "text": [
            "<class 'pandas.core.frame.DataFrame'>\n",
            "RangeIndex: 49465 entries, 0 to 49464\n",
            "Data columns (total 98 columns):\n",
            " #   Column                   Non-Null Count  Dtype  \n",
            "---  ------                   --------------  -----  \n",
            " 0   cap-diameter             49465 non-null  float64\n",
            " 1   stem-height              49465 non-null  float64\n",
            " 2   stem-width               49465 non-null  float64\n",
            " 3   cap-color_0              49465 non-null  int64  \n",
            " 4   cap-color_1              49465 non-null  int64  \n",
            " 5   cap-color_2              49465 non-null  int64  \n",
            " 6   cap-color_3              49465 non-null  int64  \n",
            " 7   gill-color_0             49465 non-null  int64  \n",
            " 8   gill-color_1             49465 non-null  int64  \n",
            " 9   gill-color_2             49465 non-null  int64  \n",
            " 10  gill-color_3             49465 non-null  int64  \n",
            " 11  spore-print-color_0      49465 non-null  int64  \n",
            " 12  spore-print-color_1      49465 non-null  int64  \n",
            " 13  spore-print-color_2      49465 non-null  int64  \n",
            " 14  spore-print-color_3      49465 non-null  int64  \n",
            " 15  stem-color_0             49465 non-null  int64  \n",
            " 16  stem-color_1             49465 non-null  int64  \n",
            " 17  stem-color_2             49465 non-null  int64  \n",
            " 18  stem-color_3             49465 non-null  int64  \n",
            " 19  cap-shape_b              49465 non-null  int64  \n",
            " 20  cap-shape_c              49465 non-null  int64  \n",
            " 21  cap-shape_f              49465 non-null  int64  \n",
            " 22  cap-shape_o              49465 non-null  int64  \n",
            " 23  cap-shape_p              49465 non-null  int64  \n",
            " 24  cap-shape_s              49465 non-null  int64  \n",
            " 25  cap-shape_x              49465 non-null  int64  \n",
            " 26  cap-surface_d            49465 non-null  int64  \n",
            " 27  cap-surface_e            49465 non-null  int64  \n",
            " 28  cap-surface_g            49465 non-null  int64  \n",
            " 29  cap-surface_h            49465 non-null  int64  \n",
            " 30  cap-surface_i            49465 non-null  int64  \n",
            " 31  cap-surface_k            49465 non-null  int64  \n",
            " 32  cap-surface_l            49465 non-null  int64  \n",
            " 33  cap-surface_s            49465 non-null  int64  \n",
            " 34  cap-surface_t            49465 non-null  int64  \n",
            " 35  cap-surface_unknown      49465 non-null  int64  \n",
            " 36  cap-surface_w            49465 non-null  int64  \n",
            " 37  cap-surface_y            49465 non-null  int64  \n",
            " 38  does-bruise-or-bleed_f   49465 non-null  int64  \n",
            " 39  does-bruise-or-bleed_t   49465 non-null  int64  \n",
            " 40  gill-attachment_a        49465 non-null  int64  \n",
            " 41  gill-attachment_d        49465 non-null  int64  \n",
            " 42  gill-attachment_e        49465 non-null  int64  \n",
            " 43  gill-attachment_f        49465 non-null  int64  \n",
            " 44  gill-attachment_p        49465 non-null  int64  \n",
            " 45  gill-attachment_s        49465 non-null  int64  \n",
            " 46  gill-attachment_unknown  49465 non-null  int64  \n",
            " 47  gill-attachment_x        49465 non-null  int64  \n",
            " 48  gill-spacing_c           49465 non-null  int64  \n",
            " 49  gill-spacing_d           49465 non-null  int64  \n",
            " 50  gill-spacing_f           49465 non-null  int64  \n",
            " 51  gill-spacing_unknown     49465 non-null  int64  \n",
            " 52  stem-root_b              49465 non-null  int64  \n",
            " 53  stem-root_c              49465 non-null  int64  \n",
            " 54  stem-root_f              49465 non-null  int64  \n",
            " 55  stem-root_r              49465 non-null  int64  \n",
            " 56  stem-root_s              49465 non-null  int64  \n",
            " 57  stem-root_unknown        49465 non-null  int64  \n",
            " 58  stem-surface_f           49465 non-null  int64  \n",
            " 59  stem-surface_g           49465 non-null  int64  \n",
            " 60  stem-surface_h           49465 non-null  int64  \n",
            " 61  stem-surface_i           49465 non-null  int64  \n",
            " 62  stem-surface_k           49465 non-null  int64  \n",
            " 63  stem-surface_s           49465 non-null  int64  \n",
            " 64  stem-surface_t           49465 non-null  int64  \n",
            " 65  stem-surface_unknown     49465 non-null  int64  \n",
            " 66  stem-surface_y           49465 non-null  int64  \n",
            " 67  veil-type_p              49465 non-null  int64  \n",
            " 68  veil-type_u              49465 non-null  int64  \n",
            " 69  veil-color_e             49465 non-null  int64  \n",
            " 70  veil-color_k             49465 non-null  int64  \n",
            " 71  veil-color_n             49465 non-null  int64  \n",
            " 72  veil-color_u             49465 non-null  int64  \n",
            " 73  veil-color_unknown       49465 non-null  int64  \n",
            " 74  veil-color_w             49465 non-null  int64  \n",
            " 75  veil-color_y             49465 non-null  int64  \n",
            " 76  has-ring_f               49465 non-null  int64  \n",
            " 77  has-ring_t               49465 non-null  int64  \n",
            " 78  ring-type_e              49465 non-null  int64  \n",
            " 79  ring-type_f              49465 non-null  int64  \n",
            " 80  ring-type_g              49465 non-null  int64  \n",
            " 81  ring-type_l              49465 non-null  int64  \n",
            " 82  ring-type_m              49465 non-null  int64  \n",
            " 83  ring-type_p              49465 non-null  int64  \n",
            " 84  ring-type_r              49465 non-null  int64  \n",
            " 85  ring-type_z              49465 non-null  int64  \n",
            " 86  habitat_d                49465 non-null  int64  \n",
            " 87  habitat_g                49465 non-null  int64  \n",
            " 88  habitat_h                49465 non-null  int64  \n",
            " 89  habitat_l                49465 non-null  int64  \n",
            " 90  habitat_m                49465 non-null  int64  \n",
            " 91  habitat_p                49465 non-null  int64  \n",
            " 92  habitat_u                49465 non-null  int64  \n",
            " 93  habitat_w                49465 non-null  int64  \n",
            " 94  season_a                 49465 non-null  int64  \n",
            " 95  season_s                 49465 non-null  int64  \n",
            " 96  season_u                 49465 non-null  int64  \n",
            " 97  season_w                 49465 non-null  int64  \n",
            "dtypes: float64(3), int64(95)\n",
            "memory usage: 37.0 MB\n"
          ]
        }
      ]
    },
    {
      "cell_type": "code",
      "source": [
        "X_validation.info()"
      ],
      "metadata": {
        "colab": {
          "base_uri": "https://localhost:8080/"
        },
        "id": "6xIbCYogXFzD",
        "outputId": "8ab77ca4-3461-4b27-a2a4-fedc0bbf0385"
      },
      "execution_count": null,
      "outputs": [
        {
          "output_type": "stream",
          "name": "stdout",
          "text": [
            "<class 'pandas.core.frame.DataFrame'>\n",
            "RangeIndex: 5497 entries, 0 to 5496\n",
            "Data columns (total 98 columns):\n",
            " #   Column                   Non-Null Count  Dtype  \n",
            "---  ------                   --------------  -----  \n",
            " 0   cap-diameter             5497 non-null   float64\n",
            " 1   stem-height              5497 non-null   float64\n",
            " 2   stem-width               5497 non-null   float64\n",
            " 3   cap-color_0              5497 non-null   int64  \n",
            " 4   cap-color_1              5497 non-null   int64  \n",
            " 5   cap-color_2              5497 non-null   int64  \n",
            " 6   cap-color_3              5497 non-null   int64  \n",
            " 7   gill-color_0             5497 non-null   int64  \n",
            " 8   gill-color_1             5497 non-null   int64  \n",
            " 9   gill-color_2             5497 non-null   int64  \n",
            " 10  gill-color_3             5497 non-null   int64  \n",
            " 11  spore-print-color_0      5497 non-null   int64  \n",
            " 12  spore-print-color_1      5497 non-null   int64  \n",
            " 13  spore-print-color_2      5497 non-null   int64  \n",
            " 14  spore-print-color_3      5497 non-null   int64  \n",
            " 15  stem-color_0             5497 non-null   int64  \n",
            " 16  stem-color_1             5497 non-null   int64  \n",
            " 17  stem-color_2             5497 non-null   int64  \n",
            " 18  stem-color_3             5497 non-null   int64  \n",
            " 19  cap-shape_b              5497 non-null   int64  \n",
            " 20  cap-shape_c              5497 non-null   int64  \n",
            " 21  cap-shape_f              5497 non-null   int64  \n",
            " 22  cap-shape_o              5497 non-null   int64  \n",
            " 23  cap-shape_p              5497 non-null   int64  \n",
            " 24  cap-shape_s              5497 non-null   int64  \n",
            " 25  cap-shape_x              5497 non-null   int64  \n",
            " 26  cap-surface_d            5497 non-null   int64  \n",
            " 27  cap-surface_e            5497 non-null   int64  \n",
            " 28  cap-surface_g            5497 non-null   int64  \n",
            " 29  cap-surface_h            5497 non-null   int64  \n",
            " 30  cap-surface_i            5497 non-null   int64  \n",
            " 31  cap-surface_k            5497 non-null   int64  \n",
            " 32  cap-surface_l            5497 non-null   int64  \n",
            " 33  cap-surface_s            5497 non-null   int64  \n",
            " 34  cap-surface_t            5497 non-null   int64  \n",
            " 35  cap-surface_unknown      5497 non-null   int64  \n",
            " 36  cap-surface_w            5497 non-null   int64  \n",
            " 37  cap-surface_y            5497 non-null   int64  \n",
            " 38  does-bruise-or-bleed_f   5497 non-null   int64  \n",
            " 39  does-bruise-or-bleed_t   5497 non-null   int64  \n",
            " 40  gill-attachment_a        5497 non-null   int64  \n",
            " 41  gill-attachment_d        5497 non-null   int64  \n",
            " 42  gill-attachment_e        5497 non-null   int64  \n",
            " 43  gill-attachment_f        5497 non-null   int64  \n",
            " 44  gill-attachment_p        5497 non-null   int64  \n",
            " 45  gill-attachment_s        5497 non-null   int64  \n",
            " 46  gill-attachment_unknown  5497 non-null   int64  \n",
            " 47  gill-attachment_x        5497 non-null   int64  \n",
            " 48  gill-spacing_c           5497 non-null   int64  \n",
            " 49  gill-spacing_d           5497 non-null   int64  \n",
            " 50  gill-spacing_f           5497 non-null   int64  \n",
            " 51  gill-spacing_unknown     5497 non-null   int64  \n",
            " 52  stem-root_b              5497 non-null   int64  \n",
            " 53  stem-root_c              5497 non-null   int64  \n",
            " 54  stem-root_f              5497 non-null   int64  \n",
            " 55  stem-root_r              5497 non-null   int64  \n",
            " 56  stem-root_s              5497 non-null   int64  \n",
            " 57  stem-root_unknown        5497 non-null   int64  \n",
            " 58  stem-surface_f           5497 non-null   int64  \n",
            " 59  stem-surface_g           5497 non-null   int64  \n",
            " 60  stem-surface_h           5497 non-null   int64  \n",
            " 61  stem-surface_i           5497 non-null   int64  \n",
            " 62  stem-surface_k           5497 non-null   int64  \n",
            " 63  stem-surface_s           5497 non-null   int64  \n",
            " 64  stem-surface_t           5497 non-null   int64  \n",
            " 65  stem-surface_unknown     5497 non-null   int64  \n",
            " 66  stem-surface_y           5497 non-null   int64  \n",
            " 67  veil-type_p              5497 non-null   int64  \n",
            " 68  veil-type_u              5497 non-null   int64  \n",
            " 69  veil-color_e             5497 non-null   int64  \n",
            " 70  veil-color_k             5497 non-null   int64  \n",
            " 71  veil-color_n             5497 non-null   int64  \n",
            " 72  veil-color_u             5497 non-null   int64  \n",
            " 73  veil-color_unknown       5497 non-null   int64  \n",
            " 74  veil-color_w             5497 non-null   int64  \n",
            " 75  veil-color_y             5497 non-null   int64  \n",
            " 76  has-ring_f               5497 non-null   int64  \n",
            " 77  has-ring_t               5497 non-null   int64  \n",
            " 78  ring-type_e              5497 non-null   int64  \n",
            " 79  ring-type_f              5497 non-null   int64  \n",
            " 80  ring-type_g              5497 non-null   int64  \n",
            " 81  ring-type_l              5497 non-null   int64  \n",
            " 82  ring-type_m              5497 non-null   int64  \n",
            " 83  ring-type_p              5497 non-null   int64  \n",
            " 84  ring-type_r              5497 non-null   int64  \n",
            " 85  ring-type_z              5497 non-null   int64  \n",
            " 86  habitat_d                5497 non-null   int64  \n",
            " 87  habitat_g                5497 non-null   int64  \n",
            " 88  habitat_h                5497 non-null   int64  \n",
            " 89  habitat_l                5497 non-null   int64  \n",
            " 90  habitat_m                5497 non-null   int64  \n",
            " 91  habitat_p                5497 non-null   int64  \n",
            " 92  habitat_u                5497 non-null   int64  \n",
            " 93  habitat_w                5497 non-null   int64  \n",
            " 94  season_a                 5497 non-null   int64  \n",
            " 95  season_s                 5497 non-null   int64  \n",
            " 96  season_u                 5497 non-null   int64  \n",
            " 97  season_w                 5497 non-null   int64  \n",
            "dtypes: float64(3), int64(95)\n",
            "memory usage: 4.1 MB\n"
          ]
        }
      ]
    },
    {
      "cell_type": "code",
      "source": [
        "X_test.info()"
      ],
      "metadata": {
        "colab": {
          "base_uri": "https://localhost:8080/"
        },
        "id": "N3bKa5A2KlTC",
        "outputId": "9db15fdc-e266-4550-c93d-a0c74678c8d9"
      },
      "execution_count": null,
      "outputs": [
        {
          "output_type": "stream",
          "name": "stdout",
          "text": [
            "<class 'pandas.core.frame.DataFrame'>\n",
            "RangeIndex: 6107 entries, 0 to 6106\n",
            "Data columns (total 98 columns):\n",
            " #   Column                   Non-Null Count  Dtype  \n",
            "---  ------                   --------------  -----  \n",
            " 0   cap-diameter             6107 non-null   float64\n",
            " 1   stem-height              6107 non-null   float64\n",
            " 2   stem-width               6107 non-null   float64\n",
            " 3   cap-color_0              6107 non-null   int64  \n",
            " 4   cap-color_1              6107 non-null   int64  \n",
            " 5   cap-color_2              6107 non-null   int64  \n",
            " 6   cap-color_3              6107 non-null   int64  \n",
            " 7   gill-color_0             6107 non-null   int64  \n",
            " 8   gill-color_1             6107 non-null   int64  \n",
            " 9   gill-color_2             6107 non-null   int64  \n",
            " 10  gill-color_3             6107 non-null   int64  \n",
            " 11  spore-print-color_0      6107 non-null   int64  \n",
            " 12  spore-print-color_1      6107 non-null   int64  \n",
            " 13  spore-print-color_2      6107 non-null   int64  \n",
            " 14  spore-print-color_3      6107 non-null   int64  \n",
            " 15  stem-color_0             6107 non-null   int64  \n",
            " 16  stem-color_1             6107 non-null   int64  \n",
            " 17  stem-color_2             6107 non-null   int64  \n",
            " 18  stem-color_3             6107 non-null   int64  \n",
            " 19  cap-shape_b              6107 non-null   int64  \n",
            " 20  cap-shape_c              6107 non-null   int64  \n",
            " 21  cap-shape_f              6107 non-null   int64  \n",
            " 22  cap-shape_o              6107 non-null   int64  \n",
            " 23  cap-shape_p              6107 non-null   int64  \n",
            " 24  cap-shape_s              6107 non-null   int64  \n",
            " 25  cap-shape_x              6107 non-null   int64  \n",
            " 26  cap-surface_d            6107 non-null   int64  \n",
            " 27  cap-surface_e            6107 non-null   int64  \n",
            " 28  cap-surface_g            6107 non-null   int64  \n",
            " 29  cap-surface_h            6107 non-null   int64  \n",
            " 30  cap-surface_i            6107 non-null   int64  \n",
            " 31  cap-surface_k            6107 non-null   int64  \n",
            " 32  cap-surface_l            6107 non-null   int64  \n",
            " 33  cap-surface_s            6107 non-null   int64  \n",
            " 34  cap-surface_t            6107 non-null   int64  \n",
            " 35  cap-surface_unknown      6107 non-null   int64  \n",
            " 36  cap-surface_w            6107 non-null   int64  \n",
            " 37  cap-surface_y            6107 non-null   int64  \n",
            " 38  does-bruise-or-bleed_f   6107 non-null   int64  \n",
            " 39  does-bruise-or-bleed_t   6107 non-null   int64  \n",
            " 40  gill-attachment_a        6107 non-null   int64  \n",
            " 41  gill-attachment_d        6107 non-null   int64  \n",
            " 42  gill-attachment_e        6107 non-null   int64  \n",
            " 43  gill-attachment_f        6107 non-null   int64  \n",
            " 44  gill-attachment_p        6107 non-null   int64  \n",
            " 45  gill-attachment_s        6107 non-null   int64  \n",
            " 46  gill-attachment_unknown  6107 non-null   int64  \n",
            " 47  gill-attachment_x        6107 non-null   int64  \n",
            " 48  gill-spacing_c           6107 non-null   int64  \n",
            " 49  gill-spacing_d           6107 non-null   int64  \n",
            " 50  gill-spacing_f           6107 non-null   int64  \n",
            " 51  gill-spacing_unknown     6107 non-null   int64  \n",
            " 52  stem-root_b              6107 non-null   int64  \n",
            " 53  stem-root_c              6107 non-null   int64  \n",
            " 54  stem-root_f              6107 non-null   int64  \n",
            " 55  stem-root_r              6107 non-null   int64  \n",
            " 56  stem-root_s              6107 non-null   int64  \n",
            " 57  stem-root_unknown        6107 non-null   int64  \n",
            " 58  stem-surface_f           6107 non-null   int64  \n",
            " 59  stem-surface_g           6107 non-null   int64  \n",
            " 60  stem-surface_h           6107 non-null   int64  \n",
            " 61  stem-surface_i           6107 non-null   int64  \n",
            " 62  stem-surface_k           6107 non-null   int64  \n",
            " 63  stem-surface_s           6107 non-null   int64  \n",
            " 64  stem-surface_t           6107 non-null   int64  \n",
            " 65  stem-surface_unknown     6107 non-null   int64  \n",
            " 66  stem-surface_y           6107 non-null   int64  \n",
            " 67  veil-type_p              6107 non-null   int64  \n",
            " 68  veil-type_u              6107 non-null   int64  \n",
            " 69  veil-color_e             6107 non-null   int64  \n",
            " 70  veil-color_k             6107 non-null   int64  \n",
            " 71  veil-color_n             6107 non-null   int64  \n",
            " 72  veil-color_u             6107 non-null   int64  \n",
            " 73  veil-color_unknown       6107 non-null   int64  \n",
            " 74  veil-color_w             6107 non-null   int64  \n",
            " 75  veil-color_y             6107 non-null   int64  \n",
            " 76  has-ring_f               6107 non-null   int64  \n",
            " 77  has-ring_t               6107 non-null   int64  \n",
            " 78  ring-type_e              6107 non-null   int64  \n",
            " 79  ring-type_f              6107 non-null   int64  \n",
            " 80  ring-type_g              6107 non-null   int64  \n",
            " 81  ring-type_l              6107 non-null   int64  \n",
            " 82  ring-type_m              6107 non-null   int64  \n",
            " 83  ring-type_p              6107 non-null   int64  \n",
            " 84  ring-type_r              6107 non-null   int64  \n",
            " 85  ring-type_z              6107 non-null   int64  \n",
            " 86  habitat_d                6107 non-null   int64  \n",
            " 87  habitat_g                6107 non-null   int64  \n",
            " 88  habitat_h                6107 non-null   int64  \n",
            " 89  habitat_l                6107 non-null   int64  \n",
            " 90  habitat_m                6107 non-null   int64  \n",
            " 91  habitat_p                6107 non-null   int64  \n",
            " 92  habitat_u                6107 non-null   int64  \n",
            " 93  habitat_w                6107 non-null   int64  \n",
            " 94  season_a                 6107 non-null   int64  \n",
            " 95  season_s                 6107 non-null   int64  \n",
            " 96  season_u                 6107 non-null   int64  \n",
            " 97  season_w                 6107 non-null   int64  \n",
            "dtypes: float64(3), int64(95)\n",
            "memory usage: 4.6 MB\n"
          ]
        }
      ]
    },
    {
      "cell_type": "markdown",
      "source": [
        "Veo entonces, que ahora los datasets ya fueron encodeados y que todas las columnas están representadas por números."
      ],
      "metadata": {
        "id": "ujIvS5O9-aaT"
      }
    },
    {
      "cell_type": "markdown",
      "source": [
        "## Mapeo los valores de y_train, y_validation e y_test por 0's y 1's"
      ],
      "metadata": {
        "id": "wXfDrmg2MgIA"
      }
    },
    {
      "cell_type": "code",
      "source": [
        "y_train = y_train.map({\"e\":0,\"p\":1})"
      ],
      "metadata": {
        "id": "9yZ-KaiaMr5U"
      },
      "execution_count": null,
      "outputs": []
    },
    {
      "cell_type": "code",
      "source": [
        "y_validation = y_validation.map({\"e\":0, \"p\":1})"
      ],
      "metadata": {
        "id": "F3Kdv1p8Xqry"
      },
      "execution_count": null,
      "outputs": []
    },
    {
      "cell_type": "code",
      "source": [
        "y_test = y_test.map({\"e\":0,\"p\":1})"
      ],
      "metadata": {
        "id": "MM52XYnVNFa5"
      },
      "execution_count": null,
      "outputs": []
    },
    {
      "cell_type": "markdown",
      "source": [
        "#Modelo"
      ],
      "metadata": {
        "id": "SJS4g2PgDmk9"
      }
    },
    {
      "cell_type": "code",
      "source": [
        "from sklearn.linear_model import LogisticRegression\n",
        "from sklearn.model_selection import RandomizedSearchCV #Para buscar los mejores Hiperparámetros (Random-Search) (Cross-validation)\n",
        "from sklearn.model_selection import GridSearchCV #Para buscar los mejores Hiperparámetros (Grid-Search) (Cross-Validation)"
      ],
      "metadata": {
        "id": "k2288gpqVXAj"
      },
      "execution_count": null,
      "outputs": []
    },
    {
      "cell_type": "markdown",
      "source": [
        "El GridSearchCV realiza el Cross Validation, donde divide el set de entrenamiento en \"k\" particiones del mismo tamaño (folds) usando cada fold como set de validación entrenando con el resto. Luego promedia la métrica en las \"k\" validaciones. Sin embargo, como en el TP pide medir scores del validation_set, los separé igualmente para conseguirlos.\n",
        "GridSearch realiza todas las combinaciones posibles de hiperparámetros que recibe, por lo que lleva mucho tiempo pero puede llegar a producir un resultado mejor que RandomSearch."
      ],
      "metadata": {
        "id": "be8kDj0At69J"
      }
    },
    {
      "cell_type": "code",
      "source": [
        "log_reg = LogisticRegression(max_iter=10000)"
      ],
      "metadata": {
        "id": "oYcn7dhKWLJt"
      },
      "execution_count": null,
      "outputs": []
    },
    {
      "cell_type": "code",
      "source": [
        "params = [\n",
        "    {'penalty': ['l1', 'l2', 'elasticnet', 'none']},\n",
        "    {'C': [0.01, 0.1, 1, 10, 100]},\n",
        "]"
      ],
      "metadata": {
        "id": "gEibB876YhAQ"
      },
      "execution_count": null,
      "outputs": []
    },
    {
      "cell_type": "code",
      "source": [
        "grid_search = GridSearchCV(log_reg, param_grid=params) #cv=k Para cambiar la cant de folds (default 5-fold cross validation)"
      ],
      "metadata": {
        "id": "_5GH2tPMYkb7"
      },
      "execution_count": null,
      "outputs": []
    },
    {
      "cell_type": "code",
      "source": [
        "grid_search.fit(X_train, y_train)"
      ],
      "metadata": {
        "colab": {
          "base_uri": "https://localhost:8080/",
          "height": 900
        },
        "id": "jx268w9kWNjO",
        "outputId": "5ad529ae-378b-481e-dcd7-4c6fafc34d03"
      },
      "execution_count": null,
      "outputs": [
        {
          "output_type": "stream",
          "name": "stderr",
          "text": [
            "/usr/local/lib/python3.10/dist-packages/sklearn/linear_model/_logistic.py:1173: FutureWarning: `penalty='none'`has been deprecated in 1.2 and will be removed in 1.4. To keep the past behaviour, set `penalty=None`.\n",
            "  warnings.warn(\n",
            "/usr/local/lib/python3.10/dist-packages/sklearn/linear_model/_logistic.py:1173: FutureWarning: `penalty='none'`has been deprecated in 1.2 and will be removed in 1.4. To keep the past behaviour, set `penalty=None`.\n",
            "  warnings.warn(\n",
            "/usr/local/lib/python3.10/dist-packages/sklearn/linear_model/_logistic.py:1173: FutureWarning: `penalty='none'`has been deprecated in 1.2 and will be removed in 1.4. To keep the past behaviour, set `penalty=None`.\n",
            "  warnings.warn(\n",
            "/usr/local/lib/python3.10/dist-packages/sklearn/linear_model/_logistic.py:1173: FutureWarning: `penalty='none'`has been deprecated in 1.2 and will be removed in 1.4. To keep the past behaviour, set `penalty=None`.\n",
            "  warnings.warn(\n",
            "/usr/local/lib/python3.10/dist-packages/sklearn/linear_model/_logistic.py:1173: FutureWarning: `penalty='none'`has been deprecated in 1.2 and will be removed in 1.4. To keep the past behaviour, set `penalty=None`.\n",
            "  warnings.warn(\n",
            "/usr/local/lib/python3.10/dist-packages/sklearn/model_selection/_validation.py:378: FitFailedWarning: \n",
            "10 fits failed out of a total of 45.\n",
            "The score on these train-test partitions for these parameters will be set to nan.\n",
            "If these failures are not expected, you can try to debug them by setting error_score='raise'.\n",
            "\n",
            "Below are more details about the failures:\n",
            "--------------------------------------------------------------------------------\n",
            "5 fits failed with the following error:\n",
            "Traceback (most recent call last):\n",
            "  File \"/usr/local/lib/python3.10/dist-packages/sklearn/model_selection/_validation.py\", line 686, in _fit_and_score\n",
            "    estimator.fit(X_train, y_train, **fit_params)\n",
            "  File \"/usr/local/lib/python3.10/dist-packages/sklearn/linear_model/_logistic.py\", line 1162, in fit\n",
            "    solver = _check_solver(self.solver, self.penalty, self.dual)\n",
            "  File \"/usr/local/lib/python3.10/dist-packages/sklearn/linear_model/_logistic.py\", line 54, in _check_solver\n",
            "    raise ValueError(\n",
            "ValueError: Solver lbfgs supports only 'l2' or 'none' penalties, got l1 penalty.\n",
            "\n",
            "--------------------------------------------------------------------------------\n",
            "5 fits failed with the following error:\n",
            "Traceback (most recent call last):\n",
            "  File \"/usr/local/lib/python3.10/dist-packages/sklearn/model_selection/_validation.py\", line 686, in _fit_and_score\n",
            "    estimator.fit(X_train, y_train, **fit_params)\n",
            "  File \"/usr/local/lib/python3.10/dist-packages/sklearn/linear_model/_logistic.py\", line 1162, in fit\n",
            "    solver = _check_solver(self.solver, self.penalty, self.dual)\n",
            "  File \"/usr/local/lib/python3.10/dist-packages/sklearn/linear_model/_logistic.py\", line 54, in _check_solver\n",
            "    raise ValueError(\n",
            "ValueError: Solver lbfgs supports only 'l2' or 'none' penalties, got elasticnet penalty.\n",
            "\n",
            "  warnings.warn(some_fits_failed_message, FitFailedWarning)\n",
            "/usr/local/lib/python3.10/dist-packages/sklearn/model_selection/_search.py:952: UserWarning: One or more of the test scores are non-finite: [       nan 0.8508036         nan 0.85120792 0.82244011 0.84164561\n",
            " 0.8508036  0.85118771 0.85116749]\n",
            "  warnings.warn(\n",
            "/usr/local/lib/python3.10/dist-packages/sklearn/linear_model/_logistic.py:1173: FutureWarning: `penalty='none'`has been deprecated in 1.2 and will be removed in 1.4. To keep the past behaviour, set `penalty=None`.\n",
            "  warnings.warn(\n"
          ]
        },
        {
          "output_type": "execute_result",
          "data": {
            "text/plain": [
              "GridSearchCV(estimator=LogisticRegression(max_iter=10000),\n",
              "             param_grid=[{'penalty': ['l1', 'l2', 'elasticnet', 'none']},\n",
              "                         {'C': [0.01, 0.1, 1, 10, 100]}])"
            ],
            "text/html": [
              "<style>#sk-container-id-1 {color: black;background-color: white;}#sk-container-id-1 pre{padding: 0;}#sk-container-id-1 div.sk-toggleable {background-color: white;}#sk-container-id-1 label.sk-toggleable__label {cursor: pointer;display: block;width: 100%;margin-bottom: 0;padding: 0.3em;box-sizing: border-box;text-align: center;}#sk-container-id-1 label.sk-toggleable__label-arrow:before {content: \"▸\";float: left;margin-right: 0.25em;color: #696969;}#sk-container-id-1 label.sk-toggleable__label-arrow:hover:before {color: black;}#sk-container-id-1 div.sk-estimator:hover label.sk-toggleable__label-arrow:before {color: black;}#sk-container-id-1 div.sk-toggleable__content {max-height: 0;max-width: 0;overflow: hidden;text-align: left;background-color: #f0f8ff;}#sk-container-id-1 div.sk-toggleable__content pre {margin: 0.2em;color: black;border-radius: 0.25em;background-color: #f0f8ff;}#sk-container-id-1 input.sk-toggleable__control:checked~div.sk-toggleable__content {max-height: 200px;max-width: 100%;overflow: auto;}#sk-container-id-1 input.sk-toggleable__control:checked~label.sk-toggleable__label-arrow:before {content: \"▾\";}#sk-container-id-1 div.sk-estimator input.sk-toggleable__control:checked~label.sk-toggleable__label {background-color: #d4ebff;}#sk-container-id-1 div.sk-label input.sk-toggleable__control:checked~label.sk-toggleable__label {background-color: #d4ebff;}#sk-container-id-1 input.sk-hidden--visually {border: 0;clip: rect(1px 1px 1px 1px);clip: rect(1px, 1px, 1px, 1px);height: 1px;margin: -1px;overflow: hidden;padding: 0;position: absolute;width: 1px;}#sk-container-id-1 div.sk-estimator {font-family: monospace;background-color: #f0f8ff;border: 1px dotted black;border-radius: 0.25em;box-sizing: border-box;margin-bottom: 0.5em;}#sk-container-id-1 div.sk-estimator:hover {background-color: #d4ebff;}#sk-container-id-1 div.sk-parallel-item::after {content: \"\";width: 100%;border-bottom: 1px solid gray;flex-grow: 1;}#sk-container-id-1 div.sk-label:hover label.sk-toggleable__label {background-color: #d4ebff;}#sk-container-id-1 div.sk-serial::before {content: \"\";position: absolute;border-left: 1px solid gray;box-sizing: border-box;top: 0;bottom: 0;left: 50%;z-index: 0;}#sk-container-id-1 div.sk-serial {display: flex;flex-direction: column;align-items: center;background-color: white;padding-right: 0.2em;padding-left: 0.2em;position: relative;}#sk-container-id-1 div.sk-item {position: relative;z-index: 1;}#sk-container-id-1 div.sk-parallel {display: flex;align-items: stretch;justify-content: center;background-color: white;position: relative;}#sk-container-id-1 div.sk-item::before, #sk-container-id-1 div.sk-parallel-item::before {content: \"\";position: absolute;border-left: 1px solid gray;box-sizing: border-box;top: 0;bottom: 0;left: 50%;z-index: -1;}#sk-container-id-1 div.sk-parallel-item {display: flex;flex-direction: column;z-index: 1;position: relative;background-color: white;}#sk-container-id-1 div.sk-parallel-item:first-child::after {align-self: flex-end;width: 50%;}#sk-container-id-1 div.sk-parallel-item:last-child::after {align-self: flex-start;width: 50%;}#sk-container-id-1 div.sk-parallel-item:only-child::after {width: 0;}#sk-container-id-1 div.sk-dashed-wrapped {border: 1px dashed gray;margin: 0 0.4em 0.5em 0.4em;box-sizing: border-box;padding-bottom: 0.4em;background-color: white;}#sk-container-id-1 div.sk-label label {font-family: monospace;font-weight: bold;display: inline-block;line-height: 1.2em;}#sk-container-id-1 div.sk-label-container {text-align: center;}#sk-container-id-1 div.sk-container {/* jupyter's `normalize.less` sets `[hidden] { display: none; }` but bootstrap.min.css set `[hidden] { display: none !important; }` so we also need the `!important` here to be able to override the default hidden behavior on the sphinx rendered scikit-learn.org. See: https://github.com/scikit-learn/scikit-learn/issues/21755 */display: inline-block !important;position: relative;}#sk-container-id-1 div.sk-text-repr-fallback {display: none;}</style><div id=\"sk-container-id-1\" class=\"sk-top-container\"><div class=\"sk-text-repr-fallback\"><pre>GridSearchCV(estimator=LogisticRegression(max_iter=10000),\n",
              "             param_grid=[{&#x27;penalty&#x27;: [&#x27;l1&#x27;, &#x27;l2&#x27;, &#x27;elasticnet&#x27;, &#x27;none&#x27;]},\n",
              "                         {&#x27;C&#x27;: [0.01, 0.1, 1, 10, 100]}])</pre><b>In a Jupyter environment, please rerun this cell to show the HTML representation or trust the notebook. <br />On GitHub, the HTML representation is unable to render, please try loading this page with nbviewer.org.</b></div><div class=\"sk-container\" hidden><div class=\"sk-item sk-dashed-wrapped\"><div class=\"sk-label-container\"><div class=\"sk-label sk-toggleable\"><input class=\"sk-toggleable__control sk-hidden--visually\" id=\"sk-estimator-id-1\" type=\"checkbox\" ><label for=\"sk-estimator-id-1\" class=\"sk-toggleable__label sk-toggleable__label-arrow\">GridSearchCV</label><div class=\"sk-toggleable__content\"><pre>GridSearchCV(estimator=LogisticRegression(max_iter=10000),\n",
              "             param_grid=[{&#x27;penalty&#x27;: [&#x27;l1&#x27;, &#x27;l2&#x27;, &#x27;elasticnet&#x27;, &#x27;none&#x27;]},\n",
              "                         {&#x27;C&#x27;: [0.01, 0.1, 1, 10, 100]}])</pre></div></div></div><div class=\"sk-parallel\"><div class=\"sk-parallel-item\"><div class=\"sk-item\"><div class=\"sk-label-container\"><div class=\"sk-label sk-toggleable\"><input class=\"sk-toggleable__control sk-hidden--visually\" id=\"sk-estimator-id-2\" type=\"checkbox\" ><label for=\"sk-estimator-id-2\" class=\"sk-toggleable__label sk-toggleable__label-arrow\">estimator: LogisticRegression</label><div class=\"sk-toggleable__content\"><pre>LogisticRegression(max_iter=10000)</pre></div></div></div><div class=\"sk-serial\"><div class=\"sk-item\"><div class=\"sk-estimator sk-toggleable\"><input class=\"sk-toggleable__control sk-hidden--visually\" id=\"sk-estimator-id-3\" type=\"checkbox\" ><label for=\"sk-estimator-id-3\" class=\"sk-toggleable__label sk-toggleable__label-arrow\">LogisticRegression</label><div class=\"sk-toggleable__content\"><pre>LogisticRegression(max_iter=10000)</pre></div></div></div></div></div></div></div></div></div></div>"
            ]
          },
          "metadata": {},
          "execution_count": 46
        }
      ]
    },
    {
      "cell_type": "code",
      "source": [
        "grid_search.best_params_"
      ],
      "metadata": {
        "id": "-cfugixSWPj5",
        "colab": {
          "base_uri": "https://localhost:8080/"
        },
        "outputId": "b7dd6cc0-c747-43cd-d3a2-d9a3fb3d6b67"
      },
      "execution_count": null,
      "outputs": [
        {
          "output_type": "execute_result",
          "data": {
            "text/plain": [
              "{'penalty': 'none'}"
            ]
          },
          "metadata": {},
          "execution_count": 47
        }
      ]
    },
    {
      "cell_type": "markdown",
      "source": [
        "Una vez que grid search consigue los mejores hiperparámetros los utilizo para armar el modelo."
      ],
      "metadata": {
        "id": "3eE8MYBp_AvY"
      }
    },
    {
      "cell_type": "code",
      "source": [
        "model = grid_search.best_estimator_"
      ],
      "metadata": {
        "id": "-iutAVRHYxju"
      },
      "execution_count": null,
      "outputs": []
    },
    {
      "cell_type": "code",
      "source": [
        "model.fit(X_train, y_train)"
      ],
      "metadata": {
        "id": "d23YAVesY1AW",
        "colab": {
          "base_uri": "https://localhost:8080/",
          "height": 129
        },
        "outputId": "e36222d7-340b-4b71-c651-6e5cb2e1c5f9"
      },
      "execution_count": null,
      "outputs": [
        {
          "output_type": "stream",
          "name": "stderr",
          "text": [
            "/usr/local/lib/python3.10/dist-packages/sklearn/linear_model/_logistic.py:1173: FutureWarning: `penalty='none'`has been deprecated in 1.2 and will be removed in 1.4. To keep the past behaviour, set `penalty=None`.\n",
            "  warnings.warn(\n"
          ]
        },
        {
          "output_type": "execute_result",
          "data": {
            "text/plain": [
              "LogisticRegression(max_iter=10000, penalty='none')"
            ],
            "text/html": [
              "<style>#sk-container-id-2 {color: black;background-color: white;}#sk-container-id-2 pre{padding: 0;}#sk-container-id-2 div.sk-toggleable {background-color: white;}#sk-container-id-2 label.sk-toggleable__label {cursor: pointer;display: block;width: 100%;margin-bottom: 0;padding: 0.3em;box-sizing: border-box;text-align: center;}#sk-container-id-2 label.sk-toggleable__label-arrow:before {content: \"▸\";float: left;margin-right: 0.25em;color: #696969;}#sk-container-id-2 label.sk-toggleable__label-arrow:hover:before {color: black;}#sk-container-id-2 div.sk-estimator:hover label.sk-toggleable__label-arrow:before {color: black;}#sk-container-id-2 div.sk-toggleable__content {max-height: 0;max-width: 0;overflow: hidden;text-align: left;background-color: #f0f8ff;}#sk-container-id-2 div.sk-toggleable__content pre {margin: 0.2em;color: black;border-radius: 0.25em;background-color: #f0f8ff;}#sk-container-id-2 input.sk-toggleable__control:checked~div.sk-toggleable__content {max-height: 200px;max-width: 100%;overflow: auto;}#sk-container-id-2 input.sk-toggleable__control:checked~label.sk-toggleable__label-arrow:before {content: \"▾\";}#sk-container-id-2 div.sk-estimator input.sk-toggleable__control:checked~label.sk-toggleable__label {background-color: #d4ebff;}#sk-container-id-2 div.sk-label input.sk-toggleable__control:checked~label.sk-toggleable__label {background-color: #d4ebff;}#sk-container-id-2 input.sk-hidden--visually {border: 0;clip: rect(1px 1px 1px 1px);clip: rect(1px, 1px, 1px, 1px);height: 1px;margin: -1px;overflow: hidden;padding: 0;position: absolute;width: 1px;}#sk-container-id-2 div.sk-estimator {font-family: monospace;background-color: #f0f8ff;border: 1px dotted black;border-radius: 0.25em;box-sizing: border-box;margin-bottom: 0.5em;}#sk-container-id-2 div.sk-estimator:hover {background-color: #d4ebff;}#sk-container-id-2 div.sk-parallel-item::after {content: \"\";width: 100%;border-bottom: 1px solid gray;flex-grow: 1;}#sk-container-id-2 div.sk-label:hover label.sk-toggleable__label {background-color: #d4ebff;}#sk-container-id-2 div.sk-serial::before {content: \"\";position: absolute;border-left: 1px solid gray;box-sizing: border-box;top: 0;bottom: 0;left: 50%;z-index: 0;}#sk-container-id-2 div.sk-serial {display: flex;flex-direction: column;align-items: center;background-color: white;padding-right: 0.2em;padding-left: 0.2em;position: relative;}#sk-container-id-2 div.sk-item {position: relative;z-index: 1;}#sk-container-id-2 div.sk-parallel {display: flex;align-items: stretch;justify-content: center;background-color: white;position: relative;}#sk-container-id-2 div.sk-item::before, #sk-container-id-2 div.sk-parallel-item::before {content: \"\";position: absolute;border-left: 1px solid gray;box-sizing: border-box;top: 0;bottom: 0;left: 50%;z-index: -1;}#sk-container-id-2 div.sk-parallel-item {display: flex;flex-direction: column;z-index: 1;position: relative;background-color: white;}#sk-container-id-2 div.sk-parallel-item:first-child::after {align-self: flex-end;width: 50%;}#sk-container-id-2 div.sk-parallel-item:last-child::after {align-self: flex-start;width: 50%;}#sk-container-id-2 div.sk-parallel-item:only-child::after {width: 0;}#sk-container-id-2 div.sk-dashed-wrapped {border: 1px dashed gray;margin: 0 0.4em 0.5em 0.4em;box-sizing: border-box;padding-bottom: 0.4em;background-color: white;}#sk-container-id-2 div.sk-label label {font-family: monospace;font-weight: bold;display: inline-block;line-height: 1.2em;}#sk-container-id-2 div.sk-label-container {text-align: center;}#sk-container-id-2 div.sk-container {/* jupyter's `normalize.less` sets `[hidden] { display: none; }` but bootstrap.min.css set `[hidden] { display: none !important; }` so we also need the `!important` here to be able to override the default hidden behavior on the sphinx rendered scikit-learn.org. See: https://github.com/scikit-learn/scikit-learn/issues/21755 */display: inline-block !important;position: relative;}#sk-container-id-2 div.sk-text-repr-fallback {display: none;}</style><div id=\"sk-container-id-2\" class=\"sk-top-container\"><div class=\"sk-text-repr-fallback\"><pre>LogisticRegression(max_iter=10000, penalty=&#x27;none&#x27;)</pre><b>In a Jupyter environment, please rerun this cell to show the HTML representation or trust the notebook. <br />On GitHub, the HTML representation is unable to render, please try loading this page with nbviewer.org.</b></div><div class=\"sk-container\" hidden><div class=\"sk-item\"><div class=\"sk-estimator sk-toggleable\"><input class=\"sk-toggleable__control sk-hidden--visually\" id=\"sk-estimator-id-4\" type=\"checkbox\" checked><label for=\"sk-estimator-id-4\" class=\"sk-toggleable__label sk-toggleable__label-arrow\">LogisticRegression</label><div class=\"sk-toggleable__content\"><pre>LogisticRegression(max_iter=10000, penalty=&#x27;none&#x27;)</pre></div></div></div></div></div>"
            ]
          },
          "metadata": {},
          "execution_count": 49
        }
      ]
    },
    {
      "cell_type": "markdown",
      "source": [
        "#Evaluación del modelo con validation_set"
      ],
      "metadata": {
        "id": "gXYVtDDBvkbk"
      }
    },
    {
      "cell_type": "code",
      "source": [
        "from sklearn.metrics import confusion_matrix, accuracy_score, precision_score, roc_auc_score"
      ],
      "metadata": {
        "id": "UEvWv-yNvnYL"
      },
      "execution_count": null,
      "outputs": []
    },
    {
      "cell_type": "code",
      "source": [
        "y_pred_val = model.predict(X_validation)"
      ],
      "metadata": {
        "id": "QPReFmlxvpFb"
      },
      "execution_count": null,
      "outputs": []
    },
    {
      "cell_type": "code",
      "source": [
        "y_validation = y_validation.astype(int)"
      ],
      "metadata": {
        "id": "pqgXqSGQvrY_"
      },
      "execution_count": null,
      "outputs": []
    },
    {
      "cell_type": "code",
      "source": [
        "cm = confusion_matrix(y_validation, y_pred_val)\n",
        "cm"
      ],
      "metadata": {
        "id": "j8eXaWokvyL0",
        "colab": {
          "base_uri": "https://localhost:8080/"
        },
        "outputId": "3f637569-7759-415c-a984-37c4521cbacb"
      },
      "execution_count": null,
      "outputs": [
        {
          "output_type": "execute_result",
          "data": {
            "text/plain": [
              "array([[2101,  376],\n",
              "       [ 398, 2622]])"
            ]
          },
          "metadata": {},
          "execution_count": 53
        }
      ]
    },
    {
      "cell_type": "code",
      "source": [
        "import seaborn as sns\n",
        "import matplotlib.pyplot as plt"
      ],
      "metadata": {
        "id": "fMIEOE2sv0JG"
      },
      "execution_count": null,
      "outputs": []
    },
    {
      "cell_type": "code",
      "source": [
        "sns.heatmap(cm, annot=True, cmap='Blues')\n",
        "plt.title('Confusion Matrix')\n",
        "plt.xlabel('Predicted')\n",
        "plt.ylabel('Actual')\n",
        "plt.show()"
      ],
      "metadata": {
        "id": "t3SaZr_Bv3f6",
        "colab": {
          "base_uri": "https://localhost:8080/",
          "height": 472
        },
        "outputId": "28aec249-615c-4ceb-a766-254b1d5bab80"
      },
      "execution_count": null,
      "outputs": [
        {
          "output_type": "display_data",
          "data": {
            "text/plain": [
              "<Figure size 640x480 with 2 Axes>"
            ],
            "image/png": "[encoded data removed]"
          },
          "metadata": {}
        }
      ]
    },
    {
      "cell_type": "markdown",
      "source": [
        "Armo la matriz de confusión para saber cuántas predicciones realizó correctamente y entender un poco mejor los resultados. Además veo otras métricas, dentro de ellas el AUC-ROC, la cual es la métrica objetivo."
      ],
      "metadata": {
        "id": "RrSQCFoL_fg5"
      }
    },
    {
      "cell_type": "code",
      "source": [
        "precision_score(y_validation, y_pred_val)"
      ],
      "metadata": {
        "colab": {
          "base_uri": "https://localhost:8080/"
        },
        "id": "7kGUMd7CxJUC",
        "outputId": "21fd8af6-f30f-4ecc-f032-5bee90b2b6ac"
      },
      "execution_count": null,
      "outputs": [
        {
          "output_type": "execute_result",
          "data": {
            "text/plain": [
              "0.8745830553702468"
            ]
          },
          "metadata": {},
          "execution_count": 56
        }
      ]
    },
    {
      "cell_type": "code",
      "source": [
        "accuracy_score(y_validation, y_pred_val)"
      ],
      "metadata": {
        "id": "jXd_zMLxv8au",
        "colab": {
          "base_uri": "https://localhost:8080/"
        },
        "outputId": "435ef873-e6aa-4a64-d707-9a0ec737703f"
      },
      "execution_count": null,
      "outputs": [
        {
          "output_type": "execute_result",
          "data": {
            "text/plain": [
              "0.8591959250500273"
            ]
          },
          "metadata": {},
          "execution_count": 57
        }
      ]
    },
    {
      "cell_type": "code",
      "source": [
        "specificity_score = cm[0][0] / sum(cm[0])\n",
        "specificity_score"
      ],
      "metadata": {
        "id": "vMAy06PNv9CX",
        "colab": {
          "base_uri": "https://localhost:8080/"
        },
        "outputId": "c5285eef-8db1-44b3-82fa-d89ebf787797"
      },
      "execution_count": null,
      "outputs": [
        {
          "output_type": "execute_result",
          "data": {
            "text/plain": [
              "0.8482034719418652"
            ]
          },
          "metadata": {},
          "execution_count": 58
        }
      ]
    },
    {
      "cell_type": "code",
      "source": [
        "sensibility_score = cm[1][1] / sum(cm[1])\n",
        "sensibility_score"
      ],
      "metadata": {
        "id": "ihbfAvc1wBcT",
        "colab": {
          "base_uri": "https://localhost:8080/"
        },
        "outputId": "8b30077c-495a-44b6-db82-a7431565fec5"
      },
      "execution_count": null,
      "outputs": [
        {
          "output_type": "execute_result",
          "data": {
            "text/plain": [
              "0.8682119205298013"
            ]
          },
          "metadata": {},
          "execution_count": 59
        }
      ]
    },
    {
      "cell_type": "code",
      "source": [
        "roc_auc_score(y_validation, model.predict_proba(X_validation)[:, 1])"
      ],
      "metadata": {
        "id": "VMmUdUkhwLXc",
        "colab": {
          "base_uri": "https://localhost:8080/"
        },
        "outputId": "a0915ace-680d-424b-8dbb-e5cb80f7e9e6"
      },
      "execution_count": null,
      "outputs": [
        {
          "output_type": "execute_result",
          "data": {
            "text/plain": [
              "0.9297513281126764"
            ]
          },
          "metadata": {},
          "execution_count": 60
        }
      ]
    },
    {
      "cell_type": "code",
      "source": [
        "!pip install scikit-plot\n",
        "import scikitplot as skplt\n",
        "import matplotlib.pyplot as plt\n",
        "\n",
        "skplt.metrics.plot_roc(y_validation, model.predict_proba(X_validation),classes_to_plot= 1,plot_micro= False, plot_macro = False)\n",
        "plt.show()"
      ],
      "metadata": {
        "colab": {
          "base_uri": "https://localhost:8080/",
          "height": 839
        },
        "id": "m4yv1SeLtvzD",
        "outputId": "f1277be9-6852-4e84-f86b-cf1a8580ca08"
      },
      "execution_count": null,
      "outputs": [
        {
          "output_type": "stream",
          "name": "stdout",
          "text": [
            "Looking in indexes: https://pypi.org/simple, https://us-python.pkg.dev/colab-wheels/public/simple/\n",
            "Collecting scikit-plot\n",
            "  Downloading scikit_plot-0.3.7-py3-none-any.whl (33 kB)\n",
            "Requirement already satisfied: matplotlib>=1.4.0 in /usr/local/lib/python3.10/dist-packages (from scikit-plot) (3.7.1)\n",
            "Requirement already satisfied: scikit-learn>=0.18 in /usr/local/lib/python3.10/dist-packages (from scikit-plot) (1.2.2)\n",
            "Requirement already satisfied: scipy>=0.9 in /usr/local/lib/python3.10/dist-packages (from scikit-plot) (1.10.1)\n",
            "Requirement already satisfied: joblib>=0.10 in /usr/local/lib/python3.10/dist-packages (from scikit-plot) (1.2.0)\n",
            "Requirement already satisfied: contourpy>=1.0.1 in /usr/local/lib/python3.10/dist-packages (from matplotlib>=1.4.0->scikit-plot) (1.0.7)\n",
            "Requirement already satisfied: cycler>=0.10 in /usr/local/lib/python3.10/dist-packages (from matplotlib>=1.4.0->scikit-plot) (0.11.0)\n",
            "Requirement already satisfied: fonttools>=4.22.0 in /usr/local/lib/python3.10/dist-packages (from matplotlib>=1.4.0->scikit-plot) (4.39.3)\n",
            "Requirement already satisfied: kiwisolver>=1.0.1 in /usr/local/lib/python3.10/dist-packages (from matplotlib>=1.4.0->scikit-plot) (1.4.4)\n",
            "Requirement already satisfied: numpy>=1.20 in /usr/local/lib/python3.10/dist-packages (from matplotlib>=1.4.0->scikit-plot) (1.22.4)\n",
            "Requirement already satisfied: packaging>=20.0 in /usr/local/lib/python3.10/dist-packages (from matplotlib>=1.4.0->scikit-plot) (23.1)\n",
            "Requirement already satisfied: pillow>=6.2.0 in /usr/local/lib/python3.10/dist-packages (from matplotlib>=1.4.0->scikit-plot) (8.4.0)\n",
            "Requirement already satisfied: pyparsing>=2.3.1 in /usr/local/lib/python3.10/dist-packages (from matplotlib>=1.4.0->scikit-plot) (3.0.9)\n",
            "Requirement already satisfied: python-dateutil>=2.7 in /usr/local/lib/python3.10/dist-packages (from matplotlib>=1.4.0->scikit-plot) (2.8.2)\n",
            "Requirement already satisfied: threadpoolctl>=2.0.0 in /usr/local/lib/python3.10/dist-packages (from scikit-learn>=0.18->scikit-plot) (3.1.0)\n",
            "Requirement already satisfied: six>=1.5 in /usr/local/lib/python3.10/dist-packages (from python-dateutil>=2.7->matplotlib>=1.4.0->scikit-plot) (1.16.0)\n",
            "Installing collected packages: scikit-plot\n",
            "Successfully installed scikit-plot-0.3.7\n"
          ]
        },
        {
          "output_type": "display_data",
          "data": {
            "text/plain": [
              "<Figure size 640x480 with 1 Axes>"
            ],
            "image/png": "[encoded data removed]"
          },
          "metadata": {}
        }
      ]
    },
    {
      "cell_type": "markdown",
      "source": [
        "¿Cuál es el mejor score de validación obtenido? (¿Cómo conviene obtener el dataset para validar?)\n",
        "\n",
        "El mejor score de validación obtenido fué el AUC-ROC-score (Area Under the ROC Curve), con un resultado de 0.93, lo que es considerado bastante bueno.\n",
        "\n",
        "El proceso de división del dataset que realicé es el siguiente: Divido el dataset inicial en train_set_aux y test_set (90% y 10% respectivamente) donde los datos se eligen aleatoriamente ya que para este dataset no existen problemas de time-travelling. Una vez que tengo esos datasets divido el train_set_aux en train_set(90%) y validation_set(10%) para buscar los mejores hiperparámetros de mi modelo. Esto en realidad se hizo con Grid-Search como está explicado anteriormente. Finalmente, cuando obtengo los mejores hiperparámetros entreno a mi modelo con ellos y lo uso con el validation set para ver qué tan correctamente funciona y al final uso el test_set para ver su funcionamiento en la práctica, con datos \"nuevos\"."
      ],
      "metadata": {
        "id": "BOhP65CQwBX-"
      }
    },
    {
      "cell_type": "markdown",
      "source": [
        "#Predicción para test"
      ],
      "metadata": {
        "id": "SQuLwSvBZUUC"
      }
    },
    {
      "cell_type": "markdown",
      "source": [
        "Al predecir con este modelo para test, ¿Cúal es el score obtenido? (guardar el csv con predicciones para entregarlo después)"
      ],
      "metadata": {
        "id": "KCqS3heW9GRi"
      }
    },
    {
      "cell_type": "code",
      "source": [
        "y_pred = model.predict(X_test)"
      ],
      "metadata": {
        "id": "8ESaLL0T9LR2"
      },
      "execution_count": null,
      "outputs": []
    },
    {
      "cell_type": "code",
      "source": [
        "y_test = y_test.astype(int)"
      ],
      "metadata": {
        "id": "9LqndxTmcbm3"
      },
      "execution_count": null,
      "outputs": []
    },
    {
      "cell_type": "code",
      "source": [
        "cm_test = confusion_matrix(y_test, y_pred)\n",
        "cm_test"
      ],
      "metadata": {
        "colab": {
          "base_uri": "https://localhost:8080/"
        },
        "id": "ApiL_8CwckVo",
        "outputId": "d8ab0760-258e-4641-89e9-47973b0c99d5"
      },
      "execution_count": null,
      "outputs": [
        {
          "output_type": "execute_result",
          "data": {
            "text/plain": [
              "array([[2264,  409],\n",
              "       [ 521, 2913]])"
            ]
          },
          "metadata": {},
          "execution_count": 64
        }
      ]
    },
    {
      "cell_type": "code",
      "source": [
        "sns.heatmap(cm_test, annot=True, cmap='Blues')\n",
        "plt.title('Confusion Matrix')\n",
        "plt.xlabel('Predicted')\n",
        "plt.ylabel('Actual')\n",
        "plt.show()"
      ],
      "metadata": {
        "colab": {
          "base_uri": "https://localhost:8080/",
          "height": 472
        },
        "id": "vZFCumDzcsWz",
        "outputId": "c6c571b6-0b6c-45f0-eecb-c754e6ff180a"
      },
      "execution_count": null,
      "outputs": [
        {
          "output_type": "display_data",
          "data": {
            "text/plain": [
              "<Figure size 640x480 with 2 Axes>"
            ],
            "image/png": "[encoded data removed]"
          },
          "metadata": {}
        }
      ]
    },
    {
      "cell_type": "code",
      "source": [
        "precision_score(y_test, y_pred)"
      ],
      "metadata": {
        "colab": {
          "base_uri": "https://localhost:8080/"
        },
        "id": "XN0lqNw-cvMz",
        "outputId": "27e0f339-0266-4f35-ef19-90b2bd3e9dd9"
      },
      "execution_count": null,
      "outputs": [
        {
          "output_type": "execute_result",
          "data": {
            "text/plain": [
              "0.8768813967489464"
            ]
          },
          "metadata": {},
          "execution_count": 66
        }
      ]
    },
    {
      "cell_type": "code",
      "source": [
        "accuracy_score(y_test, y_pred)"
      ],
      "metadata": {
        "colab": {
          "base_uri": "https://localhost:8080/"
        },
        "id": "SY-ojWqLc0kZ",
        "outputId": "6c12cdd4-dadf-491e-9cfe-27ffff2a64ef"
      },
      "execution_count": null,
      "outputs": [
        {
          "output_type": "execute_result",
          "data": {
            "text/plain": [
              "0.8477157360406091"
            ]
          },
          "metadata": {},
          "execution_count": 67
        }
      ]
    },
    {
      "cell_type": "code",
      "source": [
        "specificity_score_test = cm_test[0][0] / sum(cm_test[0])\n",
        "specificity_score_test"
      ],
      "metadata": {
        "colab": {
          "base_uri": "https://localhost:8080/"
        },
        "id": "S1kMtrdUc-Vc",
        "outputId": "fa17f222-a333-41ea-9c9d-25770d7bebbe"
      },
      "execution_count": null,
      "outputs": [
        {
          "output_type": "execute_result",
          "data": {
            "text/plain": [
              "0.8469884025439581"
            ]
          },
          "metadata": {},
          "execution_count": 68
        }
      ]
    },
    {
      "cell_type": "code",
      "source": [
        "sensibility_score_test = cm_test[1][1] / sum(cm_test[1])\n",
        "sensibility_score_test"
      ],
      "metadata": {
        "colab": {
          "base_uri": "https://localhost:8080/"
        },
        "id": "32lALBGxdClk",
        "outputId": "689ba017-cdda-4873-decc-e7c2841c393e"
      },
      "execution_count": null,
      "outputs": [
        {
          "output_type": "execute_result",
          "data": {
            "text/plain": [
              "0.8482818870122306"
            ]
          },
          "metadata": {},
          "execution_count": 69
        }
      ]
    },
    {
      "cell_type": "code",
      "source": [
        "roc_auc_score(y_test, model.predict_proba(X_test)[:, 1])"
      ],
      "metadata": {
        "colab": {
          "base_uri": "https://localhost:8080/"
        },
        "id": "14K0-mvJdSV3",
        "outputId": "1362ecd7-916c-41d0-a007-c6370a4668a1"
      },
      "execution_count": null,
      "outputs": [
        {
          "output_type": "execute_result",
          "data": {
            "text/plain": [
              "0.922925625895923"
            ]
          },
          "metadata": {},
          "execution_count": 70
        }
      ]
    },
    {
      "cell_type": "code",
      "source": [
        "skplt.metrics.plot_roc(y_test, model.predict_proba(X_test),classes_to_plot= 1,plot_micro= False, plot_macro = False)\n",
        "plt.show()"
      ],
      "metadata": {
        "colab": {
          "base_uri": "https://localhost:8080/",
          "height": 472
        },
        "id": "jGUM8ph_da65",
        "outputId": "66fb471a-093f-4d74-dc9d-cee48d3a075d"
      },
      "execution_count": null,
      "outputs": [
        {
          "output_type": "display_data",
          "data": {
            "text/plain": [
              "<Figure size 640x480 with 1 Axes>"
            ],
            "image/png": "[encoded data removed]"
          },
          "metadata": {}
        }
      ]
    },
    {
      "cell_type": "code",
      "source": [
        "df_predic = pd.DataFrame({'y_test': y_validation, 'y_pred': y_pred_val})\n",
        "df_predic.to_csv('/content/drive/MyDrive/predicciones_log_reg.csv')"
      ],
      "metadata": {
        "id": "e2Ht8zP4eRzO"
      },
      "execution_count": null,
      "outputs": []
    },
    {
      "cell_type": "markdown",
      "source": [
        "# Features más importantes"
      ],
      "metadata": {
        "id": "uh34CKRqdtl0"
      }
    },
    {
      "cell_type": "markdown",
      "source": [
        "¿Qué features son los más importantes para predecir con el mejor modelo? Graficar."
      ],
      "metadata": {
        "id": "i5eR9IHE4F0q"
      }
    },
    {
      "cell_type": "code",
      "source": [
        "features_imp = model.coef_\n",
        "features_imp = features_imp.tolist()\n",
        "features_imp = features_imp[0]\n",
        "#features_imp"
      ],
      "metadata": {
        "id": "gBT7C0YGAfRH"
      },
      "execution_count": null,
      "outputs": []
    },
    {
      "cell_type": "code",
      "source": [
        "def sum_abs_values(importances, begin, end):\n",
        "  importance = 0\n",
        "  for i in range(begin, end+1):\n",
        "    importance += abs(importances[i])\n",
        "  return importance\n",
        "\n",
        "features_imp = model.coef_\n",
        "features_imp = features_imp.tolist()\n",
        "features_imp = features_imp[0]\n",
        "\n",
        "features_importance = []\n",
        "features_importance.append(abs(features_imp[0]))\n",
        "features_importance.append(abs(features_imp[1]))\n",
        "features_importance.append(abs(features_imp[2]))\n",
        "features_importance.append(sum_abs_values(features_imp, 3, 6))\n",
        "features_importance.append(sum_abs_values(features_imp, 7, 10))\n",
        "features_importance.append(sum_abs_values(features_imp, 11, 14))\n",
        "features_importance.append(sum_abs_values(features_imp, 15, 18))\n",
        "features_importance.append(sum_abs_values(features_imp, 19, 25))\n",
        "features_importance.append(sum_abs_values(features_imp, 26, 37))\n",
        "features_importance.append(sum_abs_values(features_imp, 38, 39))\n",
        "features_importance.append(sum_abs_values(features_imp, 40, 47))\n",
        "features_importance.append(sum_abs_values(features_imp, 48, 51))\n",
        "features_importance.append(sum_abs_values(features_imp, 52, 57))\n",
        "features_importance.append(sum_abs_values(features_imp, 58, 66))\n",
        "features_importance.append(sum_abs_values(features_imp, 67, 68))\n",
        "features_importance.append(sum_abs_values(features_imp, 69, 75))\n",
        "features_importance.append(sum_abs_values(features_imp, 76, 77))\n",
        "features_importance.append(sum_abs_values(features_imp, 78, 85))\n",
        "features_importance.append(sum_abs_values(features_imp, 86, 93))\n",
        "features_importance.append(sum_abs_values(features_imp, 94, 97))\n",
        "\n",
        "features_importance"
      ],
      "metadata": {
        "colab": {
          "base_uri": "https://localhost:8080/"
        },
        "id": "ADVVJwGmC6HF",
        "outputId": "681adbeb-5ecc-4ab5-fca5-84804bcadf82"
      },
      "execution_count": null,
      "outputs": [
        {
          "output_type": "execute_result",
          "data": {
            "text/plain": [
              "[0.01834311302155887,\n",
              " 0.1031680267910815,\n",
              " 0.009069359755080946,\n",
              " 2.4190603689454835,\n",
              " 1.5225134203154624,\n",
              " 12.53772864185451,\n",
              " 6.195422751614903,\n",
              " 7.139410599362932,\n",
              " 10.762289759907235,\n",
              " 5.423825709685302,\n",
              " 12.736111000706153,\n",
              " 5.423825709689608,\n",
              " 37.098739684303084,\n",
              " 37.71578185924161,\n",
              " 12.302027222267872,\n",
              " 47.02455357555719,\n",
              " 5.423825709681028,\n",
              " 33.93251216112401,\n",
              " 20.19304598525799,\n",
              " 5.4238257096887255]"
            ]
          },
          "metadata": {},
          "execution_count": 74
        }
      ]
    },
    {
      "cell_type": "code",
      "source": [
        "features = ['cap-diameter','stem-height','stem-width','cap-color','gill-color','spore-print-color','stem-color',\n",
        "       'cap-shape', 'cap-surface','does-bruise-or-bleed', 'gill-attachment', 'gill-spacing', 'stem-root',\n",
        "       'stem-surface', 'veil-type','veil-color', 'has-ring', 'ring-type', 'habitat_d', 'season']\n",
        "plt.bar(features, features_importance)\n",
        "plt.xlabel('Features')\n",
        "plt.xticks(rotation=90)\n",
        "plt.ylabel('Importancia')\n",
        "plt.title('Importancia Features con Regresión Logística')\n",
        "plt.show()"
      ],
      "metadata": {
        "colab": {
          "base_uri": "https://localhost:8080/",
          "height": 601
        },
        "id": "t2_xdzLz86k7",
        "outputId": "9e9dfe96-ee38-4362-8e1a-c7d4d4e32f94"
      },
      "execution_count": null,
      "outputs": [
        {
          "output_type": "display_data",
          "data": {
            "text/plain": [
              "<Figure size 640x480 with 1 Axes>"
            ],
            "image/png": "[encoded data removed]"
          },
          "metadata": {}
        }
      ]
    },
    {
      "cell_type": "code",
      "source": [
        "plt.figure(figsize=(20,7))\n",
        "plt.bar(X_train.columns, [abs(num) for num in features_imp])\n",
        "plt.xlabel('Features')\n",
        "plt.ylabel('Importancia')\n",
        "plt.title('Importancia Features por separado')\n",
        "plt.xticks(rotation=90)\n",
        "plt.show()"
      ],
      "metadata": {
        "colab": {
          "base_uri": "https://localhost:8080/",
          "height": 823
        },
        "id": "X8tnFibAJetF",
        "outputId": "e1866755-c995-4e76-e420-734ed9359da7"
      },
      "execution_count": null,
      "outputs": [
        {
          "output_type": "display_data",
          "data": {
            "text/plain": [
              "<Figure size 2000x700 with 1 Axes>"
            ],
            "image/png": "[encoded data removed]"
          },
          "metadata": {}
        }
      ]
    },
    {
      "cell_type": "markdown",
      "source": [
        "Este último plot es para corroborar que la suma de las columnas de cada feature en el feature importance tengan sentido."
      ],
      "metadata": {
        "id": "tEkRDRDcDW4H"
      }
    }
  ]
}