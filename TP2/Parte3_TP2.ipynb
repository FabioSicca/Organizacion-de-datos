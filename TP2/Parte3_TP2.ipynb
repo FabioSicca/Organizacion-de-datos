{
  "nbformat": 4,
  "nbformat_minor": 0,
  "metadata": {
    "colab": {
      "provenance": [],
      "collapsed_sections": [
        "fFkvzKHQBPmU",
        "vck1ukMxCUoE",
        "KJUGn2XBK76a",
        "0P_Yk55CUMxc",
        "XTHBfLQkGynh",
        "rRoovFXBDfxi"
      ],
      "authorship_tag": "ABX9TyNBCXlMqqcdovAE2FTt9ozF",
      "include_colab_link": true
    },
    "kernelspec": {
      "name": "python3",
      "display_name": "Python 3"
    },
    "language_info": {
      "name": "python"
    }
  },
  "cells": [
    {
      "cell_type": "markdown",
      "metadata": {
        "id": "view-in-github",
        "colab_type": "text"
      },
      "source": [
        "<a href=\"https://colab.research.google.com/github/FabioSicca/Organizacion-de-datos/blob/main/Parte3_TP2.ipynb\" target=\"_parent\"><img src=\"https://colab.research.google.com/assets/colab-badge.svg\" alt=\"Open In Colab\"/></a>"
      ]
    },
    {
      "cell_type": "markdown",
      "source": [
        "**Parte III - Random Forest (5 puntos)**\n",
        "\n",
        "Segun el paper con un clasificador basado en Random Forest deberiamos lograr un AUC de 1. Entrenar un Random Forest con búsqueda de hiperparametros que logre un AUC de 1 (¿cómo conviene elegir los datos de validación respecto de los de train?). El modelo debe cumplir las siguientes condiciones:\n",
        "\n",
        "* Deben utilizar AUC-ROC como métrica de validación.\n",
        "* Deben medirse solo en validación, no contra test!!!\n",
        "* Deben ser reproducibles (correr el notebook varias veces no afecta al resultado).\n",
        "* Deben tener un score en validación igual a 1."
      ],
      "metadata": {
        "id": "A_KnejjQGVEe"
      }
    },
    {
      "cell_type": "code",
      "execution_count": null,
      "metadata": {
        "colab": {
          "base_uri": "https://localhost:8080/"
        },
        "id": "rYgGzQLpe7Qk",
        "outputId": "478afe77-1928-494c-e7e5-eb28fbeda374"
      },
      "outputs": [
        {
          "output_type": "stream",
          "name": "stdout",
          "text": [
            "Looking in indexes: https://pypi.org/simple, https://us-python.pkg.dev/colab-wheels/public/simple/\n",
            "Collecting category_encoders\n",
            "  Downloading category_encoders-2.6.1-py2.py3-none-any.whl (81 kB)\n",
            "\u001b[2K     \u001b[90m━━━━━━━━━━━━━━━━━━━━━━━━━━━━━━━━━━━━━━━━\u001b[0m \u001b[32m81.9/81.9 kB\u001b[0m \u001b[31m2.9 MB/s\u001b[0m eta \u001b[36m0:00:00\u001b[0m\n",
            "\u001b[?25hRequirement already satisfied: numpy>=1.14.0 in /usr/local/lib/python3.10/dist-packages (from category_encoders) (1.22.4)\n",
            "Requirement already satisfied: scikit-learn>=0.20.0 in /usr/local/lib/python3.10/dist-packages (from category_encoders) (1.2.2)\n",
            "Requirement already satisfied: scipy>=1.0.0 in /usr/local/lib/python3.10/dist-packages (from category_encoders) (1.10.1)\n",
            "Requirement already satisfied: statsmodels>=0.9.0 in /usr/local/lib/python3.10/dist-packages (from category_encoders) (0.13.5)\n",
            "Requirement already satisfied: pandas>=1.0.5 in /usr/local/lib/python3.10/dist-packages (from category_encoders) (1.5.3)\n",
            "Requirement already satisfied: patsy>=0.5.1 in /usr/local/lib/python3.10/dist-packages (from category_encoders) (0.5.3)\n",
            "Requirement already satisfied: python-dateutil>=2.8.1 in /usr/local/lib/python3.10/dist-packages (from pandas>=1.0.5->category_encoders) (2.8.2)\n",
            "Requirement already satisfied: pytz>=2020.1 in /usr/local/lib/python3.10/dist-packages (from pandas>=1.0.5->category_encoders) (2022.7.1)\n",
            "Requirement already satisfied: six in /usr/local/lib/python3.10/dist-packages (from patsy>=0.5.1->category_encoders) (1.16.0)\n",
            "Requirement already satisfied: joblib>=1.1.1 in /usr/local/lib/python3.10/dist-packages (from scikit-learn>=0.20.0->category_encoders) (1.2.0)\n",
            "Requirement already satisfied: threadpoolctl>=2.0.0 in /usr/local/lib/python3.10/dist-packages (from scikit-learn>=0.20.0->category_encoders) (3.1.0)\n",
            "Requirement already satisfied: packaging>=21.3 in /usr/local/lib/python3.10/dist-packages (from statsmodels>=0.9.0->category_encoders) (23.1)\n",
            "Installing collected packages: category_encoders\n",
            "Successfully installed category_encoders-2.6.1\n"
          ]
        }
      ],
      "source": [
        "from sklearn.ensemble import RandomForestClassifier\n",
        "from sklearn.metrics import mean_squared_error\n",
        "import pandas as pd\n",
        "import numpy as np\n",
        "%matplotlib inline\n",
        "import matplotlib.pyplot as plt\n",
        "from sklearn import tree\n",
        "!pip install category_encoders\n",
        "from sklearn.model_selection import train_test_split\n",
        "from sklearn.preprocessing import OneHotEncoder\n",
        "from category_encoders.binary import BinaryEncoder"
      ]
    },
    {
      "cell_type": "code",
      "source": [
        "from google.colab import drive\n",
        "drive.mount('/content/drive')"
      ],
      "metadata": {
        "colab": {
          "base_uri": "https://localhost:8080/"
        },
        "id": "MW_U6ap5fooH",
        "outputId": "da913f3b-8cf3-45e1-84e6-d6c673cafad9"
      },
      "execution_count": null,
      "outputs": [
        {
          "output_type": "stream",
          "name": "stdout",
          "text": [
            "Mounted at /content/drive\n"
          ]
        }
      ]
    },
    {
      "cell_type": "code",
      "source": [
        "df = pd.read_csv('/content/drive/MyDrive/secondary_data.csv', sep=\";\")"
      ],
      "metadata": {
        "id": "g7HnFKw1fzNQ"
      },
      "execution_count": null,
      "outputs": []
    },
    {
      "cell_type": "code",
      "source": [
        "X = df.drop('class', axis=1)\n",
        "y = df['class']"
      ],
      "metadata": {
        "id": "chQF_Ksjf1Ss"
      },
      "execution_count": null,
      "outputs": []
    },
    {
      "cell_type": "code",
      "source": [
        "X_train_aux, X_test, y_train_aux, y_test = train_test_split(X, y, test_size=0.1, random_state=5)"
      ],
      "metadata": {
        "id": "SSn3X98Sf3gl"
      },
      "execution_count": null,
      "outputs": []
    },
    {
      "cell_type": "code",
      "source": [
        "X_train, X_validation, y_train, y_validation = train_test_split(X_train_aux, y_train_aux, test_size=0.1, random_state=5)"
      ],
      "metadata": {
        "id": "-TcE4JiTf7Mw"
      },
      "execution_count": null,
      "outputs": []
    },
    {
      "cell_type": "code",
      "source": [
        "print(X_train.info(), X_validation.info(), X_test.info())"
      ],
      "metadata": {
        "colab": {
          "base_uri": "https://localhost:8080/"
        },
        "id": "TMqsVvpCf9N7",
        "outputId": "6c30f739-1e37-43fa-937b-be691f8158d5"
      },
      "execution_count": null,
      "outputs": [
        {
          "output_type": "stream",
          "name": "stdout",
          "text": [
            "<class 'pandas.core.frame.DataFrame'>\n",
            "Int64Index: 49465 entries, 34760 to 57712\n",
            "Data columns (total 20 columns):\n",
            " #   Column                Non-Null Count  Dtype  \n",
            "---  ------                --------------  -----  \n",
            " 0   cap-diameter          49465 non-null  float64\n",
            " 1   cap-shape             49465 non-null  object \n",
            " 2   cap-surface           37940 non-null  object \n",
            " 3   cap-color             49465 non-null  object \n",
            " 4   does-bruise-or-bleed  49465 non-null  object \n",
            " 5   gill-attachment       41413 non-null  object \n",
            " 6   gill-spacing          29137 non-null  object \n",
            " 7   gill-color            49465 non-null  object \n",
            " 8   stem-height           49465 non-null  float64\n",
            " 9   stem-width            49465 non-null  float64\n",
            " 10  stem-root             7755 non-null   object \n",
            " 11  stem-surface          18525 non-null  object \n",
            " 12  stem-color            49465 non-null  object \n",
            " 13  veil-type             2598 non-null   object \n",
            " 14  veil-color            6043 non-null   object \n",
            " 15  has-ring              49465 non-null  object \n",
            " 16  ring-type             47450 non-null  object \n",
            " 17  spore-print-color     5149 non-null   object \n",
            " 18  habitat               49465 non-null  object \n",
            " 19  season                49465 non-null  object \n",
            "dtypes: float64(3), object(17)\n",
            "memory usage: 7.9+ MB\n",
            "<class 'pandas.core.frame.DataFrame'>\n",
            "Int64Index: 5497 entries, 35132 to 58126\n",
            "Data columns (total 20 columns):\n",
            " #   Column                Non-Null Count  Dtype  \n",
            "---  ------                --------------  -----  \n",
            " 0   cap-diameter          5497 non-null   float64\n",
            " 1   cap-shape             5497 non-null   object \n",
            " 2   cap-surface           4303 non-null   object \n",
            " 3   cap-color             5497 non-null   object \n",
            " 4   does-bruise-or-bleed  5497 non-null   object \n",
            " 5   gill-attachment       4620 non-null   object \n",
            " 6   gill-spacing          3258 non-null   object \n",
            " 7   gill-color            5497 non-null   object \n",
            " 8   stem-height           5497 non-null   float64\n",
            " 9   stem-width            5497 non-null   float64\n",
            " 10  stem-root             837 non-null    object \n",
            " 11  stem-surface          2069 non-null   object \n",
            " 12  stem-color            5497 non-null   object \n",
            " 13  veil-type             261 non-null    object \n",
            " 14  veil-color            628 non-null    object \n",
            " 15  has-ring              5497 non-null   object \n",
            " 16  ring-type             5253 non-null   object \n",
            " 17  spore-print-color     562 non-null    object \n",
            " 18  habitat               5497 non-null   object \n",
            " 19  season                5497 non-null   object \n",
            "dtypes: float64(3), object(17)\n",
            "memory usage: 901.9+ KB\n",
            "<class 'pandas.core.frame.DataFrame'>\n",
            "Int64Index: 6107 entries, 39238 to 18221\n",
            "Data columns (total 20 columns):\n",
            " #   Column                Non-Null Count  Dtype  \n",
            "---  ------                --------------  -----  \n",
            " 0   cap-diameter          6107 non-null   float64\n",
            " 1   cap-shape             6107 non-null   object \n",
            " 2   cap-surface           4706 non-null   object \n",
            " 3   cap-color             6107 non-null   object \n",
            " 4   does-bruise-or-bleed  6107 non-null   object \n",
            " 5   gill-attachment       5152 non-null   object \n",
            " 6   gill-spacing          3611 non-null   object \n",
            " 7   gill-color            6107 non-null   object \n",
            " 8   stem-height           6107 non-null   float64\n",
            " 9   stem-width            6107 non-null   float64\n",
            " 10  stem-root             939 non-null    object \n",
            " 11  stem-surface          2351 non-null   object \n",
            " 12  stem-color            6107 non-null   object \n",
            " 13  veil-type             318 non-null    object \n",
            " 14  veil-color            742 non-null    object \n",
            " 15  has-ring              6107 non-null   object \n",
            " 16  ring-type             5895 non-null   object \n",
            " 17  spore-print-color     643 non-null    object \n",
            " 18  habitat               6107 non-null   object \n",
            " 19  season                6107 non-null   object \n",
            "dtypes: float64(3), object(17)\n",
            "memory usage: 1001.9+ KB\n",
            "None None None\n"
          ]
        }
      ]
    },
    {
      "cell_type": "markdown",
      "source": [
        "#Feature Engineering y Encoding"
      ],
      "metadata": {
        "id": "fFkvzKHQBPmU"
      }
    },
    {
      "cell_type": "markdown",
      "source": [
        "Para poder realizar la comparación entre modelos necesito que el dataset sea el mismo para todos, por lo que uso el mismo feature engineering y encoding para todos los modelos."
      ],
      "metadata": {
        "id": "ctr0wnG8gm8Y"
      }
    },
    {
      "cell_type": "markdown",
      "source": [
        "##Relleno los NaNs"
      ],
      "metadata": {
        "id": "vck1ukMxCUoE"
      }
    },
    {
      "cell_type": "markdown",
      "source": [
        "###Relleno NaNs en X_train"
      ],
      "metadata": {
        "id": "KJUGn2XBK76a"
      }
    },
    {
      "cell_type": "code",
      "source": [
        "X_train.info()"
      ],
      "metadata": {
        "colab": {
          "base_uri": "https://localhost:8080/"
        },
        "id": "lG4J5dc-BfNc",
        "outputId": "674215a5-20b1-4cce-d86f-79d7caf00634"
      },
      "execution_count": null,
      "outputs": [
        {
          "output_type": "stream",
          "name": "stdout",
          "text": [
            "<class 'pandas.core.frame.DataFrame'>\n",
            "Int64Index: 49465 entries, 34760 to 57712\n",
            "Data columns (total 20 columns):\n",
            " #   Column                Non-Null Count  Dtype  \n",
            "---  ------                --------------  -----  \n",
            " 0   cap-diameter          49465 non-null  float64\n",
            " 1   cap-shape             49465 non-null  object \n",
            " 2   cap-surface           37940 non-null  object \n",
            " 3   cap-color             49465 non-null  object \n",
            " 4   does-bruise-or-bleed  49465 non-null  object \n",
            " 5   gill-attachment       41413 non-null  object \n",
            " 6   gill-spacing          29137 non-null  object \n",
            " 7   gill-color            49465 non-null  object \n",
            " 8   stem-height           49465 non-null  float64\n",
            " 9   stem-width            49465 non-null  float64\n",
            " 10  stem-root             7755 non-null   object \n",
            " 11  stem-surface          18525 non-null  object \n",
            " 12  stem-color            49465 non-null  object \n",
            " 13  veil-type             2598 non-null   object \n",
            " 14  veil-color            6043 non-null   object \n",
            " 15  has-ring              49465 non-null  object \n",
            " 16  ring-type             47450 non-null  object \n",
            " 17  spore-print-color     5149 non-null   object \n",
            " 18  habitat               49465 non-null  object \n",
            " 19  season                49465 non-null  object \n",
            "dtypes: float64(3), object(17)\n",
            "memory usage: 7.9+ MB\n"
          ]
        }
      ]
    },
    {
      "cell_type": "markdown",
      "source": [
        "Con esta información puedo ver qué columnas tienen NaNs y cuántos tienen."
      ],
      "metadata": {
        "id": "1Vx81Q0dKgAw"
      }
    },
    {
      "cell_type": "code",
      "source": [
        "#En cap-surface tengo 11525 NaNs y en la documentación del dataset no hace referencia a que signifique nada particular\n",
        "print(X_train.groupby(\"cap-surface\").size())\n",
        "#Los relleno con una nueva categoria \"Unknown\"\n",
        "X_train[\"cap-surface\"] = X_train[\"cap-surface\"].fillna(\"unknown\")"
      ],
      "metadata": {
        "colab": {
          "base_uri": "https://localhost:8080/"
        },
        "id": "6qXtO78ZLALi",
        "outputId": "2e5c7425-c4ea-420d-f4ea-71a0fa119e2e"
      },
      "execution_count": null,
      "outputs": [
        {
          "output_type": "stream",
          "name": "stdout",
          "text": [
            "cap-surface\n",
            "d    3524\n",
            "e    2112\n",
            "g    3806\n",
            "h    4014\n",
            "i    1806\n",
            "k    1852\n",
            "l    1153\n",
            "s    6167\n",
            "t    6629\n",
            "w    1753\n",
            "y    5124\n",
            "dtype: int64\n"
          ]
        }
      ]
    },
    {
      "cell_type": "code",
      "source": [
        "#gill-attachment (8052 NaNs)\n",
        "print(X_train.groupby(\"gill-attachment\").size())\n",
        "#Los relleno con \"Unknown\"\n",
        "X_train[\"gill-attachment\"] = X_train[\"gill-attachment\"].fillna(\"unknown\")"
      ],
      "metadata": {
        "colab": {
          "base_uri": "https://localhost:8080/"
        },
        "id": "HaKwq45CN9PB",
        "outputId": "167a1dfc-f088-4afc-fa6b-cb74f3db0feb"
      },
      "execution_count": null,
      "outputs": [
        {
          "output_type": "stream",
          "name": "stdout",
          "text": [
            "gill-attachment\n",
            "a    10279\n",
            "d     8281\n",
            "e     4591\n",
            "f     2862\n",
            "p     4805\n",
            "s     4590\n",
            "x     6005\n",
            "dtype: int64\n"
          ]
        }
      ]
    },
    {
      "cell_type": "code",
      "source": [
        "#gill-spacing (20328 NaNs)\n",
        "print(X_train.groupby(\"gill-spacing\").size())\n",
        "X_train[\"gill-spacing\"] = X_train[\"gill-spacing\"].fillna(\"unknown\")"
      ],
      "metadata": {
        "colab": {
          "base_uri": "https://localhost:8080/"
        },
        "id": "77OrJtPzO1UY",
        "outputId": "2afad942-31bc-483c-c538-102892801c70"
      },
      "execution_count": null,
      "outputs": [
        {
          "output_type": "stream",
          "name": "stdout",
          "text": [
            "gill-spacing\n",
            "c    20024\n",
            "d     6251\n",
            "f     2862\n",
            "dtype: int64\n"
          ]
        }
      ]
    },
    {
      "cell_type": "code",
      "source": [
        "#stem-root (41710 NaNs)\n",
        "print(X_train.groupby(\"stem-root\").size())\n",
        "X_train[\"stem-root\"] = X_train[\"stem-root\"].fillna(\"unknown\")"
      ],
      "metadata": {
        "colab": {
          "base_uri": "https://localhost:8080/"
        },
        "id": "5ztkBqzNSQL5",
        "outputId": "d08e7046-e9af-4e7d-d4ba-e9442569eecc"
      },
      "execution_count": null,
      "outputs": [
        {
          "output_type": "stream",
          "name": "stdout",
          "text": [
            "stem-root\n",
            "b    2602\n",
            "c     568\n",
            "f     848\n",
            "r    1144\n",
            "s    2593\n",
            "dtype: int64\n"
          ]
        }
      ]
    },
    {
      "cell_type": "code",
      "source": [
        "#stem-surface (30940 NaNs)\n",
        "print(X_train.groupby(\"stem-surface\").size())\n",
        "X_train[\"stem-surface\"] = X_train[\"stem-surface\"].fillna(\"unknown\")"
      ],
      "metadata": {
        "colab": {
          "base_uri": "https://localhost:8080/"
        },
        "id": "4s7ThtxhSd68",
        "outputId": "5ba993b5-4054-4894-8e62-8dc4e5c0ffd5"
      },
      "execution_count": null,
      "outputs": [
        {
          "output_type": "stream",
          "name": "stdout",
          "text": [
            "stem-surface\n",
            "f     848\n",
            "g    1438\n",
            "h     424\n",
            "i    3535\n",
            "k    1266\n",
            "s    4862\n",
            "t    2143\n",
            "y    4009\n",
            "dtype: int64\n"
          ]
        }
      ]
    },
    {
      "cell_type": "code",
      "source": [
        "#veil-type (46867 NaNs) Dado que solo hay de tipo u=universal, se asume que los NaNs=partial por lo que se reemplazan con p\n",
        "print(X_train.groupby(\"veil-type\").size())\n",
        "X_train[\"veil-type\"] = X_train[\"veil-type\"].fillna(\"p\")"
      ],
      "metadata": {
        "colab": {
          "base_uri": "https://localhost:8080/"
        },
        "id": "6dJt69Q7S_Vw",
        "outputId": "9dd13da4-48b2-47da-e620-3b343f3dae29"
      },
      "execution_count": null,
      "outputs": [
        {
          "output_type": "stream",
          "name": "stdout",
          "text": [
            "veil-type\n",
            "u    2598\n",
            "dtype: int64\n"
          ]
        }
      ]
    },
    {
      "cell_type": "code",
      "source": [
        "#veil-color (43422 NaNs) Como según el dataset f=none, NaN podría ser Unknown\n",
        "print(X_train.groupby(\"veil-color\").size())\n",
        "X_train[\"veil-color\"] = X_train[\"veil-color\"].fillna(\"unknown\")"
      ],
      "metadata": {
        "colab": {
          "base_uri": "https://localhost:8080/"
        },
        "id": "ofgdeMpHTtMA",
        "outputId": "646da1fa-c403-47f6-c473-75a91d8dec91"
      },
      "execution_count": null,
      "outputs": [
        {
          "output_type": "stream",
          "name": "stdout",
          "text": [
            "veil-color\n",
            "e     151\n",
            "k     292\n",
            "n     416\n",
            "u     286\n",
            "w    4465\n",
            "y     433\n",
            "dtype: int64\n"
          ]
        }
      ]
    },
    {
      "cell_type": "code",
      "source": [
        "#ring-type (1974 NaNs) Como f representa casi el total, puedo reemplazar los \"pocos\" faltantes por f,\n",
        "#además el dataset indica que los NaNs hacen referencia a que no se sabe el tipo de dato, por lo que no está mal rellenarlo.\n",
        "print(X_train.groupby(\"ring-type\").size())\n",
        "X_train[\"ring-type\"] = X_train[\"ring-type\"].fillna(\"f\")"
      ],
      "metadata": {
        "colab": {
          "base_uri": "https://localhost:8080/"
        },
        "id": "-jHXwFrGUdII",
        "outputId": "676df50e-3e10-4346-9428-2ab130b1f3aa"
      },
      "execution_count": null,
      "outputs": [
        {
          "output_type": "stream",
          "name": "stdout",
          "text": [
            "ring-type\n",
            "e     1959\n",
            "f    39108\n",
            "g     1025\n",
            "l     1165\n",
            "m      292\n",
            "p     1035\n",
            "r     1155\n",
            "z     1711\n",
            "dtype: int64\n"
          ]
        }
      ]
    },
    {
      "cell_type": "code",
      "source": [
        "#spore-print-color (44316 NaNs)\n",
        "print(X_train.groupby(\"spore-print-color\").size())\n",
        "#Podria intentar rellenarlo aleatoriamente con fillna(method='ffill'), pero hay demasiados NaNs, por lo que uso \"unknown\"\n",
        "X_train[\"spore-print-color\"] = X_train[\"spore-print-color\"].fillna(\"unknown\")"
      ],
      "metadata": {
        "colab": {
          "base_uri": "https://localhost:8080/"
        },
        "id": "-OlFgUqrVtko",
        "outputId": "ee8f9dd9-3747-4725-b926-2c215fbf8477"
      },
      "execution_count": null,
      "outputs": [
        {
          "output_type": "stream",
          "name": "stdout",
          "text": [
            "spore-print-color\n",
            "g     294\n",
            "k    1715\n",
            "n     852\n",
            "p    1013\n",
            "r     140\n",
            "u     152\n",
            "w     983\n",
            "dtype: int64\n"
          ]
        }
      ]
    },
    {
      "cell_type": "code",
      "source": [
        "X_train.info()"
      ],
      "metadata": {
        "colab": {
          "base_uri": "https://localhost:8080/"
        },
        "id": "An-n0yk6NmC0",
        "outputId": "80aa1a2a-6adc-4108-a755-cc6c6edefa4c"
      },
      "execution_count": null,
      "outputs": [
        {
          "output_type": "stream",
          "name": "stdout",
          "text": [
            "<class 'pandas.core.frame.DataFrame'>\n",
            "Int64Index: 49465 entries, 34760 to 57712\n",
            "Data columns (total 20 columns):\n",
            " #   Column                Non-Null Count  Dtype  \n",
            "---  ------                --------------  -----  \n",
            " 0   cap-diameter          49465 non-null  float64\n",
            " 1   cap-shape             49465 non-null  object \n",
            " 2   cap-surface           49465 non-null  object \n",
            " 3   cap-color             49465 non-null  object \n",
            " 4   does-bruise-or-bleed  49465 non-null  object \n",
            " 5   gill-attachment       49465 non-null  object \n",
            " 6   gill-spacing          49465 non-null  object \n",
            " 7   gill-color            49465 non-null  object \n",
            " 8   stem-height           49465 non-null  float64\n",
            " 9   stem-width            49465 non-null  float64\n",
            " 10  stem-root             49465 non-null  object \n",
            " 11  stem-surface          49465 non-null  object \n",
            " 12  stem-color            49465 non-null  object \n",
            " 13  veil-type             49465 non-null  object \n",
            " 14  veil-color            49465 non-null  object \n",
            " 15  has-ring              49465 non-null  object \n",
            " 16  ring-type             49465 non-null  object \n",
            " 17  spore-print-color     49465 non-null  object \n",
            " 18  habitat               49465 non-null  object \n",
            " 19  season                49465 non-null  object \n",
            "dtypes: float64(3), object(17)\n",
            "memory usage: 7.9+ MB\n"
          ]
        }
      ]
    },
    {
      "cell_type": "markdown",
      "source": [
        "Entonces ahora se puede ver que el dataset X_train ya no tiene valores NaNs"
      ],
      "metadata": {
        "id": "GIfS8-xxGKB-"
      }
    },
    {
      "cell_type": "markdown",
      "source": [
        "### Relleno los NaNs en X_validation"
      ],
      "metadata": {
        "id": "0P_Yk55CUMxc"
      }
    },
    {
      "cell_type": "code",
      "source": [
        "X_validation[\"cap-surface\"] = X_validation[\"cap-surface\"].fillna(\"unknown\")\n",
        "X_validation[\"gill-attachment\"] = X_validation[\"gill-attachment\"].fillna(\"unknown\")\n",
        "X_validation[\"gill-spacing\"] = X_validation[\"gill-spacing\"].fillna(\"unknown\")\n",
        "X_validation[\"stem-root\"] = X_validation[\"stem-root\"].fillna(\"unknown\")\n",
        "X_validation[\"stem-surface\"] = X_validation[\"stem-surface\"].fillna(\"unknown\")\n",
        "X_validation[\"veil-type\"] = X_validation[\"veil-type\"].fillna(\"p\")\n",
        "X_validation[\"veil-color\"] = X_validation[\"veil-color\"].fillna(\"unknown\")\n",
        "X_validation[\"ring-type\"] = X_validation[\"ring-type\"].fillna(\"f\")\n",
        "X_validation[\"spore-print-color\"] = X_validation[\"spore-print-color\"].fillna(\"unknown\")"
      ],
      "metadata": {
        "id": "Kilw06Y6Uioe"
      },
      "execution_count": null,
      "outputs": []
    },
    {
      "cell_type": "code",
      "source": [
        "X_validation.info()"
      ],
      "metadata": {
        "colab": {
          "base_uri": "https://localhost:8080/"
        },
        "id": "aN_8FUUtVvPM",
        "outputId": "8046ea0e-213f-4682-bbcd-5f5282cb661a"
      },
      "execution_count": null,
      "outputs": [
        {
          "output_type": "stream",
          "name": "stdout",
          "text": [
            "<class 'pandas.core.frame.DataFrame'>\n",
            "Int64Index: 5497 entries, 35132 to 58126\n",
            "Data columns (total 20 columns):\n",
            " #   Column                Non-Null Count  Dtype  \n",
            "---  ------                --------------  -----  \n",
            " 0   cap-diameter          5497 non-null   float64\n",
            " 1   cap-shape             5497 non-null   object \n",
            " 2   cap-surface           5497 non-null   object \n",
            " 3   cap-color             5497 non-null   object \n",
            " 4   does-bruise-or-bleed  5497 non-null   object \n",
            " 5   gill-attachment       5497 non-null   object \n",
            " 6   gill-spacing          5497 non-null   object \n",
            " 7   gill-color            5497 non-null   object \n",
            " 8   stem-height           5497 non-null   float64\n",
            " 9   stem-width            5497 non-null   float64\n",
            " 10  stem-root             5497 non-null   object \n",
            " 11  stem-surface          5497 non-null   object \n",
            " 12  stem-color            5497 non-null   object \n",
            " 13  veil-type             5497 non-null   object \n",
            " 14  veil-color            5497 non-null   object \n",
            " 15  has-ring              5497 non-null   object \n",
            " 16  ring-type             5497 non-null   object \n",
            " 17  spore-print-color     5497 non-null   object \n",
            " 18  habitat               5497 non-null   object \n",
            " 19  season                5497 non-null   object \n",
            "dtypes: float64(3), object(17)\n",
            "memory usage: 901.9+ KB\n"
          ]
        }
      ]
    },
    {
      "cell_type": "markdown",
      "source": [
        "###Relleno los NaNs en X_test"
      ],
      "metadata": {
        "id": "XTHBfLQkGynh"
      }
    },
    {
      "cell_type": "markdown",
      "source": [
        "Ahora relleno los NaNs de X_test (Se hace por separado para que no se pueda filtrar información del train_set al test_set)"
      ],
      "metadata": {
        "id": "gUyxHMBcEpEn"
      }
    },
    {
      "cell_type": "code",
      "source": [
        "print(X_test.groupby(\"cap-surface\").size())\n",
        "#Los relleno con una nueva categoria \"Unknown\"\n",
        "X_test[\"cap-surface\"] = X_test[\"cap-surface\"].fillna(\"unknown\")"
      ],
      "metadata": {
        "colab": {
          "base_uri": "https://localhost:8080/"
        },
        "id": "Pcf0coq-Enle",
        "outputId": "bfc4150c-1e22-4bb7-f928-968a5193f447"
      },
      "execution_count": null,
      "outputs": [
        {
          "output_type": "stream",
          "name": "stdout",
          "text": [
            "cap-surface\n",
            "d    467\n",
            "e    250\n",
            "g    479\n",
            "h    504\n",
            "i    212\n",
            "k    224\n",
            "l    139\n",
            "s    784\n",
            "t    820\n",
            "w    200\n",
            "y    627\n",
            "dtype: int64\n"
          ]
        }
      ]
    },
    {
      "cell_type": "code",
      "source": [
        "print(X_test.groupby(\"gill-attachment\").size())\n",
        "#Los relleno con \"Unknown\"\n",
        "X_test[\"gill-attachment\"] = X_test[\"gill-attachment\"].fillna(\"unknown\")"
      ],
      "metadata": {
        "colab": {
          "base_uri": "https://localhost:8080/"
        },
        "id": "PQ_5FXsAE-BO",
        "outputId": "00014bee-bc44-4400-ccfb-90f6fb76e607"
      },
      "execution_count": null,
      "outputs": [
        {
          "output_type": "stream",
          "name": "stdout",
          "text": [
            "gill-attachment\n",
            "a    1292\n",
            "d    1030\n",
            "e     572\n",
            "f     365\n",
            "p     620\n",
            "s     553\n",
            "x     720\n",
            "dtype: int64\n"
          ]
        }
      ]
    },
    {
      "cell_type": "code",
      "source": [
        "print(X_test.groupby(\"gill-spacing\").size())\n",
        "X_test[\"gill-spacing\"] = X_test[\"gill-spacing\"].fillna(\"unknown\")"
      ],
      "metadata": {
        "colab": {
          "base_uri": "https://localhost:8080/"
        },
        "id": "aXr2tPgHFMc0",
        "outputId": "abae8c5d-280e-498b-f72d-dd39607a403f"
      },
      "execution_count": null,
      "outputs": [
        {
          "output_type": "stream",
          "name": "stdout",
          "text": [
            "gill-spacing\n",
            "c    2462\n",
            "d     784\n",
            "f     365\n",
            "dtype: int64\n"
          ]
        }
      ]
    },
    {
      "cell_type": "code",
      "source": [
        "print(X_test.groupby(\"stem-root\").size())\n",
        "X_test[\"stem-root\"] = X_test[\"stem-root\"].fillna(\"unknown\")"
      ],
      "metadata": {
        "colab": {
          "base_uri": "https://localhost:8080/"
        },
        "id": "iS9iuZuhFUFi",
        "outputId": "1c4f46a3-017d-4ecd-8314-9a9881b7651b"
      },
      "execution_count": null,
      "outputs": [
        {
          "output_type": "stream",
          "name": "stdout",
          "text": [
            "stem-root\n",
            "b    289\n",
            "c     78\n",
            "f    125\n",
            "r    132\n",
            "s    315\n",
            "dtype: int64\n"
          ]
        }
      ]
    },
    {
      "cell_type": "code",
      "source": [
        "print(X_test.groupby(\"stem-surface\").size())\n",
        "X_test[\"stem-surface\"] = X_test[\"stem-surface\"].fillna(\"unknown\")"
      ],
      "metadata": {
        "colab": {
          "base_uri": "https://localhost:8080/"
        },
        "id": "uHOuC5xtFd9z",
        "outputId": "a25f5ccc-bcc9-436d-b266-9b2e1308b687"
      },
      "execution_count": null,
      "outputs": [
        {
          "output_type": "stream",
          "name": "stdout",
          "text": [
            "stem-surface\n",
            "f    125\n",
            "g    173\n",
            "h     69\n",
            "i    445\n",
            "k    158\n",
            "s    630\n",
            "t    260\n",
            "y    491\n",
            "dtype: int64\n"
          ]
        }
      ]
    },
    {
      "cell_type": "code",
      "source": [
        "print(X_test.groupby(\"veil-type\").size())\n",
        "X_test[\"veil-type\"] = X_test[\"veil-type\"].fillna(\"p\")"
      ],
      "metadata": {
        "colab": {
          "base_uri": "https://localhost:8080/"
        },
        "id": "CcfD9mrbFkUh",
        "outputId": "ab1ea7bc-6705-4729-8cc8-05c5df4048e8"
      },
      "execution_count": null,
      "outputs": [
        {
          "output_type": "stream",
          "name": "stdout",
          "text": [
            "veil-type\n",
            "u    318\n",
            "dtype: int64\n"
          ]
        }
      ]
    },
    {
      "cell_type": "code",
      "source": [
        "print(X_test.groupby(\"veil-color\").size())\n",
        "X_test[\"veil-color\"] = X_test[\"veil-color\"].fillna(\"unknown\")"
      ],
      "metadata": {
        "colab": {
          "base_uri": "https://localhost:8080/"
        },
        "id": "aQaPpUvxFtB3",
        "outputId": "2101eacc-5a8d-4709-dff9-4872b11f4416"
      },
      "execution_count": null,
      "outputs": [
        {
          "output_type": "stream",
          "name": "stdout",
          "text": [
            "veil-color\n",
            "e     14\n",
            "k     32\n",
            "n     68\n",
            "u     38\n",
            "w    550\n",
            "y     40\n",
            "dtype: int64\n"
          ]
        }
      ]
    },
    {
      "cell_type": "code",
      "source": [
        "print(X_test.groupby(\"ring-type\").size())\n",
        "X_test[\"ring-type\"] = X_test[\"ring-type\"].fillna(\"f\")"
      ],
      "metadata": {
        "colab": {
          "base_uri": "https://localhost:8080/"
        },
        "id": "8iHoGu1uF2H2",
        "outputId": "9dba563b-ab1d-4cb5-dc35-44b776d6e785"
      },
      "execution_count": null,
      "outputs": [
        {
          "output_type": "stream",
          "name": "stdout",
          "text": [
            "ring-type\n",
            "e     257\n",
            "f    4860\n",
            "g     120\n",
            "l     145\n",
            "m      30\n",
            "p     119\n",
            "r     132\n",
            "z     232\n",
            "dtype: int64\n"
          ]
        }
      ]
    },
    {
      "cell_type": "code",
      "source": [
        "print(X_test.groupby(\"spore-print-color\").size())\n",
        "X_test[\"spore-print-color\"] = X_test[\"spore-print-color\"].fillna(\"unknown\")"
      ],
      "metadata": {
        "colab": {
          "base_uri": "https://localhost:8080/"
        },
        "id": "McW_A4_zF75H",
        "outputId": "393165a6-baab-47d2-e14f-bbf9ce1793f5"
      },
      "execution_count": null,
      "outputs": [
        {
          "output_type": "stream",
          "name": "stdout",
          "text": [
            "spore-print-color\n",
            "g     34\n",
            "k    225\n",
            "n    105\n",
            "p    132\n",
            "r     17\n",
            "u     16\n",
            "w    114\n",
            "dtype: int64\n"
          ]
        }
      ]
    },
    {
      "cell_type": "code",
      "source": [
        "X_test.info()"
      ],
      "metadata": {
        "colab": {
          "base_uri": "https://localhost:8080/"
        },
        "id": "PDANDb2QGVlD",
        "outputId": "ea875cc3-3f95-4992-8e1c-b9901a581d11"
      },
      "execution_count": null,
      "outputs": [
        {
          "output_type": "stream",
          "name": "stdout",
          "text": [
            "<class 'pandas.core.frame.DataFrame'>\n",
            "Int64Index: 6107 entries, 39238 to 18221\n",
            "Data columns (total 20 columns):\n",
            " #   Column                Non-Null Count  Dtype  \n",
            "---  ------                --------------  -----  \n",
            " 0   cap-diameter          6107 non-null   float64\n",
            " 1   cap-shape             6107 non-null   object \n",
            " 2   cap-surface           6107 non-null   object \n",
            " 3   cap-color             6107 non-null   object \n",
            " 4   does-bruise-or-bleed  6107 non-null   object \n",
            " 5   gill-attachment       6107 non-null   object \n",
            " 6   gill-spacing          6107 non-null   object \n",
            " 7   gill-color            6107 non-null   object \n",
            " 8   stem-height           6107 non-null   float64\n",
            " 9   stem-width            6107 non-null   float64\n",
            " 10  stem-root             6107 non-null   object \n",
            " 11  stem-surface          6107 non-null   object \n",
            " 12  stem-color            6107 non-null   object \n",
            " 13  veil-type             6107 non-null   object \n",
            " 14  veil-color            6107 non-null   object \n",
            " 15  has-ring              6107 non-null   object \n",
            " 16  ring-type             6107 non-null   object \n",
            " 17  spore-print-color     6107 non-null   object \n",
            " 18  habitat               6107 non-null   object \n",
            " 19  season                6107 non-null   object \n",
            "dtypes: float64(3), object(17)\n",
            "memory usage: 1001.9+ KB\n"
          ]
        }
      ]
    },
    {
      "cell_type": "markdown",
      "source": [
        "##Encodeo los features"
      ],
      "metadata": {
        "id": "rRoovFXBDfxi"
      }
    },
    {
      "cell_type": "markdown",
      "source": [
        "Uso BinaryEncoding para aquellas columnas que tienen muchas categorías diferentes (como los colores) y OneHotEncoding para aquellas que no"
      ],
      "metadata": {
        "id": "iAp0VxI9pbXM"
      }
    },
    {
      "cell_type": "code",
      "source": [
        "def hot_encode(column_name, train_set, validation_set, test_set):\n",
        "  ohe = OneHotEncoder() #drop='first'\n",
        "\n",
        "  encoded_matrix = ohe.fit_transform(X_train[[column_name]]).todense().astype(int)\n",
        "  encoded_matrix_validation = ohe.transform(X_validation[[column_name]]).todense().astype(int)\n",
        "  encoded_matrix_test = ohe.transform(X_test[[column_name]]).todense().astype(int)\n",
        "\n",
        "  train_set = train_set.reset_index().drop(['index', column_name],axis=1).join(pd.DataFrame(encoded_matrix, columns=list(ohe.get_feature_names_out())))\n",
        "  validation_set = validation_set.reset_index().drop(['index', column_name],axis=1).join(pd.DataFrame(encoded_matrix_validation, columns=list(ohe.get_feature_names_out())))\n",
        "  test_set = test_set.reset_index().drop(['index', column_name],axis=1).join(pd.DataFrame(encoded_matrix_test, columns=list(ohe.get_feature_names_out())))\n",
        "\n",
        "  return train_set, validation_set, test_set\n",
        "\n",
        "\n",
        "def binary_encode(column_name, train_set, validation_set, test_set):\n",
        "  binary_encoder = BinaryEncoder()\n",
        "\n",
        "  encoded_column = binary_encoder.fit_transform(train_set[[column_name]]).astype(int)\n",
        "  encoded_column_validation = binary_encoder.transform(validation_set[[column_name]]).astype(int)\n",
        "  encoded_column_test = binary_encoder.transform(test_set[[column_name]]).astype(int)\n",
        "\n",
        "  train_set = train_set.drop(columns=[column_name])\n",
        "  train_set = train_set.join(encoded_column)\n",
        "\n",
        "  validation_set = validation_set.drop(columns=[column_name])\n",
        "  validation_set = validation_set.join(encoded_column_validation)\n",
        "\n",
        "  test_set = test_set.drop(columns=[column_name])\n",
        "  test_set = test_set.join(encoded_column_test)\n",
        "\n",
        "  return train_set, validation_set, test_set"
      ],
      "metadata": {
        "id": "0DY8Wx-84ms4"
      },
      "execution_count": null,
      "outputs": []
    },
    {
      "cell_type": "code",
      "source": [
        "X_train, X_validation, X_test = binary_encode(\"cap-color\", X_train, X_validation, X_test)\n",
        "X_train, X_validation, X_test = binary_encode(\"gill-color\", X_train, X_validation, X_test)\n",
        "X_train, X_validation, X_test = binary_encode(\"spore-print-color\", X_train, X_validation, X_test)\n",
        "X_train, X_validation, X_test = binary_encode(\"stem-color\", X_train, X_validation, X_test)\n",
        "\n",
        "X_train, X_validation, X_test = hot_encode(\"cap-shape\", X_train, X_validation, X_test)\n",
        "X_train, X_validation, X_test = hot_encode(\"cap-surface\", X_train, X_validation, X_test)\n",
        "X_train, X_validation, X_test = hot_encode(\"does-bruise-or-bleed\", X_train, X_validation, X_test)\n",
        "X_train, X_validation, X_test = hot_encode(\"gill-attachment\", X_train, X_validation, X_test)\n",
        "X_train, X_validation, X_test = hot_encode(\"gill-spacing\", X_train, X_validation, X_test)\n",
        "X_train, X_validation, X_test = hot_encode(\"stem-root\", X_train, X_validation, X_test)\n",
        "X_train, X_validation, X_test = hot_encode(\"stem-surface\", X_train, X_validation, X_test)\n",
        "X_train, X_validation, X_test = hot_encode(\"veil-type\", X_train, X_validation, X_test)\n",
        "X_train, X_validation, X_test = hot_encode(\"veil-color\", X_train, X_validation, X_test)\n",
        "X_train, X_validation, X_test = hot_encode(\"has-ring\", X_train, X_validation, X_test)\n",
        "X_train, X_validation, X_test = hot_encode(\"ring-type\", X_train, X_validation, X_test)\n",
        "X_train, X_validation, X_test = hot_encode(\"habitat\", X_train, X_validation, X_test)\n",
        "X_train, X_validation, X_test = hot_encode(\"season\", X_train, X_validation, X_test)\n"
      ],
      "metadata": {
        "id": "QfQgGnAO5-8_"
      },
      "execution_count": null,
      "outputs": []
    },
    {
      "cell_type": "code",
      "source": [
        "X_train.info()"
      ],
      "metadata": {
        "colab": {
          "base_uri": "https://localhost:8080/"
        },
        "id": "90QUFa5fK0PL",
        "outputId": "90fa25af-9a9d-4dff-8f7e-1d21fda8c3e0"
      },
      "execution_count": null,
      "outputs": [
        {
          "output_type": "stream",
          "name": "stdout",
          "text": [
            "<class 'pandas.core.frame.DataFrame'>\n",
            "RangeIndex: 49465 entries, 0 to 49464\n",
            "Data columns (total 98 columns):\n",
            " #   Column                   Non-Null Count  Dtype  \n",
            "---  ------                   --------------  -----  \n",
            " 0   cap-diameter             49465 non-null  float64\n",
            " 1   stem-height              49465 non-null  float64\n",
            " 2   stem-width               49465 non-null  float64\n",
            " 3   cap-color_0              49465 non-null  int64  \n",
            " 4   cap-color_1              49465 non-null  int64  \n",
            " 5   cap-color_2              49465 non-null  int64  \n",
            " 6   cap-color_3              49465 non-null  int64  \n",
            " 7   gill-color_0             49465 non-null  int64  \n",
            " 8   gill-color_1             49465 non-null  int64  \n",
            " 9   gill-color_2             49465 non-null  int64  \n",
            " 10  gill-color_3             49465 non-null  int64  \n",
            " 11  spore-print-color_0      49465 non-null  int64  \n",
            " 12  spore-print-color_1      49465 non-null  int64  \n",
            " 13  spore-print-color_2      49465 non-null  int64  \n",
            " 14  spore-print-color_3      49465 non-null  int64  \n",
            " 15  stem-color_0             49465 non-null  int64  \n",
            " 16  stem-color_1             49465 non-null  int64  \n",
            " 17  stem-color_2             49465 non-null  int64  \n",
            " 18  stem-color_3             49465 non-null  int64  \n",
            " 19  cap-shape_b              49465 non-null  int64  \n",
            " 20  cap-shape_c              49465 non-null  int64  \n",
            " 21  cap-shape_f              49465 non-null  int64  \n",
            " 22  cap-shape_o              49465 non-null  int64  \n",
            " 23  cap-shape_p              49465 non-null  int64  \n",
            " 24  cap-shape_s              49465 non-null  int64  \n",
            " 25  cap-shape_x              49465 non-null  int64  \n",
            " 26  cap-surface_d            49465 non-null  int64  \n",
            " 27  cap-surface_e            49465 non-null  int64  \n",
            " 28  cap-surface_g            49465 non-null  int64  \n",
            " 29  cap-surface_h            49465 non-null  int64  \n",
            " 30  cap-surface_i            49465 non-null  int64  \n",
            " 31  cap-surface_k            49465 non-null  int64  \n",
            " 32  cap-surface_l            49465 non-null  int64  \n",
            " 33  cap-surface_s            49465 non-null  int64  \n",
            " 34  cap-surface_t            49465 non-null  int64  \n",
            " 35  cap-surface_unknown      49465 non-null  int64  \n",
            " 36  cap-surface_w            49465 non-null  int64  \n",
            " 37  cap-surface_y            49465 non-null  int64  \n",
            " 38  does-bruise-or-bleed_f   49465 non-null  int64  \n",
            " 39  does-bruise-or-bleed_t   49465 non-null  int64  \n",
            " 40  gill-attachment_a        49465 non-null  int64  \n",
            " 41  gill-attachment_d        49465 non-null  int64  \n",
            " 42  gill-attachment_e        49465 non-null  int64  \n",
            " 43  gill-attachment_f        49465 non-null  int64  \n",
            " 44  gill-attachment_p        49465 non-null  int64  \n",
            " 45  gill-attachment_s        49465 non-null  int64  \n",
            " 46  gill-attachment_unknown  49465 non-null  int64  \n",
            " 47  gill-attachment_x        49465 non-null  int64  \n",
            " 48  gill-spacing_c           49465 non-null  int64  \n",
            " 49  gill-spacing_d           49465 non-null  int64  \n",
            " 50  gill-spacing_f           49465 non-null  int64  \n",
            " 51  gill-spacing_unknown     49465 non-null  int64  \n",
            " 52  stem-root_b              49465 non-null  int64  \n",
            " 53  stem-root_c              49465 non-null  int64  \n",
            " 54  stem-root_f              49465 non-null  int64  \n",
            " 55  stem-root_r              49465 non-null  int64  \n",
            " 56  stem-root_s              49465 non-null  int64  \n",
            " 57  stem-root_unknown        49465 non-null  int64  \n",
            " 58  stem-surface_f           49465 non-null  int64  \n",
            " 59  stem-surface_g           49465 non-null  int64  \n",
            " 60  stem-surface_h           49465 non-null  int64  \n",
            " 61  stem-surface_i           49465 non-null  int64  \n",
            " 62  stem-surface_k           49465 non-null  int64  \n",
            " 63  stem-surface_s           49465 non-null  int64  \n",
            " 64  stem-surface_t           49465 non-null  int64  \n",
            " 65  stem-surface_unknown     49465 non-null  int64  \n",
            " 66  stem-surface_y           49465 non-null  int64  \n",
            " 67  veil-type_p              49465 non-null  int64  \n",
            " 68  veil-type_u              49465 non-null  int64  \n",
            " 69  veil-color_e             49465 non-null  int64  \n",
            " 70  veil-color_k             49465 non-null  int64  \n",
            " 71  veil-color_n             49465 non-null  int64  \n",
            " 72  veil-color_u             49465 non-null  int64  \n",
            " 73  veil-color_unknown       49465 non-null  int64  \n",
            " 74  veil-color_w             49465 non-null  int64  \n",
            " 75  veil-color_y             49465 non-null  int64  \n",
            " 76  has-ring_f               49465 non-null  int64  \n",
            " 77  has-ring_t               49465 non-null  int64  \n",
            " 78  ring-type_e              49465 non-null  int64  \n",
            " 79  ring-type_f              49465 non-null  int64  \n",
            " 80  ring-type_g              49465 non-null  int64  \n",
            " 81  ring-type_l              49465 non-null  int64  \n",
            " 82  ring-type_m              49465 non-null  int64  \n",
            " 83  ring-type_p              49465 non-null  int64  \n",
            " 84  ring-type_r              49465 non-null  int64  \n",
            " 85  ring-type_z              49465 non-null  int64  \n",
            " 86  habitat_d                49465 non-null  int64  \n",
            " 87  habitat_g                49465 non-null  int64  \n",
            " 88  habitat_h                49465 non-null  int64  \n",
            " 89  habitat_l                49465 non-null  int64  \n",
            " 90  habitat_m                49465 non-null  int64  \n",
            " 91  habitat_p                49465 non-null  int64  \n",
            " 92  habitat_u                49465 non-null  int64  \n",
            " 93  habitat_w                49465 non-null  int64  \n",
            " 94  season_a                 49465 non-null  int64  \n",
            " 95  season_s                 49465 non-null  int64  \n",
            " 96  season_u                 49465 non-null  int64  \n",
            " 97  season_w                 49465 non-null  int64  \n",
            "dtypes: float64(3), int64(95)\n",
            "memory usage: 37.0 MB\n"
          ]
        }
      ]
    },
    {
      "cell_type": "code",
      "source": [
        "X_validation.info()"
      ],
      "metadata": {
        "colab": {
          "base_uri": "https://localhost:8080/"
        },
        "id": "6xIbCYogXFzD",
        "outputId": "f2ee0ce2-a7bc-4170-d189-6fc4d9d64ffa"
      },
      "execution_count": null,
      "outputs": [
        {
          "output_type": "stream",
          "name": "stdout",
          "text": [
            "<class 'pandas.core.frame.DataFrame'>\n",
            "RangeIndex: 5497 entries, 0 to 5496\n",
            "Data columns (total 98 columns):\n",
            " #   Column                   Non-Null Count  Dtype  \n",
            "---  ------                   --------------  -----  \n",
            " 0   cap-diameter             5497 non-null   float64\n",
            " 1   stem-height              5497 non-null   float64\n",
            " 2   stem-width               5497 non-null   float64\n",
            " 3   cap-color_0              5497 non-null   int64  \n",
            " 4   cap-color_1              5497 non-null   int64  \n",
            " 5   cap-color_2              5497 non-null   int64  \n",
            " 6   cap-color_3              5497 non-null   int64  \n",
            " 7   gill-color_0             5497 non-null   int64  \n",
            " 8   gill-color_1             5497 non-null   int64  \n",
            " 9   gill-color_2             5497 non-null   int64  \n",
            " 10  gill-color_3             5497 non-null   int64  \n",
            " 11  spore-print-color_0      5497 non-null   int64  \n",
            " 12  spore-print-color_1      5497 non-null   int64  \n",
            " 13  spore-print-color_2      5497 non-null   int64  \n",
            " 14  spore-print-color_3      5497 non-null   int64  \n",
            " 15  stem-color_0             5497 non-null   int64  \n",
            " 16  stem-color_1             5497 non-null   int64  \n",
            " 17  stem-color_2             5497 non-null   int64  \n",
            " 18  stem-color_3             5497 non-null   int64  \n",
            " 19  cap-shape_b              5497 non-null   int64  \n",
            " 20  cap-shape_c              5497 non-null   int64  \n",
            " 21  cap-shape_f              5497 non-null   int64  \n",
            " 22  cap-shape_o              5497 non-null   int64  \n",
            " 23  cap-shape_p              5497 non-null   int64  \n",
            " 24  cap-shape_s              5497 non-null   int64  \n",
            " 25  cap-shape_x              5497 non-null   int64  \n",
            " 26  cap-surface_d            5497 non-null   int64  \n",
            " 27  cap-surface_e            5497 non-null   int64  \n",
            " 28  cap-surface_g            5497 non-null   int64  \n",
            " 29  cap-surface_h            5497 non-null   int64  \n",
            " 30  cap-surface_i            5497 non-null   int64  \n",
            " 31  cap-surface_k            5497 non-null   int64  \n",
            " 32  cap-surface_l            5497 non-null   int64  \n",
            " 33  cap-surface_s            5497 non-null   int64  \n",
            " 34  cap-surface_t            5497 non-null   int64  \n",
            " 35  cap-surface_unknown      5497 non-null   int64  \n",
            " 36  cap-surface_w            5497 non-null   int64  \n",
            " 37  cap-surface_y            5497 non-null   int64  \n",
            " 38  does-bruise-or-bleed_f   5497 non-null   int64  \n",
            " 39  does-bruise-or-bleed_t   5497 non-null   int64  \n",
            " 40  gill-attachment_a        5497 non-null   int64  \n",
            " 41  gill-attachment_d        5497 non-null   int64  \n",
            " 42  gill-attachment_e        5497 non-null   int64  \n",
            " 43  gill-attachment_f        5497 non-null   int64  \n",
            " 44  gill-attachment_p        5497 non-null   int64  \n",
            " 45  gill-attachment_s        5497 non-null   int64  \n",
            " 46  gill-attachment_unknown  5497 non-null   int64  \n",
            " 47  gill-attachment_x        5497 non-null   int64  \n",
            " 48  gill-spacing_c           5497 non-null   int64  \n",
            " 49  gill-spacing_d           5497 non-null   int64  \n",
            " 50  gill-spacing_f           5497 non-null   int64  \n",
            " 51  gill-spacing_unknown     5497 non-null   int64  \n",
            " 52  stem-root_b              5497 non-null   int64  \n",
            " 53  stem-root_c              5497 non-null   int64  \n",
            " 54  stem-root_f              5497 non-null   int64  \n",
            " 55  stem-root_r              5497 non-null   int64  \n",
            " 56  stem-root_s              5497 non-null   int64  \n",
            " 57  stem-root_unknown        5497 non-null   int64  \n",
            " 58  stem-surface_f           5497 non-null   int64  \n",
            " 59  stem-surface_g           5497 non-null   int64  \n",
            " 60  stem-surface_h           5497 non-null   int64  \n",
            " 61  stem-surface_i           5497 non-null   int64  \n",
            " 62  stem-surface_k           5497 non-null   int64  \n",
            " 63  stem-surface_s           5497 non-null   int64  \n",
            " 64  stem-surface_t           5497 non-null   int64  \n",
            " 65  stem-surface_unknown     5497 non-null   int64  \n",
            " 66  stem-surface_y           5497 non-null   int64  \n",
            " 67  veil-type_p              5497 non-null   int64  \n",
            " 68  veil-type_u              5497 non-null   int64  \n",
            " 69  veil-color_e             5497 non-null   int64  \n",
            " 70  veil-color_k             5497 non-null   int64  \n",
            " 71  veil-color_n             5497 non-null   int64  \n",
            " 72  veil-color_u             5497 non-null   int64  \n",
            " 73  veil-color_unknown       5497 non-null   int64  \n",
            " 74  veil-color_w             5497 non-null   int64  \n",
            " 75  veil-color_y             5497 non-null   int64  \n",
            " 76  has-ring_f               5497 non-null   int64  \n",
            " 77  has-ring_t               5497 non-null   int64  \n",
            " 78  ring-type_e              5497 non-null   int64  \n",
            " 79  ring-type_f              5497 non-null   int64  \n",
            " 80  ring-type_g              5497 non-null   int64  \n",
            " 81  ring-type_l              5497 non-null   int64  \n",
            " 82  ring-type_m              5497 non-null   int64  \n",
            " 83  ring-type_p              5497 non-null   int64  \n",
            " 84  ring-type_r              5497 non-null   int64  \n",
            " 85  ring-type_z              5497 non-null   int64  \n",
            " 86  habitat_d                5497 non-null   int64  \n",
            " 87  habitat_g                5497 non-null   int64  \n",
            " 88  habitat_h                5497 non-null   int64  \n",
            " 89  habitat_l                5497 non-null   int64  \n",
            " 90  habitat_m                5497 non-null   int64  \n",
            " 91  habitat_p                5497 non-null   int64  \n",
            " 92  habitat_u                5497 non-null   int64  \n",
            " 93  habitat_w                5497 non-null   int64  \n",
            " 94  season_a                 5497 non-null   int64  \n",
            " 95  season_s                 5497 non-null   int64  \n",
            " 96  season_u                 5497 non-null   int64  \n",
            " 97  season_w                 5497 non-null   int64  \n",
            "dtypes: float64(3), int64(95)\n",
            "memory usage: 4.1 MB\n"
          ]
        }
      ]
    },
    {
      "cell_type": "code",
      "source": [
        "X_test.info()"
      ],
      "metadata": {
        "colab": {
          "base_uri": "https://localhost:8080/"
        },
        "id": "N3bKa5A2KlTC",
        "outputId": "8704b0a5-be8d-470b-cb54-a47834044781"
      },
      "execution_count": null,
      "outputs": [
        {
          "output_type": "stream",
          "name": "stdout",
          "text": [
            "<class 'pandas.core.frame.DataFrame'>\n",
            "RangeIndex: 6107 entries, 0 to 6106\n",
            "Data columns (total 98 columns):\n",
            " #   Column                   Non-Null Count  Dtype  \n",
            "---  ------                   --------------  -----  \n",
            " 0   cap-diameter             6107 non-null   float64\n",
            " 1   stem-height              6107 non-null   float64\n",
            " 2   stem-width               6107 non-null   float64\n",
            " 3   cap-color_0              6107 non-null   int64  \n",
            " 4   cap-color_1              6107 non-null   int64  \n",
            " 5   cap-color_2              6107 non-null   int64  \n",
            " 6   cap-color_3              6107 non-null   int64  \n",
            " 7   gill-color_0             6107 non-null   int64  \n",
            " 8   gill-color_1             6107 non-null   int64  \n",
            " 9   gill-color_2             6107 non-null   int64  \n",
            " 10  gill-color_3             6107 non-null   int64  \n",
            " 11  spore-print-color_0      6107 non-null   int64  \n",
            " 12  spore-print-color_1      6107 non-null   int64  \n",
            " 13  spore-print-color_2      6107 non-null   int64  \n",
            " 14  spore-print-color_3      6107 non-null   int64  \n",
            " 15  stem-color_0             6107 non-null   int64  \n",
            " 16  stem-color_1             6107 non-null   int64  \n",
            " 17  stem-color_2             6107 non-null   int64  \n",
            " 18  stem-color_3             6107 non-null   int64  \n",
            " 19  cap-shape_b              6107 non-null   int64  \n",
            " 20  cap-shape_c              6107 non-null   int64  \n",
            " 21  cap-shape_f              6107 non-null   int64  \n",
            " 22  cap-shape_o              6107 non-null   int64  \n",
            " 23  cap-shape_p              6107 non-null   int64  \n",
            " 24  cap-shape_s              6107 non-null   int64  \n",
            " 25  cap-shape_x              6107 non-null   int64  \n",
            " 26  cap-surface_d            6107 non-null   int64  \n",
            " 27  cap-surface_e            6107 non-null   int64  \n",
            " 28  cap-surface_g            6107 non-null   int64  \n",
            " 29  cap-surface_h            6107 non-null   int64  \n",
            " 30  cap-surface_i            6107 non-null   int64  \n",
            " 31  cap-surface_k            6107 non-null   int64  \n",
            " 32  cap-surface_l            6107 non-null   int64  \n",
            " 33  cap-surface_s            6107 non-null   int64  \n",
            " 34  cap-surface_t            6107 non-null   int64  \n",
            " 35  cap-surface_unknown      6107 non-null   int64  \n",
            " 36  cap-surface_w            6107 non-null   int64  \n",
            " 37  cap-surface_y            6107 non-null   int64  \n",
            " 38  does-bruise-or-bleed_f   6107 non-null   int64  \n",
            " 39  does-bruise-or-bleed_t   6107 non-null   int64  \n",
            " 40  gill-attachment_a        6107 non-null   int64  \n",
            " 41  gill-attachment_d        6107 non-null   int64  \n",
            " 42  gill-attachment_e        6107 non-null   int64  \n",
            " 43  gill-attachment_f        6107 non-null   int64  \n",
            " 44  gill-attachment_p        6107 non-null   int64  \n",
            " 45  gill-attachment_s        6107 non-null   int64  \n",
            " 46  gill-attachment_unknown  6107 non-null   int64  \n",
            " 47  gill-attachment_x        6107 non-null   int64  \n",
            " 48  gill-spacing_c           6107 non-null   int64  \n",
            " 49  gill-spacing_d           6107 non-null   int64  \n",
            " 50  gill-spacing_f           6107 non-null   int64  \n",
            " 51  gill-spacing_unknown     6107 non-null   int64  \n",
            " 52  stem-root_b              6107 non-null   int64  \n",
            " 53  stem-root_c              6107 non-null   int64  \n",
            " 54  stem-root_f              6107 non-null   int64  \n",
            " 55  stem-root_r              6107 non-null   int64  \n",
            " 56  stem-root_s              6107 non-null   int64  \n",
            " 57  stem-root_unknown        6107 non-null   int64  \n",
            " 58  stem-surface_f           6107 non-null   int64  \n",
            " 59  stem-surface_g           6107 non-null   int64  \n",
            " 60  stem-surface_h           6107 non-null   int64  \n",
            " 61  stem-surface_i           6107 non-null   int64  \n",
            " 62  stem-surface_k           6107 non-null   int64  \n",
            " 63  stem-surface_s           6107 non-null   int64  \n",
            " 64  stem-surface_t           6107 non-null   int64  \n",
            " 65  stem-surface_unknown     6107 non-null   int64  \n",
            " 66  stem-surface_y           6107 non-null   int64  \n",
            " 67  veil-type_p              6107 non-null   int64  \n",
            " 68  veil-type_u              6107 non-null   int64  \n",
            " 69  veil-color_e             6107 non-null   int64  \n",
            " 70  veil-color_k             6107 non-null   int64  \n",
            " 71  veil-color_n             6107 non-null   int64  \n",
            " 72  veil-color_u             6107 non-null   int64  \n",
            " 73  veil-color_unknown       6107 non-null   int64  \n",
            " 74  veil-color_w             6107 non-null   int64  \n",
            " 75  veil-color_y             6107 non-null   int64  \n",
            " 76  has-ring_f               6107 non-null   int64  \n",
            " 77  has-ring_t               6107 non-null   int64  \n",
            " 78  ring-type_e              6107 non-null   int64  \n",
            " 79  ring-type_f              6107 non-null   int64  \n",
            " 80  ring-type_g              6107 non-null   int64  \n",
            " 81  ring-type_l              6107 non-null   int64  \n",
            " 82  ring-type_m              6107 non-null   int64  \n",
            " 83  ring-type_p              6107 non-null   int64  \n",
            " 84  ring-type_r              6107 non-null   int64  \n",
            " 85  ring-type_z              6107 non-null   int64  \n",
            " 86  habitat_d                6107 non-null   int64  \n",
            " 87  habitat_g                6107 non-null   int64  \n",
            " 88  habitat_h                6107 non-null   int64  \n",
            " 89  habitat_l                6107 non-null   int64  \n",
            " 90  habitat_m                6107 non-null   int64  \n",
            " 91  habitat_p                6107 non-null   int64  \n",
            " 92  habitat_u                6107 non-null   int64  \n",
            " 93  habitat_w                6107 non-null   int64  \n",
            " 94  season_a                 6107 non-null   int64  \n",
            " 95  season_s                 6107 non-null   int64  \n",
            " 96  season_u                 6107 non-null   int64  \n",
            " 97  season_w                 6107 non-null   int64  \n",
            "dtypes: float64(3), int64(95)\n",
            "memory usage: 4.6 MB\n"
          ]
        }
      ]
    },
    {
      "cell_type": "markdown",
      "source": [
        "###Mapeo los valores de y_train, y_validation e y_test por 0's y 1's"
      ],
      "metadata": {
        "id": "wXfDrmg2MgIA"
      }
    },
    {
      "cell_type": "code",
      "source": [
        "y_train = y_train.map({\"e\":0,\"p\":1})"
      ],
      "metadata": {
        "id": "9yZ-KaiaMr5U"
      },
      "execution_count": null,
      "outputs": []
    },
    {
      "cell_type": "code",
      "source": [
        "y_validation = y_validation.map({\"e\":0, \"p\":1})"
      ],
      "metadata": {
        "id": "F3Kdv1p8Xqry"
      },
      "execution_count": null,
      "outputs": []
    },
    {
      "cell_type": "code",
      "source": [
        "y_test = y_test.map({\"e\":0,\"p\":1})"
      ],
      "metadata": {
        "id": "MM52XYnVNFa5"
      },
      "execution_count": null,
      "outputs": []
    },
    {
      "cell_type": "markdown",
      "source": [
        "#Modelo Random Forest"
      ],
      "metadata": {
        "id": "edrASm3chAn7"
      }
    },
    {
      "cell_type": "markdown",
      "metadata": {
        "id": "yIeQGBXqTMN3"
      },
      "source": [
        "**HIPERPARÁMETROS DEL RANDOM FOREST:**\n",
        "\n",
        "*   **n_estimators**: cantidad de árboles a construir (100)\n",
        "*   **max_depth**: máxima profundidad de cada árbol\n",
        "*   **min_samples_split**: la cantidad mínima de datos requeridos para splitear un nodo interno (2)\n",
        "*   **min_samples_leaf**: cantidad mínima de datos requeridos para ser una hoja (1)\n",
        "*   **max_features**: la cantidad de features a considerar cuando se busca el mejor split (n)\n",
        "\n"
      ]
    },
    {
      "cell_type": "code",
      "source": [
        "rf_model = RandomForestClassifier(random_state=5)\n",
        "rf_model.fit(X_train, y_train)\n",
        "y_pred_val = rf_model.predict(X_validation)\n",
        "rmse = np.sqrt(mean_squared_error(y_validation, y_pred_val))\n",
        "print(\"RMSE: %f\" % (rmse))"
      ],
      "metadata": {
        "colab": {
          "base_uri": "https://localhost:8080/"
        },
        "id": "PEfcRLVshuBh",
        "outputId": "f662563e-0a74-4592-add6-38fff8de69a8"
      },
      "execution_count": null,
      "outputs": [
        {
          "output_type": "stream",
          "name": "stdout",
          "text": [
            "RMSE: 0.000000\n"
          ]
        }
      ]
    },
    {
      "cell_type": "markdown",
      "source": [
        "Dado que con los hiperparámetros estándar el modelo funciona óptimamente, no es necesaria la búsqueda de hiperparámetros como en la parte 2, si esto no hubiera sucedido, tendría que realizar un GridSearch, un RandomSearch o buscarlos \"manualmente\""
      ],
      "metadata": {
        "id": "OdDSyWnTl4I3"
      }
    },
    {
      "cell_type": "code",
      "source": [
        "rf_model.get_params(deep=True) #Hiperparámetros estándar"
      ],
      "metadata": {
        "colab": {
          "base_uri": "https://localhost:8080/"
        },
        "id": "jgkbyGcUmTZi",
        "outputId": "937580d2-b582-4784-bb54-820a3816e002"
      },
      "execution_count": null,
      "outputs": [
        {
          "output_type": "execute_result",
          "data": {
            "text/plain": [
              "{'bootstrap': True,\n",
              " 'ccp_alpha': 0.0,\n",
              " 'class_weight': None,\n",
              " 'criterion': 'gini',\n",
              " 'max_depth': None,\n",
              " 'max_features': 'sqrt',\n",
              " 'max_leaf_nodes': None,\n",
              " 'max_samples': None,\n",
              " 'min_impurity_decrease': 0.0,\n",
              " 'min_samples_leaf': 1,\n",
              " 'min_samples_split': 2,\n",
              " 'min_weight_fraction_leaf': 0.0,\n",
              " 'n_estimators': 100,\n",
              " 'n_jobs': None,\n",
              " 'oob_score': False,\n",
              " 'random_state': 5,\n",
              " 'verbose': 0,\n",
              " 'warm_start': False}"
            ]
          },
          "metadata": {},
          "execution_count": 40
        }
      ]
    },
    {
      "cell_type": "code",
      "source": [
        "from sklearn.metrics import confusion_matrix, accuracy_score, precision_score, roc_auc_score"
      ],
      "metadata": {
        "id": "LwDiMoNVi_Z9"
      },
      "execution_count": null,
      "outputs": []
    },
    {
      "cell_type": "code",
      "source": [
        "y_validation = y_validation.astype(int)"
      ],
      "metadata": {
        "id": "VfLQA0uhj4jz"
      },
      "execution_count": null,
      "outputs": []
    },
    {
      "cell_type": "code",
      "source": [
        "cm = confusion_matrix(y_validation, y_pred_val)\n",
        "cm"
      ],
      "metadata": {
        "colab": {
          "base_uri": "https://localhost:8080/"
        },
        "id": "Onk9THppiIYd",
        "outputId": "4b2eed41-cf15-40e2-ac7e-fee7f315befb"
      },
      "execution_count": null,
      "outputs": [
        {
          "output_type": "execute_result",
          "data": {
            "text/plain": [
              "array([[2477,    0],\n",
              "       [   0, 3020]])"
            ]
          },
          "metadata": {},
          "execution_count": 43
        }
      ]
    },
    {
      "cell_type": "code",
      "source": [
        "import seaborn as sns\n",
        "import matplotlib.pyplot as plt"
      ],
      "metadata": {
        "id": "PKIr92Qri3q-"
      },
      "execution_count": null,
      "outputs": []
    },
    {
      "cell_type": "code",
      "source": [
        "roc_auc_score(y_validation, rf_model.predict_proba(X_validation)[:, 1])"
      ],
      "metadata": {
        "colab": {
          "base_uri": "https://localhost:8080/"
        },
        "id": "29TSDydtjJ00",
        "outputId": "04b4d1db-3312-48ee-dfdb-873dc27a7a28"
      },
      "execution_count": null,
      "outputs": [
        {
          "output_type": "execute_result",
          "data": {
            "text/plain": [
              "1.0"
            ]
          },
          "metadata": {},
          "execution_count": 48
        }
      ]
    },
    {
      "cell_type": "code",
      "source": [
        "!pip install scikit-plot\n",
        "import scikitplot as skplt\n",
        "import matplotlib.pyplot as plt"
      ],
      "metadata": {
        "id": "56cjknZeId0s"
      },
      "execution_count": null,
      "outputs": []
    },
    {
      "cell_type": "code",
      "source": [
        "skplt.metrics.plot_roc(y_validation, rf_model.predict_proba(X_validation),classes_to_plot= 1,plot_micro= False, plot_macro = False)\n",
        "plt.show()"
      ],
      "metadata": {
        "colab": {
          "base_uri": "https://localhost:8080/",
          "height": 472
        },
        "id": "-t4IsvsFjTPa",
        "outputId": "bdd91213-549b-4a0e-c563-eacfda447982"
      },
      "execution_count": null,
      "outputs": [
        {
          "output_type": "display_data",
          "data": {
            "text/plain": [
              "<Figure size 640x480 with 1 Axes>"
            ],
            "image/png": "[encoded data removed]"
          },
          "metadata": {}
        }
      ]
    },
    {
      "cell_type": "markdown",
      "source": [
        "Como se puede ver (y como marcaba en el paper) con un modelo RandomForest, el problema alcanza un AUC-ROC igual a 1"
      ],
      "metadata": {
        "id": "CS4ViERNlr8h"
      }
    },
    {
      "cell_type": "markdown",
      "source": [
        "# Punto extra:\n",
        "\n",
        "Graficar la importancia de features para el Random Forest de la parte III. ¿Qué tanto se parece a los features importantes de la parte II?"
      ],
      "metadata": {
        "id": "k1Gb8VgcHyDs"
      }
    },
    {
      "cell_type": "code",
      "source": [
        "X_train.info()"
      ],
      "metadata": {
        "colab": {
          "base_uri": "https://localhost:8080/"
        },
        "id": "PwdM8hyIJvym",
        "outputId": "43534e72-d9e0-47ff-d662-e4fb26eb9fa1"
      },
      "execution_count": null,
      "outputs": [
        {
          "output_type": "stream",
          "name": "stdout",
          "text": [
            "<class 'pandas.core.frame.DataFrame'>\n",
            "RangeIndex: 49465 entries, 0 to 49464\n",
            "Data columns (total 98 columns):\n",
            " #   Column                   Non-Null Count  Dtype  \n",
            "---  ------                   --------------  -----  \n",
            " 0   cap-diameter             49465 non-null  float64\n",
            " 1   stem-height              49465 non-null  float64\n",
            " 2   stem-width               49465 non-null  float64\n",
            " 3   cap-color_0              49465 non-null  int64  \n",
            " 4   cap-color_1              49465 non-null  int64  \n",
            " 5   cap-color_2              49465 non-null  int64  \n",
            " 6   cap-color_3              49465 non-null  int64  \n",
            " 7   gill-color_0             49465 non-null  int64  \n",
            " 8   gill-color_1             49465 non-null  int64  \n",
            " 9   gill-color_2             49465 non-null  int64  \n",
            " 10  gill-color_3             49465 non-null  int64  \n",
            " 11  spore-print-color_0      49465 non-null  int64  \n",
            " 12  spore-print-color_1      49465 non-null  int64  \n",
            " 13  spore-print-color_2      49465 non-null  int64  \n",
            " 14  spore-print-color_3      49465 non-null  int64  \n",
            " 15  stem-color_0             49465 non-null  int64  \n",
            " 16  stem-color_1             49465 non-null  int64  \n",
            " 17  stem-color_2             49465 non-null  int64  \n",
            " 18  stem-color_3             49465 non-null  int64  \n",
            " 19  cap-shape_b              49465 non-null  int64  \n",
            " 20  cap-shape_c              49465 non-null  int64  \n",
            " 21  cap-shape_f              49465 non-null  int64  \n",
            " 22  cap-shape_o              49465 non-null  int64  \n",
            " 23  cap-shape_p              49465 non-null  int64  \n",
            " 24  cap-shape_s              49465 non-null  int64  \n",
            " 25  cap-shape_x              49465 non-null  int64  \n",
            " 26  cap-surface_d            49465 non-null  int64  \n",
            " 27  cap-surface_e            49465 non-null  int64  \n",
            " 28  cap-surface_g            49465 non-null  int64  \n",
            " 29  cap-surface_h            49465 non-null  int64  \n",
            " 30  cap-surface_i            49465 non-null  int64  \n",
            " 31  cap-surface_k            49465 non-null  int64  \n",
            " 32  cap-surface_l            49465 non-null  int64  \n",
            " 33  cap-surface_s            49465 non-null  int64  \n",
            " 34  cap-surface_t            49465 non-null  int64  \n",
            " 35  cap-surface_unknown      49465 non-null  int64  \n",
            " 36  cap-surface_w            49465 non-null  int64  \n",
            " 37  cap-surface_y            49465 non-null  int64  \n",
            " 38  does-bruise-or-bleed_f   49465 non-null  int64  \n",
            " 39  does-bruise-or-bleed_t   49465 non-null  int64  \n",
            " 40  gill-attachment_a        49465 non-null  int64  \n",
            " 41  gill-attachment_d        49465 non-null  int64  \n",
            " 42  gill-attachment_e        49465 non-null  int64  \n",
            " 43  gill-attachment_f        49465 non-null  int64  \n",
            " 44  gill-attachment_p        49465 non-null  int64  \n",
            " 45  gill-attachment_s        49465 non-null  int64  \n",
            " 46  gill-attachment_unknown  49465 non-null  int64  \n",
            " 47  gill-attachment_x        49465 non-null  int64  \n",
            " 48  gill-spacing_c           49465 non-null  int64  \n",
            " 49  gill-spacing_d           49465 non-null  int64  \n",
            " 50  gill-spacing_f           49465 non-null  int64  \n",
            " 51  gill-spacing_unknown     49465 non-null  int64  \n",
            " 52  stem-root_b              49465 non-null  int64  \n",
            " 53  stem-root_c              49465 non-null  int64  \n",
            " 54  stem-root_f              49465 non-null  int64  \n",
            " 55  stem-root_r              49465 non-null  int64  \n",
            " 56  stem-root_s              49465 non-null  int64  \n",
            " 57  stem-root_unknown        49465 non-null  int64  \n",
            " 58  stem-surface_f           49465 non-null  int64  \n",
            " 59  stem-surface_g           49465 non-null  int64  \n",
            " 60  stem-surface_h           49465 non-null  int64  \n",
            " 61  stem-surface_i           49465 non-null  int64  \n",
            " 62  stem-surface_k           49465 non-null  int64  \n",
            " 63  stem-surface_s           49465 non-null  int64  \n",
            " 64  stem-surface_t           49465 non-null  int64  \n",
            " 65  stem-surface_unknown     49465 non-null  int64  \n",
            " 66  stem-surface_y           49465 non-null  int64  \n",
            " 67  veil-type_p              49465 non-null  int64  \n",
            " 68  veil-type_u              49465 non-null  int64  \n",
            " 69  veil-color_e             49465 non-null  int64  \n",
            " 70  veil-color_k             49465 non-null  int64  \n",
            " 71  veil-color_n             49465 non-null  int64  \n",
            " 72  veil-color_u             49465 non-null  int64  \n",
            " 73  veil-color_unknown       49465 non-null  int64  \n",
            " 74  veil-color_w             49465 non-null  int64  \n",
            " 75  veil-color_y             49465 non-null  int64  \n",
            " 76  has-ring_f               49465 non-null  int64  \n",
            " 77  has-ring_t               49465 non-null  int64  \n",
            " 78  ring-type_e              49465 non-null  int64  \n",
            " 79  ring-type_f              49465 non-null  int64  \n",
            " 80  ring-type_g              49465 non-null  int64  \n",
            " 81  ring-type_l              49465 non-null  int64  \n",
            " 82  ring-type_m              49465 non-null  int64  \n",
            " 83  ring-type_p              49465 non-null  int64  \n",
            " 84  ring-type_r              49465 non-null  int64  \n",
            " 85  ring-type_z              49465 non-null  int64  \n",
            " 86  habitat_d                49465 non-null  int64  \n",
            " 87  habitat_g                49465 non-null  int64  \n",
            " 88  habitat_h                49465 non-null  int64  \n",
            " 89  habitat_l                49465 non-null  int64  \n",
            " 90  habitat_m                49465 non-null  int64  \n",
            " 91  habitat_p                49465 non-null  int64  \n",
            " 92  habitat_u                49465 non-null  int64  \n",
            " 93  habitat_w                49465 non-null  int64  \n",
            " 94  season_a                 49465 non-null  int64  \n",
            " 95  season_s                 49465 non-null  int64  \n",
            " 96  season_u                 49465 non-null  int64  \n",
            " 97  season_w                 49465 non-null  int64  \n",
            "dtypes: float64(3), int64(95)\n",
            "memory usage: 37.0 MB\n"
          ]
        }
      ]
    },
    {
      "cell_type": "code",
      "source": [
        "rf_model.feature_importances_"
      ],
      "metadata": {
        "colab": {
          "base_uri": "https://localhost:8080/"
        },
        "id": "dKTZLxj5Jd5M",
        "outputId": "f8349001-8c62-47ff-a602-8e7565f15812"
      },
      "execution_count": null,
      "outputs": [
        {
          "output_type": "execute_result",
          "data": {
            "text/plain": [
              "array([5.33784058e-02, 5.31972028e-02, 8.18864725e-02, 7.90723546e-03,\n",
              "       1.64341611e-02, 1.36548898e-02, 1.42268788e-02, 1.39342167e-02,\n",
              "       1.37957465e-02, 1.67439613e-02, 1.87617167e-02, 1.66398251e-04,\n",
              "       4.02612515e-03, 1.03686234e-02, 4.36592143e-03, 5.29439946e-03,\n",
              "       7.35637225e-03, 2.12263945e-02, 2.39174766e-02, 1.27994668e-02,\n",
              "       6.41268057e-03, 9.33398370e-03, 4.64482630e-03, 3.37759461e-03,\n",
              "       5.05577209e-03, 1.41330585e-02, 8.75416865e-03, 7.51053767e-03,\n",
              "       1.10793355e-02, 7.97854458e-03, 5.17239553e-03, 1.10322511e-02,\n",
              "       4.72257258e-03, 1.24540676e-02, 1.20969935e-02, 1.34365027e-02,\n",
              "       5.06818004e-03, 9.83817118e-03, 1.41860125e-02, 1.51858967e-02,\n",
              "       1.26086553e-02, 1.50927606e-02, 1.14953188e-02, 5.42602936e-03,\n",
              "       2.11339878e-02, 1.07622750e-02, 1.21816367e-02, 1.40707475e-02,\n",
              "       2.25328160e-02, 2.65041430e-02, 3.56386047e-03, 2.10274305e-02,\n",
              "       9.27599498e-03, 9.17349251e-03, 8.08195854e-04, 1.20988407e-02,\n",
              "       5.22973020e-03, 1.48343532e-02, 1.10447273e-03, 1.28098622e-02,\n",
              "       1.66302207e-03, 6.54737640e-03, 4.01782449e-03, 1.38267641e-02,\n",
              "       6.82667887e-03, 1.84724976e-02, 8.46746321e-03, 3.54092165e-03,\n",
              "       4.70614145e-03, 4.88126295e-04, 2.68806184e-04, 1.75136381e-03,\n",
              "       2.15646962e-03, 6.10806187e-03, 5.65759125e-03, 1.90778499e-03,\n",
              "       1.25499857e-02, 1.20366475e-02, 2.41077162e-03, 7.69031469e-03,\n",
              "       1.34443039e-03, 3.26568283e-03, 1.13383849e-03, 2.01823347e-03,\n",
              "       3.19087218e-03, 1.23256628e-02, 8.97878707e-03, 7.84634365e-03,\n",
              "       2.30679621e-03, 3.16188911e-03, 3.18467571e-03, 3.67311644e-04,\n",
              "       3.33749837e-05, 6.14384408e-04, 1.78469131e-03, 1.61074311e-03,\n",
              "       2.23035044e-03, 6.85710455e-03])"
            ]
          },
          "metadata": {},
          "execution_count": 64
        }
      ]
    },
    {
      "cell_type": "code",
      "source": [
        "def sum_abs_values(importances, begin, end):\n",
        "  importance = 0\n",
        "  for i in range(begin, end+1):\n",
        "    importance += abs(importances[i])\n",
        "  return importance\n",
        "\n",
        "features_imp = rf_model.feature_importances_\n",
        "\n",
        "features_importance = []\n",
        "features_importance.append(abs(features_imp[0]))\n",
        "features_importance.append(abs(features_imp[1]))\n",
        "features_importance.append(abs(features_imp[2]))\n",
        "features_importance.append(sum_abs_values(features_imp, 3, 6))\n",
        "features_importance.append(sum_abs_values(features_imp, 7, 10))\n",
        "features_importance.append(sum_abs_values(features_imp, 11, 14))\n",
        "features_importance.append(sum_abs_values(features_imp, 15, 18))\n",
        "features_importance.append(sum_abs_values(features_imp, 19, 25))\n",
        "features_importance.append(sum_abs_values(features_imp, 26, 37))\n",
        "features_importance.append(sum_abs_values(features_imp, 38, 39))\n",
        "features_importance.append(sum_abs_values(features_imp, 40, 47))\n",
        "features_importance.append(sum_abs_values(features_imp, 48, 51))\n",
        "features_importance.append(sum_abs_values(features_imp, 52, 57))\n",
        "features_importance.append(sum_abs_values(features_imp, 58, 66))\n",
        "features_importance.append(sum_abs_values(features_imp, 67, 68))\n",
        "features_importance.append(sum_abs_values(features_imp, 69, 75))\n",
        "features_importance.append(sum_abs_values(features_imp, 76, 77))\n",
        "features_importance.append(sum_abs_values(features_imp, 78, 85))\n",
        "features_importance.append(sum_abs_values(features_imp, 86, 93))\n",
        "features_importance.append(sum_abs_values(features_imp, 94, 97))\n",
        "\n",
        "features_importance"
      ],
      "metadata": {
        "colab": {
          "base_uri": "https://localhost:8080/"
        },
        "id": "TQv6_QNPH82Y",
        "outputId": "5c4e00d4-30f6-4814-c2ab-14dd2f3c12ba"
      },
      "execution_count": null,
      "outputs": [
        {
          "output_type": "execute_result",
          "data": {
            "text/plain": [
              "[0.053378405771265375,\n",
              " 0.05319720278105422,\n",
              " 0.0818864724851588,\n",
              " 0.05222316511112668,\n",
              " 0.06323564117755082,\n",
              " 0.018927068191477374,\n",
              " 0.05779464286421009,\n",
              " 0.055757382572780914,\n",
              " 0.1091437206939728,\n",
              " 0.02937190915369388,\n",
              " 0.10277141102614282,\n",
              " 0.07362825003812519,\n",
              " 0.05142060749717786,\n",
              " 0.07373596164107453,\n",
              " 0.008247063096535607,\n",
              " 0.01833820402786969,\n",
              " 0.024586633204711945,\n",
              " 0.033379806473333926,\n",
              " 0.026493562784041004,\n",
              " 0.012482889408696657]"
            ]
          },
          "metadata": {},
          "execution_count": 66
        }
      ]
    },
    {
      "cell_type": "code",
      "source": [
        "features = ['cap-diameter','stem-height','stem-width','cap-color','gill-color','spore-print-color','stem-color',\n",
        "       'cap-shape', 'cap-surface','does-bruise-or-bleed', 'gill-attachment', 'gill-spacing', 'stem-root',\n",
        "       'stem-surface', 'veil-type','veil-color', 'has-ring', 'ring-type', 'habitat_d', 'season']\n",
        "plt.bar(features, features_importance)\n",
        "plt.xlabel('Features')\n",
        "plt.xticks(rotation=90)\n",
        "plt.ylabel('Importancia')\n",
        "plt.title('Importancia Features con Regresión Logística')\n",
        "plt.show()"
      ],
      "metadata": {
        "colab": {
          "base_uri": "https://localhost:8080/",
          "height": 601
        },
        "id": "DqilTzXOI_sY",
        "outputId": "241c5c5c-ff44-4c8d-fbdf-4f23035dc053"
      },
      "execution_count": null,
      "outputs": [
        {
          "output_type": "display_data",
          "data": {
            "text/plain": [
              "<Figure size 640x480 with 1 Axes>"
            ],
            "image/png": "[encoded data removed]"
          },
          "metadata": {}
        }
      ]
    },
    {
      "cell_type": "markdown",
      "source": [
        "Vemos que en comparación con la feature importance del modelo de regresión logística, los valores son totalmente diferentes, esto nos demuestra que cada modelo le da una importancia diferente a cada feature. Mientras que la regresión logística consideraba la feature más importante el 'veil-color', el random forest no le otorga mucha importancia, en cambio considera que la features más importantes son el 'cap-surface' y el 'gill-attachment'"
      ],
      "metadata": {
        "id": "vYOYTIoILl0L"
      }
    },
    {
      "cell_type": "code",
      "source": [
        "plt.figure(figsize=(20,7))\n",
        "plt.bar(X_train.columns, rf_model.feature_importances_)\n",
        "plt.xlabel('Features')\n",
        "plt.xticks(rotation=90)\n",
        "plt.ylabel('Importancia')\n",
        "plt.title('Importancia Features con RF')\n",
        "plt.show()"
      ],
      "metadata": {
        "colab": {
          "base_uri": "https://localhost:8080/",
          "height": 551
        },
        "id": "b_T1wopXIJqP",
        "outputId": "c918a3d6-1a5c-45ef-9ebd-2f35d68b7383"
      },
      "execution_count": null,
      "outputs": [
        {
          "output_type": "display_data",
          "data": {
            "text/plain": [
              "<Figure size 2000x700 with 1 Axes>"
            ],
            "image/png": "[encoded data removed]"
          },
          "metadata": {}
        }
      ]
    },
    {
      "cell_type": "markdown",
      "source": [
        "Este último plot solo sirve para ver que los resultados de las sumas de los features sean correctos y tengan sentido. Se puede notar como parece que la feature más importante es el 'stem-width', pero al hacer la suma de todos los 'cap-surface', estos lo superan."
      ],
      "metadata": {
        "id": "sL1HeLLTKm37"
      }
    }
  ]
}