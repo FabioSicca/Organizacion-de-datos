{
  "nbformat": 4,
  "nbformat_minor": 0,
  "metadata": {
    "colab": {
      "provenance": [],
      "collapsed_sections": [
        "vck1ukMxCUoE",
        "KJUGn2XBK76a",
        "0P_Yk55CUMxc",
        "XTHBfLQkGynh"
      ],
      "authorship_tag": "ABX9TyOqdXHCIOMhA2RGJ/pC80Eq",
      "include_colab_link": true
    },
    "kernelspec": {
      "name": "python3",
      "display_name": "Python 3"
    },
    "language_info": {
      "name": "python"
    }
  },
  "cells": [
    {
      "cell_type": "markdown",
      "metadata": {
        "id": "view-in-github",
        "colab_type": "text"
      },
      "source": [
        "<a href=\"https://colab.research.google.com/github/FabioSicca/Organizacion-de-datos/blob/main/Parte4_TP2.ipynb\" target=\"_parent\"><img src=\"https://colab.research.google.com/assets/colab-badge.svg\" alt=\"Open In Colab\"/></a>"
      ]
    },
    {
      "cell_type": "markdown",
      "source": [
        "Parte IV - Machine Learning (5 puntos)\n",
        "\n",
        "Entrenar un nuevo modelo (que no sea Random Forest ni el utilizado para el baseline) con búsqueda de hiperparametros (¿cómo conviene elegir los datos de validación respecto de los de train?). El modelo debe cumplir las siguientes condiciones:\n",
        "\n",
        "* Deben utilizar AUC-ROC como métrica de validación.\n",
        "* Deben medirse solo en validación, no contra test!!!\n",
        "* Deben ser reproducibles (correr el notebook varias veces no afecta al resultado).\n",
        "* Deben tener un score en validación superior a 0,9.\n",
        "* Para el feature engineering debe utilizarse imputación de nulos, mean encoding y one hot encoding al menos una vez cada uno.\n",
        "* Deben utilizar al menos 40 features (contando cómo features columnas con números, pueden venir varios de la misma variable).\n",
        "* Deberán contestar la siguientes preguntas:\n",
        "\n",
        "¿Cuál es el score en test? (guardar el csv con predicciones para entregarlo después)\n",
        "\n",
        "¿Por qué cree que logro/no logro el mismo valor de AUC que con Random Forest?"
      ],
      "metadata": {
        "id": "GLEqBq8ufIKe"
      }
    },
    {
      "cell_type": "code",
      "execution_count": null,
      "metadata": {
        "id": "HVkI65cPnonC",
        "colab": {
          "base_uri": "https://localhost:8080/"
        },
        "outputId": "f39a2407-7ab2-41a4-be3a-20fcaff9ae38"
      },
      "outputs": [
        {
          "output_type": "stream",
          "name": "stdout",
          "text": [
            "Looking in indexes: https://pypi.org/simple, https://us-python.pkg.dev/colab-wheels/public/simple/\n",
            "Collecting category_encoders\n",
            "  Downloading category_encoders-2.6.1-py2.py3-none-any.whl (81 kB)\n",
            "\u001b[2K     \u001b[90m━━━━━━━━━━━━━━━━━━━━━━━━━━━━━━━━━━━━━━━━\u001b[0m \u001b[32m81.9/81.9 kB\u001b[0m \u001b[31m3.5 MB/s\u001b[0m eta \u001b[36m0:00:00\u001b[0m\n",
            "\u001b[?25hRequirement already satisfied: numpy>=1.14.0 in /usr/local/lib/python3.10/dist-packages (from category_encoders) (1.22.4)\n",
            "Requirement already satisfied: scikit-learn>=0.20.0 in /usr/local/lib/python3.10/dist-packages (from category_encoders) (1.2.2)\n",
            "Requirement already satisfied: scipy>=1.0.0 in /usr/local/lib/python3.10/dist-packages (from category_encoders) (1.10.1)\n",
            "Requirement already satisfied: statsmodels>=0.9.0 in /usr/local/lib/python3.10/dist-packages (from category_encoders) (0.13.5)\n",
            "Requirement already satisfied: pandas>=1.0.5 in /usr/local/lib/python3.10/dist-packages (from category_encoders) (1.5.3)\n",
            "Requirement already satisfied: patsy>=0.5.1 in /usr/local/lib/python3.10/dist-packages (from category_encoders) (0.5.3)\n",
            "Requirement already satisfied: python-dateutil>=2.8.1 in /usr/local/lib/python3.10/dist-packages (from pandas>=1.0.5->category_encoders) (2.8.2)\n",
            "Requirement already satisfied: pytz>=2020.1 in /usr/local/lib/python3.10/dist-packages (from pandas>=1.0.5->category_encoders) (2022.7.1)\n",
            "Requirement already satisfied: six in /usr/local/lib/python3.10/dist-packages (from patsy>=0.5.1->category_encoders) (1.16.0)\n",
            "Requirement already satisfied: joblib>=1.1.1 in /usr/local/lib/python3.10/dist-packages (from scikit-learn>=0.20.0->category_encoders) (1.2.0)\n",
            "Requirement already satisfied: threadpoolctl>=2.0.0 in /usr/local/lib/python3.10/dist-packages (from scikit-learn>=0.20.0->category_encoders) (3.1.0)\n",
            "Requirement already satisfied: packaging>=21.3 in /usr/local/lib/python3.10/dist-packages (from statsmodels>=0.9.0->category_encoders) (23.1)\n",
            "Installing collected packages: category_encoders\n",
            "Successfully installed category_encoders-2.6.1\n",
            "Looking in indexes: https://pypi.org/simple, https://us-python.pkg.dev/colab-wheels/public/simple/\n",
            "Collecting scikit-plot\n",
            "  Downloading scikit_plot-0.3.7-py3-none-any.whl (33 kB)\n",
            "Requirement already satisfied: matplotlib>=1.4.0 in /usr/local/lib/python3.10/dist-packages (from scikit-plot) (3.7.1)\n",
            "Requirement already satisfied: scikit-learn>=0.18 in /usr/local/lib/python3.10/dist-packages (from scikit-plot) (1.2.2)\n",
            "Requirement already satisfied: scipy>=0.9 in /usr/local/lib/python3.10/dist-packages (from scikit-plot) (1.10.1)\n",
            "Requirement already satisfied: joblib>=0.10 in /usr/local/lib/python3.10/dist-packages (from scikit-plot) (1.2.0)\n",
            "Requirement already satisfied: contourpy>=1.0.1 in /usr/local/lib/python3.10/dist-packages (from matplotlib>=1.4.0->scikit-plot) (1.0.7)\n",
            "Requirement already satisfied: cycler>=0.10 in /usr/local/lib/python3.10/dist-packages (from matplotlib>=1.4.0->scikit-plot) (0.11.0)\n",
            "Requirement already satisfied: fonttools>=4.22.0 in /usr/local/lib/python3.10/dist-packages (from matplotlib>=1.4.0->scikit-plot) (4.39.3)\n",
            "Requirement already satisfied: kiwisolver>=1.0.1 in /usr/local/lib/python3.10/dist-packages (from matplotlib>=1.4.0->scikit-plot) (1.4.4)\n",
            "Requirement already satisfied: numpy>=1.20 in /usr/local/lib/python3.10/dist-packages (from matplotlib>=1.4.0->scikit-plot) (1.22.4)\n",
            "Requirement already satisfied: packaging>=20.0 in /usr/local/lib/python3.10/dist-packages (from matplotlib>=1.4.0->scikit-plot) (23.1)\n",
            "Requirement already satisfied: pillow>=6.2.0 in /usr/local/lib/python3.10/dist-packages (from matplotlib>=1.4.0->scikit-plot) (8.4.0)\n",
            "Requirement already satisfied: pyparsing>=2.3.1 in /usr/local/lib/python3.10/dist-packages (from matplotlib>=1.4.0->scikit-plot) (3.0.9)\n",
            "Requirement already satisfied: python-dateutil>=2.7 in /usr/local/lib/python3.10/dist-packages (from matplotlib>=1.4.0->scikit-plot) (2.8.2)\n",
            "Requirement already satisfied: threadpoolctl>=2.0.0 in /usr/local/lib/python3.10/dist-packages (from scikit-learn>=0.18->scikit-plot) (3.1.0)\n",
            "Requirement already satisfied: six>=1.5 in /usr/local/lib/python3.10/dist-packages (from python-dateutil>=2.7->matplotlib>=1.4.0->scikit-plot) (1.16.0)\n",
            "Installing collected packages: scikit-plot\n",
            "Successfully installed scikit-plot-0.3.7\n"
          ]
        }
      ],
      "source": [
        "import pandas as pd\n",
        "import numpy as np\n",
        "\n",
        "!pip install category_encoders\n",
        "import xgboost as xgb\n",
        "from sklearn.model_selection import train_test_split\n",
        "from sklearn.model_selection import RandomizedSearchCV\n",
        "from sklearn.preprocessing import OneHotEncoder\n",
        "from category_encoders.binary import BinaryEncoder\n",
        "from category_encoders.target_encoder import TargetEncoder\n",
        "from sklearn.metrics import mean_squared_error\n",
        "from sklearn.metrics import roc_auc_score\n",
        "from sklearn.metrics import confusion_matrix\n",
        "\n",
        "!pip install scikit-plot\n",
        "import scikitplot as skplt"
      ]
    },
    {
      "cell_type": "code",
      "source": [
        "from google.colab import drive\n",
        "drive.mount('/content/drive')"
      ],
      "metadata": {
        "colab": {
          "base_uri": "https://localhost:8080/"
        },
        "id": "4ILx1PHxz-7d",
        "outputId": "c9098a06-7e4e-42ea-e71b-657280363c88"
      },
      "execution_count": null,
      "outputs": [
        {
          "output_type": "stream",
          "name": "stdout",
          "text": [
            "Mounted at /content/drive\n"
          ]
        }
      ]
    },
    {
      "cell_type": "code",
      "source": [
        "df = pd.read_csv('/content/drive/MyDrive/secondary_data.csv', sep=\";\")"
      ],
      "metadata": {
        "id": "ljmr7pxc0KBk"
      },
      "execution_count": null,
      "outputs": []
    },
    {
      "cell_type": "code",
      "source": [
        "X = df.drop('class', axis=1)\n",
        "y = df['class']"
      ],
      "metadata": {
        "id": "LzFUG48Y0MKU"
      },
      "execution_count": null,
      "outputs": []
    },
    {
      "cell_type": "code",
      "source": [
        "X_train_aux, X_test, y_train_aux, y_test = train_test_split(X, y, test_size=0.1, random_state=5)"
      ],
      "metadata": {
        "id": "12owgBYx0P3O"
      },
      "execution_count": null,
      "outputs": []
    },
    {
      "cell_type": "code",
      "source": [
        "X_train, X_validation, y_train, y_validation = train_test_split(X_train_aux, y_train_aux, test_size=0.1, random_state=5)"
      ],
      "metadata": {
        "id": "ept58Bu_0RtT"
      },
      "execution_count": null,
      "outputs": []
    },
    {
      "cell_type": "code",
      "source": [
        "print(X_train.info(), X_validation.info(), X_test.info())"
      ],
      "metadata": {
        "colab": {
          "base_uri": "https://localhost:8080/"
        },
        "id": "MQPMmePh0UAF",
        "outputId": "7b4c1b01-60b5-45f5-9fae-716d345e8223"
      },
      "execution_count": null,
      "outputs": [
        {
          "output_type": "stream",
          "name": "stdout",
          "text": [
            "<class 'pandas.core.frame.DataFrame'>\n",
            "Int64Index: 49465 entries, 34760 to 57712\n",
            "Data columns (total 20 columns):\n",
            " #   Column                Non-Null Count  Dtype  \n",
            "---  ------                --------------  -----  \n",
            " 0   cap-diameter          49465 non-null  float64\n",
            " 1   cap-shape             49465 non-null  object \n",
            " 2   cap-surface           37940 non-null  object \n",
            " 3   cap-color             49465 non-null  object \n",
            " 4   does-bruise-or-bleed  49465 non-null  object \n",
            " 5   gill-attachment       41413 non-null  object \n",
            " 6   gill-spacing          29137 non-null  object \n",
            " 7   gill-color            49465 non-null  object \n",
            " 8   stem-height           49465 non-null  float64\n",
            " 9   stem-width            49465 non-null  float64\n",
            " 10  stem-root             7755 non-null   object \n",
            " 11  stem-surface          18525 non-null  object \n",
            " 12  stem-color            49465 non-null  object \n",
            " 13  veil-type             2598 non-null   object \n",
            " 14  veil-color            6043 non-null   object \n",
            " 15  has-ring              49465 non-null  object \n",
            " 16  ring-type             47450 non-null  object \n",
            " 17  spore-print-color     5149 non-null   object \n",
            " 18  habitat               49465 non-null  object \n",
            " 19  season                49465 non-null  object \n",
            "dtypes: float64(3), object(17)\n",
            "memory usage: 7.9+ MB\n",
            "<class 'pandas.core.frame.DataFrame'>\n",
            "Int64Index: 5497 entries, 35132 to 58126\n",
            "Data columns (total 20 columns):\n",
            " #   Column                Non-Null Count  Dtype  \n",
            "---  ------                --------------  -----  \n",
            " 0   cap-diameter          5497 non-null   float64\n",
            " 1   cap-shape             5497 non-null   object \n",
            " 2   cap-surface           4303 non-null   object \n",
            " 3   cap-color             5497 non-null   object \n",
            " 4   does-bruise-or-bleed  5497 non-null   object \n",
            " 5   gill-attachment       4620 non-null   object \n",
            " 6   gill-spacing          3258 non-null   object \n",
            " 7   gill-color            5497 non-null   object \n",
            " 8   stem-height           5497 non-null   float64\n",
            " 9   stem-width            5497 non-null   float64\n",
            " 10  stem-root             837 non-null    object \n",
            " 11  stem-surface          2069 non-null   object \n",
            " 12  stem-color            5497 non-null   object \n",
            " 13  veil-type             261 non-null    object \n",
            " 14  veil-color            628 non-null    object \n",
            " 15  has-ring              5497 non-null   object \n",
            " 16  ring-type             5253 non-null   object \n",
            " 17  spore-print-color     562 non-null    object \n",
            " 18  habitat               5497 non-null   object \n",
            " 19  season                5497 non-null   object \n",
            "dtypes: float64(3), object(17)\n",
            "memory usage: 901.9+ KB\n",
            "<class 'pandas.core.frame.DataFrame'>\n",
            "Int64Index: 6107 entries, 39238 to 18221\n",
            "Data columns (total 20 columns):\n",
            " #   Column                Non-Null Count  Dtype  \n",
            "---  ------                --------------  -----  \n",
            " 0   cap-diameter          6107 non-null   float64\n",
            " 1   cap-shape             6107 non-null   object \n",
            " 2   cap-surface           4706 non-null   object \n",
            " 3   cap-color             6107 non-null   object \n",
            " 4   does-bruise-or-bleed  6107 non-null   object \n",
            " 5   gill-attachment       5152 non-null   object \n",
            " 6   gill-spacing          3611 non-null   object \n",
            " 7   gill-color            6107 non-null   object \n",
            " 8   stem-height           6107 non-null   float64\n",
            " 9   stem-width            6107 non-null   float64\n",
            " 10  stem-root             939 non-null    object \n",
            " 11  stem-surface          2351 non-null   object \n",
            " 12  stem-color            6107 non-null   object \n",
            " 13  veil-type             318 non-null    object \n",
            " 14  veil-color            742 non-null    object \n",
            " 15  has-ring              6107 non-null   object \n",
            " 16  ring-type             5895 non-null   object \n",
            " 17  spore-print-color     643 non-null    object \n",
            " 18  habitat               6107 non-null   object \n",
            " 19  season                6107 non-null   object \n",
            "dtypes: float64(3), object(17)\n",
            "memory usage: 1001.9+ KB\n",
            "None None None\n"
          ]
        }
      ]
    },
    {
      "cell_type": "markdown",
      "source": [
        "#Feature Engineering y Encoding"
      ],
      "metadata": {
        "id": "fFkvzKHQBPmU"
      }
    },
    {
      "cell_type": "markdown",
      "source": [
        "##Relleno los NaNs"
      ],
      "metadata": {
        "id": "vck1ukMxCUoE"
      }
    },
    {
      "cell_type": "markdown",
      "source": [
        "###Relleno NaNs en X_train"
      ],
      "metadata": {
        "id": "KJUGn2XBK76a"
      }
    },
    {
      "cell_type": "code",
      "source": [
        "X_train.info()"
      ],
      "metadata": {
        "colab": {
          "base_uri": "https://localhost:8080/"
        },
        "id": "lG4J5dc-BfNc",
        "outputId": "dcbcdb27-dc25-4bea-cde7-8aec07e04856"
      },
      "execution_count": null,
      "outputs": [
        {
          "output_type": "stream",
          "name": "stdout",
          "text": [
            "<class 'pandas.core.frame.DataFrame'>\n",
            "Int64Index: 49465 entries, 34760 to 57712\n",
            "Data columns (total 20 columns):\n",
            " #   Column                Non-Null Count  Dtype  \n",
            "---  ------                --------------  -----  \n",
            " 0   cap-diameter          49465 non-null  float64\n",
            " 1   cap-shape             49465 non-null  object \n",
            " 2   cap-surface           37940 non-null  object \n",
            " 3   cap-color             49465 non-null  object \n",
            " 4   does-bruise-or-bleed  49465 non-null  object \n",
            " 5   gill-attachment       41413 non-null  object \n",
            " 6   gill-spacing          29137 non-null  object \n",
            " 7   gill-color            49465 non-null  object \n",
            " 8   stem-height           49465 non-null  float64\n",
            " 9   stem-width            49465 non-null  float64\n",
            " 10  stem-root             7755 non-null   object \n",
            " 11  stem-surface          18525 non-null  object \n",
            " 12  stem-color            49465 non-null  object \n",
            " 13  veil-type             2598 non-null   object \n",
            " 14  veil-color            6043 non-null   object \n",
            " 15  has-ring              49465 non-null  object \n",
            " 16  ring-type             47450 non-null  object \n",
            " 17  spore-print-color     5149 non-null   object \n",
            " 18  habitat               49465 non-null  object \n",
            " 19  season                49465 non-null  object \n",
            "dtypes: float64(3), object(17)\n",
            "memory usage: 7.9+ MB\n"
          ]
        }
      ]
    },
    {
      "cell_type": "markdown",
      "source": [
        "Con esta información puedo ver qué columnas tienen NaNs y cuántos tienen."
      ],
      "metadata": {
        "id": "1Vx81Q0dKgAw"
      }
    },
    {
      "cell_type": "code",
      "source": [
        "#En cap-surface tengo 11525 NaNs y en la documentación del dataset no hace referencia a que signifique nada particular\n",
        "print(X_train.groupby(\"cap-surface\").size())\n",
        "#Los relleno con una nueva categoria \"Unknown\"\n",
        "X_train[\"cap-surface\"] = X_train[\"cap-surface\"].fillna(\"unknown\")"
      ],
      "metadata": {
        "colab": {
          "base_uri": "https://localhost:8080/"
        },
        "id": "6qXtO78ZLALi",
        "outputId": "1248141f-cb97-48c8-a2bc-3383f54dbc45"
      },
      "execution_count": null,
      "outputs": [
        {
          "output_type": "stream",
          "name": "stdout",
          "text": [
            "cap-surface\n",
            "d    3524\n",
            "e    2112\n",
            "g    3806\n",
            "h    4014\n",
            "i    1806\n",
            "k    1852\n",
            "l    1153\n",
            "s    6167\n",
            "t    6629\n",
            "w    1753\n",
            "y    5124\n",
            "dtype: int64\n"
          ]
        }
      ]
    },
    {
      "cell_type": "code",
      "source": [
        "#gill-attachment (8052 NaNs)\n",
        "print(X_train.groupby(\"gill-attachment\").size())\n",
        "#Los relleno con \"Unknown\"\n",
        "X_train[\"gill-attachment\"] = X_train[\"gill-attachment\"].fillna(\"unknown\")"
      ],
      "metadata": {
        "colab": {
          "base_uri": "https://localhost:8080/"
        },
        "id": "HaKwq45CN9PB",
        "outputId": "ef73e506-1eca-473e-a76a-e9d28451116a"
      },
      "execution_count": null,
      "outputs": [
        {
          "output_type": "stream",
          "name": "stdout",
          "text": [
            "gill-attachment\n",
            "a    10279\n",
            "d     8281\n",
            "e     4591\n",
            "f     2862\n",
            "p     4805\n",
            "s     4590\n",
            "x     6005\n",
            "dtype: int64\n"
          ]
        }
      ]
    },
    {
      "cell_type": "code",
      "source": [
        "#gill-spacing (20328 NaNs)\n",
        "print(X_train.groupby(\"gill-spacing\").size())\n",
        "X_train[\"gill-spacing\"] = X_train[\"gill-spacing\"].fillna(\"unknown\")"
      ],
      "metadata": {
        "colab": {
          "base_uri": "https://localhost:8080/"
        },
        "id": "77OrJtPzO1UY",
        "outputId": "38200053-8d4e-48ef-976d-09be32400a2f"
      },
      "execution_count": null,
      "outputs": [
        {
          "output_type": "stream",
          "name": "stdout",
          "text": [
            "gill-spacing\n",
            "c    20024\n",
            "d     6251\n",
            "f     2862\n",
            "dtype: int64\n"
          ]
        }
      ]
    },
    {
      "cell_type": "code",
      "source": [
        "#stem-root (41710 NaNs)\n",
        "print(X_train.groupby(\"stem-root\").size())\n",
        "X_train[\"stem-root\"] = X_train[\"stem-root\"].fillna(\"unknown\")"
      ],
      "metadata": {
        "colab": {
          "base_uri": "https://localhost:8080/"
        },
        "id": "5ztkBqzNSQL5",
        "outputId": "609ec910-a5dc-4649-a506-571b313e5834"
      },
      "execution_count": null,
      "outputs": [
        {
          "output_type": "stream",
          "name": "stdout",
          "text": [
            "stem-root\n",
            "b    2602\n",
            "c     568\n",
            "f     848\n",
            "r    1144\n",
            "s    2593\n",
            "dtype: int64\n"
          ]
        }
      ]
    },
    {
      "cell_type": "code",
      "source": [
        "#stem-surface (30940 NaNs)\n",
        "print(X_train.groupby(\"stem-surface\").size())\n",
        "X_train[\"stem-surface\"] = X_train[\"stem-surface\"].fillna(\"unknown\")"
      ],
      "metadata": {
        "colab": {
          "base_uri": "https://localhost:8080/"
        },
        "id": "4s7ThtxhSd68",
        "outputId": "9d0d4771-f643-4cab-a98b-c2b1d2ffb792"
      },
      "execution_count": null,
      "outputs": [
        {
          "output_type": "stream",
          "name": "stdout",
          "text": [
            "stem-surface\n",
            "f     848\n",
            "g    1438\n",
            "h     424\n",
            "i    3535\n",
            "k    1266\n",
            "s    4862\n",
            "t    2143\n",
            "y    4009\n",
            "dtype: int64\n"
          ]
        }
      ]
    },
    {
      "cell_type": "code",
      "source": [
        "#veil-type (46867 NaNs) Dado que solo hay de tipo u=universal, se asume que los NaNs=partial por lo que se reemplazan con p\n",
        "print(X_train.groupby(\"veil-type\").size())\n",
        "X_train[\"veil-type\"] = X_train[\"veil-type\"].fillna(\"p\")"
      ],
      "metadata": {
        "colab": {
          "base_uri": "https://localhost:8080/"
        },
        "id": "6dJt69Q7S_Vw",
        "outputId": "6d4e124e-328c-426e-b3ca-51a6381697d6"
      },
      "execution_count": null,
      "outputs": [
        {
          "output_type": "stream",
          "name": "stdout",
          "text": [
            "veil-type\n",
            "u    2598\n",
            "dtype: int64\n"
          ]
        }
      ]
    },
    {
      "cell_type": "code",
      "source": [
        "#veil-color (43422 NaNs) Como según el dataset f=none, NaN podría ser Unknown\n",
        "print(X_train.groupby(\"veil-color\").size())\n",
        "X_train[\"veil-color\"] = X_train[\"veil-color\"].fillna(\"unknown\")"
      ],
      "metadata": {
        "colab": {
          "base_uri": "https://localhost:8080/"
        },
        "id": "ofgdeMpHTtMA",
        "outputId": "5fa0a9d6-5a4d-4943-b6cd-d14fb2d50690"
      },
      "execution_count": null,
      "outputs": [
        {
          "output_type": "stream",
          "name": "stdout",
          "text": [
            "veil-color\n",
            "e     151\n",
            "k     292\n",
            "n     416\n",
            "u     286\n",
            "w    4465\n",
            "y     433\n",
            "dtype: int64\n"
          ]
        }
      ]
    },
    {
      "cell_type": "code",
      "source": [
        "#ring-type (1974 NaNs) Como f representa casi el total, puedo reemplazar los \"pocos\" faltantes por f,\n",
        "#además el dataset indica que los NaNs hacen referencia a que no se sabe el tipo de dato, por lo que no está mal rellenarlo.\n",
        "print(X_train.groupby(\"ring-type\").size())\n",
        "X_train[\"ring-type\"] = X_train[\"ring-type\"].fillna(\"f\")"
      ],
      "metadata": {
        "colab": {
          "base_uri": "https://localhost:8080/"
        },
        "id": "-jHXwFrGUdII",
        "outputId": "73eada75-4e9b-4b95-a63f-b114fd8a18b1"
      },
      "execution_count": null,
      "outputs": [
        {
          "output_type": "stream",
          "name": "stdout",
          "text": [
            "ring-type\n",
            "e     1959\n",
            "f    39108\n",
            "g     1025\n",
            "l     1165\n",
            "m      292\n",
            "p     1035\n",
            "r     1155\n",
            "z     1711\n",
            "dtype: int64\n"
          ]
        }
      ]
    },
    {
      "cell_type": "code",
      "source": [
        "#spore-print-color (44316 NaNs)\n",
        "print(X_train.groupby(\"spore-print-color\").size())\n",
        "#Podria intentar rellenarlo aleatoriamente con fillna(method='ffill'), pero hay demasiados NaNs, por lo que uso \"unknown\"\n",
        "X_train[\"spore-print-color\"] = X_train[\"spore-print-color\"].fillna(\"unknown\")"
      ],
      "metadata": {
        "colab": {
          "base_uri": "https://localhost:8080/"
        },
        "id": "-OlFgUqrVtko",
        "outputId": "5623ae51-e544-485e-f62c-b489dcbd6189"
      },
      "execution_count": null,
      "outputs": [
        {
          "output_type": "stream",
          "name": "stdout",
          "text": [
            "spore-print-color\n",
            "g     294\n",
            "k    1715\n",
            "n     852\n",
            "p    1013\n",
            "r     140\n",
            "u     152\n",
            "w     983\n",
            "dtype: int64\n"
          ]
        }
      ]
    },
    {
      "cell_type": "code",
      "source": [
        "X_train.info()"
      ],
      "metadata": {
        "colab": {
          "base_uri": "https://localhost:8080/"
        },
        "id": "An-n0yk6NmC0",
        "outputId": "360aaec4-6954-42a1-8897-e02dc93dd70f"
      },
      "execution_count": null,
      "outputs": [
        {
          "output_type": "stream",
          "name": "stdout",
          "text": [
            "<class 'pandas.core.frame.DataFrame'>\n",
            "Int64Index: 49465 entries, 34760 to 57712\n",
            "Data columns (total 20 columns):\n",
            " #   Column                Non-Null Count  Dtype  \n",
            "---  ------                --------------  -----  \n",
            " 0   cap-diameter          49465 non-null  float64\n",
            " 1   cap-shape             49465 non-null  object \n",
            " 2   cap-surface           49465 non-null  object \n",
            " 3   cap-color             49465 non-null  object \n",
            " 4   does-bruise-or-bleed  49465 non-null  object \n",
            " 5   gill-attachment       49465 non-null  object \n",
            " 6   gill-spacing          49465 non-null  object \n",
            " 7   gill-color            49465 non-null  object \n",
            " 8   stem-height           49465 non-null  float64\n",
            " 9   stem-width            49465 non-null  float64\n",
            " 10  stem-root             49465 non-null  object \n",
            " 11  stem-surface          49465 non-null  object \n",
            " 12  stem-color            49465 non-null  object \n",
            " 13  veil-type             49465 non-null  object \n",
            " 14  veil-color            49465 non-null  object \n",
            " 15  has-ring              49465 non-null  object \n",
            " 16  ring-type             49465 non-null  object \n",
            " 17  spore-print-color     49465 non-null  object \n",
            " 18  habitat               49465 non-null  object \n",
            " 19  season                49465 non-null  object \n",
            "dtypes: float64(3), object(17)\n",
            "memory usage: 7.9+ MB\n"
          ]
        }
      ]
    },
    {
      "cell_type": "markdown",
      "source": [
        "Entonces ahora se puede ver que el dataset X_train ya no tiene valores NaNs"
      ],
      "metadata": {
        "id": "GIfS8-xxGKB-"
      }
    },
    {
      "cell_type": "markdown",
      "source": [
        "### Relleno los NaNs en X_validation"
      ],
      "metadata": {
        "id": "0P_Yk55CUMxc"
      }
    },
    {
      "cell_type": "code",
      "source": [
        "X_validation[\"cap-surface\"] = X_validation[\"cap-surface\"].fillna(\"unknown\")\n",
        "X_validation[\"gill-attachment\"] = X_validation[\"gill-attachment\"].fillna(\"unknown\")\n",
        "X_validation[\"gill-spacing\"] = X_validation[\"gill-spacing\"].fillna(\"unknown\")\n",
        "X_validation[\"stem-root\"] = X_validation[\"stem-root\"].fillna(\"unknown\")\n",
        "X_validation[\"stem-surface\"] = X_validation[\"stem-surface\"].fillna(\"unknown\")\n",
        "X_validation[\"veil-type\"] = X_validation[\"veil-type\"].fillna(\"p\")\n",
        "X_validation[\"veil-color\"] = X_validation[\"veil-color\"].fillna(\"unknown\")\n",
        "X_validation[\"ring-type\"] = X_validation[\"ring-type\"].fillna(\"f\")\n",
        "X_validation[\"spore-print-color\"] = X_validation[\"spore-print-color\"].fillna(\"unknown\")"
      ],
      "metadata": {
        "id": "Kilw06Y6Uioe"
      },
      "execution_count": null,
      "outputs": []
    },
    {
      "cell_type": "code",
      "source": [
        "X_validation.info()"
      ],
      "metadata": {
        "colab": {
          "base_uri": "https://localhost:8080/"
        },
        "id": "aN_8FUUtVvPM",
        "outputId": "0eeecaab-c8a4-495a-b9bd-556e911886f9"
      },
      "execution_count": null,
      "outputs": [
        {
          "output_type": "stream",
          "name": "stdout",
          "text": [
            "<class 'pandas.core.frame.DataFrame'>\n",
            "Int64Index: 5497 entries, 35132 to 58126\n",
            "Data columns (total 20 columns):\n",
            " #   Column                Non-Null Count  Dtype  \n",
            "---  ------                --------------  -----  \n",
            " 0   cap-diameter          5497 non-null   float64\n",
            " 1   cap-shape             5497 non-null   object \n",
            " 2   cap-surface           5497 non-null   object \n",
            " 3   cap-color             5497 non-null   object \n",
            " 4   does-bruise-or-bleed  5497 non-null   object \n",
            " 5   gill-attachment       5497 non-null   object \n",
            " 6   gill-spacing          5497 non-null   object \n",
            " 7   gill-color            5497 non-null   object \n",
            " 8   stem-height           5497 non-null   float64\n",
            " 9   stem-width            5497 non-null   float64\n",
            " 10  stem-root             5497 non-null   object \n",
            " 11  stem-surface          5497 non-null   object \n",
            " 12  stem-color            5497 non-null   object \n",
            " 13  veil-type             5497 non-null   object \n",
            " 14  veil-color            5497 non-null   object \n",
            " 15  has-ring              5497 non-null   object \n",
            " 16  ring-type             5497 non-null   object \n",
            " 17  spore-print-color     5497 non-null   object \n",
            " 18  habitat               5497 non-null   object \n",
            " 19  season                5497 non-null   object \n",
            "dtypes: float64(3), object(17)\n",
            "memory usage: 901.9+ KB\n"
          ]
        }
      ]
    },
    {
      "cell_type": "markdown",
      "source": [
        "###Relleno los NaNs en X_test"
      ],
      "metadata": {
        "id": "XTHBfLQkGynh"
      }
    },
    {
      "cell_type": "markdown",
      "source": [
        "Ahora relleno los NaNs de X_test (Se hace por separado para que no se pueda filtrar información del train_set al test_set)"
      ],
      "metadata": {
        "id": "gUyxHMBcEpEn"
      }
    },
    {
      "cell_type": "code",
      "source": [
        "print(X_test.groupby(\"cap-surface\").size())\n",
        "#Los relleno con una nueva categoria \"Unknown\"\n",
        "X_test[\"cap-surface\"] = X_test[\"cap-surface\"].fillna(\"unknown\")"
      ],
      "metadata": {
        "colab": {
          "base_uri": "https://localhost:8080/"
        },
        "id": "Pcf0coq-Enle",
        "outputId": "dabc66cd-af68-4207-94f5-5bb063ef0054"
      },
      "execution_count": null,
      "outputs": [
        {
          "output_type": "stream",
          "name": "stdout",
          "text": [
            "cap-surface\n",
            "d    467\n",
            "e    250\n",
            "g    479\n",
            "h    504\n",
            "i    212\n",
            "k    224\n",
            "l    139\n",
            "s    784\n",
            "t    820\n",
            "w    200\n",
            "y    627\n",
            "dtype: int64\n"
          ]
        }
      ]
    },
    {
      "cell_type": "code",
      "source": [
        "print(X_test.groupby(\"gill-attachment\").size())\n",
        "#Los relleno con \"Unknown\"\n",
        "X_test[\"gill-attachment\"] = X_test[\"gill-attachment\"].fillna(\"unknown\")"
      ],
      "metadata": {
        "colab": {
          "base_uri": "https://localhost:8080/"
        },
        "id": "PQ_5FXsAE-BO",
        "outputId": "1f773c5a-d9c8-4110-a481-3adfdff25cd9"
      },
      "execution_count": null,
      "outputs": [
        {
          "output_type": "stream",
          "name": "stdout",
          "text": [
            "gill-attachment\n",
            "a    1292\n",
            "d    1030\n",
            "e     572\n",
            "f     365\n",
            "p     620\n",
            "s     553\n",
            "x     720\n",
            "dtype: int64\n"
          ]
        }
      ]
    },
    {
      "cell_type": "code",
      "source": [
        "print(X_test.groupby(\"gill-spacing\").size())\n",
        "X_test[\"gill-spacing\"] = X_test[\"gill-spacing\"].fillna(\"unknown\")"
      ],
      "metadata": {
        "colab": {
          "base_uri": "https://localhost:8080/"
        },
        "id": "aXr2tPgHFMc0",
        "outputId": "af44def0-d6f2-4c3f-9fae-15bd2242c38e"
      },
      "execution_count": null,
      "outputs": [
        {
          "output_type": "stream",
          "name": "stdout",
          "text": [
            "gill-spacing\n",
            "c    2462\n",
            "d     784\n",
            "f     365\n",
            "dtype: int64\n"
          ]
        }
      ]
    },
    {
      "cell_type": "code",
      "source": [
        "print(X_test.groupby(\"stem-root\").size())\n",
        "X_test[\"stem-root\"] = X_test[\"stem-root\"].fillna(\"unknown\")"
      ],
      "metadata": {
        "colab": {
          "base_uri": "https://localhost:8080/"
        },
        "id": "iS9iuZuhFUFi",
        "outputId": "6992c119-ba55-4885-8311-b89fc4297353"
      },
      "execution_count": null,
      "outputs": [
        {
          "output_type": "stream",
          "name": "stdout",
          "text": [
            "stem-root\n",
            "b    289\n",
            "c     78\n",
            "f    125\n",
            "r    132\n",
            "s    315\n",
            "dtype: int64\n"
          ]
        }
      ]
    },
    {
      "cell_type": "code",
      "source": [
        "print(X_test.groupby(\"stem-surface\").size())\n",
        "X_test[\"stem-surface\"] = X_test[\"stem-surface\"].fillna(\"unknown\")"
      ],
      "metadata": {
        "colab": {
          "base_uri": "https://localhost:8080/"
        },
        "id": "uHOuC5xtFd9z",
        "outputId": "78b2ec52-b79c-4ce5-d7c2-6b90da6d5a6b"
      },
      "execution_count": null,
      "outputs": [
        {
          "output_type": "stream",
          "name": "stdout",
          "text": [
            "stem-surface\n",
            "f    125\n",
            "g    173\n",
            "h     69\n",
            "i    445\n",
            "k    158\n",
            "s    630\n",
            "t    260\n",
            "y    491\n",
            "dtype: int64\n"
          ]
        }
      ]
    },
    {
      "cell_type": "code",
      "source": [
        "print(X_test.groupby(\"veil-type\").size())\n",
        "X_test[\"veil-type\"] = X_test[\"veil-type\"].fillna(\"p\")"
      ],
      "metadata": {
        "colab": {
          "base_uri": "https://localhost:8080/"
        },
        "id": "CcfD9mrbFkUh",
        "outputId": "0717d5cd-047e-4731-8930-704a3c52dbf4"
      },
      "execution_count": null,
      "outputs": [
        {
          "output_type": "stream",
          "name": "stdout",
          "text": [
            "veil-type\n",
            "u    318\n",
            "dtype: int64\n"
          ]
        }
      ]
    },
    {
      "cell_type": "code",
      "source": [
        "print(X_test.groupby(\"veil-color\").size())\n",
        "X_test[\"veil-color\"] = X_test[\"veil-color\"].fillna(\"unknown\")"
      ],
      "metadata": {
        "colab": {
          "base_uri": "https://localhost:8080/"
        },
        "id": "aQaPpUvxFtB3",
        "outputId": "8a3ec854-b911-450e-dd28-66bbe2fc1e0f"
      },
      "execution_count": null,
      "outputs": [
        {
          "output_type": "stream",
          "name": "stdout",
          "text": [
            "veil-color\n",
            "e     14\n",
            "k     32\n",
            "n     68\n",
            "u     38\n",
            "w    550\n",
            "y     40\n",
            "dtype: int64\n"
          ]
        }
      ]
    },
    {
      "cell_type": "code",
      "source": [
        "print(X_test.groupby(\"ring-type\").size())\n",
        "X_test[\"ring-type\"] = X_test[\"ring-type\"].fillna(\"f\")"
      ],
      "metadata": {
        "colab": {
          "base_uri": "https://localhost:8080/"
        },
        "id": "8iHoGu1uF2H2",
        "outputId": "fa3b01ca-a077-4905-ee22-16872d54d7f1"
      },
      "execution_count": null,
      "outputs": [
        {
          "output_type": "stream",
          "name": "stdout",
          "text": [
            "ring-type\n",
            "e     257\n",
            "f    4860\n",
            "g     120\n",
            "l     145\n",
            "m      30\n",
            "p     119\n",
            "r     132\n",
            "z     232\n",
            "dtype: int64\n"
          ]
        }
      ]
    },
    {
      "cell_type": "code",
      "source": [
        "print(X_test.groupby(\"spore-print-color\").size())\n",
        "X_test[\"spore-print-color\"] = X_test[\"spore-print-color\"].fillna(\"unknown\")"
      ],
      "metadata": {
        "colab": {
          "base_uri": "https://localhost:8080/"
        },
        "id": "McW_A4_zF75H",
        "outputId": "f0e846b2-b4b2-4eb7-9b91-be46e355509a"
      },
      "execution_count": null,
      "outputs": [
        {
          "output_type": "stream",
          "name": "stdout",
          "text": [
            "spore-print-color\n",
            "g     34\n",
            "k    225\n",
            "n    105\n",
            "p    132\n",
            "r     17\n",
            "u     16\n",
            "w    114\n",
            "dtype: int64\n"
          ]
        }
      ]
    },
    {
      "cell_type": "code",
      "source": [
        "X_test.info()"
      ],
      "metadata": {
        "colab": {
          "base_uri": "https://localhost:8080/"
        },
        "id": "PDANDb2QGVlD",
        "outputId": "3e40661f-d8ec-4fe4-873e-355f05b98af1"
      },
      "execution_count": null,
      "outputs": [
        {
          "output_type": "stream",
          "name": "stdout",
          "text": [
            "<class 'pandas.core.frame.DataFrame'>\n",
            "Int64Index: 6107 entries, 39238 to 18221\n",
            "Data columns (total 20 columns):\n",
            " #   Column                Non-Null Count  Dtype  \n",
            "---  ------                --------------  -----  \n",
            " 0   cap-diameter          6107 non-null   float64\n",
            " 1   cap-shape             6107 non-null   object \n",
            " 2   cap-surface           6107 non-null   object \n",
            " 3   cap-color             6107 non-null   object \n",
            " 4   does-bruise-or-bleed  6107 non-null   object \n",
            " 5   gill-attachment       6107 non-null   object \n",
            " 6   gill-spacing          6107 non-null   object \n",
            " 7   gill-color            6107 non-null   object \n",
            " 8   stem-height           6107 non-null   float64\n",
            " 9   stem-width            6107 non-null   float64\n",
            " 10  stem-root             6107 non-null   object \n",
            " 11  stem-surface          6107 non-null   object \n",
            " 12  stem-color            6107 non-null   object \n",
            " 13  veil-type             6107 non-null   object \n",
            " 14  veil-color            6107 non-null   object \n",
            " 15  has-ring              6107 non-null   object \n",
            " 16  ring-type             6107 non-null   object \n",
            " 17  spore-print-color     6107 non-null   object \n",
            " 18  habitat               6107 non-null   object \n",
            " 19  season                6107 non-null   object \n",
            "dtypes: float64(3), object(17)\n",
            "memory usage: 1001.9+ KB\n"
          ]
        }
      ]
    },
    {
      "cell_type": "markdown",
      "source": [
        "##Encodeo los features"
      ],
      "metadata": {
        "id": "rRoovFXBDfxi"
      }
    },
    {
      "cell_type": "markdown",
      "source": [
        "Mapeo los valores de y_train, y_validation e y_test por 0's y 1's"
      ],
      "metadata": {
        "id": "wXfDrmg2MgIA"
      }
    },
    {
      "cell_type": "code",
      "source": [
        "y_train = y_train.map({\"e\":0,\"p\":1})"
      ],
      "metadata": {
        "id": "9yZ-KaiaMr5U"
      },
      "execution_count": null,
      "outputs": []
    },
    {
      "cell_type": "code",
      "source": [
        "y_validation = y_validation.map({\"e\":0, \"p\":1})"
      ],
      "metadata": {
        "id": "F3Kdv1p8Xqry"
      },
      "execution_count": null,
      "outputs": []
    },
    {
      "cell_type": "code",
      "source": [
        "y_test = y_test.map({\"e\":0,\"p\":1})"
      ],
      "metadata": {
        "id": "MM52XYnVNFa5"
      },
      "execution_count": null,
      "outputs": []
    },
    {
      "cell_type": "markdown",
      "source": [
        "Encodeo los features utilizando OHE, BinaryEncoding y MeanEncoding"
      ],
      "metadata": {
        "id": "iAp0VxI9pbXM"
      }
    },
    {
      "cell_type": "code",
      "source": [
        "def hot_encode(column_name, train_set, validation_set, test_set):\n",
        "  ohe = OneHotEncoder() #drop='first'\n",
        "\n",
        "  encoded_matrix = ohe.fit_transform(X_train[[column_name]]).todense().astype(int)\n",
        "  encoded_matrix_validation = ohe.transform(X_validation[[column_name]]).todense().astype(int)\n",
        "  encoded_matrix_test = ohe.transform(X_test[[column_name]]).todense().astype(int)\n",
        "\n",
        "  train_set = train_set.reset_index().drop(['index', column_name],axis=1).join(pd.DataFrame(encoded_matrix, columns=list(ohe.get_feature_names_out())))\n",
        "  validation_set = validation_set.reset_index().drop(['index', column_name],axis=1).join(pd.DataFrame(encoded_matrix_validation, columns=list(ohe.get_feature_names_out())))\n",
        "  test_set = test_set.reset_index().drop(['index', column_name],axis=1).join(pd.DataFrame(encoded_matrix_test, columns=list(ohe.get_feature_names_out())))\n",
        "\n",
        "  return train_set, validation_set, test_set\n",
        "\n",
        "\n",
        "def binary_encode(column_name, train_set, validation_set, test_set):\n",
        "  binary_encoder = BinaryEncoder()\n",
        "\n",
        "  encoded_column = binary_encoder.fit_transform(train_set[[column_name]]).astype(int)\n",
        "  encoded_column_validation = binary_encoder.transform(validation_set[[column_name]]).astype(int)\n",
        "  encoded_column_test = binary_encoder.transform(test_set[[column_name]]).astype(int)\n",
        "\n",
        "  train_set = train_set.drop(columns=[column_name])\n",
        "  train_set = train_set.join(encoded_column)\n",
        "\n",
        "  validation_set = validation_set.drop(columns=[column_name])\n",
        "  validation_set = validation_set.join(encoded_column_validation)\n",
        "\n",
        "  test_set = test_set.drop(columns=[column_name])\n",
        "  test_set = test_set.join(encoded_column_test)\n",
        "\n",
        "  return train_set, validation_set, test_set\n",
        "\n",
        "\n",
        "def mean_encode(column_name, train_set, validation_set, test_set, y_train_set):\n",
        "  mean_encoder = TargetEncoder()\n",
        "\n",
        "  encoded_column = mean_encoder.fit_transform(train_set[[column_name]], y_train_set)\n",
        "  encoded_column_validation = mean_encoder.transform(validation_set[[column_name]])\n",
        "  encoded_column_test = mean_encoder.transform(test_set[[column_name]])\n",
        "\n",
        "  train_set = train_set.drop(columns=[column_name])\n",
        "  train_set = train_set.join(encoded_column)\n",
        "\n",
        "  validation_set = validation_set.drop(columns=[column_name])\n",
        "  validation_set = validation_set.join(encoded_column_validation)\n",
        "\n",
        "  test_set = test_set.drop(columns=[column_name])\n",
        "  test_set = test_set.join(encoded_column_test)\n",
        "\n",
        "  return train_set, validation_set, test_set\n",
        "\n",
        "\n"
      ],
      "metadata": {
        "id": "0DY8Wx-84ms4"
      },
      "execution_count": null,
      "outputs": []
    },
    {
      "cell_type": "code",
      "source": [
        "X_train, X_validation, X_test = binary_encode(\"cap-color\", X_train, X_validation, X_test)\n",
        "X_train, X_validation, X_test = binary_encode(\"gill-color\", X_train, X_validation, X_test)\n",
        "\n",
        "X_train, X_validation, X_test = mean_encode(\"spore-print-color\", X_train, X_validation, X_test, y_train)\n",
        "X_train, X_validation, X_test = mean_encode(\"stem-color\", X_train, X_validation, X_test, y_train)\n",
        "\n",
        "X_train, X_validation, X_test = hot_encode(\"cap-shape\", X_train, X_validation, X_test)\n",
        "X_train, X_validation, X_test = hot_encode(\"cap-surface\", X_train, X_validation, X_test)\n",
        "X_train, X_validation, X_test = hot_encode(\"does-bruise-or-bleed\", X_train, X_validation, X_test)\n",
        "X_train, X_validation, X_test = hot_encode(\"gill-attachment\", X_train, X_validation, X_test)\n",
        "X_train, X_validation, X_test = hot_encode(\"gill-spacing\", X_train, X_validation, X_test)\n",
        "X_train, X_validation, X_test = hot_encode(\"stem-root\", X_train, X_validation, X_test)\n",
        "X_train, X_validation, X_test = hot_encode(\"stem-surface\", X_train, X_validation, X_test)\n",
        "X_train, X_validation, X_test = hot_encode(\"veil-type\", X_train, X_validation, X_test)\n",
        "X_train, X_validation, X_test = hot_encode(\"veil-color\", X_train, X_validation, X_test)\n",
        "X_train, X_validation, X_test = hot_encode(\"has-ring\", X_train, X_validation, X_test)\n",
        "X_train, X_validation, X_test = hot_encode(\"ring-type\", X_train, X_validation, X_test)\n",
        "X_train, X_validation, X_test = hot_encode(\"habitat\", X_train, X_validation, X_test)\n",
        "X_train, X_validation, X_test = hot_encode(\"season\", X_train, X_validation, X_test)\n"
      ],
      "metadata": {
        "id": "QfQgGnAO5-8_"
      },
      "execution_count": null,
      "outputs": []
    },
    {
      "cell_type": "code",
      "source": [
        "X_train[\"stem-color\"].unique()"
      ],
      "metadata": {
        "colab": {
          "base_uri": "https://localhost:8080/"
        },
        "id": "90QUFa5fK0PL",
        "outputId": "de33872d-32ac-438c-8fb9-c8dd3a478e91"
      },
      "execution_count": null,
      "outputs": [
        {
          "output_type": "execute_result",
          "data": {
            "text/plain": [
              "array([5.96998561e-01, 6.85138932e-01, 4.26928863e-01, 8.73786408e-01,\n",
              "       6.33768352e-01, 6.04507042e-01, 7.94117647e-01, 7.35365854e-01,\n",
              "       3.83483626e-01, 1.00000000e+00, 1.38545116e-06, 7.66116942e-01,\n",
              "       5.28409095e-01])"
            ]
          },
          "metadata": {},
          "execution_count": 36
        }
      ]
    },
    {
      "cell_type": "code",
      "source": [
        "X_validation[\"stem-color\"].unique()"
      ],
      "metadata": {
        "colab": {
          "base_uri": "https://localhost:8080/"
        },
        "id": "e6kAfbZDXXOI",
        "outputId": "cfee1c8b-500e-43cc-b55e-a150df725aee"
      },
      "execution_count": null,
      "outputs": [
        {
          "output_type": "execute_result",
          "data": {
            "text/plain": [
              "array([4.26928863e-01, 7.35365854e-01, 7.66116942e-01, 6.85138932e-01,\n",
              "       8.73786408e-01, 3.83483626e-01, 5.96998561e-01, 6.33768352e-01,\n",
              "       7.94117647e-01, 5.28409095e-01, 6.04507042e-01, 1.00000000e+00,\n",
              "       1.38545116e-06])"
            ]
          },
          "metadata": {},
          "execution_count": 37
        }
      ]
    },
    {
      "cell_type": "code",
      "source": [
        "X_test[\"stem-color\"].unique()"
      ],
      "metadata": {
        "colab": {
          "base_uri": "https://localhost:8080/"
        },
        "id": "krjnMRM7Xy1z",
        "outputId": "bc241406-b28e-4a9e-e0ef-3d8cbcd52960"
      },
      "execution_count": null,
      "outputs": [
        {
          "output_type": "execute_result",
          "data": {
            "text/plain": [
              "array([4.26928863e-01, 7.66116942e-01, 6.85138932e-01, 5.96998561e-01,\n",
              "       3.83483626e-01, 6.04507042e-01, 1.00000000e+00, 7.94117647e-01,\n",
              "       7.35365854e-01, 8.73786408e-01, 6.33768352e-01, 5.28409095e-01,\n",
              "       1.38545116e-06])"
            ]
          },
          "metadata": {},
          "execution_count": 38
        }
      ]
    },
    {
      "cell_type": "markdown",
      "source": [
        "Veo que los valores de \"stem-color\" fueron reemplazados por la utilización de MeanEncoding."
      ],
      "metadata": {
        "id": "MeYpZ4afQv0K"
      }
    },
    {
      "cell_type": "code",
      "source": [
        "X_train.info()"
      ],
      "metadata": {
        "colab": {
          "base_uri": "https://localhost:8080/"
        },
        "id": "eEb55p5B81r-",
        "outputId": "c856b636-d0c8-4a89-c605-0595cb16b006"
      },
      "execution_count": null,
      "outputs": [
        {
          "output_type": "stream",
          "name": "stdout",
          "text": [
            "<class 'pandas.core.frame.DataFrame'>\n",
            "RangeIndex: 49465 entries, 0 to 49464\n",
            "Data columns (total 92 columns):\n",
            " #   Column                   Non-Null Count  Dtype  \n",
            "---  ------                   --------------  -----  \n",
            " 0   cap-diameter             49465 non-null  float64\n",
            " 1   stem-height              49465 non-null  float64\n",
            " 2   stem-width               49465 non-null  float64\n",
            " 3   cap-color_0              49465 non-null  int64  \n",
            " 4   cap-color_1              49465 non-null  int64  \n",
            " 5   cap-color_2              49465 non-null  int64  \n",
            " 6   cap-color_3              49465 non-null  int64  \n",
            " 7   gill-color_0             49465 non-null  int64  \n",
            " 8   gill-color_1             49465 non-null  int64  \n",
            " 9   gill-color_2             49465 non-null  int64  \n",
            " 10  gill-color_3             49465 non-null  int64  \n",
            " 11  spore-print-color        49465 non-null  float64\n",
            " 12  stem-color               49465 non-null  float64\n",
            " 13  cap-shape_b              49465 non-null  int64  \n",
            " 14  cap-shape_c              49465 non-null  int64  \n",
            " 15  cap-shape_f              49465 non-null  int64  \n",
            " 16  cap-shape_o              49465 non-null  int64  \n",
            " 17  cap-shape_p              49465 non-null  int64  \n",
            " 18  cap-shape_s              49465 non-null  int64  \n",
            " 19  cap-shape_x              49465 non-null  int64  \n",
            " 20  cap-surface_d            49465 non-null  int64  \n",
            " 21  cap-surface_e            49465 non-null  int64  \n",
            " 22  cap-surface_g            49465 non-null  int64  \n",
            " 23  cap-surface_h            49465 non-null  int64  \n",
            " 24  cap-surface_i            49465 non-null  int64  \n",
            " 25  cap-surface_k            49465 non-null  int64  \n",
            " 26  cap-surface_l            49465 non-null  int64  \n",
            " 27  cap-surface_s            49465 non-null  int64  \n",
            " 28  cap-surface_t            49465 non-null  int64  \n",
            " 29  cap-surface_unknown      49465 non-null  int64  \n",
            " 30  cap-surface_w            49465 non-null  int64  \n",
            " 31  cap-surface_y            49465 non-null  int64  \n",
            " 32  does-bruise-or-bleed_f   49465 non-null  int64  \n",
            " 33  does-bruise-or-bleed_t   49465 non-null  int64  \n",
            " 34  gill-attachment_a        49465 non-null  int64  \n",
            " 35  gill-attachment_d        49465 non-null  int64  \n",
            " 36  gill-attachment_e        49465 non-null  int64  \n",
            " 37  gill-attachment_f        49465 non-null  int64  \n",
            " 38  gill-attachment_p        49465 non-null  int64  \n",
            " 39  gill-attachment_s        49465 non-null  int64  \n",
            " 40  gill-attachment_unknown  49465 non-null  int64  \n",
            " 41  gill-attachment_x        49465 non-null  int64  \n",
            " 42  gill-spacing_c           49465 non-null  int64  \n",
            " 43  gill-spacing_d           49465 non-null  int64  \n",
            " 44  gill-spacing_f           49465 non-null  int64  \n",
            " 45  gill-spacing_unknown     49465 non-null  int64  \n",
            " 46  stem-root_b              49465 non-null  int64  \n",
            " 47  stem-root_c              49465 non-null  int64  \n",
            " 48  stem-root_f              49465 non-null  int64  \n",
            " 49  stem-root_r              49465 non-null  int64  \n",
            " 50  stem-root_s              49465 non-null  int64  \n",
            " 51  stem-root_unknown        49465 non-null  int64  \n",
            " 52  stem-surface_f           49465 non-null  int64  \n",
            " 53  stem-surface_g           49465 non-null  int64  \n",
            " 54  stem-surface_h           49465 non-null  int64  \n",
            " 55  stem-surface_i           49465 non-null  int64  \n",
            " 56  stem-surface_k           49465 non-null  int64  \n",
            " 57  stem-surface_s           49465 non-null  int64  \n",
            " 58  stem-surface_t           49465 non-null  int64  \n",
            " 59  stem-surface_unknown     49465 non-null  int64  \n",
            " 60  stem-surface_y           49465 non-null  int64  \n",
            " 61  veil-type_p              49465 non-null  int64  \n",
            " 62  veil-type_u              49465 non-null  int64  \n",
            " 63  veil-color_e             49465 non-null  int64  \n",
            " 64  veil-color_k             49465 non-null  int64  \n",
            " 65  veil-color_n             49465 non-null  int64  \n",
            " 66  veil-color_u             49465 non-null  int64  \n",
            " 67  veil-color_unknown       49465 non-null  int64  \n",
            " 68  veil-color_w             49465 non-null  int64  \n",
            " 69  veil-color_y             49465 non-null  int64  \n",
            " 70  has-ring_f               49465 non-null  int64  \n",
            " 71  has-ring_t               49465 non-null  int64  \n",
            " 72  ring-type_e              49465 non-null  int64  \n",
            " 73  ring-type_f              49465 non-null  int64  \n",
            " 74  ring-type_g              49465 non-null  int64  \n",
            " 75  ring-type_l              49465 non-null  int64  \n",
            " 76  ring-type_m              49465 non-null  int64  \n",
            " 77  ring-type_p              49465 non-null  int64  \n",
            " 78  ring-type_r              49465 non-null  int64  \n",
            " 79  ring-type_z              49465 non-null  int64  \n",
            " 80  habitat_d                49465 non-null  int64  \n",
            " 81  habitat_g                49465 non-null  int64  \n",
            " 82  habitat_h                49465 non-null  int64  \n",
            " 83  habitat_l                49465 non-null  int64  \n",
            " 84  habitat_m                49465 non-null  int64  \n",
            " 85  habitat_p                49465 non-null  int64  \n",
            " 86  habitat_u                49465 non-null  int64  \n",
            " 87  habitat_w                49465 non-null  int64  \n",
            " 88  season_a                 49465 non-null  int64  \n",
            " 89  season_s                 49465 non-null  int64  \n",
            " 90  season_u                 49465 non-null  int64  \n",
            " 91  season_w                 49465 non-null  int64  \n",
            "dtypes: float64(5), int64(87)\n",
            "memory usage: 34.7 MB\n"
          ]
        }
      ]
    },
    {
      "cell_type": "markdown",
      "source": [
        "#Modelo XGBoost"
      ],
      "metadata": {
        "id": "Lv3gJ-Mg0dRp"
      }
    },
    {
      "cell_type": "markdown",
      "source": [
        "Mi elección para el entrenamiento de un nuevo modelo es XGBoost (Classifier). Este modelo utiliza el gradiente para el entrenamiento de los árboles de decisión."
      ],
      "metadata": {
        "id": "Zc9L5pl_Q8NB"
      }
    },
    {
      "cell_type": "markdown",
      "source": [
        "**HIPERPARÁMETROS:**\n",
        "* **learning_rate:** tasa de aprendizaje\n",
        "* **max_depth:** máxima profundidad de cada árbol\n",
        "* **subsample:** porcentaje de muestras usadas para cada árbol (valor muy bajo, posible underfitting)\n",
        "* **colsample_bytree:** porcentaje de features usadas para cada árbol (valores muy alto, posible overfitting)\n",
        "* **n_estimators:** cantidad de árboles a construir.\n",
        "\n",
        "Parámetros de regularización:\n",
        "\n",
        "* **gamma:** umbral para hacer split basado en la reducción de error de hacer el nuevo split."
      ],
      "metadata": {
        "id": "bumDTJuv0qng"
      }
    },
    {
      "cell_type": "code",
      "source": [
        "xgb_classifier = xgb.XGBClassifier()"
      ],
      "metadata": {
        "id": "KCWVFkJp4Vk8"
      },
      "execution_count": null,
      "outputs": []
    },
    {
      "cell_type": "code",
      "source": [
        "params = [\n",
        "    {'max_depth': [3, 4, 5]},\n",
        "    {'learning_rate': [0.01, 0.1, 0.2]},\n",
        "    {'n_estimators': [10, 50, 100]},\n",
        "    {'gamma': [0, 0.1, 0.2]},\n",
        "    {'subsample': [0.8, 1.0]},\n",
        "    {'colsample_bytree': [0.3, 0.5, 0.8]}\n",
        "]"
      ],
      "metadata": {
        "id": "L2xdcS7T3304"
      },
      "execution_count": null,
      "outputs": []
    },
    {
      "cell_type": "code",
      "source": [
        "rs = RandomizedSearchCV(xgb_classifier, param_distributions=params, n_iter=8, random_state=5, scoring='roc_auc') #cv=5 default"
      ],
      "metadata": {
        "id": "4mEtfP2p4H7J"
      },
      "execution_count": null,
      "outputs": []
    },
    {
      "cell_type": "markdown",
      "source": [
        "En este caso utilizo RandomizedSearchCV ya que la cantidad de combinaciones de hiperparámetros es muy alta, lo que produciría un gran costo de tiempo si quisiera calcular todas las combinaciones posibles."
      ],
      "metadata": {
        "id": "-nZLPhgWSE9b"
      }
    },
    {
      "cell_type": "code",
      "source": [
        "rs.fit(X_train,y_train)"
      ],
      "metadata": {
        "id": "tX9K1hOn02je",
        "colab": {
          "base_uri": "https://localhost:8080/",
          "height": 116
        },
        "outputId": "70b6e87b-bddd-4884-efd9-cae2a1e972f3"
      },
      "execution_count": null,
      "outputs": [
        {
          "output_type": "execute_result",
          "data": {
            "text/plain": [
              "RandomizedSearchCV(estimator=XGBClassifier(base_score=None, booster=None,\n",
              "                                           callbacks=None,\n",
              "                                           colsample_bylevel=None,\n",
              "                                           colsample_bynode=None,\n",
              "                                           colsample_bytree=None,\n",
              "                                           early_stopping_rounds=None,\n",
              "                                           enable_categorical=False,\n",
              "                                           eval_metric=None, feature_types=None,\n",
              "                                           gamma=None, gpu_id=None,\n",
              "                                           grow_policy=None,\n",
              "                                           importance_type=None,\n",
              "                                           interaction_constraints=None,\n",
              "                                           learning_rate=None...\n",
              "                                           min_child_weight=None, missing=nan,\n",
              "                                           monotone_constraints=None,\n",
              "                                           n_estimators=100, n_jobs=None,\n",
              "                                           num_parallel_tree=None,\n",
              "                                           predictor=None, random_state=None, ...),\n",
              "                   n_iter=8,\n",
              "                   param_distributions=[{'max_depth': [3, 4, 5]},\n",
              "                                        {'learning_rate': [0.01, 0.1, 0.2]},\n",
              "                                        {'n_estimators': [10, 50, 100]},\n",
              "                                        {'gamma': [0, 0.1, 0.2]},\n",
              "                                        {'subsample': [0.8, 1.0]},\n",
              "                                        {'colsample_bytree': [0.3, 0.5, 0.8]}],\n",
              "                   random_state=5, scoring='roc_auc')"
            ],
            "text/html": [
              "<style>#sk-container-id-1 {color: black;background-color: white;}#sk-container-id-1 pre{padding: 0;}#sk-container-id-1 div.sk-toggleable {background-color: white;}#sk-container-id-1 label.sk-toggleable__label {cursor: pointer;display: block;width: 100%;margin-bottom: 0;padding: 0.3em;box-sizing: border-box;text-align: center;}#sk-container-id-1 label.sk-toggleable__label-arrow:before {content: \"▸\";float: left;margin-right: 0.25em;color: #696969;}#sk-container-id-1 label.sk-toggleable__label-arrow:hover:before {color: black;}#sk-container-id-1 div.sk-estimator:hover label.sk-toggleable__label-arrow:before {color: black;}#sk-container-id-1 div.sk-toggleable__content {max-height: 0;max-width: 0;overflow: hidden;text-align: left;background-color: #f0f8ff;}#sk-container-id-1 div.sk-toggleable__content pre {margin: 0.2em;color: black;border-radius: 0.25em;background-color: #f0f8ff;}#sk-container-id-1 input.sk-toggleable__control:checked~div.sk-toggleable__content {max-height: 200px;max-width: 100%;overflow: auto;}#sk-container-id-1 input.sk-toggleable__control:checked~label.sk-toggleable__label-arrow:before {content: \"▾\";}#sk-container-id-1 div.sk-estimator input.sk-toggleable__control:checked~label.sk-toggleable__label {background-color: #d4ebff;}#sk-container-id-1 div.sk-label input.sk-toggleable__control:checked~label.sk-toggleable__label {background-color: #d4ebff;}#sk-container-id-1 input.sk-hidden--visually {border: 0;clip: rect(1px 1px 1px 1px);clip: rect(1px, 1px, 1px, 1px);height: 1px;margin: -1px;overflow: hidden;padding: 0;position: absolute;width: 1px;}#sk-container-id-1 div.sk-estimator {font-family: monospace;background-color: #f0f8ff;border: 1px dotted black;border-radius: 0.25em;box-sizing: border-box;margin-bottom: 0.5em;}#sk-container-id-1 div.sk-estimator:hover {background-color: #d4ebff;}#sk-container-id-1 div.sk-parallel-item::after {content: \"\";width: 100%;border-bottom: 1px solid gray;flex-grow: 1;}#sk-container-id-1 div.sk-label:hover label.sk-toggleable__label {background-color: #d4ebff;}#sk-container-id-1 div.sk-serial::before {content: \"\";position: absolute;border-left: 1px solid gray;box-sizing: border-box;top: 0;bottom: 0;left: 50%;z-index: 0;}#sk-container-id-1 div.sk-serial {display: flex;flex-direction: column;align-items: center;background-color: white;padding-right: 0.2em;padding-left: 0.2em;position: relative;}#sk-container-id-1 div.sk-item {position: relative;z-index: 1;}#sk-container-id-1 div.sk-parallel {display: flex;align-items: stretch;justify-content: center;background-color: white;position: relative;}#sk-container-id-1 div.sk-item::before, #sk-container-id-1 div.sk-parallel-item::before {content: \"\";position: absolute;border-left: 1px solid gray;box-sizing: border-box;top: 0;bottom: 0;left: 50%;z-index: -1;}#sk-container-id-1 div.sk-parallel-item {display: flex;flex-direction: column;z-index: 1;position: relative;background-color: white;}#sk-container-id-1 div.sk-parallel-item:first-child::after {align-self: flex-end;width: 50%;}#sk-container-id-1 div.sk-parallel-item:last-child::after {align-self: flex-start;width: 50%;}#sk-container-id-1 div.sk-parallel-item:only-child::after {width: 0;}#sk-container-id-1 div.sk-dashed-wrapped {border: 1px dashed gray;margin: 0 0.4em 0.5em 0.4em;box-sizing: border-box;padding-bottom: 0.4em;background-color: white;}#sk-container-id-1 div.sk-label label {font-family: monospace;font-weight: bold;display: inline-block;line-height: 1.2em;}#sk-container-id-1 div.sk-label-container {text-align: center;}#sk-container-id-1 div.sk-container {/* jupyter's `normalize.less` sets `[hidden] { display: none; }` but bootstrap.min.css set `[hidden] { display: none !important; }` so we also need the `!important` here to be able to override the default hidden behavior on the sphinx rendered scikit-learn.org. See: https://github.com/scikit-learn/scikit-learn/issues/21755 */display: inline-block !important;position: relative;}#sk-container-id-1 div.sk-text-repr-fallback {display: none;}</style><div id=\"sk-container-id-1\" class=\"sk-top-container\"><div class=\"sk-text-repr-fallback\"><pre>RandomizedSearchCV(estimator=XGBClassifier(base_score=None, booster=None,\n",
              "                                           callbacks=None,\n",
              "                                           colsample_bylevel=None,\n",
              "                                           colsample_bynode=None,\n",
              "                                           colsample_bytree=None,\n",
              "                                           early_stopping_rounds=None,\n",
              "                                           enable_categorical=False,\n",
              "                                           eval_metric=None, feature_types=None,\n",
              "                                           gamma=None, gpu_id=None,\n",
              "                                           grow_policy=None,\n",
              "                                           importance_type=None,\n",
              "                                           interaction_constraints=None,\n",
              "                                           learning_rate=None...\n",
              "                                           min_child_weight=None, missing=nan,\n",
              "                                           monotone_constraints=None,\n",
              "                                           n_estimators=100, n_jobs=None,\n",
              "                                           num_parallel_tree=None,\n",
              "                                           predictor=None, random_state=None, ...),\n",
              "                   n_iter=8,\n",
              "                   param_distributions=[{&#x27;max_depth&#x27;: [3, 4, 5]},\n",
              "                                        {&#x27;learning_rate&#x27;: [0.01, 0.1, 0.2]},\n",
              "                                        {&#x27;n_estimators&#x27;: [10, 50, 100]},\n",
              "                                        {&#x27;gamma&#x27;: [0, 0.1, 0.2]},\n",
              "                                        {&#x27;subsample&#x27;: [0.8, 1.0]},\n",
              "                                        {&#x27;colsample_bytree&#x27;: [0.3, 0.5, 0.8]}],\n",
              "                   random_state=5, scoring=&#x27;roc_auc&#x27;)</pre><b>In a Jupyter environment, please rerun this cell to show the HTML representation or trust the notebook. <br />On GitHub, the HTML representation is unable to render, please try loading this page with nbviewer.org.</b></div><div class=\"sk-container\" hidden><div class=\"sk-item sk-dashed-wrapped\"><div class=\"sk-label-container\"><div class=\"sk-label sk-toggleable\"><input class=\"sk-toggleable__control sk-hidden--visually\" id=\"sk-estimator-id-1\" type=\"checkbox\" ><label for=\"sk-estimator-id-1\" class=\"sk-toggleable__label sk-toggleable__label-arrow\">RandomizedSearchCV</label><div class=\"sk-toggleable__content\"><pre>RandomizedSearchCV(estimator=XGBClassifier(base_score=None, booster=None,\n",
              "                                           callbacks=None,\n",
              "                                           colsample_bylevel=None,\n",
              "                                           colsample_bynode=None,\n",
              "                                           colsample_bytree=None,\n",
              "                                           early_stopping_rounds=None,\n",
              "                                           enable_categorical=False,\n",
              "                                           eval_metric=None, feature_types=None,\n",
              "                                           gamma=None, gpu_id=None,\n",
              "                                           grow_policy=None,\n",
              "                                           importance_type=None,\n",
              "                                           interaction_constraints=None,\n",
              "                                           learning_rate=None...\n",
              "                                           min_child_weight=None, missing=nan,\n",
              "                                           monotone_constraints=None,\n",
              "                                           n_estimators=100, n_jobs=None,\n",
              "                                           num_parallel_tree=None,\n",
              "                                           predictor=None, random_state=None, ...),\n",
              "                   n_iter=8,\n",
              "                   param_distributions=[{&#x27;max_depth&#x27;: [3, 4, 5]},\n",
              "                                        {&#x27;learning_rate&#x27;: [0.01, 0.1, 0.2]},\n",
              "                                        {&#x27;n_estimators&#x27;: [10, 50, 100]},\n",
              "                                        {&#x27;gamma&#x27;: [0, 0.1, 0.2]},\n",
              "                                        {&#x27;subsample&#x27;: [0.8, 1.0]},\n",
              "                                        {&#x27;colsample_bytree&#x27;: [0.3, 0.5, 0.8]}],\n",
              "                   random_state=5, scoring=&#x27;roc_auc&#x27;)</pre></div></div></div><div class=\"sk-parallel\"><div class=\"sk-parallel-item\"><div class=\"sk-item\"><div class=\"sk-label-container\"><div class=\"sk-label sk-toggleable\"><input class=\"sk-toggleable__control sk-hidden--visually\" id=\"sk-estimator-id-2\" type=\"checkbox\" ><label for=\"sk-estimator-id-2\" class=\"sk-toggleable__label sk-toggleable__label-arrow\">estimator: XGBClassifier</label><div class=\"sk-toggleable__content\"><pre>XGBClassifier(base_score=None, booster=None, callbacks=None,\n",
              "              colsample_bylevel=None, colsample_bynode=None,\n",
              "              colsample_bytree=None, early_stopping_rounds=None,\n",
              "              enable_categorical=False, eval_metric=None, feature_types=None,\n",
              "              gamma=None, gpu_id=None, grow_policy=None, importance_type=None,\n",
              "              interaction_constraints=None, learning_rate=None, max_bin=None,\n",
              "              max_cat_threshold=None, max_cat_to_onehot=None,\n",
              "              max_delta_step=None, max_depth=None, max_leaves=None,\n",
              "              min_child_weight=None, missing=nan, monotone_constraints=None,\n",
              "              n_estimators=100, n_jobs=None, num_parallel_tree=None,\n",
              "              predictor=None, random_state=None, ...)</pre></div></div></div><div class=\"sk-serial\"><div class=\"sk-item\"><div class=\"sk-estimator sk-toggleable\"><input class=\"sk-toggleable__control sk-hidden--visually\" id=\"sk-estimator-id-3\" type=\"checkbox\" ><label for=\"sk-estimator-id-3\" class=\"sk-toggleable__label sk-toggleable__label-arrow\">XGBClassifier</label><div class=\"sk-toggleable__content\"><pre>XGBClassifier(base_score=None, booster=None, callbacks=None,\n",
              "              colsample_bylevel=None, colsample_bynode=None,\n",
              "              colsample_bytree=None, early_stopping_rounds=None,\n",
              "              enable_categorical=False, eval_metric=None, feature_types=None,\n",
              "              gamma=None, gpu_id=None, grow_policy=None, importance_type=None,\n",
              "              interaction_constraints=None, learning_rate=None, max_bin=None,\n",
              "              max_cat_threshold=None, max_cat_to_onehot=None,\n",
              "              max_delta_step=None, max_depth=None, max_leaves=None,\n",
              "              min_child_weight=None, missing=nan, monotone_constraints=None,\n",
              "              n_estimators=100, n_jobs=None, num_parallel_tree=None,\n",
              "              predictor=None, random_state=None, ...)</pre></div></div></div></div></div></div></div></div></div></div>"
            ]
          },
          "metadata": {},
          "execution_count": 43
        }
      ]
    },
    {
      "cell_type": "code",
      "source": [
        "rs.best_params_"
      ],
      "metadata": {
        "colab": {
          "base_uri": "https://localhost:8080/"
        },
        "id": "lpVWopxm5DSq",
        "outputId": "a7719212-b2c8-42a7-ce19-3d497db4976a"
      },
      "execution_count": null,
      "outputs": [
        {
          "output_type": "execute_result",
          "data": {
            "text/plain": [
              "{'colsample_bytree': 0.8}"
            ]
          },
          "metadata": {},
          "execution_count": 44
        }
      ]
    },
    {
      "cell_type": "code",
      "source": [
        "model = rs.best_estimator_"
      ],
      "metadata": {
        "id": "SuEwMKUi5J-I"
      },
      "execution_count": null,
      "outputs": []
    },
    {
      "cell_type": "code",
      "source": [
        "y_pred_val = model.predict(X_validation)"
      ],
      "metadata": {
        "id": "UF5r8cCg099a"
      },
      "execution_count": null,
      "outputs": []
    },
    {
      "cell_type": "code",
      "source": [
        "import seaborn as sns\n",
        "import matplotlib.pyplot as plt"
      ],
      "metadata": {
        "id": "PeaqyMzeSc2d"
      },
      "execution_count": null,
      "outputs": []
    },
    {
      "cell_type": "code",
      "source": [
        "skplt.metrics.plot_roc(y_validation, model.predict_proba(X_validation),classes_to_plot= 1,plot_micro= False, plot_macro = False, figsize=(6,4))\n",
        "plt.show()"
      ],
      "metadata": {
        "colab": {
          "base_uri": "https://localhost:8080/",
          "height": 410
        },
        "id": "qoXAQ1NYbH62",
        "outputId": "1a0f2803-b536-4769-ee68-d0c1ccfab762"
      },
      "execution_count": null,
      "outputs": [
        {
          "output_type": "display_data",
          "data": {
            "text/plain": [
              "<Figure size 600x400 with 1 Axes>"
            ],
            "image/png": "[encoded data removed]"
          },
          "metadata": {}
        }
      ]
    },
    {
      "cell_type": "code",
      "source": [
        "cm_validation = confusion_matrix(y_validation, y_pred_val)\n",
        "cm_validation"
      ],
      "metadata": {
        "colab": {
          "base_uri": "https://localhost:8080/"
        },
        "id": "k4iXrbXKcEyj",
        "outputId": "399f00e4-6462-4ee1-8f69-2da3ad29432e"
      },
      "execution_count": null,
      "outputs": [
        {
          "output_type": "execute_result",
          "data": {
            "text/plain": [
              "array([[2477,    0],\n",
              "       [   0, 3020]])"
            ]
          },
          "metadata": {},
          "execution_count": 49
        }
      ]
    },
    {
      "cell_type": "code",
      "source": [
        "plt.figure(figsize=(6,4))\n",
        "sns.heatmap(cm_validation, annot=True, cmap='Blues')\n",
        "plt.title('Confusion Matrix')\n",
        "plt.xlabel('Predicted')\n",
        "plt.ylabel('Actual')\n",
        "plt.show()"
      ],
      "metadata": {
        "colab": {
          "base_uri": "https://localhost:8080/",
          "height": 410
        },
        "id": "FF7wxP1EcT_N",
        "outputId": "6ed93a0f-d638-4caa-cd67-bd0e0ff50a8e"
      },
      "execution_count": null,
      "outputs": [
        {
          "output_type": "display_data",
          "data": {
            "text/plain": [
              "<Figure size 600x400 with 2 Axes>"
            ],
            "image/png": "[encoded data removed]"
          },
          "metadata": {}
        }
      ]
    },
    {
      "cell_type": "markdown",
      "source": [
        "Veo que si bien el colsample=0.8 puede parecer alto, al medir el modelo contra validation se ve que no realizó overfitting."
      ],
      "metadata": {
        "id": "qeNagbBVVL4T"
      }
    },
    {
      "cell_type": "markdown",
      "source": [
        "#Medición con test"
      ],
      "metadata": {
        "id": "tAd3BQVECU2u"
      }
    },
    {
      "cell_type": "code",
      "source": [
        "y_pred_test = model.predict(X_test)"
      ],
      "metadata": {
        "id": "EUqewl66FT0u"
      },
      "execution_count": null,
      "outputs": []
    },
    {
      "cell_type": "code",
      "source": [
        "cm_test = confusion_matrix(y_test, y_pred_test)\n",
        "cm_test"
      ],
      "metadata": {
        "colab": {
          "base_uri": "https://localhost:8080/"
        },
        "id": "DXuT0XFoFdSp",
        "outputId": "a8ddba9f-6212-4074-dc4c-c2da64c1f88b"
      },
      "execution_count": null,
      "outputs": [
        {
          "output_type": "execute_result",
          "data": {
            "text/plain": [
              "array([[2672,    1],\n",
              "       [   0, 3434]])"
            ]
          },
          "metadata": {},
          "execution_count": 52
        }
      ]
    },
    {
      "cell_type": "code",
      "source": [
        "plt.figure(figsize=(6,4))\n",
        "sns.heatmap(cm_test, annot=True, cmap='Blues')\n",
        "plt.title('Confusion Matrix')\n",
        "plt.xlabel('Predicted')\n",
        "plt.ylabel('Actual')\n",
        "plt.show()"
      ],
      "metadata": {
        "colab": {
          "base_uri": "https://localhost:8080/",
          "height": 410
        },
        "id": "jhpamNIQN1Bp",
        "outputId": "710b4617-7b64-4f7a-efb4-1219ecefdd10"
      },
      "execution_count": null,
      "outputs": [
        {
          "output_type": "display_data",
          "data": {
            "text/plain": [
              "<Figure size 600x400 with 2 Axes>"
            ],
            "image/png": "[encoded data removed]"
          },
          "metadata": {}
        }
      ]
    },
    {
      "cell_type": "code",
      "source": [
        "skplt.metrics.plot_roc(y_test, model.predict_proba(X_test),classes_to_plot= 1,plot_micro= False, plot_macro = False, figsize = (6,4))\n",
        "plt.show()"
      ],
      "metadata": {
        "colab": {
          "base_uri": "https://localhost:8080/",
          "height": 410
        },
        "id": "LOI5ZL35CjAp",
        "outputId": "c19fda71-a199-4366-b9b0-b67dd91c17d8"
      },
      "execution_count": null,
      "outputs": [
        {
          "output_type": "display_data",
          "data": {
            "text/plain": [
              "<Figure size 600x400 with 1 Axes>"
            ],
            "image/png": "[encoded data removed]"
          },
          "metadata": {}
        }
      ]
    },
    {
      "cell_type": "markdown",
      "source": [
        "¿Cuál es el score en test? (guardar el csv con predicciones para entregarlo después)\n",
        "\n",
        "¿Por qué cree que logro/no logro el mismo valor de AUC que con Random Forest?"
      ],
      "metadata": {
        "id": "U3NthlV8FNy_"
      }
    },
    {
      "cell_type": "code",
      "source": [
        "df_predic = pd.DataFrame({'y_test': y_test, 'y_predic_test': y_pred_test})\n",
        "df_predic.to_csv('/content/drive/MyDrive/predicciones_xgb.csv')"
      ],
      "metadata": {
        "id": "5-BVmkWeFDQU"
      },
      "execution_count": null,
      "outputs": []
    },
    {
      "cell_type": "markdown",
      "source": [
        "Viendo las predicciones para test podemos notar que llega al mismo AUC-ROC que el RandomForest, esto se puede deber a que el modelo XGBClassifier se adaptó bien al problema o también puede ser que la búsqueda de hiperparámetros tuvo como objetivo el score AUC-ROC beneficiando el modelo. Cabe destacar que el mean-encoding puede llevar a un leak entre los datasets, pero, en este caso, al haber sido aplicado luego de que los datasets fueran divididos, no se pudo haber producido dicho leak lo que se refleja en las predicciones para test."
      ],
      "metadata": {
        "id": "nFl10kZ1Gi_Z"
      }
    }
  ]
}