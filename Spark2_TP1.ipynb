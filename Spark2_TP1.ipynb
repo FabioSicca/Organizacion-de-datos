{
  "nbformat": 4,
  "nbformat_minor": 0,
  "metadata": {
    "colab": {
      "provenance": [],
      "mount_file_id": "1rqXwxWMJET6mkHABM1ROVNbWBxP4LBt1",
      "authorship_tag": "ABX9TyOK0WkujCylyI7rJKQTVrvI",
      "include_colab_link": true
    },
    "kernelspec": {
      "name": "python3",
      "display_name": "Python 3"
    },
    "language_info": {
      "name": "python"
    }
  },
  "cells": [
    {
      "cell_type": "markdown",
      "metadata": {
        "id": "view-in-github",
        "colab_type": "text"
      },
      "source": [
        "<a href=\"https://colab.research.google.com/github/FabioSicca/Organizacion-de-datos/blob/main/Spark2_TP1.ipynb\" target=\"_parent\"><img src=\"https://colab.research.google.com/assets/colab-badge.svg\" alt=\"Open In Colab\"/></a>"
      ]
    },
    {
      "cell_type": "markdown",
      "source": [
        "12) Obtenga la matriz de distancias euclídeas para todos los contenidos que están en Marte. ¿Cuáles son los dos contenidos que están a menor distancia? (⭐⭐)"
      ],
      "metadata": {
        "id": "47b508oonuTm"
      }
    },
    {
      "cell_type": "code",
      "execution_count": null,
      "metadata": {
        "colab": {
          "base_uri": "https://localhost:8080/"
        },
        "id": "TLoGSy0SnnE0",
        "outputId": "4d7ec1a8-655e-4f93-d153-75061124acca"
      },
      "outputs": [
        {
          "output_type": "stream",
          "name": "stdout",
          "text": [
            "Looking in indexes: https://pypi.org/simple, https://us-python.pkg.dev/colab-wheels/public/simple/\n",
            "Collecting pyspark\n",
            "  Downloading pyspark-3.4.0.tar.gz (310.8 MB)\n",
            "\u001b[2K     \u001b[90m━━━━━━━━━━━━━━━━━━━━━━━━━━━━━━━━━━━━━━━\u001b[0m \u001b[32m310.8/310.8 MB\u001b[0m \u001b[31m3.9 MB/s\u001b[0m eta \u001b[36m0:00:00\u001b[0m\n",
            "\u001b[?25h  Preparing metadata (setup.py) ... \u001b[?25l\u001b[?25hdone\n",
            "Requirement already satisfied: py4j==0.10.9.7 in /usr/local/lib/python3.10/dist-packages (from pyspark) (0.10.9.7)\n",
            "Building wheels for collected packages: pyspark\n",
            "  Building wheel for pyspark (setup.py) ... \u001b[?25l\u001b[?25hdone\n",
            "  Created wheel for pyspark: filename=pyspark-3.4.0-py2.py3-none-any.whl size=311317145 sha256=4725133a12ed7d815be8d13f8074a03ed01dcaa26c6f35ccc202fb39b5292380\n",
            "  Stored in directory: /root/.cache/pip/wheels/7b/1b/4b/3363a1d04368e7ff0d408e57ff57966fcdf00583774e761327\n",
            "Successfully built pyspark\n",
            "Installing collected packages: pyspark\n",
            "Successfully installed pyspark-3.4.0\n",
            "The following additional packages will be installed:\n",
            "  libxtst6 openjdk-8-jre-headless\n",
            "Suggested packages:\n",
            "  openjdk-8-demo openjdk-8-source libnss-mdns fonts-dejavu-extra\n",
            "  fonts-ipafont-gothic fonts-ipafont-mincho fonts-wqy-microhei\n",
            "  fonts-wqy-zenhei fonts-indic\n",
            "The following NEW packages will be installed:\n",
            "  libxtst6 openjdk-8-jdk-headless openjdk-8-jre-headless\n",
            "0 upgraded, 3 newly installed, 0 to remove and 24 not upgraded.\n",
            "Need to get 36.5 MB of archives.\n",
            "After this operation, 144 MB of additional disk space will be used.\n",
            "Selecting previously unselected package libxtst6:amd64.\n",
            "(Reading database ... 122518 files and directories currently installed.)\n",
            "Preparing to unpack .../libxtst6_2%3a1.2.3-1_amd64.deb ...\n",
            "Unpacking libxtst6:amd64 (2:1.2.3-1) ...\n",
            "Selecting previously unselected package openjdk-8-jre-headless:amd64.\n",
            "Preparing to unpack .../openjdk-8-jre-headless_8u362-ga-0ubuntu1~20.04.1_amd64.deb ...\n",
            "Unpacking openjdk-8-jre-headless:amd64 (8u362-ga-0ubuntu1~20.04.1) ...\n",
            "Selecting previously unselected package openjdk-8-jdk-headless:amd64.\n",
            "Preparing to unpack .../openjdk-8-jdk-headless_8u362-ga-0ubuntu1~20.04.1_amd64.deb ...\n",
            "Unpacking openjdk-8-jdk-headless:amd64 (8u362-ga-0ubuntu1~20.04.1) ...\n",
            "Setting up libxtst6:amd64 (2:1.2.3-1) ...\n",
            "Setting up openjdk-8-jre-headless:amd64 (8u362-ga-0ubuntu1~20.04.1) ...\n",
            "update-alternatives: using /usr/lib/jvm/java-8-openjdk-amd64/jre/bin/orbd to provide /usr/bin/orbd (orbd) in auto mode\n",
            "update-alternatives: using /usr/lib/jvm/java-8-openjdk-amd64/jre/bin/servertool to provide /usr/bin/servertool (servertool) in auto mode\n",
            "update-alternatives: using /usr/lib/jvm/java-8-openjdk-amd64/jre/bin/tnameserv to provide /usr/bin/tnameserv (tnameserv) in auto mode\n",
            "Setting up openjdk-8-jdk-headless:amd64 (8u362-ga-0ubuntu1~20.04.1) ...\n",
            "update-alternatives: using /usr/lib/jvm/java-8-openjdk-amd64/bin/idlj to provide /usr/bin/idlj (idlj) in auto mode\n",
            "update-alternatives: using /usr/lib/jvm/java-8-openjdk-amd64/bin/wsimport to provide /usr/bin/wsimport (wsimport) in auto mode\n",
            "update-alternatives: using /usr/lib/jvm/java-8-openjdk-amd64/bin/jsadebugd to provide /usr/bin/jsadebugd (jsadebugd) in auto mode\n",
            "update-alternatives: using /usr/lib/jvm/java-8-openjdk-amd64/bin/native2ascii to provide /usr/bin/native2ascii (native2ascii) in auto mode\n",
            "update-alternatives: using /usr/lib/jvm/java-8-openjdk-amd64/bin/javah to provide /usr/bin/javah (javah) in auto mode\n",
            "update-alternatives: using /usr/lib/jvm/java-8-openjdk-amd64/bin/hsdb to provide /usr/bin/hsdb (hsdb) in auto mode\n",
            "update-alternatives: using /usr/lib/jvm/java-8-openjdk-amd64/bin/clhsdb to provide /usr/bin/clhsdb (clhsdb) in auto mode\n",
            "update-alternatives: using /usr/lib/jvm/java-8-openjdk-amd64/bin/xjc to provide /usr/bin/xjc (xjc) in auto mode\n",
            "update-alternatives: using /usr/lib/jvm/java-8-openjdk-amd64/bin/schemagen to provide /usr/bin/schemagen (schemagen) in auto mode\n",
            "update-alternatives: using /usr/lib/jvm/java-8-openjdk-amd64/bin/extcheck to provide /usr/bin/extcheck (extcheck) in auto mode\n",
            "update-alternatives: using /usr/lib/jvm/java-8-openjdk-amd64/bin/jhat to provide /usr/bin/jhat (jhat) in auto mode\n",
            "update-alternatives: using /usr/lib/jvm/java-8-openjdk-amd64/bin/wsgen to provide /usr/bin/wsgen (wsgen) in auto mode\n",
            "Processing triggers for libc-bin (2.31-0ubuntu9.9) ...\n"
          ]
        }
      ],
      "source": [
        "from pydrive.auth import GoogleAuth\n",
        "from pydrive.drive import GoogleDrive\n",
        "from google.colab import auth\n",
        "!pip install pyspark\n",
        "!pip install -U -q PyDrive\n",
        "!apt install openjdk-8-jdk-headless -qq\n",
        "import os\n",
        "os.environ[\"JAVA_HOME\"] = \"/usr/lib/jvm/java-8-openjdk-amd64\"\n",
        "from oauth2client.client import GoogleCredentials\n",
        "from pyspark.sql import *\n",
        "from pyspark.sql.functions import *\n",
        "from pyspark import SparkContext\n",
        "from pyspark.sql import SQLContext"
      ]
    },
    {
      "cell_type": "code",
      "source": [
        "auth.authenticate_user()\n",
        "gauth = GoogleAuth()\n",
        "gauth.credentials = GoogleCredentials.get_application_default()\n",
        "drive = GoogleDrive(gauth)"
      ],
      "metadata": {
        "id": "bHAvce9cqubq"
      },
      "execution_count": null,
      "outputs": []
    },
    {
      "cell_type": "code",
      "source": [
        "from google.colab import drive\n",
        "drive.mount('/content/drive')"
      ],
      "metadata": {
        "colab": {
          "base_uri": "https://localhost:8080/"
        },
        "id": "t_yz4LXae72N",
        "outputId": "ebf2791b-9d55-44bd-f55e-85f6a1576cd4"
      },
      "execution_count": null,
      "outputs": [
        {
          "output_type": "stream",
          "name": "stdout",
          "text": [
            "Drive already mounted at /content/drive; to attempt to forcibly remount, call drive.mount(\"/content/drive\", force_remount=True).\n"
          ]
        }
      ]
    },
    {
      "cell_type": "code",
      "source": [
        "spark = SparkSession.builder.getOrCreate()\n",
        "sc = spark.sparkContext\n",
        "type(sc)"
      ],
      "metadata": {
        "colab": {
          "base_uri": "https://localhost:8080/"
        },
        "id": "sqQiS3_9qxLY",
        "outputId": "dcad728d-8997-409e-db58-dd884e9a6ee4"
      },
      "execution_count": null,
      "outputs": [
        {
          "output_type": "execute_result",
          "data": {
            "text/plain": [
              "pyspark.context.SparkContext"
            ]
          },
          "metadata": {},
          "execution_count": 4
        }
      ]
    },
    {
      "cell_type": "code",
      "source": [
        "geo_tags = spark.read.csv(\"/content/drive/MyDrive/Wikipedia dataset/geo_tags.csv\", header=True, inferSchema=True, multiLine=True, escape='\"')\n",
        "contents = spark.read.csv(\"/content/drive/MyDrive/Wikipedia dataset/contents.csv\", header=True, inferSchema=True, multiLine=True, escape='\"')"
      ],
      "metadata": {
        "id": "sgw6jAbfq0hI"
      },
      "execution_count": null,
      "outputs": []
    },
    {
      "cell_type": "code",
      "source": [
        "rdd_geo_tags = geo_tags.rdd\n",
        "rdd_contents = contents.rdd"
      ],
      "metadata": {
        "id": "eB2oxSp-rfv4"
      },
      "execution_count": null,
      "outputs": []
    },
    {
      "cell_type": "markdown",
      "source": [
        "Filtro los geo tags a Marte y acomodo el rdd para que quede con clave, valor para poder hacer el join con contents\n"
      ],
      "metadata": {
        "id": "d-FEKiFNfDaR"
      }
    },
    {
      "cell_type": "code",
      "source": [
        "mars_geo_tags = rdd_geo_tags.filter(lambda x: x.gt_globe == \"mars\").map(lambda x: (x.gt_page_id, (x.gt_lat,x.gt_lon)))"
      ],
      "metadata": {
        "id": "9rf4Yk-sriWu"
      },
      "execution_count": null,
      "outputs": []
    },
    {
      "cell_type": "markdown",
      "source": [
        "Uno los rdds de contenidos y de geo tags de Marte en base al page_id (al hacer un \"inner join\" también se filtran los datos).\n",
        "Cacheo porque veo que es un rdd finito (1437 registros), para optimizar"
      ],
      "metadata": {
        "id": "x3nYczpEfJew"
      }
    },
    {
      "cell_type": "code",
      "source": [
        "mars_content = rdd_contents.map(lambda x: (x.id, x.title)).join(mars_geo_tags).map(lambda x: (x[1][0], x[1][1]))\n",
        "mars_content.cache()\n",
        "\n",
        "#El formato de mars_content quedaría como (page_title, (lat, long))"
      ],
      "metadata": {
        "id": "JYpc08b9l0eq",
        "colab": {
          "base_uri": "https://localhost:8080/"
        },
        "outputId": "e3762041-962b-4413-a9ba-e25bfceac4d7"
      },
      "execution_count": null,
      "outputs": [
        {
          "output_type": "execute_result",
          "data": {
            "text/plain": [
              "PythonRDD[37] at RDD at PythonRDD.scala:53"
            ]
          },
          "metadata": {},
          "execution_count": 11
        }
      ]
    },
    {
      "cell_type": "markdown",
      "source": [
        "Realizo todas las posibles combinaciones entre las pags, elimino las combinaciones de un registro consigo mismo y calculo la distancia\n"
      ],
      "metadata": {
        "id": "f9NpPaZEflIl"
      }
    },
    {
      "cell_type": "code",
      "source": [
        "#Filtro aquellas paginas que si bien no son la misma, hablan de lo mismo y por lo tanto tienen la misma ubicacion o distancia = 0\n",
        "total_combinations = mars_content.cartesian(mars_content).filter(lambda x: x[0][1] != x[1][1]) #registro=((pg1,(lat1,lon1)), (pg2,(lat2,lon2)))\n",
        "total_combinations.take(5)"
      ],
      "metadata": {
        "colab": {
          "base_uri": "https://localhost:8080/"
        },
        "id": "fUweIHJGxlm-",
        "outputId": "47090726-bb4a-497e-e8e9-ae0b542c47d6"
      },
      "execution_count": null,
      "outputs": [
        {
          "output_type": "execute_result",
          "data": {
            "text/plain": [
              "[(('Centauri Montes', (-38.67, 95.52)), ('Luga (cráter)', (-44.25, 312.58))),\n",
              " (('Centauri Montes', (-38.67, 95.52)),\n",
              "  ('South (cráter marciano)', (-76.94, 21.91))),\n",
              " (('Centauri Montes', (-38.67, 95.52)), ('Utopia Planitia', (46.7, 117.5))),\n",
              " (('Centauri Montes', (-38.67, 95.52)),\n",
              "  ('Rutherford (cráter marciano)', (19.03, 349.41))),\n",
              " (('Centauri Montes', (-38.67, 95.52)), ('Beruri (cráter)', (5.2, 81.16)))]"
            ]
          },
          "metadata": {},
          "execution_count": 12
        }
      ]
    },
    {
      "cell_type": "code",
      "source": [
        "closest_contents_on_mars = total_combinations.map(lambda x: ( (x[0],x[1]) , (((x[0][1][0]-x[1][1][0])**2 + (x[0][1][1]-x[1][1][1])**2) **(1/2) ))).reduce(lambda r1,r2: r1 if (r1[1]<r2[1]) else r2)\n",
        "                                                           #clave=(pg1,pg2)                           valor=(distancia)\n",
        "\n",
        "print(closest_contents_on_mars)"
      ],
      "metadata": {
        "colab": {
          "base_uri": "https://localhost:8080/"
        },
        "id": "8MqkPMyMg_ju",
        "outputId": "723d5308-4c9a-4a12-f4cd-4191563e5671"
      },
      "execution_count": null,
      "outputs": [
        {
          "output_type": "stream",
          "name": "stdout",
          "text": [
            "((('Mackinac Island (meteorito)', (-2.11722222, 354.47710278)), ('Block Island (meteorito)', (-2.11690278, 354.48254167))), 0.005448262690585825)\n"
          ]
        }
      ]
    },
    {
      "cell_type": "markdown",
      "source": [
        "Revisando en Wikipedia, efectivamente veo que las ubicaciones de ambos meteoritos (Mackinac Island y Block Island) tienen coordenadas muy cercanas y acá se observa que su distancia es 0.005448262690585825"
      ],
      "metadata": {
        "id": "JVcRDcZO8orT"
      }
    },
    {
      "cell_type": "markdown",
      "source": [
        "#Código en limpio:"
      ],
      "metadata": {
        "id": "C-NF6e88imMZ"
      }
    },
    {
      "cell_type": "code",
      "source": [
        "rdd_geo_tags = geo_tags.rdd\n",
        "rdd_contents = contents.rdd\n",
        "\n",
        "mars_geo_tags = rdd_geo_tags.filter(lambda x: x.gt_globe == \"mars\").map(lambda x: (x.gt_page_id, (x.gt_lat,x.gt_lon)))\n",
        "\n",
        "mars_content = rdd_contents.map(lambda x: (x.id, x.title)).join(mars_geo_tags).map(lambda x: (x[1][0], x[1][1]))\n",
        "mars_content.cache()\n",
        "#El formato de mars_content quedaría como (page_title, (lat, long))\n",
        "\n",
        "#Filtro aquellas paginas que si bien no son la misma, hablan de lo mismo y por lo tanto tienen la misma ubicacion o distancia = 0\n",
        "total_combinations = mars_content.cartesian(mars_content).filter(lambda x: x[0][1] != x[1][1]) #registro=((pg1,(lat1,lon1)), (pg2,(lat2,lon2)))\n",
        "\n",
        "closest_contents_on_mars = total_combinations.map(lambda x: ( (x[0],x[1]) , (((x[0][1][0]-x[1][1][0])**2 + (x[0][1][1]-x[1][1][1])**2) **(1/2) ))).reduce(lambda r1,r2: r1 if (r1[1]<r2[1]) else r2)\n",
        "                                                           #clave=(pg1,pg2)                           valor=(distancia)\n",
        "print(closest_contents_on_mars)"
      ],
      "metadata": {
        "colab": {
          "base_uri": "https://localhost:8080/"
        },
        "id": "6GQwNQBTiogU",
        "outputId": "93d6817b-5155-4ba6-8d30-77d9dde3ceb9"
      },
      "execution_count": null,
      "outputs": [
        {
          "output_type": "stream",
          "name": "stdout",
          "text": [
            "((('Mackinac Island (meteorito)', (-2.11722222, 354.47710278)), ('Block Island (meteorito)', (-2.11690278, 354.48254167))), 0.005448262690585825)\n"
          ]
        }
      ]
    }
  ]
}