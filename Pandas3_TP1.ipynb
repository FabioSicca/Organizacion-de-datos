{
  "nbformat": 4,
  "nbformat_minor": 0,
  "metadata": {
    "colab": {
      "provenance": [],
      "authorship_tag": "ABX9TyOepePhlCR09iRULZ1dgIqg",
      "include_colab_link": true
    },
    "kernelspec": {
      "name": "python3",
      "display_name": "Python 3"
    },
    "language_info": {
      "name": "python"
    }
  },
  "cells": [
    {
      "cell_type": "markdown",
      "metadata": {
        "id": "view-in-github",
        "colab_type": "text"
      },
      "source": [
        "<a href=\"https://colab.research.google.com/github/FabioSicca/Organizacion-de-datos/blob/main/Pandas3_TP1.ipynb\" target=\"_parent\"><img src=\"https://colab.research.google.com/assets/colab-badge.svg\" alt=\"Open In Colab\"/></a>"
      ]
    },
    {
      "cell_type": "markdown",
      "source": [
        "22) Elija su lugar favorito en el mundo y tome su latitud y longitud, ¿cuál es\n",
        "el título de la página de wikipedia más cercana? (⭐⭐)"
      ],
      "metadata": {
        "id": "7s079AW7uyA8"
      }
    },
    {
      "cell_type": "code",
      "source": [
        "import pandas as pd\n",
        "from google.colab import drive\n",
        "drive.mount('/content/drive')\n",
        "geo_tags = pd.read_csv('/content/drive/MyDrive/Wikipedia dataset/geo_tags.csv')\n",
        "contents = pd.read_csv('/content/drive/MyDrive/Wikipedia dataset/contents.csv')"
      ],
      "metadata": {
        "colab": {
          "base_uri": "https://localhost:8080/"
        },
        "id": "Hh4JtsN7bZvY",
        "outputId": "35f25cb6-0c99-43e0-ec7a-7a6da1556e08"
      },
      "execution_count": null,
      "outputs": [
        {
          "output_type": "stream",
          "name": "stdout",
          "text": [
            "Mounted at /content/drive\n"
          ]
        }
      ]
    },
    {
      "cell_type": "markdown",
      "source": [
        "Mi lugar favorito en el mundo es en Luján (mi ciudad), donde compartí lindos momentos de mi vida con familia y amigos."
      ],
      "metadata": {
        "id": "tzEqncNCXtwI"
      }
    },
    {
      "cell_type": "code",
      "execution_count": null,
      "metadata": {
        "id": "K7xPBRH5urtn"
      },
      "outputs": [],
      "source": [
        "favourite_place = (-34.59262914852529, -59.12672912409699)"
      ]
    },
    {
      "cell_type": "markdown",
      "source": [
        "Elimino las filas que contienen NaNs en latitud o longitud de los df, me quedo con aquellas columnas con las que me interesa trabajar y renombro las columnas para poder mergear contents con geo_tags por page_id y quedarme sólo con aquellos que aparecen en ambos"
      ],
      "metadata": {
        "id": "ZflO8PUTnPPy"
      }
    },
    {
      "cell_type": "code",
      "source": [
        "geo_tags = geo_tags[[\"gt_page_id\", \"gt_lat\", \"gt_lon\"]]\n",
        "geo_tags = geo_tags.dropna(subset=['gt_lat', 'gt_lon'])\n",
        "geo_tags_filtered = geo_tags.rename(columns={\"gt_page_id\": \"page_id\"})\n",
        "\n",
        "contents = contents[[\"title\", \"id\"]]\n",
        "contents_filtered = contents.rename(columns={\"id\": \"page_id\"})\n",
        "\n",
        "merged_info = contents_filtered.merge(geo_tags_filtered)\n",
        "merged_info = merged_info.set_index(\"page_id\")\n",
        "merged_info"
      ],
      "metadata": {
        "colab": {
          "base_uri": "https://localhost:8080/",
          "height": 455
        },
        "id": "Dc8TWa1cbkc5",
        "outputId": "0c3eca8b-1b9e-4b27-ee90-566e0a8e7b1b"
      },
      "execution_count": null,
      "outputs": [
        {
          "output_type": "execute_result",
          "data": {
            "text/plain": [
              "                         title     gt_lat      gt_lon\n",
              "page_id                                              \n",
              "7                      Andorra  42.500000    1.500000\n",
              "10                   Argentina -34.599722  -58.381944\n",
              "15        Geografía de Andorra  42.506111    1.522222\n",
              "26                      Anoeta  43.162222   -2.070000\n",
              "39                  Afganistán  34.532778   69.165833\n",
              "...                        ...        ...         ...\n",
              "10010550             Kumarghat  24.158333   92.029722\n",
              "10010559          Río Makarora -44.316667  169.166667\n",
              "10010567             Panisagar  24.250000   92.140000\n",
              "10010581             Dewanpasa  24.360639   92.139850\n",
              "10010600              Fatikroy  24.010639   92.001289\n",
              "\n",
              "[537305 rows x 3 columns]"
            ],
            "text/html": [
              "\n",
              "  <div id=\"df-943cb5a3-8c52-48ef-8387-1a8e5987b11e\">\n",
              "    <div class=\"colab-df-container\">\n",
              "      <div>\n",
              "<style scoped>\n",
              "    .dataframe tbody tr th:only-of-type {\n",
              "        vertical-align: middle;\n",
              "    }\n",
              "\n",
              "    .dataframe tbody tr th {\n",
              "        vertical-align: top;\n",
              "    }\n",
              "\n",
              "    .dataframe thead th {\n",
              "        text-align: right;\n",
              "    }\n",
              "</style>\n",
              "<table border=\"1\" class=\"dataframe\">\n",
              "  <thead>\n",
              "    <tr style=\"text-align: right;\">\n",
              "      <th></th>\n",
              "      <th>title</th>\n",
              "      <th>gt_lat</th>\n",
              "      <th>gt_lon</th>\n",
              "    </tr>\n",
              "    <tr>\n",
              "      <th>page_id</th>\n",
              "      <th></th>\n",
              "      <th></th>\n",
              "      <th></th>\n",
              "    </tr>\n",
              "  </thead>\n",
              "  <tbody>\n",
              "    <tr>\n",
              "      <th>7</th>\n",
              "      <td>Andorra</td>\n",
              "      <td>42.500000</td>\n",
              "      <td>1.500000</td>\n",
              "    </tr>\n",
              "    <tr>\n",
              "      <th>10</th>\n",
              "      <td>Argentina</td>\n",
              "      <td>-34.599722</td>\n",
              "      <td>-58.381944</td>\n",
              "    </tr>\n",
              "    <tr>\n",
              "      <th>15</th>\n",
              "      <td>Geografía de Andorra</td>\n",
              "      <td>42.506111</td>\n",
              "      <td>1.522222</td>\n",
              "    </tr>\n",
              "    <tr>\n",
              "      <th>26</th>\n",
              "      <td>Anoeta</td>\n",
              "      <td>43.162222</td>\n",
              "      <td>-2.070000</td>\n",
              "    </tr>\n",
              "    <tr>\n",
              "      <th>39</th>\n",
              "      <td>Afganistán</td>\n",
              "      <td>34.532778</td>\n",
              "      <td>69.165833</td>\n",
              "    </tr>\n",
              "    <tr>\n",
              "      <th>...</th>\n",
              "      <td>...</td>\n",
              "      <td>...</td>\n",
              "      <td>...</td>\n",
              "    </tr>\n",
              "    <tr>\n",
              "      <th>10010550</th>\n",
              "      <td>Kumarghat</td>\n",
              "      <td>24.158333</td>\n",
              "      <td>92.029722</td>\n",
              "    </tr>\n",
              "    <tr>\n",
              "      <th>10010559</th>\n",
              "      <td>Río Makarora</td>\n",
              "      <td>-44.316667</td>\n",
              "      <td>169.166667</td>\n",
              "    </tr>\n",
              "    <tr>\n",
              "      <th>10010567</th>\n",
              "      <td>Panisagar</td>\n",
              "      <td>24.250000</td>\n",
              "      <td>92.140000</td>\n",
              "    </tr>\n",
              "    <tr>\n",
              "      <th>10010581</th>\n",
              "      <td>Dewanpasa</td>\n",
              "      <td>24.360639</td>\n",
              "      <td>92.139850</td>\n",
              "    </tr>\n",
              "    <tr>\n",
              "      <th>10010600</th>\n",
              "      <td>Fatikroy</td>\n",
              "      <td>24.010639</td>\n",
              "      <td>92.001289</td>\n",
              "    </tr>\n",
              "  </tbody>\n",
              "</table>\n",
              "<p>537305 rows × 3 columns</p>\n",
              "</div>\n",
              "      <button class=\"colab-df-convert\" onclick=\"convertToInteractive('df-943cb5a3-8c52-48ef-8387-1a8e5987b11e')\"\n",
              "              title=\"Convert this dataframe to an interactive table.\"\n",
              "              style=\"display:none;\">\n",
              "        \n",
              "  <svg xmlns=\"http://www.w3.org/2000/svg\" height=\"24px\"viewBox=\"0 0 24 24\"\n",
              "       width=\"24px\">\n",
              "    <path d=\"M0 0h24v24H0V0z\" fill=\"none\"/>\n",
              "    <path d=\"M18.56 5.44l.94 2.06.94-2.06 2.06-.94-2.06-.94-.94-2.06-.94 2.06-2.06.94zm-11 1L8.5 8.5l.94-2.06 2.06-.94-2.06-.94L8.5 2.5l-.94 2.06-2.06.94zm10 10l.94 2.06.94-2.06 2.06-.94-2.06-.94-.94-2.06-.94 2.06-2.06.94z\"/><path d=\"M17.41 7.96l-1.37-1.37c-.4-.4-.92-.59-1.43-.59-.52 0-1.04.2-1.43.59L10.3 9.45l-7.72 7.72c-.78.78-.78 2.05 0 2.83L4 21.41c.39.39.9.59 1.41.59.51 0 1.02-.2 1.41-.59l7.78-7.78 2.81-2.81c.8-.78.8-2.07 0-2.86zM5.41 20L4 18.59l7.72-7.72 1.47 1.35L5.41 20z\"/>\n",
              "  </svg>\n",
              "      </button>\n",
              "      \n",
              "  <style>\n",
              "    .colab-df-container {\n",
              "      display:flex;\n",
              "      flex-wrap:wrap;\n",
              "      gap: 12px;\n",
              "    }\n",
              "\n",
              "    .colab-df-convert {\n",
              "      background-color: #E8F0FE;\n",
              "      border: none;\n",
              "      border-radius: 50%;\n",
              "      cursor: pointer;\n",
              "      display: none;\n",
              "      fill: #1967D2;\n",
              "      height: 32px;\n",
              "      padding: 0 0 0 0;\n",
              "      width: 32px;\n",
              "    }\n",
              "\n",
              "    .colab-df-convert:hover {\n",
              "      background-color: #E2EBFA;\n",
              "      box-shadow: 0px 1px 2px rgba(60, 64, 67, 0.3), 0px 1px 3px 1px rgba(60, 64, 67, 0.15);\n",
              "      fill: #174EA6;\n",
              "    }\n",
              "\n",
              "    [theme=dark] .colab-df-convert {\n",
              "      background-color: #3B4455;\n",
              "      fill: #D2E3FC;\n",
              "    }\n",
              "\n",
              "    [theme=dark] .colab-df-convert:hover {\n",
              "      background-color: #434B5C;\n",
              "      box-shadow: 0px 1px 3px 1px rgba(0, 0, 0, 0.15);\n",
              "      filter: drop-shadow(0px 1px 2px rgba(0, 0, 0, 0.3));\n",
              "      fill: #FFFFFF;\n",
              "    }\n",
              "  </style>\n",
              "\n",
              "      <script>\n",
              "        const buttonEl =\n",
              "          document.querySelector('#df-943cb5a3-8c52-48ef-8387-1a8e5987b11e button.colab-df-convert');\n",
              "        buttonEl.style.display =\n",
              "          google.colab.kernel.accessAllowed ? 'block' : 'none';\n",
              "\n",
              "        async function convertToInteractive(key) {\n",
              "          const element = document.querySelector('#df-943cb5a3-8c52-48ef-8387-1a8e5987b11e');\n",
              "          const dataTable =\n",
              "            await google.colab.kernel.invokeFunction('convertToInteractive',\n",
              "                                                     [key], {});\n",
              "          if (!dataTable) return;\n",
              "\n",
              "          const docLinkHtml = 'Like what you see? Visit the ' +\n",
              "            '<a target=\"_blank\" href=https://colab.research.google.com/notebooks/data_table.ipynb>data table notebook</a>'\n",
              "            + ' to learn more about interactive tables.';\n",
              "          element.innerHTML = '';\n",
              "          dataTable['output_type'] = 'display_data';\n",
              "          await google.colab.output.renderOutput(dataTable, element);\n",
              "          const docLink = document.createElement('div');\n",
              "          docLink.innerHTML = docLinkHtml;\n",
              "          element.appendChild(docLink);\n",
              "        }\n",
              "      </script>\n",
              "    </div>\n",
              "  </div>\n",
              "  "
            ]
          },
          "metadata": {},
          "execution_count": 3
        }
      ]
    },
    {
      "cell_type": "markdown",
      "source": [
        "Calculo la distancia entre mi lugar favorito y todas las filas del df, me quedo con la mínima y obtengo el id"
      ],
      "metadata": {
        "id": "jF7iCqEvn8Hg"
      }
    },
    {
      "cell_type": "code",
      "source": [
        "merged_info[\"distance\"] = (merged_info[\"gt_lat\"]-favourite_place[0])**2 + (merged_info[\"gt_lon\"]-favourite_place[1])**2\n",
        "id_closest_place = merged_info.distance.idxmin()\n",
        "print(id_closest_place)"
      ],
      "metadata": {
        "colab": {
          "base_uri": "https://localhost:8080/"
        },
        "id": "10vBh4K0f2zd",
        "outputId": "17dce434-9b95-47a1-da3c-4e26a6008ef8"
      },
      "execution_count": null,
      "outputs": [
        {
          "output_type": "stream",
          "name": "stdout",
          "text": [
            "4186370\n"
          ]
        }
      ]
    },
    {
      "cell_type": "code",
      "source": [
        "closest_place = merged_info.loc[id_closest_place][\"title\"]\n",
        "closest_place"
      ],
      "metadata": {
        "colab": {
          "base_uri": "https://localhost:8080/",
          "height": 35
        },
        "id": "sLyEbAtkkWRC",
        "outputId": "e9bbea9c-b778-4c8a-e58a-62812912feea"
      },
      "execution_count": null,
      "outputs": [
        {
          "output_type": "execute_result",
          "data": {
            "text/plain": [
              "'Estación Basílica'"
            ],
            "application/vnd.google.colaboratory.intrinsic+json": {
              "type": "string"
            }
          },
          "metadata": {},
          "execution_count": 5
        }
      ]
    },
    {
      "cell_type": "markdown",
      "source": [
        "La página más cercana de Wikipedia a mi lugar favorito es la 'Estación Basílica'"
      ],
      "metadata": {
        "id": "co-Yjku5oZka"
      }
    },
    {
      "cell_type": "markdown",
      "source": [
        "# **Código en limpio:**"
      ],
      "metadata": {
        "id": "LAhbOhz9o1mP"
      }
    },
    {
      "cell_type": "code",
      "source": [
        "favourite_place = (-34.59262914852529, -59.12672912409699)\n",
        "\n",
        "geo_tags = geo_tags[[\"gt_page_id\", \"gt_lat\", \"gt_lon\"]]\n",
        "geo_tags = geo_tags.dropna(subset=['gt_lat', 'gt_lon'])\n",
        "geo_tags_filtered = geo_tags.rename(columns={\"gt_page_id\": \"page_id\"})\n",
        "\n",
        "contents = contents[[\"title\", \"id\"]]\n",
        "contents_filtered = contents.rename(columns={\"id\": \"page_id\"})\n",
        "\n",
        "merged_info = contents_filtered.merge(geo_tags_filtered)\n",
        "merged_info = merged_info.set_index(\"page_id\")\n",
        "\n",
        "merged_info[\"distance\"] = (merged_info[\"gt_lat\"]-favourite_place[0])**2 + (merged_info[\"gt_lon\"]-favourite_place[1])**2\n",
        "id_closest_place = merged_info.distance.idxmin()\n",
        "\n",
        "closest_place = merged_info.loc[id_closest_place][\"title\"]\n",
        "print(closest_place)"
      ],
      "metadata": {
        "colab": {
          "base_uri": "https://localhost:8080/"
        },
        "id": "ThTQWROLo5lG",
        "outputId": "70c66797-6e72-4fdd-c01c-d7250b0ae93f"
      },
      "execution_count": null,
      "outputs": [
        {
          "output_type": "stream",
          "name": "stdout",
          "text": [
            "Estación Basílica\n"
          ]
        }
      ]
    }
  ]
}