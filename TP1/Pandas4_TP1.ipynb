{
  "nbformat": 4,
  "nbformat_minor": 0,
  "metadata": {
    "colab": {
      "provenance": [],
      "authorship_tag": "ABX9TyPGmqwyVVowZu/EC2aypTjq",
      "include_colab_link": true
    },
    "kernelspec": {
      "name": "python3",
      "display_name": "Python 3"
    },
    "language_info": {
      "name": "python"
    }
  },
  "cells": [
    {
      "cell_type": "markdown",
      "metadata": {
        "id": "view-in-github",
        "colab_type": "text"
      },
      "source": [
        "<a href=\"https://colab.research.google.com/github/FabioSicca/Organizacion-de-datos/blob/main/Pandas4_TP1.ipynb\" target=\"_parent\"><img src=\"https://colab.research.google.com/assets/colab-badge.svg\" alt=\"Open In Colab\"/></a>"
      ]
    },
    {
      "cell_type": "markdown",
      "source": [
        "42) Si la experiencia de un usuario es la cantidad de logs en los que participó, ¿cuál es la tasa de contenidos cuya última revisión no tiene comentario en función de la experiencia de su revisor? (⭐⭐⭐)"
      ],
      "metadata": {
        "id": "MgehM68g5oME"
      }
    },
    {
      "cell_type": "code",
      "execution_count": null,
      "metadata": {
        "colab": {
          "base_uri": "https://localhost:8080/"
        },
        "id": "4wJ3JQJu5nWl",
        "outputId": "cfcaf76f-50b9-4583-a760-be597e8b94ec"
      },
      "outputs": [
        {
          "output_type": "stream",
          "name": "stdout",
          "text": [
            "Mounted at /content/drive\n"
          ]
        }
      ],
      "source": [
        "import pandas as pd\n",
        "from google.colab import drive\n",
        "drive.mount('/content/drive')"
      ]
    },
    {
      "cell_type": "code",
      "source": [
        "logs = pd.read_csv('/content/drive/MyDrive/Wikipedia dataset/logs.csv')\n",
        "contents = pd.read_csv('/content/drive/MyDrive/Wikipedia dataset/contents.csv')"
      ],
      "metadata": {
        "colab": {
          "base_uri": "https://localhost:8080/"
        },
        "id": "Yp1fIJFA51M5",
        "outputId": "5fc1704d-01ce-4d49-e7aa-0cc5eac36108"
      },
      "execution_count": null,
      "outputs": [
        {
          "output_type": "stream",
          "name": "stderr",
          "text": [
            "<ipython-input-2-447a0121edcc>:1: DtypeWarning: Columns (4) have mixed types. Specify dtype option on import or set low_memory=False.\n",
            "  logs = pd.read_csv('/content/drive/MyDrive/Wikipedia dataset/logs.csv')\n"
          ]
        }
      ]
    },
    {
      "cell_type": "markdown",
      "source": [
        "Limpio el df 'logs' y elimino los NaN de 'contributor_id' ya que no me sirven"
      ],
      "metadata": {
        "id": "OuaSq062qYHH"
      }
    },
    {
      "cell_type": "code",
      "source": [
        "logs_filtered = logs[[\"item_id\",\"contributor_username\", \"contributor_id\", \"title\"]]\n",
        "logs_filtered = logs_filtered.dropna(subset=[\"contributor_id\"])\n",
        "\n",
        "#logs_filtered.info()\n",
        "#logs_filtered\n",
        "#contents"
      ],
      "metadata": {
        "id": "6HbiTK2U-JFa"
      },
      "execution_count": null,
      "outputs": []
    },
    {
      "cell_type": "markdown",
      "source": [
        "Limpio el df 'contents' para trabajar con lo que me interesa y elimino las filas que no tienen un revisor_id"
      ],
      "metadata": {
        "id": "1QgsEPDHq0PU"
      }
    },
    {
      "cell_type": "code",
      "source": [
        "contents_filtered = contents[[\"title\", \"id\", \"revision_id\", \"revisor_username\", \"revisor_id\", \"revisor_comment\"]]\n",
        "contents_filtered = contents_filtered.dropna(subset=['revisor_id'])\n",
        "\n",
        "contents_filtered.head(5)"
      ],
      "metadata": {
        "colab": {
          "base_uri": "https://localhost:8080/",
          "height": 206
        },
        "id": "VVrgAD8uJTqE",
        "outputId": "4436a0c8-5f0a-4b09-99e6-705a77881243"
      },
      "execution_count": null,
      "outputs": [
        {
          "output_type": "execute_result",
          "data": {
            "text/plain": [
              "                             title  id  revision_id revisor_username  \\\n",
              "0  Wikipedia:Artículos solicitados   5    132533307        Metrónomo   \n",
              "2                        Argentina  10    137966826        Traitrich   \n",
              "3             Geografía de Andorra  15    137986788            Lojwe   \n",
              "4            Demografía de Andorra  17    130869554           Jialxv   \n",
              "5        Comunicaciones de Andorra  18    132654704    PatriHorrillo   \n",
              "\n",
              "   revisor_id                                    revisor_comment  \n",
              "0   1708233.0                                     Así esta mejor  \n",
              "2   4642283.0  Reemplazos con [[Usuario:Benjavalero/Replacer|...  \n",
              "3   5338508.0  Reemplazos con [[Usuario:Benjavalero/Replacer|...  \n",
              "4   3615366.0  Correcciones ortográficas con [[Usuario:Benjav...  \n",
              "5    689866.0  Correcciones ortográficas con [[Usuario:Benjav...  "
            ],
            "text/html": [
              "\n",
              "  <div id=\"df-c29293dc-fc23-4bc6-827a-3b2de04ddc31\">\n",
              "    <div class=\"colab-df-container\">\n",
              "      <div>\n",
              "<style scoped>\n",
              "    .dataframe tbody tr th:only-of-type {\n",
              "        vertical-align: middle;\n",
              "    }\n",
              "\n",
              "    .dataframe tbody tr th {\n",
              "        vertical-align: top;\n",
              "    }\n",
              "\n",
              "    .dataframe thead th {\n",
              "        text-align: right;\n",
              "    }\n",
              "</style>\n",
              "<table border=\"1\" class=\"dataframe\">\n",
              "  <thead>\n",
              "    <tr style=\"text-align: right;\">\n",
              "      <th></th>\n",
              "      <th>title</th>\n",
              "      <th>id</th>\n",
              "      <th>revision_id</th>\n",
              "      <th>revisor_username</th>\n",
              "      <th>revisor_id</th>\n",
              "      <th>revisor_comment</th>\n",
              "    </tr>\n",
              "  </thead>\n",
              "  <tbody>\n",
              "    <tr>\n",
              "      <th>0</th>\n",
              "      <td>Wikipedia:Artículos solicitados</td>\n",
              "      <td>5</td>\n",
              "      <td>132533307</td>\n",
              "      <td>Metrónomo</td>\n",
              "      <td>1708233.0</td>\n",
              "      <td>Así esta mejor</td>\n",
              "    </tr>\n",
              "    <tr>\n",
              "      <th>2</th>\n",
              "      <td>Argentina</td>\n",
              "      <td>10</td>\n",
              "      <td>137966826</td>\n",
              "      <td>Traitrich</td>\n",
              "      <td>4642283.0</td>\n",
              "      <td>Reemplazos con [[Usuario:Benjavalero/Replacer|...</td>\n",
              "    </tr>\n",
              "    <tr>\n",
              "      <th>3</th>\n",
              "      <td>Geografía de Andorra</td>\n",
              "      <td>15</td>\n",
              "      <td>137986788</td>\n",
              "      <td>Lojwe</td>\n",
              "      <td>5338508.0</td>\n",
              "      <td>Reemplazos con [[Usuario:Benjavalero/Replacer|...</td>\n",
              "    </tr>\n",
              "    <tr>\n",
              "      <th>4</th>\n",
              "      <td>Demografía de Andorra</td>\n",
              "      <td>17</td>\n",
              "      <td>130869554</td>\n",
              "      <td>Jialxv</td>\n",
              "      <td>3615366.0</td>\n",
              "      <td>Correcciones ortográficas con [[Usuario:Benjav...</td>\n",
              "    </tr>\n",
              "    <tr>\n",
              "      <th>5</th>\n",
              "      <td>Comunicaciones de Andorra</td>\n",
              "      <td>18</td>\n",
              "      <td>132654704</td>\n",
              "      <td>PatriHorrillo</td>\n",
              "      <td>689866.0</td>\n",
              "      <td>Correcciones ortográficas con [[Usuario:Benjav...</td>\n",
              "    </tr>\n",
              "  </tbody>\n",
              "</table>\n",
              "</div>\n",
              "      <button class=\"colab-df-convert\" onclick=\"convertToInteractive('df-c29293dc-fc23-4bc6-827a-3b2de04ddc31')\"\n",
              "              title=\"Convert this dataframe to an interactive table.\"\n",
              "              style=\"display:none;\">\n",
              "        \n",
              "  <svg xmlns=\"http://www.w3.org/2000/svg\" height=\"24px\"viewBox=\"0 0 24 24\"\n",
              "       width=\"24px\">\n",
              "    <path d=\"M0 0h24v24H0V0z\" fill=\"none\"/>\n",
              "    <path d=\"M18.56 5.44l.94 2.06.94-2.06 2.06-.94-2.06-.94-.94-2.06-.94 2.06-2.06.94zm-11 1L8.5 8.5l.94-2.06 2.06-.94-2.06-.94L8.5 2.5l-.94 2.06-2.06.94zm10 10l.94 2.06.94-2.06 2.06-.94-2.06-.94-.94-2.06-.94 2.06-2.06.94z\"/><path d=\"M17.41 7.96l-1.37-1.37c-.4-.4-.92-.59-1.43-.59-.52 0-1.04.2-1.43.59L10.3 9.45l-7.72 7.72c-.78.78-.78 2.05 0 2.83L4 21.41c.39.39.9.59 1.41.59.51 0 1.02-.2 1.41-.59l7.78-7.78 2.81-2.81c.8-.78.8-2.07 0-2.86zM5.41 20L4 18.59l7.72-7.72 1.47 1.35L5.41 20z\"/>\n",
              "  </svg>\n",
              "      </button>\n",
              "      \n",
              "  <style>\n",
              "    .colab-df-container {\n",
              "      display:flex;\n",
              "      flex-wrap:wrap;\n",
              "      gap: 12px;\n",
              "    }\n",
              "\n",
              "    .colab-df-convert {\n",
              "      background-color: #E8F0FE;\n",
              "      border: none;\n",
              "      border-radius: 50%;\n",
              "      cursor: pointer;\n",
              "      display: none;\n",
              "      fill: #1967D2;\n",
              "      height: 32px;\n",
              "      padding: 0 0 0 0;\n",
              "      width: 32px;\n",
              "    }\n",
              "\n",
              "    .colab-df-convert:hover {\n",
              "      background-color: #E2EBFA;\n",
              "      box-shadow: 0px 1px 2px rgba(60, 64, 67, 0.3), 0px 1px 3px 1px rgba(60, 64, 67, 0.15);\n",
              "      fill: #174EA6;\n",
              "    }\n",
              "\n",
              "    [theme=dark] .colab-df-convert {\n",
              "      background-color: #3B4455;\n",
              "      fill: #D2E3FC;\n",
              "    }\n",
              "\n",
              "    [theme=dark] .colab-df-convert:hover {\n",
              "      background-color: #434B5C;\n",
              "      box-shadow: 0px 1px 3px 1px rgba(0, 0, 0, 0.15);\n",
              "      filter: drop-shadow(0px 1px 2px rgba(0, 0, 0, 0.3));\n",
              "      fill: #FFFFFF;\n",
              "    }\n",
              "  </style>\n",
              "\n",
              "      <script>\n",
              "        const buttonEl =\n",
              "          document.querySelector('#df-c29293dc-fc23-4bc6-827a-3b2de04ddc31 button.colab-df-convert');\n",
              "        buttonEl.style.display =\n",
              "          google.colab.kernel.accessAllowed ? 'block' : 'none';\n",
              "\n",
              "        async function convertToInteractive(key) {\n",
              "          const element = document.querySelector('#df-c29293dc-fc23-4bc6-827a-3b2de04ddc31');\n",
              "          const dataTable =\n",
              "            await google.colab.kernel.invokeFunction('convertToInteractive',\n",
              "                                                     [key], {});\n",
              "          if (!dataTable) return;\n",
              "\n",
              "          const docLinkHtml = 'Like what you see? Visit the ' +\n",
              "            '<a target=\"_blank\" href=https://colab.research.google.com/notebooks/data_table.ipynb>data table notebook</a>'\n",
              "            + ' to learn more about interactive tables.';\n",
              "          element.innerHTML = '';\n",
              "          dataTable['output_type'] = 'display_data';\n",
              "          await google.colab.output.renderOutput(dataTable, element);\n",
              "          const docLink = document.createElement('div');\n",
              "          docLink.innerHTML = docLinkHtml;\n",
              "          element.appendChild(docLink);\n",
              "        }\n",
              "      </script>\n",
              "    </div>\n",
              "  </div>\n",
              "  "
            ]
          },
          "metadata": {},
          "execution_count": 4
        }
      ]
    },
    {
      "cell_type": "markdown",
      "source": [
        "Devuelve una serie con la cantidad de logs segun el contributor_id (es decir, su experiencia)"
      ],
      "metadata": {
        "id": "3eaonsFdrIrk"
      }
    },
    {
      "cell_type": "code",
      "source": [
        "user_experience = logs.groupby(\"contributor_id\").size()\n",
        "user_experience"
      ],
      "metadata": {
        "id": "WDXm2-RoFzCY",
        "colab": {
          "base_uri": "https://localhost:8080/"
        },
        "outputId": "93064e97-42f2-4503-dd87-58134d071fee"
      },
      "execution_count": null,
      "outputs": [
        {
          "output_type": "execute_result",
          "data": {
            "text/plain": [
              "contributor_id\n",
              "5.0          8\n",
              "21.0         1\n",
              "30.0         1\n",
              "38.0         9\n",
              "206.0        1\n",
              "            ..\n",
              "6335012.0    5\n",
              "6335013.0    1\n",
              "6335017.0    1\n",
              "6335019.0    1\n",
              "6335020.0    1\n",
              "Length: 6188938, dtype: int64"
            ]
          },
          "metadata": {},
          "execution_count": 5
        }
      ]
    },
    {
      "cell_type": "markdown",
      "source": [
        "Creo una columna nueva llamada 'revisor_xp' y en base a la serie que teniamos con la experiencia de cada revisor, le agrego la experiencia del revisor a la fila de contents"
      ],
      "metadata": {
        "id": "f9-7FntXrUD0"
      }
    },
    {
      "cell_type": "code",
      "source": [
        "contents_filtered['revisor_xp'] = contents_filtered['revisor_id'].map(user_experience)\n",
        "contents_filtered.head(3)"
      ],
      "metadata": {
        "colab": {
          "base_uri": "https://localhost:8080/",
          "height": 143
        },
        "id": "AG4WERh41Mvb",
        "outputId": "33fc1b47-9e94-48b4-fb64-e03e9b4d3664"
      },
      "execution_count": null,
      "outputs": [
        {
          "output_type": "execute_result",
          "data": {
            "text/plain": [
              "                             title  id  revision_id revisor_username  \\\n",
              "0  Wikipedia:Artículos solicitados   5    132533307        Metrónomo   \n",
              "2                        Argentina  10    137966826        Traitrich   \n",
              "3             Geografía de Andorra  15    137986788            Lojwe   \n",
              "\n",
              "   revisor_id                                    revisor_comment  revisor_xp  \n",
              "0   1708233.0                                     Así esta mejor     11256.0  \n",
              "2   4642283.0  Reemplazos con [[Usuario:Benjavalero/Replacer|...       236.0  \n",
              "3   5338508.0  Reemplazos con [[Usuario:Benjavalero/Replacer|...      1049.0  "
            ],
            "text/html": [
              "\n",
              "  <div id=\"df-e569e39c-5542-4b16-a4cb-e1d240a20930\">\n",
              "    <div class=\"colab-df-container\">\n",
              "      <div>\n",
              "<style scoped>\n",
              "    .dataframe tbody tr th:only-of-type {\n",
              "        vertical-align: middle;\n",
              "    }\n",
              "\n",
              "    .dataframe tbody tr th {\n",
              "        vertical-align: top;\n",
              "    }\n",
              "\n",
              "    .dataframe thead th {\n",
              "        text-align: right;\n",
              "    }\n",
              "</style>\n",
              "<table border=\"1\" class=\"dataframe\">\n",
              "  <thead>\n",
              "    <tr style=\"text-align: right;\">\n",
              "      <th></th>\n",
              "      <th>title</th>\n",
              "      <th>id</th>\n",
              "      <th>revision_id</th>\n",
              "      <th>revisor_username</th>\n",
              "      <th>revisor_id</th>\n",
              "      <th>revisor_comment</th>\n",
              "      <th>revisor_xp</th>\n",
              "    </tr>\n",
              "  </thead>\n",
              "  <tbody>\n",
              "    <tr>\n",
              "      <th>0</th>\n",
              "      <td>Wikipedia:Artículos solicitados</td>\n",
              "      <td>5</td>\n",
              "      <td>132533307</td>\n",
              "      <td>Metrónomo</td>\n",
              "      <td>1708233.0</td>\n",
              "      <td>Así esta mejor</td>\n",
              "      <td>11256.0</td>\n",
              "    </tr>\n",
              "    <tr>\n",
              "      <th>2</th>\n",
              "      <td>Argentina</td>\n",
              "      <td>10</td>\n",
              "      <td>137966826</td>\n",
              "      <td>Traitrich</td>\n",
              "      <td>4642283.0</td>\n",
              "      <td>Reemplazos con [[Usuario:Benjavalero/Replacer|...</td>\n",
              "      <td>236.0</td>\n",
              "    </tr>\n",
              "    <tr>\n",
              "      <th>3</th>\n",
              "      <td>Geografía de Andorra</td>\n",
              "      <td>15</td>\n",
              "      <td>137986788</td>\n",
              "      <td>Lojwe</td>\n",
              "      <td>5338508.0</td>\n",
              "      <td>Reemplazos con [[Usuario:Benjavalero/Replacer|...</td>\n",
              "      <td>1049.0</td>\n",
              "    </tr>\n",
              "  </tbody>\n",
              "</table>\n",
              "</div>\n",
              "      <button class=\"colab-df-convert\" onclick=\"convertToInteractive('df-e569e39c-5542-4b16-a4cb-e1d240a20930')\"\n",
              "              title=\"Convert this dataframe to an interactive table.\"\n",
              "              style=\"display:none;\">\n",
              "        \n",
              "  <svg xmlns=\"http://www.w3.org/2000/svg\" height=\"24px\"viewBox=\"0 0 24 24\"\n",
              "       width=\"24px\">\n",
              "    <path d=\"M0 0h24v24H0V0z\" fill=\"none\"/>\n",
              "    <path d=\"M18.56 5.44l.94 2.06.94-2.06 2.06-.94-2.06-.94-.94-2.06-.94 2.06-2.06.94zm-11 1L8.5 8.5l.94-2.06 2.06-.94-2.06-.94L8.5 2.5l-.94 2.06-2.06.94zm10 10l.94 2.06.94-2.06 2.06-.94-2.06-.94-.94-2.06-.94 2.06-2.06.94z\"/><path d=\"M17.41 7.96l-1.37-1.37c-.4-.4-.92-.59-1.43-.59-.52 0-1.04.2-1.43.59L10.3 9.45l-7.72 7.72c-.78.78-.78 2.05 0 2.83L4 21.41c.39.39.9.59 1.41.59.51 0 1.02-.2 1.41-.59l7.78-7.78 2.81-2.81c.8-.78.8-2.07 0-2.86zM5.41 20L4 18.59l7.72-7.72 1.47 1.35L5.41 20z\"/>\n",
              "  </svg>\n",
              "      </button>\n",
              "      \n",
              "  <style>\n",
              "    .colab-df-container {\n",
              "      display:flex;\n",
              "      flex-wrap:wrap;\n",
              "      gap: 12px;\n",
              "    }\n",
              "\n",
              "    .colab-df-convert {\n",
              "      background-color: #E8F0FE;\n",
              "      border: none;\n",
              "      border-radius: 50%;\n",
              "      cursor: pointer;\n",
              "      display: none;\n",
              "      fill: #1967D2;\n",
              "      height: 32px;\n",
              "      padding: 0 0 0 0;\n",
              "      width: 32px;\n",
              "    }\n",
              "\n",
              "    .colab-df-convert:hover {\n",
              "      background-color: #E2EBFA;\n",
              "      box-shadow: 0px 1px 2px rgba(60, 64, 67, 0.3), 0px 1px 3px 1px rgba(60, 64, 67, 0.15);\n",
              "      fill: #174EA6;\n",
              "    }\n",
              "\n",
              "    [theme=dark] .colab-df-convert {\n",
              "      background-color: #3B4455;\n",
              "      fill: #D2E3FC;\n",
              "    }\n",
              "\n",
              "    [theme=dark] .colab-df-convert:hover {\n",
              "      background-color: #434B5C;\n",
              "      box-shadow: 0px 1px 3px 1px rgba(0, 0, 0, 0.15);\n",
              "      filter: drop-shadow(0px 1px 2px rgba(0, 0, 0, 0.3));\n",
              "      fill: #FFFFFF;\n",
              "    }\n",
              "  </style>\n",
              "\n",
              "      <script>\n",
              "        const buttonEl =\n",
              "          document.querySelector('#df-e569e39c-5542-4b16-a4cb-e1d240a20930 button.colab-df-convert');\n",
              "        buttonEl.style.display =\n",
              "          google.colab.kernel.accessAllowed ? 'block' : 'none';\n",
              "\n",
              "        async function convertToInteractive(key) {\n",
              "          const element = document.querySelector('#df-e569e39c-5542-4b16-a4cb-e1d240a20930');\n",
              "          const dataTable =\n",
              "            await google.colab.kernel.invokeFunction('convertToInteractive',\n",
              "                                                     [key], {});\n",
              "          if (!dataTable) return;\n",
              "\n",
              "          const docLinkHtml = 'Like what you see? Visit the ' +\n",
              "            '<a target=\"_blank\" href=https://colab.research.google.com/notebooks/data_table.ipynb>data table notebook</a>'\n",
              "            + ' to learn more about interactive tables.';\n",
              "          element.innerHTML = '';\n",
              "          dataTable['output_type'] = 'display_data';\n",
              "          await google.colab.output.renderOutput(dataTable, element);\n",
              "          const docLink = document.createElement('div');\n",
              "          docLink.innerHTML = docLinkHtml;\n",
              "          element.appendChild(docLink);\n",
              "        }\n",
              "      </script>\n",
              "    </div>\n",
              "  </div>\n",
              "  "
            ]
          },
          "metadata": {},
          "execution_count": 6
        }
      ]
    },
    {
      "cell_type": "markdown",
      "source": [
        "Dado que en contents hay paginas que tienen un 'revisor_id' que no aparece en el df de logs la experiencia de éstos aparece como NaN, por lo que decido eliminarlos porque no tiene sentido trabajar con ellos."
      ],
      "metadata": {
        "id": "u_43cQotrz0Y"
      }
    },
    {
      "cell_type": "code",
      "source": [
        "contents_filtered = contents_filtered.dropna(subset=[\"revisor_xp\"])\n",
        "contents_filtered.head(3)"
      ],
      "metadata": {
        "colab": {
          "base_uri": "https://localhost:8080/",
          "height": 143
        },
        "id": "heZPsMw4rlxz",
        "outputId": "7c7c5e3f-ac91-4a16-d5f1-01cf79ea2fd5"
      },
      "execution_count": null,
      "outputs": [
        {
          "output_type": "execute_result",
          "data": {
            "text/plain": [
              "                             title  id  revision_id revisor_username  \\\n",
              "0  Wikipedia:Artículos solicitados   5    132533307        Metrónomo   \n",
              "2                        Argentina  10    137966826        Traitrich   \n",
              "3             Geografía de Andorra  15    137986788            Lojwe   \n",
              "\n",
              "   revisor_id                                    revisor_comment  revisor_xp  \n",
              "0   1708233.0                                     Así esta mejor     11256.0  \n",
              "2   4642283.0  Reemplazos con [[Usuario:Benjavalero/Replacer|...       236.0  \n",
              "3   5338508.0  Reemplazos con [[Usuario:Benjavalero/Replacer|...      1049.0  "
            ],
            "text/html": [
              "\n",
              "  <div id=\"df-4f6fb849-08f0-49ea-993b-6a11e5eba8f3\">\n",
              "    <div class=\"colab-df-container\">\n",
              "      <div>\n",
              "<style scoped>\n",
              "    .dataframe tbody tr th:only-of-type {\n",
              "        vertical-align: middle;\n",
              "    }\n",
              "\n",
              "    .dataframe tbody tr th {\n",
              "        vertical-align: top;\n",
              "    }\n",
              "\n",
              "    .dataframe thead th {\n",
              "        text-align: right;\n",
              "    }\n",
              "</style>\n",
              "<table border=\"1\" class=\"dataframe\">\n",
              "  <thead>\n",
              "    <tr style=\"text-align: right;\">\n",
              "      <th></th>\n",
              "      <th>title</th>\n",
              "      <th>id</th>\n",
              "      <th>revision_id</th>\n",
              "      <th>revisor_username</th>\n",
              "      <th>revisor_id</th>\n",
              "      <th>revisor_comment</th>\n",
              "      <th>revisor_xp</th>\n",
              "    </tr>\n",
              "  </thead>\n",
              "  <tbody>\n",
              "    <tr>\n",
              "      <th>0</th>\n",
              "      <td>Wikipedia:Artículos solicitados</td>\n",
              "      <td>5</td>\n",
              "      <td>132533307</td>\n",
              "      <td>Metrónomo</td>\n",
              "      <td>1708233.0</td>\n",
              "      <td>Así esta mejor</td>\n",
              "      <td>11256.0</td>\n",
              "    </tr>\n",
              "    <tr>\n",
              "      <th>2</th>\n",
              "      <td>Argentina</td>\n",
              "      <td>10</td>\n",
              "      <td>137966826</td>\n",
              "      <td>Traitrich</td>\n",
              "      <td>4642283.0</td>\n",
              "      <td>Reemplazos con [[Usuario:Benjavalero/Replacer|...</td>\n",
              "      <td>236.0</td>\n",
              "    </tr>\n",
              "    <tr>\n",
              "      <th>3</th>\n",
              "      <td>Geografía de Andorra</td>\n",
              "      <td>15</td>\n",
              "      <td>137986788</td>\n",
              "      <td>Lojwe</td>\n",
              "      <td>5338508.0</td>\n",
              "      <td>Reemplazos con [[Usuario:Benjavalero/Replacer|...</td>\n",
              "      <td>1049.0</td>\n",
              "    </tr>\n",
              "  </tbody>\n",
              "</table>\n",
              "</div>\n",
              "      <button class=\"colab-df-convert\" onclick=\"convertToInteractive('df-4f6fb849-08f0-49ea-993b-6a11e5eba8f3')\"\n",
              "              title=\"Convert this dataframe to an interactive table.\"\n",
              "              style=\"display:none;\">\n",
              "        \n",
              "  <svg xmlns=\"http://www.w3.org/2000/svg\" height=\"24px\"viewBox=\"0 0 24 24\"\n",
              "       width=\"24px\">\n",
              "    <path d=\"M0 0h24v24H0V0z\" fill=\"none\"/>\n",
              "    <path d=\"M18.56 5.44l.94 2.06.94-2.06 2.06-.94-2.06-.94-.94-2.06-.94 2.06-2.06.94zm-11 1L8.5 8.5l.94-2.06 2.06-.94-2.06-.94L8.5 2.5l-.94 2.06-2.06.94zm10 10l.94 2.06.94-2.06 2.06-.94-2.06-.94-.94-2.06-.94 2.06-2.06.94z\"/><path d=\"M17.41 7.96l-1.37-1.37c-.4-.4-.92-.59-1.43-.59-.52 0-1.04.2-1.43.59L10.3 9.45l-7.72 7.72c-.78.78-.78 2.05 0 2.83L4 21.41c.39.39.9.59 1.41.59.51 0 1.02-.2 1.41-.59l7.78-7.78 2.81-2.81c.8-.78.8-2.07 0-2.86zM5.41 20L4 18.59l7.72-7.72 1.47 1.35L5.41 20z\"/>\n",
              "  </svg>\n",
              "      </button>\n",
              "      \n",
              "  <style>\n",
              "    .colab-df-container {\n",
              "      display:flex;\n",
              "      flex-wrap:wrap;\n",
              "      gap: 12px;\n",
              "    }\n",
              "\n",
              "    .colab-df-convert {\n",
              "      background-color: #E8F0FE;\n",
              "      border: none;\n",
              "      border-radius: 50%;\n",
              "      cursor: pointer;\n",
              "      display: none;\n",
              "      fill: #1967D2;\n",
              "      height: 32px;\n",
              "      padding: 0 0 0 0;\n",
              "      width: 32px;\n",
              "    }\n",
              "\n",
              "    .colab-df-convert:hover {\n",
              "      background-color: #E2EBFA;\n",
              "      box-shadow: 0px 1px 2px rgba(60, 64, 67, 0.3), 0px 1px 3px 1px rgba(60, 64, 67, 0.15);\n",
              "      fill: #174EA6;\n",
              "    }\n",
              "\n",
              "    [theme=dark] .colab-df-convert {\n",
              "      background-color: #3B4455;\n",
              "      fill: #D2E3FC;\n",
              "    }\n",
              "\n",
              "    [theme=dark] .colab-df-convert:hover {\n",
              "      background-color: #434B5C;\n",
              "      box-shadow: 0px 1px 3px 1px rgba(0, 0, 0, 0.15);\n",
              "      filter: drop-shadow(0px 1px 2px rgba(0, 0, 0, 0.3));\n",
              "      fill: #FFFFFF;\n",
              "    }\n",
              "  </style>\n",
              "\n",
              "      <script>\n",
              "        const buttonEl =\n",
              "          document.querySelector('#df-4f6fb849-08f0-49ea-993b-6a11e5eba8f3 button.colab-df-convert');\n",
              "        buttonEl.style.display =\n",
              "          google.colab.kernel.accessAllowed ? 'block' : 'none';\n",
              "\n",
              "        async function convertToInteractive(key) {\n",
              "          const element = document.querySelector('#df-4f6fb849-08f0-49ea-993b-6a11e5eba8f3');\n",
              "          const dataTable =\n",
              "            await google.colab.kernel.invokeFunction('convertToInteractive',\n",
              "                                                     [key], {});\n",
              "          if (!dataTable) return;\n",
              "\n",
              "          const docLinkHtml = 'Like what you see? Visit the ' +\n",
              "            '<a target=\"_blank\" href=https://colab.research.google.com/notebooks/data_table.ipynb>data table notebook</a>'\n",
              "            + ' to learn more about interactive tables.';\n",
              "          element.innerHTML = '';\n",
              "          dataTable['output_type'] = 'display_data';\n",
              "          await google.colab.output.renderOutput(dataTable, element);\n",
              "          const docLink = document.createElement('div');\n",
              "          docLink.innerHTML = docLinkHtml;\n",
              "          element.appendChild(docLink);\n",
              "        }\n",
              "      </script>\n",
              "    </div>\n",
              "  </div>\n",
              "  "
            ]
          },
          "metadata": {},
          "execution_count": 7
        }
      ]
    },
    {
      "cell_type": "markdown",
      "source": [
        "Ahora deberia agrupar por revisor_xp y contar en cada grupo cuantos tienen un NaN en el comentario sobre el total del grupo.\n",
        "\n",
        "Agrupo la cantidad de contenido por su revisor_xp (CASOS TOTALES)"
      ],
      "metadata": {
        "id": "r7vH-FwKsFvn"
      }
    },
    {
      "cell_type": "code",
      "source": [
        "contents_filtered_by_xp = contents_filtered.groupby([\"revisor_xp\"]).size()\n",
        "contents_filtered_by_xp"
      ],
      "metadata": {
        "colab": {
          "base_uri": "https://localhost:8080/"
        },
        "id": "Y-OvONe76oZi",
        "outputId": "0a02f762-dbcd-45b5-a30e-630857878f89"
      },
      "execution_count": null,
      "outputs": [
        {
          "output_type": "execute_result",
          "data": {
            "text/plain": [
              "revisor_xp\n",
              "1.0         200154\n",
              "2.0          45460\n",
              "3.0          11877\n",
              "4.0          12743\n",
              "5.0          46097\n",
              "             ...  \n",
              "112565.0      1935\n",
              "163772.0     61756\n",
              "193345.0      7218\n",
              "194876.0      4197\n",
              "379263.0         1\n",
              "Length: 1117, dtype: int64"
            ]
          },
          "metadata": {},
          "execution_count": 8
        }
      ]
    },
    {
      "cell_type": "markdown",
      "source": [
        "Creo un df que contiene solo aquellos contenidos que no tienen comentarios en su ultima revision y agrupo por experiencia y obtengo la cantidad de contenido que no fue comentado en su revision final (CASOS FAVORABLES, es decir aquellos que cumplen que no tienen comentario)"
      ],
      "metadata": {
        "id": "B_JW37NzsO-1"
      }
    },
    {
      "cell_type": "code",
      "source": [
        "contents_without_comment = contents_filtered[contents_filtered[\"revisor_comment\"].isna()]\n",
        "contents_without_comment_by_xp = contents_without_comment.groupby([\"revisor_xp\"]).size()\n",
        "contents_without_comment_by_xp"
      ],
      "metadata": {
        "colab": {
          "base_uri": "https://localhost:8080/"
        },
        "id": "ijIoPnFp_hDi",
        "outputId": "77433b13-7d6d-4453-9357-268b87d5312b"
      },
      "execution_count": null,
      "outputs": [
        {
          "output_type": "execute_result",
          "data": {
            "text/plain": [
              "revisor_xp\n",
              "1.0         14972\n",
              "2.0          5187\n",
              "3.0          3960\n",
              "4.0          2723\n",
              "5.0          1684\n",
              "            ...  \n",
              "96095.0     29160\n",
              "101765.0        4\n",
              "112565.0      364\n",
              "193345.0      691\n",
              "194876.0      530\n",
              "Length: 1046, dtype: int64"
            ]
          },
          "metadata": {},
          "execution_count": 10
        }
      ]
    },
    {
      "cell_type": "markdown",
      "source": [
        "Finalmente obtengo la tasa de contenidos cuya última revisión no tiene comentarios en función de la experiencia de su revisor"
      ],
      "metadata": {
        "id": "ZvY6OvsIsm5z"
      }
    },
    {
      "cell_type": "code",
      "source": [
        "tasa_final = contents_without_comment_by_xp / contents_filtered_by_xp\n",
        "\n",
        "#Cuando un nivel de experiencia deja siempre comentarios, no aparecerá en 'contents_without_comment_by_xp'\n",
        "#por lo que al hacer la división esto resulta en un NaN, entonces corregimos esto diciendo que su tasa\n",
        "#de revision sin comentarios es igual a 0.\n",
        "tasa_final = tasa_final.fillna(0)\n",
        "\n",
        "tasa_final"
      ],
      "metadata": {
        "colab": {
          "base_uri": "https://localhost:8080/"
        },
        "id": "r5wsXRafAc16",
        "outputId": "86ec0573-bdea-415d-da03-35bd08111351"
      },
      "execution_count": null,
      "outputs": [
        {
          "output_type": "execute_result",
          "data": {
            "text/plain": [
              "revisor_xp\n",
              "1.0         0.074802\n",
              "2.0         0.114100\n",
              "3.0         0.333418\n",
              "4.0         0.213686\n",
              "5.0         0.036532\n",
              "              ...   \n",
              "112565.0    0.188114\n",
              "163772.0    0.000000\n",
              "193345.0    0.095733\n",
              "194876.0    0.126281\n",
              "379263.0    0.000000\n",
              "Length: 1117, dtype: float64"
            ]
          },
          "metadata": {},
          "execution_count": 11
        }
      ]
    },
    {
      "cell_type": "markdown",
      "source": [
        "Se puede ver que la tasa de contenido cuya última revisión no tiene comentario de revisores con experiencia igual a 1 es: 0.074802.\n",
        "\n",
        "Así mismo la última revisión de contenido hecha por revisores con experiencia igual a 2 tiene una tasa de \"sin comentarios\" de 0.114100, y así sucesivamente."
      ],
      "metadata": {
        "id": "Uws4S0AaEe_g"
      }
    },
    {
      "cell_type": "code",
      "source": [
        "tasa_final_porcentaje = tasa_final * 100\n",
        "tasa_final_porcentaje"
      ],
      "metadata": {
        "colab": {
          "base_uri": "https://localhost:8080/"
        },
        "id": "G9oTOVUTOMUF",
        "outputId": "11190f81-6e9c-48f2-b4cd-ec0c2baec770"
      },
      "execution_count": null,
      "outputs": [
        {
          "output_type": "execute_result",
          "data": {
            "text/plain": [
              "revisor_xp\n",
              "1.0          7.480240\n",
              "2.0         11.410031\n",
              "3.0         33.341753\n",
              "4.0         21.368595\n",
              "5.0          3.653166\n",
              "              ...    \n",
              "112565.0    18.811370\n",
              "163772.0     0.000000\n",
              "193345.0     9.573289\n",
              "194876.0    12.628068\n",
              "379263.0     0.000000\n",
              "Length: 1117, dtype: float64"
            ]
          },
          "metadata": {},
          "execution_count": 12
        }
      ]
    },
    {
      "cell_type": "markdown",
      "source": [
        "Un 7,48% de los contenidos revisados en su última versión por revisores de experiencia 1 no tienen un comentario"
      ],
      "metadata": {
        "id": "ZqBVMrFhPBKC"
      }
    }
  ]
}