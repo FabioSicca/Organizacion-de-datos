{
  "nbformat": 4,
  "nbformat_minor": 0,
  "metadata": {
    "colab": {
      "provenance": [],
      "mount_file_id": "1VVy0ogpG8KuAkNfRO03aDazgPX8vM-to",
      "authorship_tag": "ABX9TyN/Gw1YnsTqpanqDwHr70pU",
      "include_colab_link": true
    },
    "kernelspec": {
      "name": "python3",
      "display_name": "Python 3"
    },
    "language_info": {
      "name": "python"
    }
  },
  "cells": [
    {
      "cell_type": "markdown",
      "metadata": {
        "id": "view-in-github",
        "colab_type": "text"
      },
      "source": [
        "<a href=\"https://colab.research.google.com/github/FabioSicca/Organizacion-de-datos/blob/main/Spark1_TP1.ipynb\" target=\"_parent\"><img src=\"https://colab.research.google.com/assets/colab-badge.svg\" alt=\"Open In Colab\"/></a>"
      ]
    },
    {
      "cell_type": "markdown",
      "source": [
        "34)¿Quién es el usuario que más ha bloqueado a otros? (⭐)"
      ],
      "metadata": {
        "id": "KmDLZZtqmuKv"
      }
    },
    {
      "cell_type": "code",
      "execution_count": null,
      "metadata": {
        "colab": {
          "base_uri": "https://localhost:8080/"
        },
        "id": "tss9bAOf_a90",
        "outputId": "a5d5192b-fe95-4380-e20c-d01caf4f6adc"
      },
      "outputs": [
        {
          "output_type": "stream",
          "name": "stdout",
          "text": [
            "Looking in indexes: https://pypi.org/simple, https://us-python.pkg.dev/colab-wheels/public/simple/\n",
            "Collecting pyspark\n",
            "  Downloading pyspark-3.4.0.tar.gz (310.8 MB)\n",
            "\u001b[2K     \u001b[90m━━━━━━━━━━━━━━━━━━━━━━━━━━━━━━━━━━━━━━━\u001b[0m \u001b[32m310.8/310.8 MB\u001b[0m \u001b[31m1.6 MB/s\u001b[0m eta \u001b[36m0:00:00\u001b[0m\n",
            "\u001b[?25h  Preparing metadata (setup.py) ... \u001b[?25l\u001b[?25hdone\n",
            "Requirement already satisfied: py4j==0.10.9.7 in /usr/local/lib/python3.10/dist-packages (from pyspark) (0.10.9.7)\n",
            "Building wheels for collected packages: pyspark\n",
            "  Building wheel for pyspark (setup.py) ... \u001b[?25l\u001b[?25hdone\n",
            "  Created wheel for pyspark: filename=pyspark-3.4.0-py2.py3-none-any.whl size=311317145 sha256=56093717e4d23a879a0d529bb3f4b6f6777d1ea531e1999804409009bb3cddec\n",
            "  Stored in directory: /root/.cache/pip/wheels/7b/1b/4b/3363a1d04368e7ff0d408e57ff57966fcdf00583774e761327\n",
            "Successfully built pyspark\n",
            "Installing collected packages: pyspark\n",
            "Successfully installed pyspark-3.4.0\n",
            "The following additional packages will be installed:\n",
            "  libxtst6 openjdk-8-jre-headless\n",
            "Suggested packages:\n",
            "  openjdk-8-demo openjdk-8-source libnss-mdns fonts-dejavu-extra\n",
            "  fonts-ipafont-gothic fonts-ipafont-mincho fonts-wqy-microhei\n",
            "  fonts-wqy-zenhei fonts-indic\n",
            "The following NEW packages will be installed:\n",
            "  libxtst6 openjdk-8-jdk-headless openjdk-8-jre-headless\n",
            "0 upgraded, 3 newly installed, 0 to remove and 24 not upgraded.\n",
            "Need to get 36.5 MB of archives.\n",
            "After this operation, 144 MB of additional disk space will be used.\n",
            "Selecting previously unselected package libxtst6:amd64.\n",
            "(Reading database ... 122518 files and directories currently installed.)\n",
            "Preparing to unpack .../libxtst6_2%3a1.2.3-1_amd64.deb ...\n",
            "Unpacking libxtst6:amd64 (2:1.2.3-1) ...\n",
            "Selecting previously unselected package openjdk-8-jre-headless:amd64.\n",
            "Preparing to unpack .../openjdk-8-jre-headless_8u362-ga-0ubuntu1~20.04.1_amd64.deb ...\n",
            "Unpacking openjdk-8-jre-headless:amd64 (8u362-ga-0ubuntu1~20.04.1) ...\n",
            "Selecting previously unselected package openjdk-8-jdk-headless:amd64.\n",
            "Preparing to unpack .../openjdk-8-jdk-headless_8u362-ga-0ubuntu1~20.04.1_amd64.deb ...\n",
            "Unpacking openjdk-8-jdk-headless:amd64 (8u362-ga-0ubuntu1~20.04.1) ...\n",
            "Setting up libxtst6:amd64 (2:1.2.3-1) ...\n",
            "Setting up openjdk-8-jre-headless:amd64 (8u362-ga-0ubuntu1~20.04.1) ...\n",
            "update-alternatives: using /usr/lib/jvm/java-8-openjdk-amd64/jre/bin/orbd to provide /usr/bin/orbd (orbd) in auto mode\n",
            "update-alternatives: using /usr/lib/jvm/java-8-openjdk-amd64/jre/bin/servertool to provide /usr/bin/servertool (servertool) in auto mode\n",
            "update-alternatives: using /usr/lib/jvm/java-8-openjdk-amd64/jre/bin/tnameserv to provide /usr/bin/tnameserv (tnameserv) in auto mode\n",
            "Setting up openjdk-8-jdk-headless:amd64 (8u362-ga-0ubuntu1~20.04.1) ...\n",
            "update-alternatives: using /usr/lib/jvm/java-8-openjdk-amd64/bin/idlj to provide /usr/bin/idlj (idlj) in auto mode\n",
            "update-alternatives: using /usr/lib/jvm/java-8-openjdk-amd64/bin/wsimport to provide /usr/bin/wsimport (wsimport) in auto mode\n",
            "update-alternatives: using /usr/lib/jvm/java-8-openjdk-amd64/bin/jsadebugd to provide /usr/bin/jsadebugd (jsadebugd) in auto mode\n",
            "update-alternatives: using /usr/lib/jvm/java-8-openjdk-amd64/bin/native2ascii to provide /usr/bin/native2ascii (native2ascii) in auto mode\n",
            "update-alternatives: using /usr/lib/jvm/java-8-openjdk-amd64/bin/javah to provide /usr/bin/javah (javah) in auto mode\n",
            "update-alternatives: using /usr/lib/jvm/java-8-openjdk-amd64/bin/hsdb to provide /usr/bin/hsdb (hsdb) in auto mode\n",
            "update-alternatives: using /usr/lib/jvm/java-8-openjdk-amd64/bin/clhsdb to provide /usr/bin/clhsdb (clhsdb) in auto mode\n",
            "update-alternatives: using /usr/lib/jvm/java-8-openjdk-amd64/bin/xjc to provide /usr/bin/xjc (xjc) in auto mode\n",
            "update-alternatives: using /usr/lib/jvm/java-8-openjdk-amd64/bin/schemagen to provide /usr/bin/schemagen (schemagen) in auto mode\n",
            "update-alternatives: using /usr/lib/jvm/java-8-openjdk-amd64/bin/extcheck to provide /usr/bin/extcheck (extcheck) in auto mode\n",
            "update-alternatives: using /usr/lib/jvm/java-8-openjdk-amd64/bin/jhat to provide /usr/bin/jhat (jhat) in auto mode\n",
            "update-alternatives: using /usr/lib/jvm/java-8-openjdk-amd64/bin/wsgen to provide /usr/bin/wsgen (wsgen) in auto mode\n",
            "Processing triggers for libc-bin (2.31-0ubuntu9.9) ...\n"
          ]
        }
      ],
      "source": [
        "from pydrive.auth import GoogleAuth\n",
        "from pydrive.drive import GoogleDrive\n",
        "from google.colab import auth\n",
        "!pip install pyspark\n",
        "!pip install -U -q PyDrive\n",
        "!apt install openjdk-8-jdk-headless -qq\n",
        "import os\n",
        "os.environ[\"JAVA_HOME\"] = \"/usr/lib/jvm/java-8-openjdk-amd64\"\n",
        "from oauth2client.client import GoogleCredentials\n",
        "from pyspark.sql import *\n",
        "from pyspark.sql.functions import *\n",
        "from pyspark import SparkContext\n",
        "from pyspark.sql import SQLContext"
      ]
    },
    {
      "cell_type": "code",
      "source": [
        "auth.authenticate_user()\n",
        "gauth = GoogleAuth()\n",
        "gauth.credentials = GoogleCredentials.get_application_default()\n",
        "drive = GoogleDrive(gauth)"
      ],
      "metadata": {
        "id": "bS6vee7JAJfa"
      },
      "execution_count": null,
      "outputs": []
    },
    {
      "cell_type": "code",
      "source": [
        "from google.colab import drive\n",
        "drive.mount('/content/drive')"
      ],
      "metadata": {
        "colab": {
          "base_uri": "https://localhost:8080/"
        },
        "id": "0ZwKxPpubpJj",
        "outputId": "df90e96e-4d72-4d42-c6be-4a7c31cc3602"
      },
      "execution_count": null,
      "outputs": [
        {
          "output_type": "stream",
          "name": "stdout",
          "text": [
            "Drive already mounted at /content/drive; to attempt to forcibly remount, call drive.mount(\"/content/drive\", force_remount=True).\n"
          ]
        }
      ]
    },
    {
      "cell_type": "code",
      "source": [
        "spark = SparkSession.builder.getOrCreate()\n",
        "sc = spark.sparkContext\n",
        "type(sc)"
      ],
      "metadata": {
        "id": "uF_Q0tgCBEiL",
        "colab": {
          "base_uri": "https://localhost:8080/"
        },
        "outputId": "e820af8f-52ac-404d-ff7a-9a2ff488feee"
      },
      "execution_count": null,
      "outputs": [
        {
          "output_type": "execute_result",
          "data": {
            "text/plain": [
              "pyspark.context.SparkContext"
            ]
          },
          "metadata": {},
          "execution_count": 4
        }
      ]
    },
    {
      "cell_type": "code",
      "source": [
        "logs = spark.read.csv(\"/content/drive/MyDrive/Wikipedia dataset/logs.csv\", header=True, inferSchema=True, multiLine=True, escape='\"')"
      ],
      "metadata": {
        "id": "4pbUyptE1T-9"
      },
      "execution_count": null,
      "outputs": []
    },
    {
      "cell_type": "code",
      "source": [
        "logs.show(10)"
      ],
      "metadata": {
        "colab": {
          "base_uri": "https://localhost:8080/"
        },
        "id": "q8eFOrL83cX1",
        "outputId": "0e3c06d9-d792-494e-a510-5ebe964e92c2"
      },
      "execution_count": null,
      "outputs": [
        {
          "output_type": "stream",
          "name": "stdout",
          "text": [
            "+-------+-------------------+--------------------+--------------+--------------+--------------------+-------+------+--------------------+\n",
            "|item_id|          timestamp|contributor_username|contributor_id|contributor_ip|             comment|logtype|action|               title|\n",
            "+-------+-------------------+--------------------+--------------+--------------+--------------------+-------+------+--------------------+\n",
            "|      1|2004-12-23 07:10:09|              Sabbut|          2075|          null|el contenido era:...| delete|delete|    Verificacionismo|\n",
            "|      2|2004-12-23 07:14:09|              Sabbut|          2075|          null|el contenido era:...| delete|delete|            Rapunzel|\n",
            "|      3|2004-12-23 07:26:10|              Sabbut|          2075|          null|el contenido era:...| delete|delete|    Macromedia Flash|\n",
            "|      4|2004-12-23 07:55:09|              Sanbec|          7856|          null|Sin información d...| delete|delete|Archivo:Gnu head.png|\n",
            "|      5|2004-12-23 08:02:22|              Sanbec|          7856|          null|Sustituida por  [...| delete|delete|Archivo:Gnu-head-...|\n",
            "|      6|2004-12-23 08:28:32|                Dodo|         13770|          null|  vandalismo grosero|  block| block|Usuario:212.55.30...|\n",
            "|      7|2004-12-23 12:10:06|             Antoine|         22532|          null|Logotipo Comuna d...| upload|upload|Archivo:La florid...|\n",
            "|      8|2004-12-23 12:12:15|             Antoine|         22532|          null|Fotografía aérea ...| upload|upload|Archivo:La florid...|\n",
            "|      9|2004-12-23 12:13:43|             Antoine|         22532|          null|Pablo Zalaquett, ...| upload|upload|Archivo:Pablo zal...|\n",
            "|     10|2004-12-23 12:23:54|              Sanbec|          7856|          null|     Está en commons| delete|delete|Archivo:Szymborsk...|\n",
            "+-------+-------------------+--------------------+--------------+--------------+--------------------+-------+------+--------------------+\n",
            "only showing top 10 rows\n",
            "\n"
          ]
        }
      ]
    },
    {
      "cell_type": "code",
      "source": [
        "rdd = logs.rdd"
      ],
      "metadata": {
        "id": "oRP-hVj7GMWg"
      },
      "execution_count": null,
      "outputs": []
    },
    {
      "cell_type": "markdown",
      "source": [
        "Filtro el rdd por aquellos que tienen como acción \"block\", es decir me quedo con todas las acciones que hayan sido bloquear"
      ],
      "metadata": {
        "id": "I33YFCeFb5mS"
      }
    },
    {
      "cell_type": "code",
      "source": [
        "rdd = rdd.filter(lambda x: x.action == \"block\")"
      ],
      "metadata": {
        "id": "ggfwFdBGCnzS"
      },
      "execution_count": null,
      "outputs": []
    },
    {
      "cell_type": "markdown",
      "source": [
        "Genero registros de tipo (clave, valor) = (contributor_id, contador) con el map para poder usar reduceByKey con el cual sumo la cantidad de elementos para cada clave\n"
      ],
      "metadata": {
        "id": "arYTjvpBcaBy"
      }
    },
    {
      "cell_type": "code",
      "source": [
        "rdd2 = rdd.map(lambda x: (x.contributor_username, 1)).reduceByKey(lambda f1,f2: f1 + f2)\n",
        "rdd2.take(5)"
      ],
      "metadata": {
        "id": "rxDVeE3sKN0y",
        "colab": {
          "base_uri": "https://localhost:8080/"
        },
        "outputId": "2d55357f-b727-4398-8fe4-d518d184b6b3"
      },
      "execution_count": null,
      "outputs": [
        {
          "output_type": "execute_result",
          "data": {
            "text/plain": [
              "[('Dodo', 599),\n",
              " ('Comae', 21),\n",
              " ('Sanbec', 526),\n",
              " ('Lourdes Cardenal', 2357),\n",
              " ('Sabbut', 1041)]"
            ]
          },
          "metadata": {},
          "execution_count": 10
        }
      ]
    },
    {
      "cell_type": "code",
      "source": [
        "usuario = rdd2.reduce(lambda f1,f2: f1 if (f1[1] > f2[1]) else f2)\n",
        "print(usuario)"
      ],
      "metadata": {
        "colab": {
          "base_uri": "https://localhost:8080/"
        },
        "id": "orDxNpqMRwm0",
        "outputId": "2cafb135-fa41-44c9-e435-9e2fd8f27ee0"
      },
      "execution_count": null,
      "outputs": [
        {
          "output_type": "stream",
          "name": "stdout",
          "text": [
            "('Magister Mathematicae', 29233)\n"
          ]
        }
      ]
    },
    {
      "cell_type": "markdown",
      "source": [
        "El usuario que más ha bloqueado es 'Magister Mathematicae' con 29233 bloqueos"
      ],
      "metadata": {
        "id": "FHBrIzgsmEYu"
      }
    },
    {
      "cell_type": "markdown",
      "source": [
        "#Código en limpio:"
      ],
      "metadata": {
        "id": "fSI2g3YTcugB"
      }
    },
    {
      "cell_type": "code",
      "source": [
        "rdd = logs.rdd\n",
        "rdd = rdd.filter(lambda x: x.action == \"block\")\n",
        "rdd2 = rdd.map(lambda x: (x.contributor_username, 1)).reduceByKey(lambda f1,f2: f1 + f2)\n",
        "rdd2.reduce(lambda f1,f2: f1 if (f1[1] > f2[1]) else f2)"
      ],
      "metadata": {
        "colab": {
          "base_uri": "https://localhost:8080/"
        },
        "id": "KEz_9-i9cxio",
        "outputId": "71a41136-1104-495b-db41-e0658cdd2176"
      },
      "execution_count": null,
      "outputs": [
        {
          "output_type": "execute_result",
          "data": {
            "text/plain": [
              "('Magister Mathematicae', 29233)"
            ]
          },
          "metadata": {},
          "execution_count": 12
        }
      ]
    }
  ]
}