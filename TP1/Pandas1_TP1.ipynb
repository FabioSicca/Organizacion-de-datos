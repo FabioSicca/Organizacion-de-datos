{
  "nbformat": 4,
  "nbformat_minor": 0,
  "metadata": {
    "colab": {
      "provenance": [],
      "authorship_tag": "ABX9TyOWdU8GSLz1HMCkKFzPaQfe",
      "include_colab_link": true
    },
    "kernelspec": {
      "name": "python3",
      "display_name": "Python 3"
    },
    "language_info": {
      "name": "python"
    }
  },
  "cells": [
    {
      "cell_type": "markdown",
      "metadata": {
        "id": "view-in-github",
        "colab_type": "text"
      },
      "source": [
        "<a href=\"https://colab.research.google.com/github/FabioSicca/Organizacion-de-datos/blob/main/Pandas1_TP1.ipynb\" target=\"_parent\"><img src=\"https://colab.research.google.com/assets/colab-badge.svg\" alt=\"Open In Colab\"/></a>"
      ]
    },
    {
      "cell_type": "markdown",
      "source": [
        "P1) Para el usuario que más versiones actuales de contenido de wikipedia editó, calcule la fecha promedio, mínima y máxima en que lo hizo. (⭐)"
      ],
      "metadata": {
        "id": "CioCK7wO7Aa6"
      }
    },
    {
      "cell_type": "code",
      "source": [
        "import pandas as pd"
      ],
      "metadata": {
        "id": "_PQR0D2x7esq"
      },
      "execution_count": null,
      "outputs": []
    },
    {
      "cell_type": "code",
      "execution_count": null,
      "metadata": {
        "colab": {
          "base_uri": "https://localhost:8080/"
        },
        "id": "b5ztbhUqyqjI",
        "outputId": "172bdee0-3121-4dc5-e50a-c11c83584f3b"
      },
      "outputs": [
        {
          "output_type": "stream",
          "name": "stdout",
          "text": [
            "Mounted at /content/drive\n"
          ]
        }
      ],
      "source": [
        "from google.colab import drive\n",
        "drive.mount('/content/drive')"
      ]
    },
    {
      "cell_type": "code",
      "source": [
        "contenidos = pd.read_csv('/content/drive/MyDrive/Wikipedia dataset/contents.csv')"
      ],
      "metadata": {
        "id": "AZeDJoY37UCK"
      },
      "execution_count": null,
      "outputs": []
    },
    {
      "cell_type": "markdown",
      "source": [
        "Selecciono las columnas del df que me interesan"
      ],
      "metadata": {
        "id": "ZaDMO85uiFZu"
      }
    },
    {
      "cell_type": "code",
      "source": [
        "cont_reducido = contenidos[[\"revisor_id\", \"revision_id\", \"revision_timestamp\"]]\n",
        "cont_reducido"
      ],
      "metadata": {
        "id": "r2D-OWBbQ6-T",
        "colab": {
          "base_uri": "https://localhost:8080/",
          "height": 423
        },
        "outputId": "927718aa-db8e-4457-b8c6-c593a26b5b8e"
      },
      "execution_count": null,
      "outputs": [
        {
          "output_type": "execute_result",
          "data": {
            "text/plain": [
              "         revisor_id  revision_id    revision_timestamp\n",
              "0         1708233.0    132533307  2021-01-19T18:40:34Z\n",
              "1               NaN    138035057  2021-08-31T18:27:01Z\n",
              "2         4642283.0    137966826  2021-08-28T17:17:54Z\n",
              "3         5338508.0    137986788  2021-08-29T17:16:00Z\n",
              "4         3615366.0    130869554  2020-11-12T19:56:15Z\n",
              "...             ...          ...                   ...\n",
              "4132159    474907.0    138052016  2021-09-01T12:06:00Z\n",
              "4132160   4032712.0    138051859  2021-09-01T11:52:28Z\n",
              "4132161    158577.0    138051902  2021-09-01T11:57:06Z\n",
              "4132162   5429951.0    138051961  2021-09-01T12:01:38Z\n",
              "4132163     86975.0    138051985  2021-09-01T12:03:14Z\n",
              "\n",
              "[4132164 rows x 3 columns]"
            ],
            "text/html": [
              "\n",
              "  <div id=\"df-4977e6cc-10b4-4f7a-804f-fa0de8d7340f\">\n",
              "    <div class=\"colab-df-container\">\n",
              "      <div>\n",
              "<style scoped>\n",
              "    .dataframe tbody tr th:only-of-type {\n",
              "        vertical-align: middle;\n",
              "    }\n",
              "\n",
              "    .dataframe tbody tr th {\n",
              "        vertical-align: top;\n",
              "    }\n",
              "\n",
              "    .dataframe thead th {\n",
              "        text-align: right;\n",
              "    }\n",
              "</style>\n",
              "<table border=\"1\" class=\"dataframe\">\n",
              "  <thead>\n",
              "    <tr style=\"text-align: right;\">\n",
              "      <th></th>\n",
              "      <th>revisor_id</th>\n",
              "      <th>revision_id</th>\n",
              "      <th>revision_timestamp</th>\n",
              "    </tr>\n",
              "  </thead>\n",
              "  <tbody>\n",
              "    <tr>\n",
              "      <th>0</th>\n",
              "      <td>1708233.0</td>\n",
              "      <td>132533307</td>\n",
              "      <td>2021-01-19T18:40:34Z</td>\n",
              "    </tr>\n",
              "    <tr>\n",
              "      <th>1</th>\n",
              "      <td>NaN</td>\n",
              "      <td>138035057</td>\n",
              "      <td>2021-08-31T18:27:01Z</td>\n",
              "    </tr>\n",
              "    <tr>\n",
              "      <th>2</th>\n",
              "      <td>4642283.0</td>\n",
              "      <td>137966826</td>\n",
              "      <td>2021-08-28T17:17:54Z</td>\n",
              "    </tr>\n",
              "    <tr>\n",
              "      <th>3</th>\n",
              "      <td>5338508.0</td>\n",
              "      <td>137986788</td>\n",
              "      <td>2021-08-29T17:16:00Z</td>\n",
              "    </tr>\n",
              "    <tr>\n",
              "      <th>4</th>\n",
              "      <td>3615366.0</td>\n",
              "      <td>130869554</td>\n",
              "      <td>2020-11-12T19:56:15Z</td>\n",
              "    </tr>\n",
              "    <tr>\n",
              "      <th>...</th>\n",
              "      <td>...</td>\n",
              "      <td>...</td>\n",
              "      <td>...</td>\n",
              "    </tr>\n",
              "    <tr>\n",
              "      <th>4132159</th>\n",
              "      <td>474907.0</td>\n",
              "      <td>138052016</td>\n",
              "      <td>2021-09-01T12:06:00Z</td>\n",
              "    </tr>\n",
              "    <tr>\n",
              "      <th>4132160</th>\n",
              "      <td>4032712.0</td>\n",
              "      <td>138051859</td>\n",
              "      <td>2021-09-01T11:52:28Z</td>\n",
              "    </tr>\n",
              "    <tr>\n",
              "      <th>4132161</th>\n",
              "      <td>158577.0</td>\n",
              "      <td>138051902</td>\n",
              "      <td>2021-09-01T11:57:06Z</td>\n",
              "    </tr>\n",
              "    <tr>\n",
              "      <th>4132162</th>\n",
              "      <td>5429951.0</td>\n",
              "      <td>138051961</td>\n",
              "      <td>2021-09-01T12:01:38Z</td>\n",
              "    </tr>\n",
              "    <tr>\n",
              "      <th>4132163</th>\n",
              "      <td>86975.0</td>\n",
              "      <td>138051985</td>\n",
              "      <td>2021-09-01T12:03:14Z</td>\n",
              "    </tr>\n",
              "  </tbody>\n",
              "</table>\n",
              "<p>4132164 rows × 3 columns</p>\n",
              "</div>\n",
              "      <button class=\"colab-df-convert\" onclick=\"convertToInteractive('df-4977e6cc-10b4-4f7a-804f-fa0de8d7340f')\"\n",
              "              title=\"Convert this dataframe to an interactive table.\"\n",
              "              style=\"display:none;\">\n",
              "        \n",
              "  <svg xmlns=\"http://www.w3.org/2000/svg\" height=\"24px\"viewBox=\"0 0 24 24\"\n",
              "       width=\"24px\">\n",
              "    <path d=\"M0 0h24v24H0V0z\" fill=\"none\"/>\n",
              "    <path d=\"M18.56 5.44l.94 2.06.94-2.06 2.06-.94-2.06-.94-.94-2.06-.94 2.06-2.06.94zm-11 1L8.5 8.5l.94-2.06 2.06-.94-2.06-.94L8.5 2.5l-.94 2.06-2.06.94zm10 10l.94 2.06.94-2.06 2.06-.94-2.06-.94-.94-2.06-.94 2.06-2.06.94z\"/><path d=\"M17.41 7.96l-1.37-1.37c-.4-.4-.92-.59-1.43-.59-.52 0-1.04.2-1.43.59L10.3 9.45l-7.72 7.72c-.78.78-.78 2.05 0 2.83L4 21.41c.39.39.9.59 1.41.59.51 0 1.02-.2 1.41-.59l7.78-7.78 2.81-2.81c.8-.78.8-2.07 0-2.86zM5.41 20L4 18.59l7.72-7.72 1.47 1.35L5.41 20z\"/>\n",
              "  </svg>\n",
              "      </button>\n",
              "      \n",
              "  <style>\n",
              "    .colab-df-container {\n",
              "      display:flex;\n",
              "      flex-wrap:wrap;\n",
              "      gap: 12px;\n",
              "    }\n",
              "\n",
              "    .colab-df-convert {\n",
              "      background-color: #E8F0FE;\n",
              "      border: none;\n",
              "      border-radius: 50%;\n",
              "      cursor: pointer;\n",
              "      display: none;\n",
              "      fill: #1967D2;\n",
              "      height: 32px;\n",
              "      padding: 0 0 0 0;\n",
              "      width: 32px;\n",
              "    }\n",
              "\n",
              "    .colab-df-convert:hover {\n",
              "      background-color: #E2EBFA;\n",
              "      box-shadow: 0px 1px 2px rgba(60, 64, 67, 0.3), 0px 1px 3px 1px rgba(60, 64, 67, 0.15);\n",
              "      fill: #174EA6;\n",
              "    }\n",
              "\n",
              "    [theme=dark] .colab-df-convert {\n",
              "      background-color: #3B4455;\n",
              "      fill: #D2E3FC;\n",
              "    }\n",
              "\n",
              "    [theme=dark] .colab-df-convert:hover {\n",
              "      background-color: #434B5C;\n",
              "      box-shadow: 0px 1px 3px 1px rgba(0, 0, 0, 0.15);\n",
              "      filter: drop-shadow(0px 1px 2px rgba(0, 0, 0, 0.3));\n",
              "      fill: #FFFFFF;\n",
              "    }\n",
              "  </style>\n",
              "\n",
              "      <script>\n",
              "        const buttonEl =\n",
              "          document.querySelector('#df-4977e6cc-10b4-4f7a-804f-fa0de8d7340f button.colab-df-convert');\n",
              "        buttonEl.style.display =\n",
              "          google.colab.kernel.accessAllowed ? 'block' : 'none';\n",
              "\n",
              "        async function convertToInteractive(key) {\n",
              "          const element = document.querySelector('#df-4977e6cc-10b4-4f7a-804f-fa0de8d7340f');\n",
              "          const dataTable =\n",
              "            await google.colab.kernel.invokeFunction('convertToInteractive',\n",
              "                                                     [key], {});\n",
              "          if (!dataTable) return;\n",
              "\n",
              "          const docLinkHtml = 'Like what you see? Visit the ' +\n",
              "            '<a target=\"_blank\" href=https://colab.research.google.com/notebooks/data_table.ipynb>data table notebook</a>'\n",
              "            + ' to learn more about interactive tables.';\n",
              "          element.innerHTML = '';\n",
              "          dataTable['output_type'] = 'display_data';\n",
              "          await google.colab.output.renderOutput(dataTable, element);\n",
              "          const docLink = document.createElement('div');\n",
              "          docLink.innerHTML = docLinkHtml;\n",
              "          element.appendChild(docLink);\n",
              "        }\n",
              "      </script>\n",
              "    </div>\n",
              "  </div>\n",
              "  "
            ]
          },
          "metadata": {},
          "execution_count": 6
        }
      ]
    },
    {
      "cell_type": "markdown",
      "source": [
        "Encuentro el valor que más aparece en 'revisor_id'"
      ],
      "metadata": {
        "id": "mXQmgwxwiPc4"
      }
    },
    {
      "cell_type": "code",
      "source": [
        "valor_mas_comun = cont_reducido['revisor_id'].value_counts().idxmax()\n",
        "print(valor_mas_comun)"
      ],
      "metadata": {
        "colab": {
          "base_uri": "https://localhost:8080/"
        },
        "id": "Mvr-13cXNLIu",
        "outputId": "026f582f-ddc1-42ea-884c-e43df677228a"
      },
      "execution_count": null,
      "outputs": [
        {
          "output_type": "stream",
          "name": "stdout",
          "text": [
            "5045504.0\n"
          ]
        }
      ]
    },
    {
      "cell_type": "markdown",
      "source": [
        "Filtro el df para quedarme con las versiones que fueron editadas por el usuario que más editó"
      ],
      "metadata": {
        "id": "kx9P1igrjJcc"
      }
    },
    {
      "cell_type": "code",
      "source": [
        "df_filtrado = cont_reducido[cont_reducido['revisor_id'] == valor_mas_comun]\n",
        "df_filtrado"
      ],
      "metadata": {
        "id": "BHRrxQK-Qq76",
        "colab": {
          "base_uri": "https://localhost:8080/",
          "height": 423
        },
        "outputId": "73c538d9-2bbe-4f4b-fc63-132de833be83"
      },
      "execution_count": null,
      "outputs": [
        {
          "output_type": "execute_result",
          "data": {
            "text/plain": [
              "         revisor_id  revision_id    revision_timestamp\n",
              "62        5045504.0    120644883  2019-10-22T15:56:32Z\n",
              "69        5045504.0    120305819  2019-10-14T20:25:37Z\n",
              "78        5045504.0    120848411  2019-10-29T08:31:45Z\n",
              "108       5045504.0    120849147  2019-10-29T08:56:56Z\n",
              "119       5045504.0    135204649  2021-05-01T16:27:24Z\n",
              "...             ...          ...                   ...\n",
              "4115300   5045504.0    138002279  2021-08-30T08:14:35Z\n",
              "4115680   5045504.0    138002271  2021-08-30T08:14:13Z\n",
              "4115959   5045504.0    138002260  2021-08-30T08:13:11Z\n",
              "4116758   5045504.0    138002306  2021-08-30T08:16:43Z\n",
              "4117142   5045504.0    138002266  2021-08-30T08:13:41Z\n",
              "\n",
              "[417275 rows x 3 columns]"
            ],
            "text/html": [
              "\n",
              "  <div id=\"df-724cd94d-645c-4eb0-89a2-f5324f3d7fd3\">\n",
              "    <div class=\"colab-df-container\">\n",
              "      <div>\n",
              "<style scoped>\n",
              "    .dataframe tbody tr th:only-of-type {\n",
              "        vertical-align: middle;\n",
              "    }\n",
              "\n",
              "    .dataframe tbody tr th {\n",
              "        vertical-align: top;\n",
              "    }\n",
              "\n",
              "    .dataframe thead th {\n",
              "        text-align: right;\n",
              "    }\n",
              "</style>\n",
              "<table border=\"1\" class=\"dataframe\">\n",
              "  <thead>\n",
              "    <tr style=\"text-align: right;\">\n",
              "      <th></th>\n",
              "      <th>revisor_id</th>\n",
              "      <th>revision_id</th>\n",
              "      <th>revision_timestamp</th>\n",
              "    </tr>\n",
              "  </thead>\n",
              "  <tbody>\n",
              "    <tr>\n",
              "      <th>62</th>\n",
              "      <td>5045504.0</td>\n",
              "      <td>120644883</td>\n",
              "      <td>2019-10-22T15:56:32Z</td>\n",
              "    </tr>\n",
              "    <tr>\n",
              "      <th>69</th>\n",
              "      <td>5045504.0</td>\n",
              "      <td>120305819</td>\n",
              "      <td>2019-10-14T20:25:37Z</td>\n",
              "    </tr>\n",
              "    <tr>\n",
              "      <th>78</th>\n",
              "      <td>5045504.0</td>\n",
              "      <td>120848411</td>\n",
              "      <td>2019-10-29T08:31:45Z</td>\n",
              "    </tr>\n",
              "    <tr>\n",
              "      <th>108</th>\n",
              "      <td>5045504.0</td>\n",
              "      <td>120849147</td>\n",
              "      <td>2019-10-29T08:56:56Z</td>\n",
              "    </tr>\n",
              "    <tr>\n",
              "      <th>119</th>\n",
              "      <td>5045504.0</td>\n",
              "      <td>135204649</td>\n",
              "      <td>2021-05-01T16:27:24Z</td>\n",
              "    </tr>\n",
              "    <tr>\n",
              "      <th>...</th>\n",
              "      <td>...</td>\n",
              "      <td>...</td>\n",
              "      <td>...</td>\n",
              "    </tr>\n",
              "    <tr>\n",
              "      <th>4115300</th>\n",
              "      <td>5045504.0</td>\n",
              "      <td>138002279</td>\n",
              "      <td>2021-08-30T08:14:35Z</td>\n",
              "    </tr>\n",
              "    <tr>\n",
              "      <th>4115680</th>\n",
              "      <td>5045504.0</td>\n",
              "      <td>138002271</td>\n",
              "      <td>2021-08-30T08:14:13Z</td>\n",
              "    </tr>\n",
              "    <tr>\n",
              "      <th>4115959</th>\n",
              "      <td>5045504.0</td>\n",
              "      <td>138002260</td>\n",
              "      <td>2021-08-30T08:13:11Z</td>\n",
              "    </tr>\n",
              "    <tr>\n",
              "      <th>4116758</th>\n",
              "      <td>5045504.0</td>\n",
              "      <td>138002306</td>\n",
              "      <td>2021-08-30T08:16:43Z</td>\n",
              "    </tr>\n",
              "    <tr>\n",
              "      <th>4117142</th>\n",
              "      <td>5045504.0</td>\n",
              "      <td>138002266</td>\n",
              "      <td>2021-08-30T08:13:41Z</td>\n",
              "    </tr>\n",
              "  </tbody>\n",
              "</table>\n",
              "<p>417275 rows × 3 columns</p>\n",
              "</div>\n",
              "      <button class=\"colab-df-convert\" onclick=\"convertToInteractive('df-724cd94d-645c-4eb0-89a2-f5324f3d7fd3')\"\n",
              "              title=\"Convert this dataframe to an interactive table.\"\n",
              "              style=\"display:none;\">\n",
              "        \n",
              "  <svg xmlns=\"http://www.w3.org/2000/svg\" height=\"24px\"viewBox=\"0 0 24 24\"\n",
              "       width=\"24px\">\n",
              "    <path d=\"M0 0h24v24H0V0z\" fill=\"none\"/>\n",
              "    <path d=\"M18.56 5.44l.94 2.06.94-2.06 2.06-.94-2.06-.94-.94-2.06-.94 2.06-2.06.94zm-11 1L8.5 8.5l.94-2.06 2.06-.94-2.06-.94L8.5 2.5l-.94 2.06-2.06.94zm10 10l.94 2.06.94-2.06 2.06-.94-2.06-.94-.94-2.06-.94 2.06-2.06.94z\"/><path d=\"M17.41 7.96l-1.37-1.37c-.4-.4-.92-.59-1.43-.59-.52 0-1.04.2-1.43.59L10.3 9.45l-7.72 7.72c-.78.78-.78 2.05 0 2.83L4 21.41c.39.39.9.59 1.41.59.51 0 1.02-.2 1.41-.59l7.78-7.78 2.81-2.81c.8-.78.8-2.07 0-2.86zM5.41 20L4 18.59l7.72-7.72 1.47 1.35L5.41 20z\"/>\n",
              "  </svg>\n",
              "      </button>\n",
              "      \n",
              "  <style>\n",
              "    .colab-df-container {\n",
              "      display:flex;\n",
              "      flex-wrap:wrap;\n",
              "      gap: 12px;\n",
              "    }\n",
              "\n",
              "    .colab-df-convert {\n",
              "      background-color: #E8F0FE;\n",
              "      border: none;\n",
              "      border-radius: 50%;\n",
              "      cursor: pointer;\n",
              "      display: none;\n",
              "      fill: #1967D2;\n",
              "      height: 32px;\n",
              "      padding: 0 0 0 0;\n",
              "      width: 32px;\n",
              "    }\n",
              "\n",
              "    .colab-df-convert:hover {\n",
              "      background-color: #E2EBFA;\n",
              "      box-shadow: 0px 1px 2px rgba(60, 64, 67, 0.3), 0px 1px 3px 1px rgba(60, 64, 67, 0.15);\n",
              "      fill: #174EA6;\n",
              "    }\n",
              "\n",
              "    [theme=dark] .colab-df-convert {\n",
              "      background-color: #3B4455;\n",
              "      fill: #D2E3FC;\n",
              "    }\n",
              "\n",
              "    [theme=dark] .colab-df-convert:hover {\n",
              "      background-color: #434B5C;\n",
              "      box-shadow: 0px 1px 3px 1px rgba(0, 0, 0, 0.15);\n",
              "      filter: drop-shadow(0px 1px 2px rgba(0, 0, 0, 0.3));\n",
              "      fill: #FFFFFF;\n",
              "    }\n",
              "  </style>\n",
              "\n",
              "      <script>\n",
              "        const buttonEl =\n",
              "          document.querySelector('#df-724cd94d-645c-4eb0-89a2-f5324f3d7fd3 button.colab-df-convert');\n",
              "        buttonEl.style.display =\n",
              "          google.colab.kernel.accessAllowed ? 'block' : 'none';\n",
              "\n",
              "        async function convertToInteractive(key) {\n",
              "          const element = document.querySelector('#df-724cd94d-645c-4eb0-89a2-f5324f3d7fd3');\n",
              "          const dataTable =\n",
              "            await google.colab.kernel.invokeFunction('convertToInteractive',\n",
              "                                                     [key], {});\n",
              "          if (!dataTable) return;\n",
              "\n",
              "          const docLinkHtml = 'Like what you see? Visit the ' +\n",
              "            '<a target=\"_blank\" href=https://colab.research.google.com/notebooks/data_table.ipynb>data table notebook</a>'\n",
              "            + ' to learn more about interactive tables.';\n",
              "          element.innerHTML = '';\n",
              "          dataTable['output_type'] = 'display_data';\n",
              "          await google.colab.output.renderOutput(dataTable, element);\n",
              "          const docLink = document.createElement('div');\n",
              "          docLink.innerHTML = docLinkHtml;\n",
              "          element.appendChild(docLink);\n",
              "        }\n",
              "      </script>\n",
              "    </div>\n",
              "  </div>\n",
              "  "
            ]
          },
          "metadata": {},
          "execution_count": 7
        }
      ]
    },
    {
      "cell_type": "markdown",
      "source": [
        "Uso pd.to_datetime porque mean no estaba calculando el promedio"
      ],
      "metadata": {
        "id": "IOQ_XSeGjWwH"
      }
    },
    {
      "cell_type": "code",
      "source": [
        "df_filtrado[\"revision_timestamp\"] = pd.to_datetime(df_filtrado[\"revision_timestamp\"])\n",
        "df_filtrado"
      ],
      "metadata": {
        "id": "ioRPlzRNVfT4",
        "colab": {
          "base_uri": "https://localhost:8080/",
          "height": 527
        },
        "outputId": "a95d8488-aeac-48a7-dede-37e2dcbf0718"
      },
      "execution_count": null,
      "outputs": [
        {
          "output_type": "stream",
          "name": "stderr",
          "text": [
            "<ipython-input-8-d4b0de515acd>:1: SettingWithCopyWarning: \n",
            "A value is trying to be set on a copy of a slice from a DataFrame.\n",
            "Try using .loc[row_indexer,col_indexer] = value instead\n",
            "\n",
            "See the caveats in the documentation: https://pandas.pydata.org/pandas-docs/stable/user_guide/indexing.html#returning-a-view-versus-a-copy\n",
            "  df_filtrado[\"revision_timestamp\"] = pd.to_datetime(df_filtrado[\"revision_timestamp\"])\n"
          ]
        },
        {
          "output_type": "execute_result",
          "data": {
            "text/plain": [
              "         revisor_id  revision_id        revision_timestamp\n",
              "62        5045504.0    120644883 2019-10-22 15:56:32+00:00\n",
              "69        5045504.0    120305819 2019-10-14 20:25:37+00:00\n",
              "78        5045504.0    120848411 2019-10-29 08:31:45+00:00\n",
              "108       5045504.0    120849147 2019-10-29 08:56:56+00:00\n",
              "119       5045504.0    135204649 2021-05-01 16:27:24+00:00\n",
              "...             ...          ...                       ...\n",
              "4115300   5045504.0    138002279 2021-08-30 08:14:35+00:00\n",
              "4115680   5045504.0    138002271 2021-08-30 08:14:13+00:00\n",
              "4115959   5045504.0    138002260 2021-08-30 08:13:11+00:00\n",
              "4116758   5045504.0    138002306 2021-08-30 08:16:43+00:00\n",
              "4117142   5045504.0    138002266 2021-08-30 08:13:41+00:00\n",
              "\n",
              "[417275 rows x 3 columns]"
            ],
            "text/html": [
              "\n",
              "  <div id=\"df-b71347b6-0812-41ec-b7a0-e7d7b05b26aa\">\n",
              "    <div class=\"colab-df-container\">\n",
              "      <div>\n",
              "<style scoped>\n",
              "    .dataframe tbody tr th:only-of-type {\n",
              "        vertical-align: middle;\n",
              "    }\n",
              "\n",
              "    .dataframe tbody tr th {\n",
              "        vertical-align: top;\n",
              "    }\n",
              "\n",
              "    .dataframe thead th {\n",
              "        text-align: right;\n",
              "    }\n",
              "</style>\n",
              "<table border=\"1\" class=\"dataframe\">\n",
              "  <thead>\n",
              "    <tr style=\"text-align: right;\">\n",
              "      <th></th>\n",
              "      <th>revisor_id</th>\n",
              "      <th>revision_id</th>\n",
              "      <th>revision_timestamp</th>\n",
              "    </tr>\n",
              "  </thead>\n",
              "  <tbody>\n",
              "    <tr>\n",
              "      <th>62</th>\n",
              "      <td>5045504.0</td>\n",
              "      <td>120644883</td>\n",
              "      <td>2019-10-22 15:56:32+00:00</td>\n",
              "    </tr>\n",
              "    <tr>\n",
              "      <th>69</th>\n",
              "      <td>5045504.0</td>\n",
              "      <td>120305819</td>\n",
              "      <td>2019-10-14 20:25:37+00:00</td>\n",
              "    </tr>\n",
              "    <tr>\n",
              "      <th>78</th>\n",
              "      <td>5045504.0</td>\n",
              "      <td>120848411</td>\n",
              "      <td>2019-10-29 08:31:45+00:00</td>\n",
              "    </tr>\n",
              "    <tr>\n",
              "      <th>108</th>\n",
              "      <td>5045504.0</td>\n",
              "      <td>120849147</td>\n",
              "      <td>2019-10-29 08:56:56+00:00</td>\n",
              "    </tr>\n",
              "    <tr>\n",
              "      <th>119</th>\n",
              "      <td>5045504.0</td>\n",
              "      <td>135204649</td>\n",
              "      <td>2021-05-01 16:27:24+00:00</td>\n",
              "    </tr>\n",
              "    <tr>\n",
              "      <th>...</th>\n",
              "      <td>...</td>\n",
              "      <td>...</td>\n",
              "      <td>...</td>\n",
              "    </tr>\n",
              "    <tr>\n",
              "      <th>4115300</th>\n",
              "      <td>5045504.0</td>\n",
              "      <td>138002279</td>\n",
              "      <td>2021-08-30 08:14:35+00:00</td>\n",
              "    </tr>\n",
              "    <tr>\n",
              "      <th>4115680</th>\n",
              "      <td>5045504.0</td>\n",
              "      <td>138002271</td>\n",
              "      <td>2021-08-30 08:14:13+00:00</td>\n",
              "    </tr>\n",
              "    <tr>\n",
              "      <th>4115959</th>\n",
              "      <td>5045504.0</td>\n",
              "      <td>138002260</td>\n",
              "      <td>2021-08-30 08:13:11+00:00</td>\n",
              "    </tr>\n",
              "    <tr>\n",
              "      <th>4116758</th>\n",
              "      <td>5045504.0</td>\n",
              "      <td>138002306</td>\n",
              "      <td>2021-08-30 08:16:43+00:00</td>\n",
              "    </tr>\n",
              "    <tr>\n",
              "      <th>4117142</th>\n",
              "      <td>5045504.0</td>\n",
              "      <td>138002266</td>\n",
              "      <td>2021-08-30 08:13:41+00:00</td>\n",
              "    </tr>\n",
              "  </tbody>\n",
              "</table>\n",
              "<p>417275 rows × 3 columns</p>\n",
              "</div>\n",
              "      <button class=\"colab-df-convert\" onclick=\"convertToInteractive('df-b71347b6-0812-41ec-b7a0-e7d7b05b26aa')\"\n",
              "              title=\"Convert this dataframe to an interactive table.\"\n",
              "              style=\"display:none;\">\n",
              "        \n",
              "  <svg xmlns=\"http://www.w3.org/2000/svg\" height=\"24px\"viewBox=\"0 0 24 24\"\n",
              "       width=\"24px\">\n",
              "    <path d=\"M0 0h24v24H0V0z\" fill=\"none\"/>\n",
              "    <path d=\"M18.56 5.44l.94 2.06.94-2.06 2.06-.94-2.06-.94-.94-2.06-.94 2.06-2.06.94zm-11 1L8.5 8.5l.94-2.06 2.06-.94-2.06-.94L8.5 2.5l-.94 2.06-2.06.94zm10 10l.94 2.06.94-2.06 2.06-.94-2.06-.94-.94-2.06-.94 2.06-2.06.94z\"/><path d=\"M17.41 7.96l-1.37-1.37c-.4-.4-.92-.59-1.43-.59-.52 0-1.04.2-1.43.59L10.3 9.45l-7.72 7.72c-.78.78-.78 2.05 0 2.83L4 21.41c.39.39.9.59 1.41.59.51 0 1.02-.2 1.41-.59l7.78-7.78 2.81-2.81c.8-.78.8-2.07 0-2.86zM5.41 20L4 18.59l7.72-7.72 1.47 1.35L5.41 20z\"/>\n",
              "  </svg>\n",
              "      </button>\n",
              "      \n",
              "  <style>\n",
              "    .colab-df-container {\n",
              "      display:flex;\n",
              "      flex-wrap:wrap;\n",
              "      gap: 12px;\n",
              "    }\n",
              "\n",
              "    .colab-df-convert {\n",
              "      background-color: #E8F0FE;\n",
              "      border: none;\n",
              "      border-radius: 50%;\n",
              "      cursor: pointer;\n",
              "      display: none;\n",
              "      fill: #1967D2;\n",
              "      height: 32px;\n",
              "      padding: 0 0 0 0;\n",
              "      width: 32px;\n",
              "    }\n",
              "\n",
              "    .colab-df-convert:hover {\n",
              "      background-color: #E2EBFA;\n",
              "      box-shadow: 0px 1px 2px rgba(60, 64, 67, 0.3), 0px 1px 3px 1px rgba(60, 64, 67, 0.15);\n",
              "      fill: #174EA6;\n",
              "    }\n",
              "\n",
              "    [theme=dark] .colab-df-convert {\n",
              "      background-color: #3B4455;\n",
              "      fill: #D2E3FC;\n",
              "    }\n",
              "\n",
              "    [theme=dark] .colab-df-convert:hover {\n",
              "      background-color: #434B5C;\n",
              "      box-shadow: 0px 1px 3px 1px rgba(0, 0, 0, 0.15);\n",
              "      filter: drop-shadow(0px 1px 2px rgba(0, 0, 0, 0.3));\n",
              "      fill: #FFFFFF;\n",
              "    }\n",
              "  </style>\n",
              "\n",
              "      <script>\n",
              "        const buttonEl =\n",
              "          document.querySelector('#df-b71347b6-0812-41ec-b7a0-e7d7b05b26aa button.colab-df-convert');\n",
              "        buttonEl.style.display =\n",
              "          google.colab.kernel.accessAllowed ? 'block' : 'none';\n",
              "\n",
              "        async function convertToInteractive(key) {\n",
              "          const element = document.querySelector('#df-b71347b6-0812-41ec-b7a0-e7d7b05b26aa');\n",
              "          const dataTable =\n",
              "            await google.colab.kernel.invokeFunction('convertToInteractive',\n",
              "                                                     [key], {});\n",
              "          if (!dataTable) return;\n",
              "\n",
              "          const docLinkHtml = 'Like what you see? Visit the ' +\n",
              "            '<a target=\"_blank\" href=https://colab.research.google.com/notebooks/data_table.ipynb>data table notebook</a>'\n",
              "            + ' to learn more about interactive tables.';\n",
              "          element.innerHTML = '';\n",
              "          dataTable['output_type'] = 'display_data';\n",
              "          await google.colab.output.renderOutput(dataTable, element);\n",
              "          const docLink = document.createElement('div');\n",
              "          docLink.innerHTML = docLinkHtml;\n",
              "          element.appendChild(docLink);\n",
              "        }\n",
              "      </script>\n",
              "    </div>\n",
              "  </div>\n",
              "  "
            ]
          },
          "metadata": {},
          "execution_count": 8
        }
      ]
    },
    {
      "cell_type": "markdown",
      "source": [
        "Calculo la fecha promedio"
      ],
      "metadata": {
        "id": "JKOGjbIBjjDl"
      }
    },
    {
      "cell_type": "code",
      "source": [
        "df_filtrado.revision_timestamp.mean()"
      ],
      "metadata": {
        "colab": {
          "base_uri": "https://localhost:8080/"
        },
        "id": "jUZ8RRdsWzQ6",
        "outputId": "ae92e376-eb86-458e-8337-a6716cbba39e"
      },
      "execution_count": null,
      "outputs": [
        {
          "output_type": "execute_result",
          "data": {
            "text/plain": [
              "Timestamp('2019-12-26 14:09:41.204901120+0000', tz='UTC')"
            ]
          },
          "metadata": {},
          "execution_count": 9
        }
      ]
    },
    {
      "cell_type": "markdown",
      "source": [
        "Calculo la fecha minima"
      ],
      "metadata": {
        "id": "hWP2FdWUjpmF"
      }
    },
    {
      "cell_type": "code",
      "source": [
        "df_filtrado.revision_timestamp.min()"
      ],
      "metadata": {
        "colab": {
          "base_uri": "https://localhost:8080/"
        },
        "id": "CaJN3UcfWuCS",
        "outputId": "80221571-fbb4-4957-cf6d-85d3e2f6918e"
      },
      "execution_count": null,
      "outputs": [
        {
          "output_type": "execute_result",
          "data": {
            "text/plain": [
              "Timestamp('2018-10-16 11:56:33+0000', tz='UTC')"
            ]
          },
          "metadata": {},
          "execution_count": 10
        }
      ]
    },
    {
      "cell_type": "markdown",
      "source": [
        "Calculo la fecha maxima"
      ],
      "metadata": {
        "id": "jbxqOu9AjtcR"
      }
    },
    {
      "cell_type": "code",
      "source": [
        "df_filtrado.revision_timestamp.max()"
      ],
      "metadata": {
        "colab": {
          "base_uri": "https://localhost:8080/"
        },
        "id": "ZIM8Eh2vWpSo",
        "outputId": "377c7b47-0d4d-494c-a614-fd091eb66729"
      },
      "execution_count": null,
      "outputs": [
        {
          "output_type": "execute_result",
          "data": {
            "text/plain": [
              "Timestamp('2021-08-30 08:16:43+0000', tz='UTC')"
            ]
          },
          "metadata": {},
          "execution_count": 11
        }
      ]
    }
  ]
}